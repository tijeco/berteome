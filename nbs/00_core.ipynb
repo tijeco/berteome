{
 "cells": [
  {
   "cell_type": "code",
   "execution_count": null,
   "metadata": {},
   "outputs": [],
   "source": [
    "# default_exp core\n"
   ]
  },
  {
   "cell_type": "code",
   "execution_count": null,
   "metadata": {},
   "outputs": [],
   "source": [
    "#hide\n",
    "from nbdev.showdoc import *"
   ]
  },
  {
   "cell_type": "code",
   "execution_count": null,
   "metadata": {},
   "outputs": [
    {
     "ename": "ModuleNotFoundError",
     "evalue": "No module named 'transformers'",
     "output_type": "error",
     "traceback": [
      "\u001b[0;31m---------------------------------------------------------------------------\u001b[0m",
      "\u001b[0;31mModuleNotFoundError\u001b[0m                       Traceback (most recent call last)",
      "\u001b[0;32m<ipython-input-3-5a8b4c75d9a5>\u001b[0m in \u001b[0;36m<module>\u001b[0;34m\u001b[0m\n\u001b[0;32m----> 1\u001b[0;31m \u001b[0;32mfrom\u001b[0m \u001b[0mtransformers\u001b[0m \u001b[0;32mimport\u001b[0m \u001b[0mBertForMaskedLM\u001b[0m\u001b[0;34m,\u001b[0m \u001b[0mBertTokenizer\u001b[0m\u001b[0;34m,\u001b[0m \u001b[0mpipeline\u001b[0m\u001b[0;34m\u001b[0m\u001b[0;34m\u001b[0m\u001b[0m\n\u001b[0m",
      "\u001b[0;31mModuleNotFoundError\u001b[0m: No module named 'transformers'"
     ]
    }
   ],
   "source": [
    "#export\n",
    "from transformers import BertForMaskedLM, BertTokenizer, pipeline\n"
   ]
  },
  {
   "cell_type": "code",
   "execution_count": null,
   "metadata": {},
   "outputs": [],
   "source": [
    " #export\n",
    "tokenizer = BertTokenizer.from_pretrained(\"Rostlab/prot_bert\", do_lower_case=False )\n",
    "model = BertForMaskedLM.from_pretrained(\"Rostlab/prot_bert\")\n",
    "unmasker = pipeline('fill-mask', model=model, tokenizer=tokenizer)"
   ]
  },
  {
   "cell_type": "code",
   "execution_count": null,
   "metadata": {},
   "outputs": [],
   "source": [
    "assert unmasker('D L I P T S S K L V V [MASK] D T S L Q V K K A F F A L V T') == [{'score': 0.11088384687900543,\n",
    "  'sequence': 'D L I P T S S K L V V L D T S L Q V K K A F F A L V T',\n",
    "  'token': 5,\n",
    "  'token_str': 'L'},\n",
    " {'score': 0.0840255618095398,\n",
    "  'sequence': 'D L I P T S S K L V V S D T S L Q V K K A F F A L V T',\n",
    "  'token': 10,\n",
    "  'token_str': 'S'},\n",
    " {'score': 0.07328332215547562,\n",
    "  'sequence': 'D L I P T S S K L V V V D T S L Q V K K A F F A L V T',\n",
    "  'token': 8,\n",
    "  'token_str': 'V'},\n",
    " {'score': 0.06921827048063278,\n",
    "  'sequence': 'D L I P T S S K L V V K D T S L Q V K K A F F A L V T',\n",
    "  'token': 12,\n",
    "  'token_str': 'K'},\n",
    " {'score': 0.0638236328959465,\n",
    "  'sequence': 'D L I P T S S K L V V I D T S L Q V K K A F F A L V T',\n",
    "  'token': 11,\n",
    "  'token_str': 'I'}]"
   ]
  },
  {
   "cell_type": "code",
   "execution_count": null,
   "metadata": {},
   "outputs": [],
   "source": [
    "#export\n",
    "def spacifySeq(seq):\n",
    "  return \"\".join([ aa +\" \" for aa in seq]).strip()"
   ]
  },
  {
   "cell_type": "code",
   "execution_count": null,
   "metadata": {},
   "outputs": [],
   "source": [
    "assert spacifySeq(\"MENDEL\") == \"M E N D E L\""
   ]
  }
 ],
 "metadata": {
  "kernelspec": {
   "display_name": "Python 3.7.2 64-bit",
   "name": "python3"
  }
 },
 "nbformat": 4,
 "nbformat_minor": 2
}
