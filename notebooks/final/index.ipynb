{
 "cells": [
  {
   "cell_type": "code",
   "execution_count": 1,
   "metadata": {},
   "outputs": [],
   "source": [
    "from berteome import berteome"
   ]
  },
  {
   "cell_type": "code",
   "execution_count": null,
   "metadata": {},
   "outputs": [],
   "source": [
    "bert_tokenizer, bert_model = berteome.load_model(model_path=\"Rostlab/prot_bert\")"
   ]
  },
  {
   "cell_type": "markdown",
   "metadata": {},
   "source": [
    "# berteome\n",
    "\n",
    "A library to analyze and explore protein sequences using BERT models"
   ]
  },
  {
   "cell_type": "markdown",
   "metadata": {},
   "source": [
    "## Install"
   ]
  },
  {
   "cell_type": "markdown",
   "metadata": {},
   "source": [
    "`pip install berteome`"
   ]
  },
  {
   "attachments": {},
   "cell_type": "markdown",
   "metadata": {},
   "source": [
    "# How to use\n",
    "\n",
    "Berteome makes use of the masked language model of BERT to determine predictions for all residues in a protein sequence. \n",
    "\n",
    "The main `berteome` library can be imported as follows:"
   ]
  },
  {
   "cell_type": "code",
   "execution_count": 1,
   "metadata": {},
   "outputs": [],
   "source": [
    "from berteome import berteome"
   ]
  },
  {
   "attachments": {},
   "cell_type": "markdown",
   "metadata": {},
   "source": [
    "To see the models that are currently supported by `berteome` (functionality coming soon), in the meantime here they are printed out explicitly!\n",
    "\n",
    "- `Rostlab/prot_bert`\n",
    "- `facebook/esm2_t33_650M_UR50D`\n",
    "- `facebook/esm1b_t33_650M_UR50S`\n",
    "\n",
    "All of these models are distributed through huggingface, and berteome makes great use of it's API."
   ]
  },
  {
   "attachments": {},
   "cell_type": "markdown",
   "metadata": {},
   "source": [
    "# Development\n",
    "\n",
    "To build the library run the following\n",
    "\n",
    "```\n",
    "nbdev export\n",
    "```\n",
    "\n",
    "Then, pip install in a development environment\n",
    "\n",
    "```\n",
    "pip install -e '.[dev]'\n",
    "```"
   ]
  }
 ],
 "metadata": {
  "kernelspec": {
   "display_name": "Python 3",
   "language": "python",
   "name": "python3"
  },
  "language_info": {
   "codemirror_mode": {
    "name": "ipython",
    "version": 3
   },
   "file_extension": ".py",
   "mimetype": "text/x-python",
   "name": "python",
   "nbconvert_exporter": "python",
   "pygments_lexer": "ipython3",
   "version": "3.10.6"
  },
  "vscode": {
   "interpreter": {
    "hash": "767d51c1340bd893661ea55ea3124f6de3c7a262a8b4abca0554b478b1e2ff90"
   }
  }
 },
 "nbformat": 4,
 "nbformat_minor": 2
}
