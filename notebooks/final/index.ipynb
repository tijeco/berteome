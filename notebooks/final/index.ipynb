{
  "cells": [
    {
      "cell_type": "markdown",
      "metadata": {
        "id": "view-in-github",
        "colab_type": "text"
      },
      "source": [
        "<a href=\"https://colab.research.google.com/github/tijeco/berteome/blob/dev/notebooks/final/index.ipynb\" target=\"_parent\"><img src=\"https://colab.research.google.com/assets/colab-badge.svg\" alt=\"Open In Colab\"/></a>"
      ]
    },
    {
      "cell_type": "markdown",
      "metadata": {
        "id": "EHrWWp8RFVEQ"
      },
      "source": [
        "# berteome\n",
        "\n",
        "A library to analyze and explore protein sequences using BERT models"
      ]
    },
    {
      "cell_type": "markdown",
      "metadata": {
        "id": "9m21GE5PFVEU"
      },
      "source": [
        "## Install"
      ]
    },
    {
      "cell_type": "markdown",
      "metadata": {
        "id": "Y63NAWiDFVEV"
      },
      "source": [
        "`pip install berteome`"
      ]
    },
    {
      "cell_type": "markdown",
      "metadata": {
        "id": "Ge885ZXtFVEW"
      },
      "source": [
        "# How to use\n",
        "\n",
        "Berteome makes use of the masked language model of BERT to determine predictions for all residues in a protein sequence. \n",
        "\n",
        "The main `berteome` library can be imported as follows:"
      ]
    },
    {
      "cell_type": "code",
      "execution_count": 3,
      "metadata": {
        "id": "_3Q1LQtDFVEW"
      },
      "outputs": [],
      "source": [
        "from berteome import berteome"
      ]
    },
    {
      "cell_type": "markdown",
      "metadata": {
        "id": "wvAU0WbcFVEX"
      },
      "source": [
        "To see the models that are currently supported by `berteome` (functionality coming soon), in the meantime here they are printed out explicitly!\n",
        "\n",
        "- `Rostlab/prot_bert`\n",
        "- `facebook/esm2_t33_650M_UR50D`\n",
        "- `facebook/esm1b_t33_650M_UR50S`\n",
        "\n",
        "All of these models are distributed through huggingface, and berteome makes great use of it's API."
      ]
    },
    {
      "cell_type": "markdown",
      "source": [
        "## Load library\n",
        "\n",
        "To load prot_bert model, run the following:"
      ],
      "metadata": {
        "id": "dhGdAxDqHqX-"
      }
    },
    {
      "cell_type": "code",
      "source": [
        "bert_tokenizer, bert_model = berteome.load_model(\"Rostlab/prot_bert\")"
      ],
      "metadata": {
        "colab": {
          "base_uri": "https://localhost:8080/"
        },
        "id": "zG1HwIhCHo-7",
        "outputId": "a5086a98-cb77-4e3a-ac98-ef784c191722"
      },
      "execution_count": 4,
      "outputs": [
        {
          "output_type": "stream",
          "name": "stderr",
          "text": [
            "Some weights of the model checkpoint at Rostlab/prot_bert were not used when initializing BertForMaskedLM: ['cls.seq_relationship.bias', 'cls.seq_relationship.weight']\n",
            "- This IS expected if you are initializing BertForMaskedLM from the checkpoint of a model trained on another task or with another architecture (e.g. initializing a BertForSequenceClassification model from a BertForPreTraining model).\n",
            "- This IS NOT expected if you are initializing BertForMaskedLM from the checkpoint of a model that you expect to be exactly identical (initializing a BertForSequenceClassification model from a BertForSequenceClassification model).\n"
          ]
        }
      ]
    },
    {
      "cell_type": "markdown",
      "source": [
        "The language models utilized by `berteome` were trained using a masked token approach. In this approach, a random amino acid is masked in a protein and the model is trained to predict what the amino acid should be. These models do this on an incredibly large amount of protein sequences, to the point that they begin to learn the language of protein sequence space as we currently know it. For instance, it can start to learn, which residues are unlikely to exist at a given point in a protein. Using these models, you can place a mask at any given residue in the protein, and the model will generate a probability score for all the possible amino acids that could go there.\n",
        "\n",
        "`berteome` allows the user to take the models and begin to really investigate these predictions for a given protein sequence, by masking every single residue in the protein sequence and predicting the probabilities for all the possible amino acids. The result is a nice, easy to work with pandas data frame. To make this dataframe for a very simple peptide sequence (`MENDEL`), do the following:"
      ],
      "metadata": {
        "id": "5HQXLjukIbYU"
      }
    },
    {
      "cell_type": "code",
      "source": [
        "mendel_bertDF = berteome.modelPredDF(\"MENDEL\",bert_tokenizer, bert_model)\n",
        "mendel_bertDF.predDf"
      ],
      "metadata": {
        "colab": {
          "base_uri": "https://localhost:8080/",
          "height": 331
        },
        "id": "QdO9cFp5Iand",
        "outputId": "97f0be3d-8108-444e-c9c4-e33f562e7f31"
      },
      "execution_count": 6,
      "outputs": [
        {
          "output_type": "execute_result",
          "data": {
            "text/plain": [
              "  wt  wtIndex   wtScore         A         C         D         E         F  \\\n",
              "0  M        1  0.076602  0.036697  0.011504  0.048245  0.118906  0.024072   \n",
              "1  E        2  0.074830  0.045721  0.015662  0.041921  0.074830  0.037153   \n",
              "2  N        3  0.041990  0.043564  0.009685  0.162590  0.184364  0.033782   \n",
              "3  D        4  0.049748  0.042083  0.013244  0.049748  0.086194  0.039736   \n",
              "4  E        5  0.086915  0.046641  0.018770  0.079822  0.086915  0.050638   \n",
              "5  L        6  0.060736  0.038191  0.009217  0.065189  0.152547  0.020950   \n",
              "\n",
              "          G         H  ...         M         N         P         Q         R  \\\n",
              "0  0.039202  0.012621  ...  0.076602  0.072661  0.024722  0.038672  0.043105   \n",
              "1  0.044325  0.018264  ...  0.043581  0.062667  0.025277  0.036911  0.055543   \n",
              "2  0.044661  0.012355  ...  0.041484  0.041990  0.019992  0.025515  0.029433   \n",
              "3  0.055911  0.016861  ...  0.040080  0.060822  0.032024  0.039689  0.046228   \n",
              "4  0.050466  0.022397  ...  0.028962  0.062234  0.023879  0.030534  0.040489   \n",
              "5  0.049525  0.013955  ...  0.040042  0.096484  0.020712  0.035022  0.046888   \n",
              "\n",
              "          S         T         V         W         Y  \n",
              "0  0.070280  0.056544  0.049927  0.007781  0.021699  \n",
              "1  0.064425  0.049955  0.056789  0.012691  0.029893  \n",
              "2  0.048106  0.030303  0.054742  0.007430  0.024924  \n",
              "3  0.062323  0.044901  0.058937  0.010875  0.026596  \n",
              "4  0.065195  0.044938  0.068038  0.012156  0.038034  \n",
              "5  0.049071  0.046247  0.048276  0.010486  0.022727  \n",
              "\n",
              "[6 rows x 23 columns]"
            ],
            "text/html": [
              "\n",
              "  <div id=\"df-4622814e-007d-4581-888a-a5505bda2bf7\">\n",
              "    <div class=\"colab-df-container\">\n",
              "      <div>\n",
              "<style scoped>\n",
              "    .dataframe tbody tr th:only-of-type {\n",
              "        vertical-align: middle;\n",
              "    }\n",
              "\n",
              "    .dataframe tbody tr th {\n",
              "        vertical-align: top;\n",
              "    }\n",
              "\n",
              "    .dataframe thead th {\n",
              "        text-align: right;\n",
              "    }\n",
              "</style>\n",
              "<table border=\"1\" class=\"dataframe\">\n",
              "  <thead>\n",
              "    <tr style=\"text-align: right;\">\n",
              "      <th></th>\n",
              "      <th>wt</th>\n",
              "      <th>wtIndex</th>\n",
              "      <th>wtScore</th>\n",
              "      <th>A</th>\n",
              "      <th>C</th>\n",
              "      <th>D</th>\n",
              "      <th>E</th>\n",
              "      <th>F</th>\n",
              "      <th>G</th>\n",
              "      <th>H</th>\n",
              "      <th>...</th>\n",
              "      <th>M</th>\n",
              "      <th>N</th>\n",
              "      <th>P</th>\n",
              "      <th>Q</th>\n",
              "      <th>R</th>\n",
              "      <th>S</th>\n",
              "      <th>T</th>\n",
              "      <th>V</th>\n",
              "      <th>W</th>\n",
              "      <th>Y</th>\n",
              "    </tr>\n",
              "  </thead>\n",
              "  <tbody>\n",
              "    <tr>\n",
              "      <th>0</th>\n",
              "      <td>M</td>\n",
              "      <td>1</td>\n",
              "      <td>0.076602</td>\n",
              "      <td>0.036697</td>\n",
              "      <td>0.011504</td>\n",
              "      <td>0.048245</td>\n",
              "      <td>0.118906</td>\n",
              "      <td>0.024072</td>\n",
              "      <td>0.039202</td>\n",
              "      <td>0.012621</td>\n",
              "      <td>...</td>\n",
              "      <td>0.076602</td>\n",
              "      <td>0.072661</td>\n",
              "      <td>0.024722</td>\n",
              "      <td>0.038672</td>\n",
              "      <td>0.043105</td>\n",
              "      <td>0.070280</td>\n",
              "      <td>0.056544</td>\n",
              "      <td>0.049927</td>\n",
              "      <td>0.007781</td>\n",
              "      <td>0.021699</td>\n",
              "    </tr>\n",
              "    <tr>\n",
              "      <th>1</th>\n",
              "      <td>E</td>\n",
              "      <td>2</td>\n",
              "      <td>0.074830</td>\n",
              "      <td>0.045721</td>\n",
              "      <td>0.015662</td>\n",
              "      <td>0.041921</td>\n",
              "      <td>0.074830</td>\n",
              "      <td>0.037153</td>\n",
              "      <td>0.044325</td>\n",
              "      <td>0.018264</td>\n",
              "      <td>...</td>\n",
              "      <td>0.043581</td>\n",
              "      <td>0.062667</td>\n",
              "      <td>0.025277</td>\n",
              "      <td>0.036911</td>\n",
              "      <td>0.055543</td>\n",
              "      <td>0.064425</td>\n",
              "      <td>0.049955</td>\n",
              "      <td>0.056789</td>\n",
              "      <td>0.012691</td>\n",
              "      <td>0.029893</td>\n",
              "    </tr>\n",
              "    <tr>\n",
              "      <th>2</th>\n",
              "      <td>N</td>\n",
              "      <td>3</td>\n",
              "      <td>0.041990</td>\n",
              "      <td>0.043564</td>\n",
              "      <td>0.009685</td>\n",
              "      <td>0.162590</td>\n",
              "      <td>0.184364</td>\n",
              "      <td>0.033782</td>\n",
              "      <td>0.044661</td>\n",
              "      <td>0.012355</td>\n",
              "      <td>...</td>\n",
              "      <td>0.041484</td>\n",
              "      <td>0.041990</td>\n",
              "      <td>0.019992</td>\n",
              "      <td>0.025515</td>\n",
              "      <td>0.029433</td>\n",
              "      <td>0.048106</td>\n",
              "      <td>0.030303</td>\n",
              "      <td>0.054742</td>\n",
              "      <td>0.007430</td>\n",
              "      <td>0.024924</td>\n",
              "    </tr>\n",
              "    <tr>\n",
              "      <th>3</th>\n",
              "      <td>D</td>\n",
              "      <td>4</td>\n",
              "      <td>0.049748</td>\n",
              "      <td>0.042083</td>\n",
              "      <td>0.013244</td>\n",
              "      <td>0.049748</td>\n",
              "      <td>0.086194</td>\n",
              "      <td>0.039736</td>\n",
              "      <td>0.055911</td>\n",
              "      <td>0.016861</td>\n",
              "      <td>...</td>\n",
              "      <td>0.040080</td>\n",
              "      <td>0.060822</td>\n",
              "      <td>0.032024</td>\n",
              "      <td>0.039689</td>\n",
              "      <td>0.046228</td>\n",
              "      <td>0.062323</td>\n",
              "      <td>0.044901</td>\n",
              "      <td>0.058937</td>\n",
              "      <td>0.010875</td>\n",
              "      <td>0.026596</td>\n",
              "    </tr>\n",
              "    <tr>\n",
              "      <th>4</th>\n",
              "      <td>E</td>\n",
              "      <td>5</td>\n",
              "      <td>0.086915</td>\n",
              "      <td>0.046641</td>\n",
              "      <td>0.018770</td>\n",
              "      <td>0.079822</td>\n",
              "      <td>0.086915</td>\n",
              "      <td>0.050638</td>\n",
              "      <td>0.050466</td>\n",
              "      <td>0.022397</td>\n",
              "      <td>...</td>\n",
              "      <td>0.028962</td>\n",
              "      <td>0.062234</td>\n",
              "      <td>0.023879</td>\n",
              "      <td>0.030534</td>\n",
              "      <td>0.040489</td>\n",
              "      <td>0.065195</td>\n",
              "      <td>0.044938</td>\n",
              "      <td>0.068038</td>\n",
              "      <td>0.012156</td>\n",
              "      <td>0.038034</td>\n",
              "    </tr>\n",
              "    <tr>\n",
              "      <th>5</th>\n",
              "      <td>L</td>\n",
              "      <td>6</td>\n",
              "      <td>0.060736</td>\n",
              "      <td>0.038191</td>\n",
              "      <td>0.009217</td>\n",
              "      <td>0.065189</td>\n",
              "      <td>0.152547</td>\n",
              "      <td>0.020950</td>\n",
              "      <td>0.049525</td>\n",
              "      <td>0.013955</td>\n",
              "      <td>...</td>\n",
              "      <td>0.040042</td>\n",
              "      <td>0.096484</td>\n",
              "      <td>0.020712</td>\n",
              "      <td>0.035022</td>\n",
              "      <td>0.046888</td>\n",
              "      <td>0.049071</td>\n",
              "      <td>0.046247</td>\n",
              "      <td>0.048276</td>\n",
              "      <td>0.010486</td>\n",
              "      <td>0.022727</td>\n",
              "    </tr>\n",
              "  </tbody>\n",
              "</table>\n",
              "<p>6 rows × 23 columns</p>\n",
              "</div>\n",
              "      <button class=\"colab-df-convert\" onclick=\"convertToInteractive('df-4622814e-007d-4581-888a-a5505bda2bf7')\"\n",
              "              title=\"Convert this dataframe to an interactive table.\"\n",
              "              style=\"display:none;\">\n",
              "        \n",
              "  <svg xmlns=\"http://www.w3.org/2000/svg\" height=\"24px\"viewBox=\"0 0 24 24\"\n",
              "       width=\"24px\">\n",
              "    <path d=\"M0 0h24v24H0V0z\" fill=\"none\"/>\n",
              "    <path d=\"M18.56 5.44l.94 2.06.94-2.06 2.06-.94-2.06-.94-.94-2.06-.94 2.06-2.06.94zm-11 1L8.5 8.5l.94-2.06 2.06-.94-2.06-.94L8.5 2.5l-.94 2.06-2.06.94zm10 10l.94 2.06.94-2.06 2.06-.94-2.06-.94-.94-2.06-.94 2.06-2.06.94z\"/><path d=\"M17.41 7.96l-1.37-1.37c-.4-.4-.92-.59-1.43-.59-.52 0-1.04.2-1.43.59L10.3 9.45l-7.72 7.72c-.78.78-.78 2.05 0 2.83L4 21.41c.39.39.9.59 1.41.59.51 0 1.02-.2 1.41-.59l7.78-7.78 2.81-2.81c.8-.78.8-2.07 0-2.86zM5.41 20L4 18.59l7.72-7.72 1.47 1.35L5.41 20z\"/>\n",
              "  </svg>\n",
              "      </button>\n",
              "      \n",
              "  <style>\n",
              "    .colab-df-container {\n",
              "      display:flex;\n",
              "      flex-wrap:wrap;\n",
              "      gap: 12px;\n",
              "    }\n",
              "\n",
              "    .colab-df-convert {\n",
              "      background-color: #E8F0FE;\n",
              "      border: none;\n",
              "      border-radius: 50%;\n",
              "      cursor: pointer;\n",
              "      display: none;\n",
              "      fill: #1967D2;\n",
              "      height: 32px;\n",
              "      padding: 0 0 0 0;\n",
              "      width: 32px;\n",
              "    }\n",
              "\n",
              "    .colab-df-convert:hover {\n",
              "      background-color: #E2EBFA;\n",
              "      box-shadow: 0px 1px 2px rgba(60, 64, 67, 0.3), 0px 1px 3px 1px rgba(60, 64, 67, 0.15);\n",
              "      fill: #174EA6;\n",
              "    }\n",
              "\n",
              "    [theme=dark] .colab-df-convert {\n",
              "      background-color: #3B4455;\n",
              "      fill: #D2E3FC;\n",
              "    }\n",
              "\n",
              "    [theme=dark] .colab-df-convert:hover {\n",
              "      background-color: #434B5C;\n",
              "      box-shadow: 0px 1px 3px 1px rgba(0, 0, 0, 0.15);\n",
              "      filter: drop-shadow(0px 1px 2px rgba(0, 0, 0, 0.3));\n",
              "      fill: #FFFFFF;\n",
              "    }\n",
              "  </style>\n",
              "\n",
              "      <script>\n",
              "        const buttonEl =\n",
              "          document.querySelector('#df-4622814e-007d-4581-888a-a5505bda2bf7 button.colab-df-convert');\n",
              "        buttonEl.style.display =\n",
              "          google.colab.kernel.accessAllowed ? 'block' : 'none';\n",
              "\n",
              "        async function convertToInteractive(key) {\n",
              "          const element = document.querySelector('#df-4622814e-007d-4581-888a-a5505bda2bf7');\n",
              "          const dataTable =\n",
              "            await google.colab.kernel.invokeFunction('convertToInteractive',\n",
              "                                                     [key], {});\n",
              "          if (!dataTable) return;\n",
              "\n",
              "          const docLinkHtml = 'Like what you see? Visit the ' +\n",
              "            '<a target=\"_blank\" href=https://colab.research.google.com/notebooks/data_table.ipynb>data table notebook</a>'\n",
              "            + ' to learn more about interactive tables.';\n",
              "          element.innerHTML = '';\n",
              "          dataTable['output_type'] = 'display_data';\n",
              "          await google.colab.output.renderOutput(dataTable, element);\n",
              "          const docLink = document.createElement('div');\n",
              "          docLink.innerHTML = docLinkHtml;\n",
              "          element.appendChild(docLink);\n",
              "        }\n",
              "      </script>\n",
              "    </div>\n",
              "  </div>\n",
              "  "
            ]
          },
          "metadata": {},
          "execution_count": 6
        }
      ]
    },
    {
      "cell_type": "markdown",
      "source": [
        "This dataframe is where the true berteomic magic begins. Each row corresponds to each residue in the input protein sequence. \n",
        "\n",
        "The `wt` column represents the actual amino acid at the given position, and `wtIndex` is just a one-based index of the residue which makes plotting easier, may not stick around forever though..\n",
        "\n",
        "`wtScore` is a very interesting and important value. For a given protein, one would hope that the model would predict that the masked residue would be the same as the wild-type in the sequence. This column gives us the actual probability that the model provided for the wild type residue at that position.\n",
        "\n",
        "The remaining columns are simply the probabilities of each possible amino acid generated by the model when placing a mask at every residue in the input protein.\n",
        "\n",
        "Using `MENDEL` as a toy example, isn't truly a great use casage, because the model wasn't necesarily trained on such small peptides with that particular order of residues, nevertheless, it still demonstrates the possibilities that `berteome` opens. \n",
        "\n",
        "From 6 amino acids, we have 120 data points to start playing around with!\n",
        "\n",
        "From a single sequence, you could generate a seqlogo plot, which would normally require aligning multiple homologous sequences together.\n",
        "\n",
        "A position-specific scoring matrix for BLAST searches and HMM searches could be generated from a single sequence!\n",
        "\n",
        "From a single sequence, you could also generate a sampling of variants that would be reasonably better than just randomly mutating, allowing for a decent way of mutating a protein sequence or just augmenting a sparse protein dataset!"
      ],
      "metadata": {
        "id": "GXCjoEDoK2-z"
      }
    },
    {
      "cell_type": "markdown",
      "metadata": {
        "id": "9fRN8UciFVEY"
      },
      "source": [
        "# Development\n",
        "\n",
        "To build the library run the following\n",
        "\n",
        "```\n",
        "nbdev export\n",
        "```\n",
        "\n",
        "Then, pip install in a development environment\n",
        "\n",
        "```\n",
        "pip install -e '.[dev]'\n",
        "```"
      ]
    },
    {
      "cell_type": "markdown",
      "source": [
        "I do quite a bit of work on a chromebook, which allows for doing stuff on github through codespace and also on google colab. To install a particular commit hash of `berteome` you can do the following:"
      ],
      "metadata": {
        "id": "Sm0yNceNGTSO"
      }
    },
    {
      "cell_type": "code",
      "source": [
        "!pip install \"berteome @ git+https://github.com/tijeco/berteome@eb9c1dfd45c52c8d43362fda9d74a4643755d544\""
      ],
      "metadata": {
        "colab": {
          "base_uri": "https://localhost:8080/"
        },
        "id": "RCQq7MVzGwyU",
        "outputId": "23cc1b40-c6e5-4bbc-9e47-1db156a44b61"
      },
      "execution_count": 1,
      "outputs": [
        {
          "output_type": "stream",
          "name": "stdout",
          "text": [
            "Looking in indexes: https://pypi.org/simple, https://us-python.pkg.dev/colab-wheels/public/simple/\n",
            "Collecting berteome@ git+https://github.com/tijeco/berteome@eb9c1dfd45c52c8d43362fda9d74a4643755d544\n",
            "  Using cached berteome-0.1.5-py3-none-any.whl\n",
            "Requirement already satisfied: torch in /usr/local/lib/python3.8/dist-packages (from berteome@ git+https://github.com/tijeco/berteome@eb9c1dfd45c52c8d43362fda9d74a4643755d544) (1.13.0+cu116)\n",
            "Requirement already satisfied: pip in /usr/local/lib/python3.8/dist-packages (from berteome@ git+https://github.com/tijeco/berteome@eb9c1dfd45c52c8d43362fda9d74a4643755d544) (21.1.3)\n",
            "Requirement already satisfied: seqlogo in /usr/local/lib/python3.8/dist-packages (from berteome@ git+https://github.com/tijeco/berteome@eb9c1dfd45c52c8d43362fda9d74a4643755d544) (5.29.8)\n",
            "Requirement already satisfied: transformers in /usr/local/lib/python3.8/dist-packages (from berteome@ git+https://github.com/tijeco/berteome@eb9c1dfd45c52c8d43362fda9d74a4643755d544) (4.25.1)\n",
            "Requirement already satisfied: pandas in /usr/local/lib/python3.8/dist-packages (from berteome@ git+https://github.com/tijeco/berteome@eb9c1dfd45c52c8d43362fda9d74a4643755d544) (1.3.5)\n",
            "Requirement already satisfied: packaging in /usr/local/lib/python3.8/dist-packages (from berteome@ git+https://github.com/tijeco/berteome@eb9c1dfd45c52c8d43362fda9d74a4643755d544) (21.3)\n",
            "Requirement already satisfied: numpy in /usr/local/lib/python3.8/dist-packages (from berteome@ git+https://github.com/tijeco/berteome@eb9c1dfd45c52c8d43362fda9d74a4643755d544) (1.21.6)\n",
            "Requirement already satisfied: pyparsing!=3.0.5,>=2.0.2 in /usr/local/lib/python3.8/dist-packages (from packaging->berteome@ git+https://github.com/tijeco/berteome@eb9c1dfd45c52c8d43362fda9d74a4643755d544) (3.0.9)\n",
            "Requirement already satisfied: python-dateutil>=2.7.3 in /usr/local/lib/python3.8/dist-packages (from pandas->berteome@ git+https://github.com/tijeco/berteome@eb9c1dfd45c52c8d43362fda9d74a4643755d544) (2.8.2)\n",
            "Requirement already satisfied: pytz>=2017.3 in /usr/local/lib/python3.8/dist-packages (from pandas->berteome@ git+https://github.com/tijeco/berteome@eb9c1dfd45c52c8d43362fda9d74a4643755d544) (2022.6)\n",
            "Requirement already satisfied: six>=1.5 in /usr/local/lib/python3.8/dist-packages (from python-dateutil>=2.7.3->pandas->berteome@ git+https://github.com/tijeco/berteome@eb9c1dfd45c52c8d43362fda9d74a4643755d544) (1.15.0)\n",
            "Requirement already satisfied: pytest in /usr/local/lib/python3.8/dist-packages (from seqlogo->berteome@ git+https://github.com/tijeco/berteome@eb9c1dfd45c52c8d43362fda9d74a4643755d544) (3.6.4)\n",
            "Requirement already satisfied: weblogo in /usr/local/lib/python3.8/dist-packages (from seqlogo->berteome@ git+https://github.com/tijeco/berteome@eb9c1dfd45c52c8d43362fda9d74a4643755d544) (3.7.12)\n",
            "Requirement already satisfied: ghostscript in /usr/local/lib/python3.8/dist-packages (from seqlogo->berteome@ git+https://github.com/tijeco/berteome@eb9c1dfd45c52c8d43362fda9d74a4643755d544) (0.7)\n",
            "Requirement already satisfied: setuptools>=38.6.0 in /usr/local/lib/python3.8/dist-packages (from ghostscript->seqlogo->berteome@ git+https://github.com/tijeco/berteome@eb9c1dfd45c52c8d43362fda9d74a4643755d544) (57.4.0)\n",
            "Requirement already satisfied: more-itertools>=4.0.0 in /usr/local/lib/python3.8/dist-packages (from pytest->seqlogo->berteome@ git+https://github.com/tijeco/berteome@eb9c1dfd45c52c8d43362fda9d74a4643755d544) (9.0.0)\n",
            "Requirement already satisfied: pluggy<0.8,>=0.5 in /usr/local/lib/python3.8/dist-packages (from pytest->seqlogo->berteome@ git+https://github.com/tijeco/berteome@eb9c1dfd45c52c8d43362fda9d74a4643755d544) (0.7.1)\n",
            "Requirement already satisfied: py>=1.5.0 in /usr/local/lib/python3.8/dist-packages (from pytest->seqlogo->berteome@ git+https://github.com/tijeco/berteome@eb9c1dfd45c52c8d43362fda9d74a4643755d544) (1.11.0)\n",
            "Requirement already satisfied: atomicwrites>=1.0 in /usr/local/lib/python3.8/dist-packages (from pytest->seqlogo->berteome@ git+https://github.com/tijeco/berteome@eb9c1dfd45c52c8d43362fda9d74a4643755d544) (1.4.1)\n",
            "Requirement already satisfied: attrs>=17.4.0 in /usr/local/lib/python3.8/dist-packages (from pytest->seqlogo->berteome@ git+https://github.com/tijeco/berteome@eb9c1dfd45c52c8d43362fda9d74a4643755d544) (22.1.0)\n",
            "Requirement already satisfied: typing-extensions in /usr/local/lib/python3.8/dist-packages (from torch->berteome@ git+https://github.com/tijeco/berteome@eb9c1dfd45c52c8d43362fda9d74a4643755d544) (4.4.0)\n",
            "Requirement already satisfied: huggingface-hub<1.0,>=0.10.0 in /usr/local/lib/python3.8/dist-packages (from transformers->berteome@ git+https://github.com/tijeco/berteome@eb9c1dfd45c52c8d43362fda9d74a4643755d544) (0.11.1)\n",
            "Requirement already satisfied: tokenizers!=0.11.3,<0.14,>=0.11.1 in /usr/local/lib/python3.8/dist-packages (from transformers->berteome@ git+https://github.com/tijeco/berteome@eb9c1dfd45c52c8d43362fda9d74a4643755d544) (0.13.2)\n",
            "Requirement already satisfied: requests in /usr/local/lib/python3.8/dist-packages (from transformers->berteome@ git+https://github.com/tijeco/berteome@eb9c1dfd45c52c8d43362fda9d74a4643755d544) (2.23.0)\n",
            "Requirement already satisfied: filelock in /usr/local/lib/python3.8/dist-packages (from transformers->berteome@ git+https://github.com/tijeco/berteome@eb9c1dfd45c52c8d43362fda9d74a4643755d544) (3.8.2)\n",
            "Requirement already satisfied: regex!=2019.12.17 in /usr/local/lib/python3.8/dist-packages (from transformers->berteome@ git+https://github.com/tijeco/berteome@eb9c1dfd45c52c8d43362fda9d74a4643755d544) (2022.6.2)\n",
            "Requirement already satisfied: tqdm>=4.27 in /usr/local/lib/python3.8/dist-packages (from transformers->berteome@ git+https://github.com/tijeco/berteome@eb9c1dfd45c52c8d43362fda9d74a4643755d544) (4.64.1)\n",
            "Requirement already satisfied: pyyaml>=5.1 in /usr/local/lib/python3.8/dist-packages (from transformers->berteome@ git+https://github.com/tijeco/berteome@eb9c1dfd45c52c8d43362fda9d74a4643755d544) (6.0)\n",
            "Requirement already satisfied: idna<3,>=2.5 in /usr/local/lib/python3.8/dist-packages (from requests->transformers->berteome@ git+https://github.com/tijeco/berteome@eb9c1dfd45c52c8d43362fda9d74a4643755d544) (2.10)\n",
            "Requirement already satisfied: urllib3!=1.25.0,!=1.25.1,<1.26,>=1.21.1 in /usr/local/lib/python3.8/dist-packages (from requests->transformers->berteome@ git+https://github.com/tijeco/berteome@eb9c1dfd45c52c8d43362fda9d74a4643755d544) (1.24.3)\n",
            "Requirement already satisfied: chardet<4,>=3.0.2 in /usr/local/lib/python3.8/dist-packages (from requests->transformers->berteome@ git+https://github.com/tijeco/berteome@eb9c1dfd45c52c8d43362fda9d74a4643755d544) (3.0.4)\n",
            "Requirement already satisfied: certifi>=2017.4.17 in /usr/local/lib/python3.8/dist-packages (from requests->transformers->berteome@ git+https://github.com/tijeco/berteome@eb9c1dfd45c52c8d43362fda9d74a4643755d544) (2022.12.7)\n",
            "Requirement already satisfied: scipy in /usr/local/lib/python3.8/dist-packages (from weblogo->seqlogo->berteome@ git+https://github.com/tijeco/berteome@eb9c1dfd45c52c8d43362fda9d74a4643755d544) (1.7.3)\n"
          ]
        }
      ]
    }
  ],
  "metadata": {
    "kernelspec": {
      "display_name": "Python 3",
      "language": "python",
      "name": "python3"
    },
    "language_info": {
      "codemirror_mode": {
        "name": "ipython",
        "version": 3
      },
      "file_extension": ".py",
      "mimetype": "text/x-python",
      "name": "python",
      "nbconvert_exporter": "python",
      "pygments_lexer": "ipython3",
      "version": "3.10.6"
    },
    "vscode": {
      "interpreter": {
        "hash": "767d51c1340bd893661ea55ea3124f6de3c7a262a8b4abca0554b478b1e2ff90"
      }
    },
    "colab": {
      "provenance": [],
      "include_colab_link": true
    }
  },
  "nbformat": 4,
  "nbformat_minor": 0
}