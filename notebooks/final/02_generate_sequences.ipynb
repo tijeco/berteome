{
 "cells": [
  {
   "cell_type": "code",
   "execution_count": null,
   "metadata": {},
   "outputs": [],
   "source": [
    "#| default_exp generate"
   ]
  },
  {
   "cell_type": "code",
   "execution_count": 1,
   "metadata": {},
   "outputs": [],
   "source": [
    "#| export\n",
    "import pandas as pd\n",
    "import numpy as np"
   ]
  },
  {
   "cell_type": "code",
   "execution_count": null,
   "metadata": {},
   "outputs": [],
   "source": [
    "#| hide\n",
    "from nbdev.showdoc import *"
   ]
  },
  {
   "cell_type": "code",
   "execution_count": null,
   "metadata": {},
   "outputs": [],
   "source": [
    "#| export\n",
    "def top_k_variants(berteome, k):\n",
    "  seqList = list(berteome.df[\"wt\"])\n",
    "  variantDict = {}\n",
    "  for index, row in berteome.df.iterrows():\n",
    "    aa_scores = row[list(berteome.aas)]\n",
    "    top_k_scores = aa_scores.where(aa_scores.index != row[\"wt\"]).sort_values(ascending=False).head(k)\n",
    "    top_k_subs = list(top_k_scores.index)\n",
    "    for res in top_k_subs:\n",
    "      seqCopy = seqList.copy()\n",
    "      seqCopy[index] = res\n",
    "      variantDict[f\"{index}sub{res}\"] =''.join(seqCopy)\n",
    "  return pd.DataFrame.from_dict(variantDict, orient = \"index\", columns = [\"seq\"]).rename_axis(\"sub\").reset_index()\n"
   ]
  },
  {
   "cell_type": "code",
   "execution_count": null,
   "metadata": {},
   "outputs": [],
   "source": [
    "def n_random_seqs(berteome, n):\n",
    "  randomSeqDict = {\"seq\":[],\"score\":[]}\n",
    "  for i in range(n):\n",
    "    randomSeq = []\n",
    "    randomSeqScore = 0\n",
    "    for index, row in berteome.df.iterrows():\n",
    "      aa_probs = row[list(berteome.aas)]\n",
    "      random_aa = np.random.choice(list(berteome.aas), 1, list(aa_probs))\n",
    "      random_aa_score = row[random_aa]\n",
    "      randomSeq += random_aa[0]\n",
    "      randomSeqScore += random_aa_score[0]\n",
    "    randomSeqDict[\"seq\"].append(''.join(randomSeq))\n",
    "    randomSeqDict[\"score\"].append(randomSeqScore/len(berteome.df))\n",
    "  return pd.DataFrame.from_dict(randomSeqDict)\n",
    "  \n"
   ]
  }
 ],
 "metadata": {
  "kernelspec": {
   "display_name": "Python 3",
   "language": "python",
   "name": "python3"
  },
  "language_info": {
   "codemirror_mode": {
    "name": "ipython",
    "version": 3
   },
   "file_extension": ".py",
   "mimetype": "text/x-python",
   "name": "python",
   "nbconvert_exporter": "python",
   "pygments_lexer": "ipython3",
   "version": "3.10.6 (main, Aug 10 2022, 11:40:04) [GCC 11.3.0]"
  },
  "orig_nbformat": 4,
  "vscode": {
   "interpreter": {
    "hash": "e7370f93d1d0cde622a1f8e1c04877d8463912d04d973331ad4851f04de6915a"
   }
  }
 },
 "nbformat": 4,
 "nbformat_minor": 2
}
