{
 "cells": [
  {
   "cell_type": "code",
   "execution_count": null,
   "metadata": {},
   "outputs": [],
   "source": [
    "#| default_exp berteome_plot"
   ]
  },
  {
   "cell_type": "code",
   "execution_count": null,
   "metadata": {},
   "outputs": [],
   "source": [
    "#| export\n",
    "import seqlogo\n",
    "import matplotlib.pyplot as plt\n",
    "import seaborn as sb"
   ]
  },
  {
   "cell_type": "code",
   "execution_count": null,
   "metadata": {},
   "outputs": [],
   "source": [
    "#| export\n",
    "def seqlogo_plot(berteome, ic_scale = False, format = 'svg', size = 'xlarge'):\n",
    "  berteome_aas = berteome.df[list(berteome.aas)]\n",
    "  berteome_seqlogoPPM = seqlogo.Ppm(berteome_aas,alphabet_type = \"AA\")\n",
    "  return seqlogo.seqlogo(berteome_seqlogoPPM ,ic_scale = ic_scale, format = format, size = size)"
   ]
  },
  {
   "cell_type": "code",
   "execution_count": null,
   "metadata": {},
   "outputs": [],
   "source": [
    "#| export\n",
    "def wtScore_plot(berteome):\n",
    "  fig, ax = plt.subplots()\n",
    "\n",
    "  ax.plot(berteome.df.index,berteome.df[\"wtScore\"])\n",
    "  ax.set_xticks(berteome.df.index)\n",
    "  ax.set_xticklabels(berteome.df[\"wt\"])\n",
    "  \n",
    "  return fig, ax"
   ]
  },
  {
   "cell_type": "code",
   "execution_count": null,
   "metadata": {},
   "outputs": [],
   "source": [
    "#| export\n",
    "def n_effective_plot(berteome):\n",
    "  fig, ax = plt.subplots()\n",
    "\n",
    "  ax.bar(berteome.df.index,berteome.df[\"n_effective\"])\n",
    "  ax.set_xticks(berteome.df.index)\n",
    "  ax.set_xticklabels(berteome.df[\"wt\"])\n",
    "  \n",
    "  return fig, ax"
   ]
  },
  {
   "cell_type": "code",
   "execution_count": null,
   "metadata": {},
   "outputs": [],
   "source": [
    "#| export\n",
    "def aa_correlation_plot(berteome):\n",
    "  return sb.clustermap(berteome.aa_correlation(), cmap=\"YlGnBu\")"
   ]
  }
 ],
 "metadata": {
  "kernelspec": {
   "display_name": "Python 3",
   "language": "python",
   "name": "python3"
  },
  "language_info": {
   "name": "python",
   "version": "3.10.6 (main, Aug 10 2022, 11:40:04) [GCC 11.3.0]"
  },
  "orig_nbformat": 4,
  "vscode": {
   "interpreter": {
    "hash": "e7370f93d1d0cde622a1f8e1c04877d8463912d04d973331ad4851f04de6915a"
   }
  }
 },
 "nbformat": 4,
 "nbformat_minor": 2
}
