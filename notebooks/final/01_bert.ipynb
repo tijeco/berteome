{
 "cells": [
  {
   "cell_type": "code",
   "execution_count": null,
   "metadata": {},
   "outputs": [],
   "source": [
    "# default_exp prot_bert"
   ]
  },
  {
   "cell_type": "code",
   "execution_count": null,
   "metadata": {},
   "outputs": [],
   "source": [
    "#hide\n",
    "from nbdev.showdoc import *"
   ]
  },
  {
   "cell_type": "code",
   "execution_count": null,
   "metadata": {},
   "outputs": [],
   "source": [
    "# export\n",
    "from transformers import BertForMaskedLM, BertTokenizer, pipeline\n",
    "import pandas as pd"
   ]
  },
  {
   "cell_type": "code",
   "execution_count": null,
   "metadata": {},
   "outputs": [],
   "source": [
    "# export\n",
    "from berteome import berteomeDF"
   ]
  },
  {
   "cell_type": "code",
   "execution_count": null,
   "metadata": {},
   "outputs": [
    {
     "name": "stderr",
     "output_type": "stream",
     "text": [
      "Some weights of the model checkpoint at Rostlab/prot_bert were not used when initializing BertForMaskedLM: ['cls.seq_relationship.weight', 'cls.seq_relationship.bias']\n",
      "- This IS expected if you are initializing BertForMaskedLM from the checkpoint of a model trained on another task or with another architecture (e.g. initializing a BertForSequenceClassification model from a BertForPreTraining model).\n",
      "- This IS NOT expected if you are initializing BertForMaskedLM from the checkpoint of a model that you expect to be exactly identical (initializing a BertForSequenceClassification model from a BertForSequenceClassification model).\n"
     ]
    }
   ],
   "source": [
    "# export\n",
    "tokenizer = BertTokenizer.from_pretrained(\"Rostlab/prot_bert\", do_lower_case=False )\n",
    "model = BertForMaskedLM.from_pretrained(\"Rostlab/prot_bert\")\n",
    "unmasker = pipeline('fill-mask', model=model, tokenizer=tokenizer)"
   ]
  },
  {
   "cell_type": "code",
   "execution_count": null,
   "metadata": {},
   "outputs": [],
   "source": [
    "# export\n",
    "def spacifySeq(seq):\n",
    "  return ' '.join(list(seq))"
   ]
  },
  {
   "cell_type": "code",
   "execution_count": null,
   "metadata": {},
   "outputs": [],
   "source": [
    "assert spacifySeq(\"MENDEL\") == 'M E N D E L'"
   ]
  },
  {
   "cell_type": "code",
   "execution_count": null,
   "metadata": {},
   "outputs": [
    {
     "data": {
      "text/plain": [
       "'M E N D E L'"
      ]
     },
     "execution_count": null,
     "metadata": {},
     "output_type": "execute_result"
    }
   ],
   "source": [
    "' '.join(list(\"MENDEL\"))"
   ]
  },
  {
   "cell_type": "code",
   "execution_count": null,
   "metadata": {},
   "outputs": [],
   "source": [
    "# export \n",
    "def maskifySeq(seq, pos, mask=\"[MASK]\"):\n",
    "  spacifiedSeq = spacifySeq(seq)\n",
    "  seqList = spacifiedSeq.split()\n",
    "  seqList[pos] = mask\n",
    "  return \" \".join(seqList)"
   ]
  },
  {
   "cell_type": "code",
   "execution_count": null,
   "metadata": {},
   "outputs": [
    {
     "ename": "NameError",
     "evalue": "name 'maskifySeq' is not defined",
     "output_type": "error",
     "traceback": [
      "\u001b[0;31m---------------------------------------------------------------------------\u001b[0m",
      "\u001b[0;31mNameError\u001b[0m                                 Traceback (most recent call last)",
      "\u001b[0;32m/var/folders/x1/098shbqn0rs8vd5ybvyb0k9h0000gn/T/ipykernel_79310/236712703.py\u001b[0m in \u001b[0;36m<module>\u001b[0;34m\u001b[0m\n\u001b[0;32m----> 1\u001b[0;31m \u001b[0;32massert\u001b[0m \u001b[0mmaskifySeq\u001b[0m\u001b[0;34m(\u001b[0m\u001b[0;34m\"MENDEL\"\u001b[0m\u001b[0;34m,\u001b[0m \u001b[0;36m3\u001b[0m\u001b[0;34m)\u001b[0m \u001b[0;34m==\u001b[0m \u001b[0;34m'M E N [MASK] E L'\u001b[0m\u001b[0;34m\u001b[0m\u001b[0;34m\u001b[0m\u001b[0m\n\u001b[0m",
      "\u001b[0;31mNameError\u001b[0m: name 'maskifySeq' is not defined"
     ]
    }
   ],
   "source": [
    "assert maskifySeq(\"MENDEL\", 3) == 'M E N [MASK] E L'"
   ]
  },
  {
   "cell_type": "code",
   "execution_count": null,
   "metadata": {},
   "outputs": [],
   "source": [
    "# export\n",
    "def allResidueCoordinates(seq,residue):\n",
    "  return [i for i, x in enumerate(seq) if x == residue]"
   ]
  },
  {
   "cell_type": "markdown",
   "metadata": {},
   "source": [
    "This should be renamed, to something along the lines of bertPredictionDict"
   ]
  },
  {
   "cell_type": "code",
   "execution_count": null,
   "metadata": {},
   "outputs": [],
   "source": [
    "# export\n",
    "def aaPosDict(aas):\n",
    "    aaDict = {}\n",
    "    for aaPos in range(len(aas)):\n",
    "        aa = aas[aaPos]\n",
    "        aaDict[aa] = aaPos\n",
    "    return aaDict"
   ]
  },
  {
   "cell_type": "code",
   "execution_count": null,
   "metadata": {},
   "outputs": [
    {
     "data": {
      "text/plain": [
       "{'A': 0,\n",
       " 'C': 1,\n",
       " 'D': 2,\n",
       " 'E': 3,\n",
       " 'F': 4,\n",
       " 'G': 5,\n",
       " 'H': 6,\n",
       " 'I': 7,\n",
       " 'K': 8,\n",
       " 'L': 9,\n",
       " 'M': 10,\n",
       " 'N': 11,\n",
       " 'P': 12,\n",
       " 'Q': 13,\n",
       " 'R': 14,\n",
       " 'S': 15,\n",
       " 'T': 16,\n",
       " 'V': 17,\n",
       " 'W': 18,\n",
       " 'Y': 19}"
      ]
     },
     "execution_count": null,
     "metadata": {},
     "output_type": "execute_result"
    }
   ],
   "source": [
    "aaPosDict(\"ACDEFGHIKLMNPQRSTVWY\")"
   ]
  },
  {
   "cell_type": "code",
   "execution_count": null,
   "metadata": {},
   "outputs": [],
   "source": [
    "# export \n",
    "def bertPredictionDF(seq, aas=\"ACDEFGHIKLMNPQRSTVWY\"):\n",
    "  aaDict = aaPosDict(aas)\n",
    "  bertPredDict = {}\n",
    "  # posPredictions = []\n",
    "  for aaPos in range(len(seq)):\n",
    "    aa = seq[aaPos]\n",
    "    maskPosSeq = maskifySeq(seq, aaPos)\n",
    "    predictions = unmasker(maskPosSeq, top_k=30)\n",
    "    predList = [0]*len(aas)\n",
    "    for prediction in predictions:\n",
    "      predAA = prediction[\"token_str\"]\n",
    "      if predAA in aaDict:\n",
    "        predList[aaDict[predAA]] = prediction[\"score\"]\n",
    "    bertPredDict[aaPos] = predList\n",
    "  bertPredDF = berteomeDF.modelPredDF(bertPredDict,seq, aas).predDf\n",
    "  return bertPredDF"
   ]
  },
  {
   "cell_type": "code",
   "execution_count": null,
   "metadata": {},
   "outputs": [
    {
     "data": {
      "text/html": [
       "<div>\n",
       "<style scoped>\n",
       "    .dataframe tbody tr th:only-of-type {\n",
       "        vertical-align: middle;\n",
       "    }\n",
       "\n",
       "    .dataframe tbody tr th {\n",
       "        vertical-align: top;\n",
       "    }\n",
       "\n",
       "    .dataframe thead th {\n",
       "        text-align: right;\n",
       "    }\n",
       "</style>\n",
       "<table border=\"1\" class=\"dataframe\">\n",
       "  <thead>\n",
       "    <tr style=\"text-align: right;\">\n",
       "      <th></th>\n",
       "      <th>wt</th>\n",
       "      <th>wtIndex</th>\n",
       "      <th>A</th>\n",
       "      <th>C</th>\n",
       "      <th>D</th>\n",
       "      <th>E</th>\n",
       "      <th>F</th>\n",
       "      <th>G</th>\n",
       "      <th>H</th>\n",
       "      <th>I</th>\n",
       "      <th>...</th>\n",
       "      <th>M</th>\n",
       "      <th>N</th>\n",
       "      <th>P</th>\n",
       "      <th>Q</th>\n",
       "      <th>R</th>\n",
       "      <th>S</th>\n",
       "      <th>T</th>\n",
       "      <th>V</th>\n",
       "      <th>W</th>\n",
       "      <th>Y</th>\n",
       "    </tr>\n",
       "  </thead>\n",
       "  <tbody>\n",
       "    <tr>\n",
       "      <th>0</th>\n",
       "      <td>M</td>\n",
       "      <td>1</td>\n",
       "      <td>0.036685</td>\n",
       "      <td>0.011501</td>\n",
       "      <td>0.048229</td>\n",
       "      <td>0.118868</td>\n",
       "      <td>0.024064</td>\n",
       "      <td>0.039190</td>\n",
       "      <td>0.012617</td>\n",
       "      <td>0.066477</td>\n",
       "      <td>...</td>\n",
       "      <td>0.076580</td>\n",
       "      <td>0.072637</td>\n",
       "      <td>0.024714</td>\n",
       "      <td>0.038660</td>\n",
       "      <td>0.043091</td>\n",
       "      <td>0.070257</td>\n",
       "      <td>0.056526</td>\n",
       "      <td>0.049911</td>\n",
       "      <td>0.007779</td>\n",
       "      <td>0.021692</td>\n",
       "    </tr>\n",
       "    <tr>\n",
       "      <th>1</th>\n",
       "      <td>E</td>\n",
       "      <td>2</td>\n",
       "      <td>0.045712</td>\n",
       "      <td>0.015659</td>\n",
       "      <td>0.041913</td>\n",
       "      <td>0.074816</td>\n",
       "      <td>0.037146</td>\n",
       "      <td>0.044317</td>\n",
       "      <td>0.018260</td>\n",
       "      <td>0.073063</td>\n",
       "      <td>...</td>\n",
       "      <td>0.043572</td>\n",
       "      <td>0.062655</td>\n",
       "      <td>0.025272</td>\n",
       "      <td>0.036905</td>\n",
       "      <td>0.055532</td>\n",
       "      <td>0.064412</td>\n",
       "      <td>0.049945</td>\n",
       "      <td>0.056779</td>\n",
       "      <td>0.012689</td>\n",
       "      <td>0.029887</td>\n",
       "    </tr>\n",
       "    <tr>\n",
       "      <th>2</th>\n",
       "      <td>N</td>\n",
       "      <td>3</td>\n",
       "      <td>0.043558</td>\n",
       "      <td>0.009684</td>\n",
       "      <td>0.162566</td>\n",
       "      <td>0.184336</td>\n",
       "      <td>0.033777</td>\n",
       "      <td>0.044654</td>\n",
       "      <td>0.012353</td>\n",
       "      <td>0.052622</td>\n",
       "      <td>...</td>\n",
       "      <td>0.041478</td>\n",
       "      <td>0.041984</td>\n",
       "      <td>0.019989</td>\n",
       "      <td>0.025511</td>\n",
       "      <td>0.029428</td>\n",
       "      <td>0.048098</td>\n",
       "      <td>0.030299</td>\n",
       "      <td>0.054734</td>\n",
       "      <td>0.007428</td>\n",
       "      <td>0.024920</td>\n",
       "    </tr>\n",
       "    <tr>\n",
       "      <th>3</th>\n",
       "      <td>D</td>\n",
       "      <td>4</td>\n",
       "      <td>0.042079</td>\n",
       "      <td>0.013243</td>\n",
       "      <td>0.049744</td>\n",
       "      <td>0.086189</td>\n",
       "      <td>0.039733</td>\n",
       "      <td>0.055907</td>\n",
       "      <td>0.016860</td>\n",
       "      <td>0.073291</td>\n",
       "      <td>...</td>\n",
       "      <td>0.040078</td>\n",
       "      <td>0.060817</td>\n",
       "      <td>0.032022</td>\n",
       "      <td>0.039686</td>\n",
       "      <td>0.046224</td>\n",
       "      <td>0.062319</td>\n",
       "      <td>0.044898</td>\n",
       "      <td>0.058933</td>\n",
       "      <td>0.010875</td>\n",
       "      <td>0.026594</td>\n",
       "    </tr>\n",
       "    <tr>\n",
       "      <th>4</th>\n",
       "      <td>E</td>\n",
       "      <td>5</td>\n",
       "      <td>0.046638</td>\n",
       "      <td>0.018769</td>\n",
       "      <td>0.079816</td>\n",
       "      <td>0.086908</td>\n",
       "      <td>0.050634</td>\n",
       "      <td>0.050462</td>\n",
       "      <td>0.022395</td>\n",
       "      <td>0.074495</td>\n",
       "      <td>...</td>\n",
       "      <td>0.028960</td>\n",
       "      <td>0.062229</td>\n",
       "      <td>0.023877</td>\n",
       "      <td>0.030532</td>\n",
       "      <td>0.040486</td>\n",
       "      <td>0.065190</td>\n",
       "      <td>0.044934</td>\n",
       "      <td>0.068032</td>\n",
       "      <td>0.012155</td>\n",
       "      <td>0.038031</td>\n",
       "    </tr>\n",
       "    <tr>\n",
       "      <th>5</th>\n",
       "      <td>L</td>\n",
       "      <td>6</td>\n",
       "      <td>0.035695</td>\n",
       "      <td>0.008615</td>\n",
       "      <td>0.060928</td>\n",
       "      <td>0.142576</td>\n",
       "      <td>0.019581</td>\n",
       "      <td>0.046287</td>\n",
       "      <td>0.013043</td>\n",
       "      <td>0.060374</td>\n",
       "      <td>...</td>\n",
       "      <td>0.037424</td>\n",
       "      <td>0.090177</td>\n",
       "      <td>0.019358</td>\n",
       "      <td>0.032733</td>\n",
       "      <td>0.043823</td>\n",
       "      <td>0.045863</td>\n",
       "      <td>0.043224</td>\n",
       "      <td>0.045121</td>\n",
       "      <td>0.009800</td>\n",
       "      <td>0.021241</td>\n",
       "    </tr>\n",
       "  </tbody>\n",
       "</table>\n",
       "<p>6 rows × 22 columns</p>\n",
       "</div>"
      ],
      "text/plain": [
       "  wt  wtIndex         A         C         D         E         F         G  \\\n",
       "0  M        1  0.036685  0.011501  0.048229  0.118868  0.024064  0.039190   \n",
       "1  E        2  0.045712  0.015659  0.041913  0.074816  0.037146  0.044317   \n",
       "2  N        3  0.043558  0.009684  0.162566  0.184336  0.033777  0.044654   \n",
       "3  D        4  0.042079  0.013243  0.049744  0.086189  0.039733  0.055907   \n",
       "4  E        5  0.046638  0.018769  0.079816  0.086908  0.050634  0.050462   \n",
       "5  L        6  0.035695  0.008615  0.060928  0.142576  0.019581  0.046287   \n",
       "\n",
       "          H         I  ...         M         N         P         Q         R  \\\n",
       "0  0.012617  0.066477  ...  0.076580  0.072637  0.024714  0.038660  0.043091   \n",
       "1  0.018260  0.073063  ...  0.043572  0.062655  0.025272  0.036905  0.055532   \n",
       "2  0.012353  0.052622  ...  0.041478  0.041984  0.019989  0.025511  0.029428   \n",
       "3  0.016860  0.073291  ...  0.040078  0.060817  0.032022  0.039686  0.046224   \n",
       "4  0.022395  0.074495  ...  0.028960  0.062229  0.023877  0.030532  0.040486   \n",
       "5  0.013043  0.060374  ...  0.037424  0.090177  0.019358  0.032733  0.043823   \n",
       "\n",
       "          S         T         V         W         Y  \n",
       "0  0.070257  0.056526  0.049911  0.007779  0.021692  \n",
       "1  0.064412  0.049945  0.056779  0.012689  0.029887  \n",
       "2  0.048098  0.030299  0.054734  0.007428  0.024920  \n",
       "3  0.062319  0.044898  0.058933  0.010875  0.026594  \n",
       "4  0.065190  0.044934  0.068032  0.012155  0.038031  \n",
       "5  0.045863  0.043224  0.045121  0.009800  0.021241  \n",
       "\n",
       "[6 rows x 22 columns]"
      ]
     },
     "execution_count": null,
     "metadata": {},
     "output_type": "execute_result"
    }
   ],
   "source": [
    "bertPredictionDF(\"MENDEL\")"
   ]
  },
  {
   "cell_type": "markdown",
   "metadata": {},
   "source": [
    "I should probably think about this more, maybe I should go ahead and put the data into the dataframe format that I want from here. It probably doesn't make too much sense to make this structure (which has little utility) just to make the useful structure. Instead, I think I should go ahead and start iterating through predictions and add those predictions to a dict that will be easily converted to a dataframe.\n",
    "\n",
    "I think I would just need to know the intended index for the 20 amino acids, since the order of the predicitons is sorted by score"
   ]
  },
  {
   "cell_type": "code",
   "execution_count": null,
   "metadata": {},
   "outputs": [],
   "source": []
  }
 ],
 "metadata": {
  "kernelspec": {
   "display_name": "Python 3.7.2 64-bit",
   "name": "python3"
  }
 },
 "nbformat": 4,
 "nbformat_minor": 2
}
