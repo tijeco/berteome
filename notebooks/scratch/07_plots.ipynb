{
 "cells": [
  {
   "attachments": {},
   "cell_type": "markdown",
   "metadata": {},
   "source": [
    "The next thing to work on here is to make a few useful plots. These are the main ones that come to mind\n",
    "\n",
    "1. seqlogo\n",
    "2. wtScore line plot\n",
    "3. n_effective barplot\n",
    "4. aa_correlation heatmap\n",
    "\n",
    "I think I'll have these set up to be a separate module `berteome_plot`, and all functions would take berteome output as input (i.e. `berteome_plot.seqlogo(berteome)`)"
   ]
  },
  {
   "cell_type": "code",
   "execution_count": null,
   "metadata": {},
   "outputs": [],
   "source": []
  },
  {
   "cell_type": "markdown",
   "metadata": {},
   "source": []
  }
 ],
 "metadata": {
  "kernelspec": {
   "display_name": "Python 3",
   "language": "python",
   "name": "python3"
  },
  "language_info": {
   "name": "python",
   "version": "3.10.6 (main, Aug 10 2022, 11:40:04) [GCC 11.3.0]"
  },
  "orig_nbformat": 4,
  "vscode": {
   "interpreter": {
    "hash": "e7370f93d1d0cde622a1f8e1c04877d8463912d04d973331ad4851f04de6915a"
   }
  }
 },
 "nbformat": 4,
 "nbformat_minor": 2
}
