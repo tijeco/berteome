{
  "cells": [
    {
      "cell_type": "markdown",
      "metadata": {
        "id": "yucZPkVamFIO"
      },
      "source": [
        "The next thing to work on here is to make a few useful plots. These are the main ones that come to mind\n",
        "\n",
        "1. seqlogo\n",
        "2. wtScore line plot\n",
        "3. n_effective barplot\n",
        "4. aa_correlation heatmap\n",
        "\n",
        "I think I'll have these set up to be a separate module `berteome_plot`, and all functions would take berteome output as input (i.e. `berteome_plot.seqlogo(berteome)`)"
      ]
    },
    {
      "cell_type": "code",
      "source": [
        "!pip uninstall berteome\n",
        "!pip install \"berteome @ git+https://github.com/tijeco/berteome@16adb83094cf249aff326e814589d0010ae1101f\""
      ],
      "metadata": {
        "id": "dNBtJ-numV6S",
        "outputId": "c918e828-d8e5-4032-e732-27ed7ac51b28",
        "colab": {
          "base_uri": "https://localhost:8080/",
          "height": 1000
        }
      },
      "execution_count": 71,
      "outputs": [
        {
          "output_type": "stream",
          "name": "stdout",
          "text": [
            "Found existing installation: berteome 0.1.5\n",
            "Uninstalling berteome-0.1.5:\n",
            "  Would remove:\n",
            "    /usr/local/lib/python3.8/dist-packages/berteome-0.1.5.dist-info/*\n",
            "    /usr/local/lib/python3.8/dist-packages/berteome/*\n",
            "Proceed (Y/n)? y\n",
            "  Successfully uninstalled berteome-0.1.5\n",
            "Looking in indexes: https://pypi.org/simple, https://us-python.pkg.dev/colab-wheels/public/simple/\n",
            "Collecting berteome@ git+https://github.com/tijeco/berteome@16adb83094cf249aff326e814589d0010ae1101f\n",
            "  Cloning https://github.com/tijeco/berteome (to revision 16adb83094cf249aff326e814589d0010ae1101f) to /tmp/pip-install-gtb4cjoe/berteome_c30549a294084098ab17a9c35f7a2182\n",
            "  Running command git clone --filter=blob:none --quiet https://github.com/tijeco/berteome /tmp/pip-install-gtb4cjoe/berteome_c30549a294084098ab17a9c35f7a2182\n",
            "  Running command git rev-parse -q --verify 'sha^16adb83094cf249aff326e814589d0010ae1101f'\n",
            "  Running command git fetch -q https://github.com/tijeco/berteome 16adb83094cf249aff326e814589d0010ae1101f\n",
            "  Running command git checkout -q 16adb83094cf249aff326e814589d0010ae1101f\n",
            "  Resolved https://github.com/tijeco/berteome to commit 16adb83094cf249aff326e814589d0010ae1101f\n",
            "  Preparing metadata (setup.py) ... \u001b[?25l\u001b[?25hdone\n",
            "Requirement already satisfied: pip in /usr/local/lib/python3.8/dist-packages (from berteome@ git+https://github.com/tijeco/berteome@16adb83094cf249aff326e814589d0010ae1101f) (22.0.4)\n",
            "Requirement already satisfied: packaging in /usr/local/lib/python3.8/dist-packages (from berteome@ git+https://github.com/tijeco/berteome@16adb83094cf249aff326e814589d0010ae1101f) (21.3)\n",
            "Requirement already satisfied: pandas in /usr/local/lib/python3.8/dist-packages (from berteome@ git+https://github.com/tijeco/berteome@16adb83094cf249aff326e814589d0010ae1101f) (1.3.5)\n",
            "Requirement already satisfied: numpy in /usr/local/lib/python3.8/dist-packages (from berteome@ git+https://github.com/tijeco/berteome@16adb83094cf249aff326e814589d0010ae1101f) (1.21.6)\n",
            "Requirement already satisfied: seqlogo in /usr/local/lib/python3.8/dist-packages (from berteome@ git+https://github.com/tijeco/berteome@16adb83094cf249aff326e814589d0010ae1101f) (5.29.8)\n",
            "Requirement already satisfied: transformers in /usr/local/lib/python3.8/dist-packages (from berteome@ git+https://github.com/tijeco/berteome@16adb83094cf249aff326e814589d0010ae1101f) (4.25.1)\n",
            "Requirement already satisfied: torch in /usr/local/lib/python3.8/dist-packages (from berteome@ git+https://github.com/tijeco/berteome@16adb83094cf249aff326e814589d0010ae1101f) (1.13.0+cu116)\n",
            "Requirement already satisfied: pyparsing!=3.0.5,>=2.0.2 in /usr/local/lib/python3.8/dist-packages (from packaging->berteome@ git+https://github.com/tijeco/berteome@16adb83094cf249aff326e814589d0010ae1101f) (3.0.9)\n",
            "Requirement already satisfied: pytz>=2017.3 in /usr/local/lib/python3.8/dist-packages (from pandas->berteome@ git+https://github.com/tijeco/berteome@16adb83094cf249aff326e814589d0010ae1101f) (2022.7)\n",
            "Requirement already satisfied: python-dateutil>=2.7.3 in /usr/local/lib/python3.8/dist-packages (from pandas->berteome@ git+https://github.com/tijeco/berteome@16adb83094cf249aff326e814589d0010ae1101f) (2.8.2)\n",
            "Requirement already satisfied: ghostscript in /usr/local/lib/python3.8/dist-packages (from seqlogo->berteome@ git+https://github.com/tijeco/berteome@16adb83094cf249aff326e814589d0010ae1101f) (0.7)\n",
            "Requirement already satisfied: pytest in /usr/local/lib/python3.8/dist-packages (from seqlogo->berteome@ git+https://github.com/tijeco/berteome@16adb83094cf249aff326e814589d0010ae1101f) (3.6.4)\n",
            "Requirement already satisfied: weblogo in /usr/local/lib/python3.8/dist-packages (from seqlogo->berteome@ git+https://github.com/tijeco/berteome@16adb83094cf249aff326e814589d0010ae1101f) (3.7.12)\n",
            "Requirement already satisfied: typing-extensions in /usr/local/lib/python3.8/dist-packages (from torch->berteome@ git+https://github.com/tijeco/berteome@16adb83094cf249aff326e814589d0010ae1101f) (4.4.0)\n",
            "Requirement already satisfied: tqdm>=4.27 in /usr/local/lib/python3.8/dist-packages (from transformers->berteome@ git+https://github.com/tijeco/berteome@16adb83094cf249aff326e814589d0010ae1101f) (4.64.1)\n",
            "Requirement already satisfied: tokenizers!=0.11.3,<0.14,>=0.11.1 in /usr/local/lib/python3.8/dist-packages (from transformers->berteome@ git+https://github.com/tijeco/berteome@16adb83094cf249aff326e814589d0010ae1101f) (0.13.2)\n",
            "Requirement already satisfied: huggingface-hub<1.0,>=0.10.0 in /usr/local/lib/python3.8/dist-packages (from transformers->berteome@ git+https://github.com/tijeco/berteome@16adb83094cf249aff326e814589d0010ae1101f) (0.11.1)\n",
            "Requirement already satisfied: regex!=2019.12.17 in /usr/local/lib/python3.8/dist-packages (from transformers->berteome@ git+https://github.com/tijeco/berteome@16adb83094cf249aff326e814589d0010ae1101f) (2022.6.2)\n",
            "Requirement already satisfied: requests in /usr/local/lib/python3.8/dist-packages (from transformers->berteome@ git+https://github.com/tijeco/berteome@16adb83094cf249aff326e814589d0010ae1101f) (2.25.1)\n",
            "Requirement already satisfied: pyyaml>=5.1 in /usr/local/lib/python3.8/dist-packages (from transformers->berteome@ git+https://github.com/tijeco/berteome@16adb83094cf249aff326e814589d0010ae1101f) (6.0)\n",
            "Requirement already satisfied: filelock in /usr/local/lib/python3.8/dist-packages (from transformers->berteome@ git+https://github.com/tijeco/berteome@16adb83094cf249aff326e814589d0010ae1101f) (3.8.2)\n",
            "Requirement already satisfied: six>=1.5 in /usr/local/lib/python3.8/dist-packages (from python-dateutil>=2.7.3->pandas->berteome@ git+https://github.com/tijeco/berteome@16adb83094cf249aff326e814589d0010ae1101f) (1.15.0)\n",
            "Requirement already satisfied: setuptools>=38.6.0 in /usr/local/lib/python3.8/dist-packages (from ghostscript->seqlogo->berteome@ git+https://github.com/tijeco/berteome@16adb83094cf249aff326e814589d0010ae1101f) (57.4.0)\n",
            "Requirement already satisfied: attrs>=17.4.0 in /usr/local/lib/python3.8/dist-packages (from pytest->seqlogo->berteome@ git+https://github.com/tijeco/berteome@16adb83094cf249aff326e814589d0010ae1101f) (22.2.0)\n",
            "Requirement already satisfied: pluggy<0.8,>=0.5 in /usr/local/lib/python3.8/dist-packages (from pytest->seqlogo->berteome@ git+https://github.com/tijeco/berteome@16adb83094cf249aff326e814589d0010ae1101f) (0.7.1)\n",
            "Requirement already satisfied: py>=1.5.0 in /usr/local/lib/python3.8/dist-packages (from pytest->seqlogo->berteome@ git+https://github.com/tijeco/berteome@16adb83094cf249aff326e814589d0010ae1101f) (1.11.0)\n",
            "Requirement already satisfied: atomicwrites>=1.0 in /usr/local/lib/python3.8/dist-packages (from pytest->seqlogo->berteome@ git+https://github.com/tijeco/berteome@16adb83094cf249aff326e814589d0010ae1101f) (1.4.1)\n",
            "Requirement already satisfied: more-itertools>=4.0.0 in /usr/local/lib/python3.8/dist-packages (from pytest->seqlogo->berteome@ git+https://github.com/tijeco/berteome@16adb83094cf249aff326e814589d0010ae1101f) (9.0.0)\n",
            "Requirement already satisfied: urllib3<1.27,>=1.21.1 in /usr/local/lib/python3.8/dist-packages (from requests->transformers->berteome@ git+https://github.com/tijeco/berteome@16adb83094cf249aff326e814589d0010ae1101f) (1.24.3)\n",
            "Requirement already satisfied: idna<3,>=2.5 in /usr/local/lib/python3.8/dist-packages (from requests->transformers->berteome@ git+https://github.com/tijeco/berteome@16adb83094cf249aff326e814589d0010ae1101f) (2.10)\n",
            "Requirement already satisfied: chardet<5,>=3.0.2 in /usr/local/lib/python3.8/dist-packages (from requests->transformers->berteome@ git+https://github.com/tijeco/berteome@16adb83094cf249aff326e814589d0010ae1101f) (4.0.0)\n",
            "Requirement already satisfied: certifi>=2017.4.17 in /usr/local/lib/python3.8/dist-packages (from requests->transformers->berteome@ git+https://github.com/tijeco/berteome@16adb83094cf249aff326e814589d0010ae1101f) (2022.12.7)\n",
            "Requirement already satisfied: scipy in /usr/local/lib/python3.8/dist-packages (from weblogo->seqlogo->berteome@ git+https://github.com/tijeco/berteome@16adb83094cf249aff326e814589d0010ae1101f) (1.7.3)\n",
            "Building wheels for collected packages: berteome\n",
            "  Building wheel for berteome (setup.py) ... \u001b[?25l\u001b[?25hdone\n",
            "  Created wheel for berteome: filename=berteome-0.1.5-py3-none-any.whl size=17471 sha256=70e00491f16291fd7e99be30aabaf09e30f3923d9a517045516e90d2cf8f7e8d\n",
            "  Stored in directory: /root/.cache/pip/wheels/66/10/a5/e64679a99451b6c569903f22c5b54dd3e3c31f8650d95ec3df\n",
            "Successfully built berteome\n",
            "Installing collected packages: berteome\n",
            "Successfully installed berteome-0.1.5\n"
          ]
        },
        {
          "output_type": "display_data",
          "data": {
            "application/vnd.colab-display-data+json": {
              "pip_warning": {
                "packages": [
                  "berteome"
                ]
              }
            }
          },
          "metadata": {}
        }
      ]
    },
    {
      "cell_type": "markdown",
      "source": [
        "# Seqlogo"
      ],
      "metadata": {
        "id": "UQnKYf6HmG1w"
      }
    },
    {
      "cell_type": "markdown",
      "source": [
        "Seqlogo has some weird dependencies that need to be installed on colab. I'm pretty sure they could be wrapped up in a conda environment though.."
      ],
      "metadata": {
        "id": "Olt884ovmfw2"
      }
    },
    {
      "cell_type": "code",
      "execution_count": 1,
      "metadata": {
        "id": "JP7FZoTvmFIa",
        "outputId": "ced2ab07-ec85-4009-cc56-77bc84d8e38f",
        "colab": {
          "base_uri": "https://localhost:8080/"
        }
      },
      "outputs": [
        {
          "output_type": "stream",
          "name": "stdout",
          "text": [
            "Looking in indexes: https://pypi.org/simple, https://us-python.pkg.dev/colab-wheels/public/simple/\n",
            "Requirement already satisfied: seqlogo in /usr/local/lib/python3.8/dist-packages (5.29.8)\n",
            "Requirement already satisfied: pandas in /usr/local/lib/python3.8/dist-packages (from seqlogo) (1.3.5)\n",
            "Requirement already satisfied: numpy in /usr/local/lib/python3.8/dist-packages (from seqlogo) (1.21.6)\n",
            "Requirement already satisfied: weblogo in /usr/local/lib/python3.8/dist-packages (from seqlogo) (3.7.12)\n",
            "Requirement already satisfied: ghostscript in /usr/local/lib/python3.8/dist-packages (from seqlogo) (0.7)\n",
            "Requirement already satisfied: pytest in /usr/local/lib/python3.8/dist-packages (from seqlogo) (3.6.4)\n",
            "Requirement already satisfied: setuptools>=38.6.0 in /usr/local/lib/python3.8/dist-packages (from ghostscript->seqlogo) (57.4.0)\n",
            "Requirement already satisfied: python-dateutil>=2.7.3 in /usr/local/lib/python3.8/dist-packages (from pandas->seqlogo) (2.8.2)\n",
            "Requirement already satisfied: pytz>=2017.3 in /usr/local/lib/python3.8/dist-packages (from pandas->seqlogo) (2022.7)\n",
            "Requirement already satisfied: attrs>=17.4.0 in /usr/local/lib/python3.8/dist-packages (from pytest->seqlogo) (22.2.0)\n",
            "Requirement already satisfied: py>=1.5.0 in /usr/local/lib/python3.8/dist-packages (from pytest->seqlogo) (1.11.0)\n",
            "Requirement already satisfied: more-itertools>=4.0.0 in /usr/local/lib/python3.8/dist-packages (from pytest->seqlogo) (9.0.0)\n",
            "Requirement already satisfied: pluggy<0.8,>=0.5 in /usr/local/lib/python3.8/dist-packages (from pytest->seqlogo) (0.7.1)\n",
            "Requirement already satisfied: six>=1.10.0 in /usr/local/lib/python3.8/dist-packages (from pytest->seqlogo) (1.15.0)\n",
            "Requirement already satisfied: atomicwrites>=1.0 in /usr/local/lib/python3.8/dist-packages (from pytest->seqlogo) (1.4.1)\n",
            "Requirement already satisfied: scipy in /usr/local/lib/python3.8/dist-packages (from weblogo->seqlogo) (1.7.3)\n"
          ]
        }
      ],
      "source": [
        "!pip install seqlogo"
      ]
    },
    {
      "cell_type": "code",
      "source": [
        "!apt install ghostscript"
      ],
      "metadata": {
        "id": "vitalOXLm7mA",
        "outputId": "d8417462-789a-4885-b9ee-3f37e6ea1832",
        "colab": {
          "base_uri": "https://localhost:8080/"
        }
      },
      "execution_count": 2,
      "outputs": [
        {
          "output_type": "stream",
          "name": "stdout",
          "text": [
            "Reading package lists... Done\n",
            "Building dependency tree       \n",
            "Reading state information... Done\n",
            "ghostscript is already the newest version (9.26~dfsg+0-0ubuntu0.18.04.17).\n",
            "The following package was automatically installed and is no longer required:\n",
            "  libnvidia-common-460\n",
            "Use 'apt autoremove' to remove it.\n",
            "0 upgraded, 0 newly installed, 0 to remove and 21 not upgraded.\n"
          ]
        }
      ]
    },
    {
      "cell_type": "code",
      "source": [
        "!apt-get install -y pdf2svg"
      ],
      "metadata": {
        "id": "uDIqHaqxnAAZ",
        "outputId": "548e169a-7fd0-4786-d201-6e5637d3e76a",
        "colab": {
          "base_uri": "https://localhost:8080/"
        }
      },
      "execution_count": 3,
      "outputs": [
        {
          "output_type": "stream",
          "name": "stdout",
          "text": [
            "Reading package lists... Done\n",
            "Building dependency tree       \n",
            "Reading state information... Done\n",
            "pdf2svg is already the newest version (0.2.3-1).\n",
            "The following package was automatically installed and is no longer required:\n",
            "  libnvidia-common-460\n",
            "Use 'apt autoremove' to remove it.\n",
            "0 upgraded, 0 newly installed, 0 to remove and 21 not upgraded.\n"
          ]
        }
      ]
    },
    {
      "cell_type": "code",
      "source": [
        "from berteome import berteome\n",
        "import seqlogo"
      ],
      "metadata": {
        "id": "MHAiJr0qnR6t"
      },
      "execution_count": 1,
      "outputs": []
    },
    {
      "cell_type": "code",
      "source": [
        "berteome_models = berteome.modelLoader()\n",
        "bert_tokenizer, bert_model = berteome_models.load_model(\"Rostlab/prot_bert\")\n",
        "mendel_berteome = berteome.modelPredDF(\"MENDEL\",bert_tokenizer, bert_model)"
      ],
      "metadata": {
        "id": "FhOwK5CfnTbg",
        "outputId": "467777e4-8a7a-4fb5-c0bf-537cc312e283",
        "colab": {
          "base_uri": "https://localhost:8080/"
        }
      },
      "execution_count": 2,
      "outputs": [
        {
          "output_type": "stream",
          "name": "stderr",
          "text": [
            "Some weights of the model checkpoint at Rostlab/prot_bert were not used when initializing BertForMaskedLM: ['cls.seq_relationship.bias', 'cls.seq_relationship.weight']\n",
            "- This IS expected if you are initializing BertForMaskedLM from the checkpoint of a model trained on another task or with another architecture (e.g. initializing a BertForSequenceClassification model from a BertForPreTraining model).\n",
            "- This IS NOT expected if you are initializing BertForMaskedLM from the checkpoint of a model that you expect to be exactly identical (initializing a BertForSequenceClassification model from a BertForSequenceClassification model).\n"
          ]
        }
      ]
    },
    {
      "cell_type": "code",
      "source": [
        "mendel_berteome_aas = mendel_berteome.df[list(mendel_berteome.aas)]\n",
        "mendel_berteome_seqlogoPPM = seqlogo.Ppm(mendel_berteome_aas,alphabet_type = \"AA\")\n",
        "mendel_berteome_seqlogoPPM "
      ],
      "metadata": {
        "id": "vEgnmU7Enp3t",
        "outputId": "51f133f0-67ba-49c2-9dda-a97ff7501637",
        "colab": {
          "base_uri": "https://localhost:8080/",
          "height": 302
        }
      },
      "execution_count": 3,
      "outputs": [
        {
          "output_type": "display_data",
          "data": {
            "text/plain": [
              "          A         C         D         E         F         G         H  \\\n",
              "0  0.036697  0.011504  0.048245  0.118906  0.024072  0.039202  0.012621   \n",
              "1  0.045721  0.015662  0.041921  0.074830  0.037153  0.044325  0.018264   \n",
              "2  0.043564  0.009685  0.162590  0.184364  0.033782  0.044661  0.012355   \n",
              "3  0.042083  0.013244  0.049748  0.086194  0.039736  0.055911  0.016861   \n",
              "4  0.046641  0.018770  0.079822  0.086915  0.050638  0.050466  0.022397   \n",
              "5  0.038191  0.009217  0.065189  0.152547  0.020950  0.049525  0.013955   \n",
              "\n",
              "          I         K         L         M         N         P         Q  \\\n",
              "0  0.066498  0.107769  0.072495  0.076602  0.072661  0.024722  0.038672   \n",
              "1  0.073077  0.104815  0.106501  0.043581  0.062667  0.025277  0.036911   \n",
              "2  0.052630  0.035023  0.097427  0.041484  0.041990  0.019992  0.025515   \n",
              "3  0.073296  0.091365  0.109088  0.040080  0.060822  0.032024  0.039689   \n",
              "4  0.074501  0.064585  0.090807  0.028962  0.062234  0.023879  0.030534   \n",
              "5  0.064596  0.109141  0.060736  0.040042  0.096484  0.020712  0.035022   \n",
              "\n",
              "          R         S         T         V         W         Y  \n",
              "0  0.043105  0.070280  0.056544  0.049927  0.007781  0.021699  \n",
              "1  0.055543  0.064425  0.049955  0.056789  0.012691  0.029893  \n",
              "2  0.029433  0.048106  0.030303  0.054742  0.007430  0.024924  \n",
              "3  0.046228  0.062323  0.044901  0.058937  0.010875  0.026596  \n",
              "4  0.040489  0.065195  0.044938  0.068038  0.012156  0.038034  \n",
              "5  0.046888  0.049071  0.046247  0.048276  0.010486  0.022727  "
            ],
            "text/html": [
              "\n",
              "  <div id=\"df-4824b06a-fc48-471b-b429-59093f9e0f1f\">\n",
              "    <div class=\"colab-df-container\">\n",
              "      <div>\n",
              "<style scoped>\n",
              "    .dataframe tbody tr th:only-of-type {\n",
              "        vertical-align: middle;\n",
              "    }\n",
              "\n",
              "    .dataframe tbody tr th {\n",
              "        vertical-align: top;\n",
              "    }\n",
              "\n",
              "    .dataframe thead th {\n",
              "        text-align: right;\n",
              "    }\n",
              "</style>\n",
              "<table border=\"1\" class=\"dataframe\">\n",
              "  <thead>\n",
              "    <tr style=\"text-align: right;\">\n",
              "      <th></th>\n",
              "      <th>A</th>\n",
              "      <th>C</th>\n",
              "      <th>D</th>\n",
              "      <th>E</th>\n",
              "      <th>F</th>\n",
              "      <th>G</th>\n",
              "      <th>H</th>\n",
              "      <th>I</th>\n",
              "      <th>K</th>\n",
              "      <th>L</th>\n",
              "      <th>M</th>\n",
              "      <th>N</th>\n",
              "      <th>P</th>\n",
              "      <th>Q</th>\n",
              "      <th>R</th>\n",
              "      <th>S</th>\n",
              "      <th>T</th>\n",
              "      <th>V</th>\n",
              "      <th>W</th>\n",
              "      <th>Y</th>\n",
              "    </tr>\n",
              "  </thead>\n",
              "  <tbody>\n",
              "    <tr>\n",
              "      <th>0</th>\n",
              "      <td>0.036697</td>\n",
              "      <td>0.011504</td>\n",
              "      <td>0.048245</td>\n",
              "      <td>0.118906</td>\n",
              "      <td>0.024072</td>\n",
              "      <td>0.039202</td>\n",
              "      <td>0.012621</td>\n",
              "      <td>0.066498</td>\n",
              "      <td>0.107769</td>\n",
              "      <td>0.072495</td>\n",
              "      <td>0.076602</td>\n",
              "      <td>0.072661</td>\n",
              "      <td>0.024722</td>\n",
              "      <td>0.038672</td>\n",
              "      <td>0.043105</td>\n",
              "      <td>0.070280</td>\n",
              "      <td>0.056544</td>\n",
              "      <td>0.049927</td>\n",
              "      <td>0.007781</td>\n",
              "      <td>0.021699</td>\n",
              "    </tr>\n",
              "    <tr>\n",
              "      <th>1</th>\n",
              "      <td>0.045721</td>\n",
              "      <td>0.015662</td>\n",
              "      <td>0.041921</td>\n",
              "      <td>0.074830</td>\n",
              "      <td>0.037153</td>\n",
              "      <td>0.044325</td>\n",
              "      <td>0.018264</td>\n",
              "      <td>0.073077</td>\n",
              "      <td>0.104815</td>\n",
              "      <td>0.106501</td>\n",
              "      <td>0.043581</td>\n",
              "      <td>0.062667</td>\n",
              "      <td>0.025277</td>\n",
              "      <td>0.036911</td>\n",
              "      <td>0.055543</td>\n",
              "      <td>0.064425</td>\n",
              "      <td>0.049955</td>\n",
              "      <td>0.056789</td>\n",
              "      <td>0.012691</td>\n",
              "      <td>0.029893</td>\n",
              "    </tr>\n",
              "    <tr>\n",
              "      <th>2</th>\n",
              "      <td>0.043564</td>\n",
              "      <td>0.009685</td>\n",
              "      <td>0.162590</td>\n",
              "      <td>0.184364</td>\n",
              "      <td>0.033782</td>\n",
              "      <td>0.044661</td>\n",
              "      <td>0.012355</td>\n",
              "      <td>0.052630</td>\n",
              "      <td>0.035023</td>\n",
              "      <td>0.097427</td>\n",
              "      <td>0.041484</td>\n",
              "      <td>0.041990</td>\n",
              "      <td>0.019992</td>\n",
              "      <td>0.025515</td>\n",
              "      <td>0.029433</td>\n",
              "      <td>0.048106</td>\n",
              "      <td>0.030303</td>\n",
              "      <td>0.054742</td>\n",
              "      <td>0.007430</td>\n",
              "      <td>0.024924</td>\n",
              "    </tr>\n",
              "    <tr>\n",
              "      <th>3</th>\n",
              "      <td>0.042083</td>\n",
              "      <td>0.013244</td>\n",
              "      <td>0.049748</td>\n",
              "      <td>0.086194</td>\n",
              "      <td>0.039736</td>\n",
              "      <td>0.055911</td>\n",
              "      <td>0.016861</td>\n",
              "      <td>0.073296</td>\n",
              "      <td>0.091365</td>\n",
              "      <td>0.109088</td>\n",
              "      <td>0.040080</td>\n",
              "      <td>0.060822</td>\n",
              "      <td>0.032024</td>\n",
              "      <td>0.039689</td>\n",
              "      <td>0.046228</td>\n",
              "      <td>0.062323</td>\n",
              "      <td>0.044901</td>\n",
              "      <td>0.058937</td>\n",
              "      <td>0.010875</td>\n",
              "      <td>0.026596</td>\n",
              "    </tr>\n",
              "    <tr>\n",
              "      <th>4</th>\n",
              "      <td>0.046641</td>\n",
              "      <td>0.018770</td>\n",
              "      <td>0.079822</td>\n",
              "      <td>0.086915</td>\n",
              "      <td>0.050638</td>\n",
              "      <td>0.050466</td>\n",
              "      <td>0.022397</td>\n",
              "      <td>0.074501</td>\n",
              "      <td>0.064585</td>\n",
              "      <td>0.090807</td>\n",
              "      <td>0.028962</td>\n",
              "      <td>0.062234</td>\n",
              "      <td>0.023879</td>\n",
              "      <td>0.030534</td>\n",
              "      <td>0.040489</td>\n",
              "      <td>0.065195</td>\n",
              "      <td>0.044938</td>\n",
              "      <td>0.068038</td>\n",
              "      <td>0.012156</td>\n",
              "      <td>0.038034</td>\n",
              "    </tr>\n",
              "    <tr>\n",
              "      <th>5</th>\n",
              "      <td>0.038191</td>\n",
              "      <td>0.009217</td>\n",
              "      <td>0.065189</td>\n",
              "      <td>0.152547</td>\n",
              "      <td>0.020950</td>\n",
              "      <td>0.049525</td>\n",
              "      <td>0.013955</td>\n",
              "      <td>0.064596</td>\n",
              "      <td>0.109141</td>\n",
              "      <td>0.060736</td>\n",
              "      <td>0.040042</td>\n",
              "      <td>0.096484</td>\n",
              "      <td>0.020712</td>\n",
              "      <td>0.035022</td>\n",
              "      <td>0.046888</td>\n",
              "      <td>0.049071</td>\n",
              "      <td>0.046247</td>\n",
              "      <td>0.048276</td>\n",
              "      <td>0.010486</td>\n",
              "      <td>0.022727</td>\n",
              "    </tr>\n",
              "  </tbody>\n",
              "</table>\n",
              "</div>\n",
              "      <button class=\"colab-df-convert\" onclick=\"convertToInteractive('df-4824b06a-fc48-471b-b429-59093f9e0f1f')\"\n",
              "              title=\"Convert this dataframe to an interactive table.\"\n",
              "              style=\"display:none;\">\n",
              "        \n",
              "  <svg xmlns=\"http://www.w3.org/2000/svg\" height=\"24px\"viewBox=\"0 0 24 24\"\n",
              "       width=\"24px\">\n",
              "    <path d=\"M0 0h24v24H0V0z\" fill=\"none\"/>\n",
              "    <path d=\"M18.56 5.44l.94 2.06.94-2.06 2.06-.94-2.06-.94-.94-2.06-.94 2.06-2.06.94zm-11 1L8.5 8.5l.94-2.06 2.06-.94-2.06-.94L8.5 2.5l-.94 2.06-2.06.94zm10 10l.94 2.06.94-2.06 2.06-.94-2.06-.94-.94-2.06-.94 2.06-2.06.94z\"/><path d=\"M17.41 7.96l-1.37-1.37c-.4-.4-.92-.59-1.43-.59-.52 0-1.04.2-1.43.59L10.3 9.45l-7.72 7.72c-.78.78-.78 2.05 0 2.83L4 21.41c.39.39.9.59 1.41.59.51 0 1.02-.2 1.41-.59l7.78-7.78 2.81-2.81c.8-.78.8-2.07 0-2.86zM5.41 20L4 18.59l7.72-7.72 1.47 1.35L5.41 20z\"/>\n",
              "  </svg>\n",
              "      </button>\n",
              "      \n",
              "  <style>\n",
              "    .colab-df-container {\n",
              "      display:flex;\n",
              "      flex-wrap:wrap;\n",
              "      gap: 12px;\n",
              "    }\n",
              "\n",
              "    .colab-df-convert {\n",
              "      background-color: #E8F0FE;\n",
              "      border: none;\n",
              "      border-radius: 50%;\n",
              "      cursor: pointer;\n",
              "      display: none;\n",
              "      fill: #1967D2;\n",
              "      height: 32px;\n",
              "      padding: 0 0 0 0;\n",
              "      width: 32px;\n",
              "    }\n",
              "\n",
              "    .colab-df-convert:hover {\n",
              "      background-color: #E2EBFA;\n",
              "      box-shadow: 0px 1px 2px rgba(60, 64, 67, 0.3), 0px 1px 3px 1px rgba(60, 64, 67, 0.15);\n",
              "      fill: #174EA6;\n",
              "    }\n",
              "\n",
              "    [theme=dark] .colab-df-convert {\n",
              "      background-color: #3B4455;\n",
              "      fill: #D2E3FC;\n",
              "    }\n",
              "\n",
              "    [theme=dark] .colab-df-convert:hover {\n",
              "      background-color: #434B5C;\n",
              "      box-shadow: 0px 1px 3px 1px rgba(0, 0, 0, 0.15);\n",
              "      filter: drop-shadow(0px 1px 2px rgba(0, 0, 0, 0.3));\n",
              "      fill: #FFFFFF;\n",
              "    }\n",
              "  </style>\n",
              "\n",
              "      <script>\n",
              "        const buttonEl =\n",
              "          document.querySelector('#df-4824b06a-fc48-471b-b429-59093f9e0f1f button.colab-df-convert');\n",
              "        buttonEl.style.display =\n",
              "          google.colab.kernel.accessAllowed ? 'block' : 'none';\n",
              "\n",
              "        async function convertToInteractive(key) {\n",
              "          const element = document.querySelector('#df-4824b06a-fc48-471b-b429-59093f9e0f1f');\n",
              "          const dataTable =\n",
              "            await google.colab.kernel.invokeFunction('convertToInteractive',\n",
              "                                                     [key], {});\n",
              "          if (!dataTable) return;\n",
              "\n",
              "          const docLinkHtml = 'Like what you see? Visit the ' +\n",
              "            '<a target=\"_blank\" href=https://colab.research.google.com/notebooks/data_table.ipynb>data table notebook</a>'\n",
              "            + ' to learn more about interactive tables.';\n",
              "          element.innerHTML = '';\n",
              "          dataTable['output_type'] = 'display_data';\n",
              "          await google.colab.output.renderOutput(dataTable, element);\n",
              "          const docLink = document.createElement('div');\n",
              "          docLink.innerHTML = docLinkHtml;\n",
              "          element.appendChild(docLink);\n",
              "        }\n",
              "      </script>\n",
              "    </div>\n",
              "  </div>\n",
              "  "
            ]
          },
          "metadata": {}
        },
        {
          "output_type": "execute_result",
          "data": {
            "text/plain": []
          },
          "metadata": {},
          "execution_count": 3
        }
      ]
    },
    {
      "cell_type": "code",
      "source": [
        "seqlogo.seqlogo(mendel_berteome_seqlogoPPM ,ic_scale = False, format = 'svg', size = 'xlarge')"
      ],
      "metadata": {
        "id": "Msy2oJYTnr1o",
        "outputId": "6c8d1030-a78c-4afc-9366-a6e84e8aad12",
        "colab": {
          "base_uri": "https://localhost:8080/",
          "height": 868
        }
      },
      "execution_count": 4,
      "outputs": [
        {
          "output_type": "execute_result",
          "data": {
            "text/plain": [
              "<IPython.core.display.SVG object>"
            ],
            "image/svg+xml": "<svg xmlns=\"http://www.w3.org/2000/svg\" xmlns:xlink=\"http://www.w3.org/1999/xlink\" width=\"776pt\" height=\"635pt\" viewBox=\"0 0 776 635\" version=\"1.1\">\n<defs>\n<g>\n<symbol overflow=\"visible\" id=\"glyph0-0 -4619766943910248322\">\n<path style=\"stroke:none;\" d=\"\"/>\n</symbol>\n<symbol overflow=\"visible\" id=\"glyph0-1 -4619766943910248322\">\n<path style=\"stroke:none;\" d=\"M 2.203125 -5.78125 C 1.671875 -5.78125 1.1875 -5.546875 0.890625 -5.15625 C 0.53125 -4.640625 0.34375 -3.875 0.34375 -2.796875 C 0.34375 -0.84375 0.984375 0.1875 2.203125 0.1875 C 3.40625 0.1875 4.0625 -0.84375 4.0625 -2.75 C 4.0625 -3.875 3.875 -4.625 3.5 -5.15625 C 3.203125 -5.546875 2.734375 -5.78125 2.203125 -5.78125 Z M 2.203125 -5.15625 C 2.953125 -5.15625 3.34375 -4.390625 3.34375 -2.8125 C 3.34375 -1.171875 2.96875 -0.40625 2.1875 -0.40625 C 1.4375 -0.40625 1.0625 -1.203125 1.0625 -2.796875 C 1.0625 -4.390625 1.4375 -5.15625 2.203125 -5.15625 Z M 2.203125 -5.15625 \"/>\n</symbol>\n<symbol overflow=\"visible\" id=\"glyph0-2 -4619766943910248322\">\n<path style=\"stroke:none;\" d=\"M 1.53125 -0.828125 L 0.703125 -0.828125 L 0.703125 0 L 1.53125 0 Z M 1.53125 -0.828125 \"/>\n</symbol>\n<symbol overflow=\"visible\" id=\"glyph0-3 -4619766943910248322\">\n<path style=\"stroke:none;\" d=\"M 3.8125 -5.671875 L 0.875 -5.671875 L 0.453125 -2.578125 L 1.109375 -2.578125 C 1.4375 -2.96875 1.703125 -3.109375 2.15625 -3.109375 C 2.90625 -3.109375 3.390625 -2.59375 3.390625 -1.75 C 3.390625 -0.9375 2.90625 -0.4375 2.140625 -0.4375 C 1.53125 -0.4375 1.15625 -0.75 0.984375 -1.390625 L 0.28125 -1.390625 C 0.375 -0.921875 0.453125 -0.703125 0.625 -0.5 C 0.9375 -0.0625 1.515625 0.1875 2.15625 0.1875 C 3.296875 0.1875 4.109375 -0.640625 4.109375 -1.84375 C 4.109375 -2.96875 3.359375 -3.734375 2.265625 -3.734375 C 1.875 -3.734375 1.546875 -3.625 1.21875 -3.390625 L 1.453125 -4.96875 L 3.8125 -4.96875 Z M 3.8125 -5.671875 \"/>\n</symbol>\n<symbol overflow=\"visible\" id=\"glyph0-4 -4619766943910248322\">\n<path style=\"stroke:none;\" d=\"M 2.078125 -4.125 L 2.078125 0 L 2.78125 0 L 2.78125 -5.78125 L 2.3125 -5.78125 C 2.0625 -4.890625 1.90625 -4.78125 0.8125 -4.625 L 0.8125 -4.125 Z M 2.078125 -4.125 \"/>\n</symbol>\n<symbol overflow=\"visible\" id=\"glyph1-0 -4619766943910248322\">\n<path style=\"stroke:none;\" d=\"\"/>\n</symbol>\n<symbol overflow=\"visible\" id=\"glyph1-1 -4619766943910248322\">\n<path style=\"stroke:none;\" d=\"M 2.1875 -0.546875 L 2.1875 -1.375 L -0.546875 -1.375 C -0.015625 -1.8125 0.234375 -2.3125 0.234375 -2.984375 C 0.234375 -4.34375 -0.859375 -5.234375 -2.53125 -5.234375 C -4.296875 -5.234375 -5.390625 -4.375 -5.390625 -2.984375 C -5.390625 -2.265625 -5.0625 -1.703125 -4.453125 -1.3125 L -5.234375 -1.3125 L -5.234375 -0.546875 Z M -4.609375 -2.84375 C -4.609375 -3.765625 -3.796875 -4.359375 -2.546875 -4.359375 C -1.359375 -4.359375 -0.546875 -3.75 -0.546875 -2.84375 C -0.546875 -1.953125 -1.34375 -1.375 -2.578125 -1.375 C -3.8125 -1.375 -4.609375 -1.953125 -4.609375 -2.84375 Z M -4.609375 -2.84375 \"/>\n</symbol>\n<symbol overflow=\"visible\" id=\"glyph1-2 -4619766943910248322\">\n<path style=\"stroke:none;\" d=\"M -5.234375 -0.6875 L 0 -0.6875 L 0 -1.53125 L -2.71875 -1.53125 C -3.984375 -1.546875 -4.546875 -2.0625 -4.515625 -3.203125 L -5.359375 -3.203125 C -5.375 -3.0625 -5.390625 -2.984375 -5.390625 -2.890625 C -5.390625 -2.34375 -5.0625 -1.9375 -4.296875 -1.453125 L -5.234375 -1.453125 Z M -5.234375 -0.6875 \"/>\n</symbol>\n<symbol overflow=\"visible\" id=\"glyph1-3 -4619766943910248322\">\n<path style=\"stroke:none;\" d=\"M -5.390625 -2.71875 C -5.390625 -1.234375 -4.34375 -0.359375 -2.578125 -0.359375 C -0.8125 -0.359375 0.234375 -1.234375 0.234375 -2.734375 C 0.234375 -4.203125 -0.8125 -5.09375 -2.546875 -5.09375 C -4.359375 -5.09375 -5.390625 -4.234375 -5.390625 -2.71875 Z M -4.625 -2.734375 C -4.625 -3.671875 -3.84375 -4.234375 -2.546875 -4.234375 C -1.3125 -4.234375 -0.546875 -3.65625 -0.546875 -2.734375 C -0.546875 -1.796875 -1.3125 -1.234375 -2.578125 -1.234375 C -3.84375 -1.234375 -4.625 -1.796875 -4.625 -2.734375 Z M -4.625 -2.734375 \"/>\n</symbol>\n<symbol overflow=\"visible\" id=\"glyph1-4 -4619766943910248322\">\n<path style=\"stroke:none;\" d=\"M -7.296875 -0.546875 L 0 -0.546875 L 0 -1.296875 L -0.671875 -1.296875 C -0.0625 -1.6875 0.234375 -2.21875 0.234375 -2.953125 C 0.234375 -4.328125 -0.90625 -5.234375 -2.640625 -5.234375 C -4.34375 -5.234375 -5.390625 -4.375 -5.390625 -2.984375 C -5.390625 -2.265625 -5.125 -1.765625 -4.53125 -1.375 L -7.296875 -1.375 Z M -4.609375 -2.828125 C -4.609375 -3.765625 -3.796875 -4.359375 -2.546875 -4.359375 C -1.359375 -4.359375 -0.546875 -3.734375 -0.546875 -2.828125 C -0.546875 -1.9375 -1.34375 -1.375 -2.578125 -1.375 C -3.8125 -1.375 -4.609375 -1.9375 -4.609375 -2.828125 Z M -4.609375 -2.828125 \"/>\n</symbol>\n<symbol overflow=\"visible\" id=\"glyph1-5 -4619766943910248322\">\n<path style=\"stroke:none;\" d=\"M -0.484375 -5.34375 C -0.46875 -5.265625 -0.46875 -5.21875 -0.46875 -5.171875 C -0.46875 -4.875 -0.625 -4.71875 -0.875 -4.71875 L -3.953125 -4.71875 C -4.890625 -4.71875 -5.390625 -4.046875 -5.390625 -2.75 C -5.390625 -1.984375 -5.171875 -1.375 -4.78125 -1.015625 C -4.515625 -0.765625 -4.203125 -0.671875 -3.6875 -0.65625 L -3.6875 -1.484375 C -4.328125 -1.5625 -4.625 -1.9375 -4.625 -2.71875 C -4.625 -3.484375 -4.34375 -3.890625 -3.84375 -3.890625 L -3.625 -3.890625 C -3.265625 -3.875 -3.125 -3.703125 -3.046875 -3.015625 C -2.890625 -1.84375 -2.84375 -1.65625 -2.71875 -1.34375 C -2.453125 -0.734375 -2 -0.421875 -1.3125 -0.421875 C -0.375 -0.421875 0.234375 -1.078125 0.234375 -2.140625 C 0.234375 -2.796875 0 -3.328125 -0.546875 -3.921875 C 0 -3.984375 0.234375 -4.234375 0.234375 -4.78125 C 0.234375 -4.953125 0.203125 -5.0625 0.140625 -5.34375 Z M -1.65625 -3.890625 C -1.375 -3.890625 -1.203125 -3.8125 -0.96875 -3.5625 C -0.65625 -3.21875 -0.5 -2.8125 -0.5 -2.3125 C -0.5 -1.671875 -0.8125 -1.296875 -1.34375 -1.296875 C -1.890625 -1.296875 -2.171875 -1.65625 -2.296875 -2.546875 C -2.421875 -3.4375 -2.453125 -3.609375 -2.59375 -3.890625 Z M -1.65625 -3.890625 \"/>\n</symbol>\n<symbol overflow=\"visible\" id=\"glyph1-6 -4619766943910248322\">\n<path style=\"stroke:none;\" d=\"M -5.234375 -1.5 L -5.234375 -0.671875 L 0 -0.671875 L 0 -1.5 Z M -7.296875 -1.5 L -7.296875 -0.65625 L -6.234375 -0.65625 L -6.234375 -1.5 Z M -7.296875 -1.5 \"/>\n</symbol>\n<symbol overflow=\"visible\" id=\"glyph1-7 -4619766943910248322\">\n<path style=\"stroke:none;\" d=\"M -7.296875 -1.515625 L -7.296875 -0.6875 L 0 -0.6875 L 0 -1.515625 Z M -7.296875 -1.515625 \"/>\n</symbol>\n<symbol overflow=\"visible\" id=\"glyph1-8 -4619766943910248322\">\n<path style=\"stroke:none;\" d=\"M -5.234375 -2.546875 L -5.234375 -1.6875 L -6.6875 -1.6875 L -6.6875 -0.84375 L -5.234375 -0.84375 L -5.234375 -0.140625 L -4.5625 -0.140625 L -4.5625 -0.84375 L -0.59375 -0.84375 C -0.0625 -0.84375 0.234375 -1.203125 0.234375 -1.859375 C 0.234375 -2.078125 0.203125 -2.265625 0.15625 -2.546875 L -0.546875 -2.546875 C -0.515625 -2.421875 -0.5 -2.3125 -0.5 -2.140625 C -0.5 -1.78125 -0.59375 -1.6875 -0.96875 -1.6875 L -4.5625 -1.6875 L -4.5625 -2.546875 Z M -5.234375 -2.546875 \"/>\n</symbol>\n<symbol overflow=\"visible\" id=\"glyph1-9 -4619766943910248322\">\n<path style=\"stroke:none;\" d=\"M -5.234375 -3.875 L -1.15625 -2.4375 L -5.234375 -1.09375 L -5.234375 -0.203125 L 0.015625 -1.96875 L 0.84375 -1.65625 C 1.21875 -1.515625 1.359375 -1.328125 1.359375 -0.984375 C 1.359375 -0.84375 1.34375 -0.71875 1.296875 -0.546875 L 2.046875 -0.546875 C 2.140625 -0.703125 2.1875 -0.875 2.1875 -1.09375 C 2.1875 -1.375 2.09375 -1.65625 1.9375 -1.875 C 1.734375 -2.140625 1.515625 -2.296875 1.09375 -2.453125 L -5.234375 -4.78125 Z M -5.234375 -3.875 \"/>\n</symbol>\n<symbol overflow=\"visible\" id=\"glyph2-0 -4619766943910248322\">\n<path style=\"stroke:none;\" d=\"\"/>\n</symbol>\n<symbol overflow=\"visible\" id=\"glyph2-1 -4619766943910248322\">\n<path style=\"stroke:none;\" d=\"M 104.984375 -2.890625 L 104.984375 0 L 136.046875 0 L 136.046875 -6.359375 L 104.78125 -6.359375 L 104.78125 -3.96875 L 45.140625 -3.96875 L 45.140625 -6.359375 L 14.078125 -6.359375 L 14.078125 0 L 45.140625 0 L 45.140625 -2.890625 Z M 104.984375 -2.890625 \"/>\n</symbol>\n<symbol overflow=\"visible\" id=\"glyph3-0 -4619766943910248322\">\n<path style=\"stroke:none;\" d=\"\"/>\n</symbol>\n<symbol overflow=\"visible\" id=\"glyph3-1 -4619766943910248322\">\n<path style=\"stroke:none;\" d=\"M 129.765625 -4.03125 C 128.8125 -4.5625 126.34375 -4.90625 120.4375 -5.25 C 109.78125 -5.859375 92.65625 -6.203125 71.921875 -6.203125 C 32.71875 -6.203125 8.375 -4.96875 8.375 -3 C 8.375 -1.03125 32.53125 0.1875 71.15625 0.1875 C 105.78125 0.1875 128.625 -0.6875 130.328125 -2.078125 L 102.546875 -2.078125 C 100.65625 -1.3125 89.609375 -0.859375 71.921875 -0.859375 C 49.84375 -0.859375 36.90625 -1.65625 36.90625 -2.984375 C 36.90625 -4.328125 50.421875 -5.140625 72.875 -5.140625 C 89.421875 -5.140625 98.75 -4.78125 102.546875 -4.03125 Z M 129.765625 -4.03125 \"/>\n</symbol>\n<symbol overflow=\"visible\" id=\"glyph4-0 -4619766943910248322\">\n<path style=\"stroke:none;\" d=\"\"/>\n</symbol>\n<symbol overflow=\"visible\" id=\"glyph4-1 -4619766943910248322\">\n<path style=\"stroke:none;\" d=\"M 82.03125 -4.921875 L 127.25 -13.28125 L 94.359375 -13.28125 L 67.15625 -7.421875 L 37.984375 -13.28125 L 5.28125 -13.28125 L 52.671875 -4.921875 L 52.671875 0 L 82.03125 0 Z M 82.03125 -4.921875 \"/>\n</symbol>\n<symbol overflow=\"visible\" id=\"glyph5-0 -4619766943910248322\">\n<path style=\"stroke:none;\" d=\"\"/>\n</symbol>\n<symbol overflow=\"visible\" id=\"glyph5-1 -4619766943910248322\">\n<path style=\"stroke:none;\" d=\"M 49.484375 -4.734375 L 90.4375 -4.734375 C 119.78125 -4.734375 138.609375 -6.46875 138.609375 -9.15625 C 138.609375 -11.828125 120.4375 -13.28125 87.15625 -13.28125 L 16.640625 -13.28125 L 16.640625 0 L 49.484375 0 Z M 49.484375 -7.015625 L 49.484375 -11 L 80.140625 -11 C 97.65625 -11 105.765625 -10.359375 105.765625 -9.015625 C 105.765625 -7.65625 97.65625 -7.015625 80.140625 -7.015625 Z M 49.484375 -7.015625 \"/>\n</symbol>\n<symbol overflow=\"visible\" id=\"glyph6-0 -4619766943910248322\">\n<path style=\"stroke:none;\" d=\"\"/>\n</symbol>\n<symbol overflow=\"visible\" id=\"glyph6-1 -4619766943910248322\">\n<path style=\"stroke:none;\" d=\"M 53.359375 -5.71875 L 129.359375 -5.71875 L 129.359375 -8 L 53.359375 -8 L 53.359375 -11 L 139.59375 -11 L 139.59375 -13.28125 L 17.625 -13.28125 L 17.625 0 L 53.359375 0 Z M 53.359375 -5.71875 \"/>\n</symbol>\n<symbol overflow=\"visible\" id=\"glyph7-0 -4619766943910248322\">\n<path style=\"stroke:none;\" d=\"\"/>\n</symbol>\n<symbol overflow=\"visible\" id=\"glyph7-1 -4619766943910248322\">\n<path style=\"stroke:none;\" d=\"M 115.609375 -2.609375 C 124.140625 -4.140625 129.53125 -6.671875 129.53125 -9.15625 C 129.53125 -11.875 122.921875 -14.484375 111.796875 -16.234375 C 100.84375 -17.96875 86.578125 -18.796875 68.5 -18.796875 C 50.421875 -18.796875 36.15625 -17.96875 25.203125 -16.234375 C 13.90625 -14.484375 7.46875 -11.875 7.46875 -9.109375 C 7.46875 -6.34375 14.078125 -3.734375 25.203125 -1.984375 C 36.15625 -0.25 50.421875 0.578125 68.5 0.578125 C 81.71875 0.578125 91.28125 0.203125 101.359375 -0.6875 L 116.3125 1.375 L 129.53125 -0.6875 Z M 83.453125 -7.046875 L 70.234375 -5 L 83.625 -3.140625 C 79.453125 -2.84375 73.890625 -2.671875 68.328125 -2.671875 C 47.46875 -2.671875 33.5625 -5.234375 33.5625 -9.109375 C 33.5625 -13.015625 47.296875 -15.5625 68.5 -15.5625 C 89.71875 -15.5625 103.453125 -13.015625 103.453125 -9.078125 C 103.453125 -7.5625 101.53125 -6.1875 97.703125 -5.078125 Z M 83.453125 -7.046875 \"/>\n</symbol>\n<symbol overflow=\"visible\" id=\"glyph8-0 -4619766943910248322\">\n<path style=\"stroke:none;\" d=\"\"/>\n</symbol>\n<symbol overflow=\"visible\" id=\"glyph8-1 -4619766943910248322\">\n<path style=\"stroke:none;\" d=\"M 129.609375 -10.40625 L 76.375 -10.40625 L 76.375 -7.078125 L 106.640625 -7.078125 C 105.921875 -6 104.09375 -5.328125 100.078125 -4.640625 C 93.515625 -3.46875 83.3125 -2.78125 72.921875 -2.78125 C 50.671875 -2.78125 35 -5.59375 35 -9.578125 C 35 -13.75 48.859375 -16.265625 72.1875 -16.265625 C 81.671875 -16.265625 89.6875 -15.859375 95.703125 -15.09375 C 99.53125 -14.625 101.546875 -14.171875 103.90625 -13.15625 L 129.609375 -13.15625 C 126.328125 -17.171875 104.09375 -19.65625 72 -19.65625 C 33.71875 -19.65625 7.65625 -15.546875 7.65625 -9.53125 C 7.65625 -3.65625 33.90625 0.609375 69.8125 0.609375 C 87.6875 0.609375 99.71875 -0.3125 109.921875 -2.5 L 113.203125 0.046875 L 129.609375 0.046875 Z M 129.609375 -10.40625 \"/>\n</symbol>\n<symbol overflow=\"visible\" id=\"glyph9-0 -4619766943910248322\">\n<path style=\"stroke:none;\" d=\"\"/>\n</symbol>\n<symbol overflow=\"visible\" id=\"glyph9-1 -4619766943910248322\">\n<path style=\"stroke:none;\" d=\"M 90.328125 -4.078125 L 98.96875 0 L 126.734375 0 L 81.3125 -20.203125 L 51.375 -20.203125 L 4.6875 0 L 32.265625 0 L 41.109375 -4.078125 Z M 82.921875 -7.53125 L 48.671875 -7.53125 L 65.796875 -15.4375 Z M 82.921875 -7.53125 \"/>\n</symbol>\n<symbol overflow=\"visible\" id=\"glyph10-0 -4619766943910248322\">\n<path style=\"stroke:none;\" d=\"\"/>\n</symbol>\n<symbol overflow=\"visible\" id=\"glyph10-1 -4619766943910248322\">\n<path style=\"stroke:none;\" d=\"M 77.71875 0 L 126.671875 -27.09375 L 97.109375 -27.09375 L 65.984375 -6.6875 L 34.265625 -27.09375 L 4.703125 -27.09375 L 52.859375 0 Z M 77.71875 0 \"/>\n</symbol>\n<symbol overflow=\"visible\" id=\"glyph11-0 -4619766943910248322\">\n<path style=\"stroke:none;\" d=\"\"/>\n</symbol>\n<symbol overflow=\"visible\" id=\"glyph11-1 -4619766943910248322\">\n<path style=\"stroke:none;\" d=\"M 46.984375 -10.75 L 82.125 -10.75 C 95.40625 -10.75 101.125 -9.78125 101.125 -7.546875 L 101.125 -6.4375 C 100.921875 -5.71875 100.921875 -5.0625 100.921875 -4.640625 C 100.921875 -2.078125 101.734375 -1.296875 105.40625 0 L 138.296875 0 L 138.296875 -1 C 133.59375 -1.484375 131.765625 -2.046875 131.765625 -3.234375 C 130.9375 -11.21875 130.125 -11.59375 111.125 -13.078125 C 127.875 -14.28125 136.25 -16.46875 136.25 -19.78125 C 136.25 -21.9375 132.171875 -23.90625 125.015625 -25.234375 C 118.28125 -26.5 108.875 -27.09375 96.21875 -27.09375 L 16.34375 -27.09375 L 16.34375 0 L 46.984375 0 Z M 46.984375 -15.390625 L 46.984375 -22.453125 L 83.953125 -22.453125 C 92.75 -22.453125 96.21875 -22.296875 100.09375 -21.75 C 103.78125 -21.1875 105.609375 -20.265625 105.609375 -19 C 105.609375 -17.6875 103.78125 -16.65625 100.09375 -16.09375 C 96.625 -15.578125 92.75 -15.390625 83.953125 -15.390625 Z M 46.984375 -15.390625 \"/>\n</symbol>\n<symbol overflow=\"visible\" id=\"glyph12-0 -4619766943910248322\">\n<path style=\"stroke:none;\" d=\"\"/>\n</symbol>\n<symbol overflow=\"visible\" id=\"glyph12-1 -4619766943910248322\">\n<path style=\"stroke:none;\" d=\"M 15.546875 0 L 73.125 0 C 95.53125 0 109.671875 -0.96875 119.78125 -3.15625 C 131.296875 -5.6875 137.546875 -9.328125 137.546875 -13.5625 C 137.546875 -17.765625 131.296875 -21.40625 119.78125 -23.96875 C 109.671875 -26.171875 95.734375 -27.09375 73.125 -27.09375 L 15.546875 -27.09375 Z M 45.84375 -4.640625 L 45.84375 -22.453125 L 73.125 -22.453125 C 95.9375 -22.453125 107.25 -19.515625 107.25 -13.53125 C 107.25 -7.578125 95.9375 -4.640625 73.125 -4.640625 Z M 45.84375 -4.640625 \"/>\n</symbol>\n<symbol overflow=\"visible\" id=\"glyph13-0 -4619766943910248322\">\n<path style=\"stroke:none;\" d=\"\"/>\n</symbol>\n<symbol overflow=\"visible\" id=\"glyph13-1 -4619766943910248322\">\n<path style=\"stroke:none;\" d=\"M 80.4375 -28.1875 L 124.9375 -28.1875 L 124.9375 -34.015625 L 2.921875 -34.015625 L 2.921875 -28.1875 L 49.09375 -28.1875 L 49.09375 0 L 80.4375 0 Z M 80.4375 -28.1875 \"/>\n</symbol>\n<symbol overflow=\"visible\" id=\"glyph14-0 -4619766943910248322\">\n<path style=\"stroke:none;\" d=\"\"/>\n</symbol>\n<symbol overflow=\"visible\" id=\"glyph14-1 -4619766943910248322\">\n<path style=\"stroke:none;\" d=\"M 103.3125 -37.265625 L 145.765625 -37.265625 C 152.421875 -37.265625 156.234375 -37.921875 156.234375 -39.15625 C 156.234375 -40.390625 152.734375 -40.96875 145.765625 -40.96875 L 44.359375 -40.96875 C 37.703125 -40.96875 34.21875 -40.390625 34.21875 -39.15625 C 34.21875 -37.921875 37.703125 -37.265625 44.359375 -37.265625 L 86.828125 -37.265625 L 86.828125 -3.71875 L 44.359375 -3.71875 C 37.703125 -3.71875 34.21875 -3.0625 34.21875 -1.890625 C 34.21875 -0.65625 37.703125 0 44.359375 0 L 145.765625 0 C 152.421875 0 156.234375 -0.65625 156.234375 -1.890625 C 156.234375 -3.0625 152.734375 -3.71875 145.765625 -3.71875 L 103.3125 -3.71875 Z M 103.3125 -37.265625 \"/>\n</symbol>\n<symbol overflow=\"visible\" id=\"glyph15-0 -4619766943910248322\">\n<path style=\"stroke:none;\" d=\"\"/>\n</symbol>\n<symbol overflow=\"visible\" id=\"glyph15-1 -4619766943910248322\">\n<path style=\"stroke:none;\" d=\"M 123.1875 -31.78125 C 122.984375 -41.234375 102.484375 -46.4375 65.140625 -46.4375 C 29.625 -46.4375 9.125 -41.296875 9.125 -32.40625 C 9.125 -25.3125 20.703125 -21.875 50.734375 -20.125 L 71.4375 -18.859375 C 91.734375 -17.671875 99.234375 -15.921875 99.234375 -12.21875 C 99.234375 -8.390625 87.875 -6.078125 69.40625 -6.078125 C 48.703125 -6.078125 37.140625 -8.78125 36.125 -13.65625 L 6.5 -13.65625 C 8.328125 -3.890625 30.03125 1.4375 67.78125 1.4375 C 105.9375 1.4375 128.453125 -4.015625 128.453125 -13.34375 C 128.453125 -20.5625 116.6875 -24.3125 89.296875 -25.953125 L 66.15625 -27.328125 C 44.4375 -28.640625 38.15625 -29.953125 38.15625 -33.28125 C 38.15625 -36.71875 47.890625 -38.921875 63.71875 -38.921875 C 83 -38.921875 93.75 -36.40625 94.765625 -31.78125 Z M 123.1875 -31.78125 \"/>\n</symbol>\n<symbol overflow=\"visible\" id=\"glyph16-0 -4619766943910248322\">\n<path style=\"stroke:none;\" d=\"\"/>\n</symbol>\n<symbol overflow=\"visible\" id=\"glyph16-1 -4619766943910248322\">\n<path style=\"stroke:none;\" d=\"M 105.09375 0 L 135.9375 0 L 135.9375 -47.84375 L 105.09375 -47.84375 L 105.09375 -15.296875 L 45.65625 -47.84375 L 13.984375 -47.84375 L 13.984375 0 L 44.828125 0 L 44.828125 -33.078125 Z M 105.09375 0 \"/>\n</symbol>\n<symbol overflow=\"visible\" id=\"glyph17-0 -4619766943910248322\">\n<path style=\"stroke:none;\" d=\"\"/>\n</symbol>\n<symbol overflow=\"visible\" id=\"glyph17-1 -4619766943910248322\">\n<path style=\"stroke:none;\" d=\"M 37.109375 -37.28125 L 59.609375 0 L 85.375 0 L 107.53125 -37.28125 L 107.53125 0 L 133.296875 0 L 133.296875 -47.84375 L 94.484375 -47.84375 L 72.484375 -9.78125 L 49.8125 -47.84375 L 11.34375 -47.84375 L 11.34375 0 L 37.109375 0 Z M 37.109375 -37.28125 \"/>\n</symbol>\n<symbol overflow=\"visible\" id=\"glyph18-0 -4619766943910248322\">\n<path style=\"stroke:none;\" d=\"\"/>\n</symbol>\n<symbol overflow=\"visible\" id=\"glyph18-1 -4619766943910248322\">\n<path style=\"stroke:none;\" d=\"M 56.234375 -47.84375 L 19.5625 -47.84375 L 19.5625 0 L 141.578125 0 L 141.578125 -8.203125 L 56.234375 -8.203125 Z M 56.234375 -47.84375 \"/>\n</symbol>\n<symbol overflow=\"visible\" id=\"glyph19-0 -4619766943910248322\">\n<path style=\"stroke:none;\" d=\"\"/>\n</symbol>\n<symbol overflow=\"visible\" id=\"glyph19-1 -4619766943910248322\">\n<path style=\"stroke:none;\" d=\"M 42.5 -22.953125 L 56.71875 -30.296875 L 102.0625 0 L 136.03125 0 L 74.9375 -39.046875 L 130.140625 -68.59375 L 96.5625 -68.59375 L 42.5 -38.484375 L 42.5 -68.59375 L 14.046875 -68.59375 L 14.046875 0 L 42.5 0 Z M 42.5 -22.953125 \"/>\n</symbol>\n<symbol overflow=\"visible\" id=\"glyph20-0 -4619766943910248322\">\n<path style=\"stroke:none;\" d=\"\"/>\n</symbol>\n<symbol overflow=\"visible\" id=\"glyph20-1 -4619766943910248322\">\n<path style=\"stroke:none;\" d=\"M 51.265625 -32.53125 L 129.390625 -32.53125 L 129.390625 -45.46875 L 51.265625 -45.46875 L 51.265625 -62.5625 L 135.65625 -62.5625 L 135.65625 -75.515625 L 17.6875 -75.515625 L 17.6875 0 L 139.6875 0 L 139.6875 -12.953125 L 51.265625 -12.953125 Z M 51.265625 -32.53125 \"/>\n</symbol>\n<symbol overflow=\"visible\" id=\"glyph21-0 -4619766943910248322\">\n<path style=\"stroke:none;\" d=\"\"/>\n</symbol>\n<symbol overflow=\"visible\" id=\"glyph21-1 -4619766943910248322\">\n<path style=\"stroke:none;\" d=\"M 96.890625 0 L 123.703125 -6.359375 L 102.609375 -6.359375 L 88.140625 -1.59375 L 72.46875 -6.359375 L 52.828125 -6.359375 L 37.828125 -1.59375 L 22.828125 -6.359375 L 1.71875 -6.359375 L 29.0625 0 L 46.984375 0 L 62.78125 -4.96875 L 78.984375 0 Z M 96.890625 0 \"/>\n</symbol>\n<symbol overflow=\"visible\" id=\"glyph22-0 -4619766943910248322\">\n<path style=\"stroke:none;\" d=\"\"/>\n</symbol>\n<symbol overflow=\"visible\" id=\"glyph22-1 -4619766943910248322\">\n<path style=\"stroke:none;\" d=\"M 53.359375 -8.703125 L 129.34375 -8.703125 L 129.34375 -12.15625 L 53.359375 -12.15625 L 53.359375 -16.734375 L 139.59375 -16.734375 L 139.59375 -20.203125 L 17.625 -20.203125 L 17.625 0 L 53.359375 0 Z M 53.359375 -8.703125 \"/>\n</symbol>\n<symbol overflow=\"visible\" id=\"glyph23-0 -4619766943910248322\">\n<path style=\"stroke:none;\" d=\"\"/>\n</symbol>\n<symbol overflow=\"visible\" id=\"glyph23-1 -4619766943910248322\">\n<path style=\"stroke:none;\" d=\"M 80.4375 -22.453125 L 124.9375 -22.453125 L 124.9375 -27.09375 L 2.921875 -27.09375 L 2.921875 -22.453125 L 49.09375 -22.453125 L 49.09375 0 L 80.4375 0 Z M 80.4375 -22.453125 \"/>\n</symbol>\n<symbol overflow=\"visible\" id=\"glyph24-0 -4619766943910248322\">\n<path style=\"stroke:none;\" d=\"\"/>\n</symbol>\n<symbol overflow=\"visible\" id=\"glyph24-1 -4619766943910248322\">\n<path style=\"stroke:none;\" d=\"M 37.109375 -21.109375 L 59.609375 0 L 85.375 0 L 107.53125 -21.109375 L 107.53125 0 L 133.296875 0 L 133.296875 -27.09375 L 94.484375 -27.09375 L 72.484375 -5.53125 L 49.8125 -27.09375 L 11.34375 -27.09375 L 11.34375 0 L 37.109375 0 Z M 37.109375 -21.109375 \"/>\n</symbol>\n<symbol overflow=\"visible\" id=\"glyph25-0 -4619766943910248322\">\n<path style=\"stroke:none;\" d=\"\"/>\n</symbol>\n<symbol overflow=\"visible\" id=\"glyph25-1 -4619766943910248322\">\n<path style=\"stroke:none;\" d=\"M 129.609375 -13.890625 L 76.375 -13.890625 L 76.375 -9.46875 L 106.640625 -9.46875 C 105.921875 -8.015625 104.09375 -7.125 100.078125 -6.203125 C 93.515625 -4.640625 83.3125 -3.71875 72.921875 -3.71875 C 50.671875 -3.71875 35 -7.484375 35 -12.796875 C 35 -18.359375 48.859375 -21.734375 72.1875 -21.734375 C 81.671875 -21.734375 89.6875 -21.203125 95.703125 -20.171875 C 99.53125 -19.53125 101.546875 -18.9375 103.90625 -17.578125 L 129.609375 -17.578125 C 126.328125 -22.9375 104.09375 -26.265625 72 -26.265625 C 33.71875 -26.265625 7.65625 -20.78125 7.65625 -12.734375 C 7.65625 -4.890625 33.90625 0.8125 69.8125 0.8125 C 87.6875 0.8125 99.71875 -0.421875 109.921875 -3.328125 L 113.203125 0.078125 L 129.609375 0.078125 Z M 129.609375 -13.890625 \"/>\n</symbol>\n<symbol overflow=\"visible\" id=\"glyph26-0 -4619766943910248322\">\n<path style=\"stroke:none;\" d=\"\"/>\n</symbol>\n<symbol overflow=\"visible\" id=\"glyph26-1 -4619766943910248322\">\n<path style=\"stroke:none;\" d=\"M 90.328125 -5.46875 L 98.96875 0 L 126.734375 0 L 81.3125 -27.09375 L 51.375 -27.09375 L 4.6875 0 L 32.265625 0 L 41.109375 -5.46875 Z M 82.921875 -10.109375 L 48.671875 -10.109375 L 65.796875 -20.703125 Z M 82.921875 -10.109375 \"/>\n</symbol>\n<symbol overflow=\"visible\" id=\"glyph27-0 -4619766943910248322\">\n<path style=\"stroke:none;\" d=\"\"/>\n</symbol>\n<symbol overflow=\"visible\" id=\"glyph27-1 -4619766943910248322\">\n<path style=\"stroke:none;\" d=\"M 77.71875 0 L 126.671875 -34.015625 L 97.109375 -34.015625 L 65.984375 -8.390625 L 34.265625 -34.015625 L 4.703125 -34.015625 L 52.859375 0 Z M 77.71875 0 \"/>\n</symbol>\n<symbol overflow=\"visible\" id=\"glyph28-0 -4619766943910248322\">\n<path style=\"stroke:none;\" d=\"\"/>\n</symbol>\n<symbol overflow=\"visible\" id=\"glyph28-1 -4619766943910248322\">\n<path style=\"stroke:none;\" d=\"M 46.984375 -13.484375 L 82.125 -13.484375 C 95.40625 -13.484375 101.125 -12.265625 101.125 -9.46875 L 101.125 -8.078125 C 100.921875 -7.1875 100.921875 -6.34375 100.921875 -5.828125 C 100.921875 -2.609375 101.734375 -1.640625 105.40625 0 L 138.296875 0 L 138.296875 -1.265625 C 133.59375 -1.859375 131.765625 -2.5625 131.765625 -4.0625 C 130.9375 -14.09375 130.125 -14.5625 111.125 -16.421875 C 127.875 -17.921875 136.25 -20.671875 136.25 -24.828125 C 136.25 -27.53125 132.171875 -30 125.015625 -31.671875 C 118.28125 -33.265625 108.875 -34.015625 96.21875 -34.015625 L 16.34375 -34.015625 L 16.34375 0 L 46.984375 0 Z M 46.984375 -19.3125 L 46.984375 -28.1875 L 83.953125 -28.1875 C 92.75 -28.1875 96.21875 -28 100.09375 -27.296875 C 103.78125 -26.59375 105.609375 -25.421875 105.609375 -23.84375 C 105.609375 -22.203125 103.78125 -20.90625 100.09375 -20.203125 C 96.625 -19.546875 92.75 -19.3125 83.953125 -19.3125 Z M 46.984375 -19.3125 \"/>\n</symbol>\n<symbol overflow=\"visible\" id=\"glyph29-0 -4619766943910248322\">\n<path style=\"stroke:none;\" d=\"\"/>\n</symbol>\n<symbol overflow=\"visible\" id=\"glyph29-1 -4619766943910248322\">\n<path style=\"stroke:none;\" d=\"M 123.1875 -27.171875 C 122.984375 -35.265625 102.484375 -39.71875 65.140625 -39.71875 C 29.625 -39.71875 9.125 -35.3125 9.125 -27.703125 C 9.125 -21.65625 20.703125 -18.703125 50.734375 -17.203125 L 71.4375 -16.125 C 91.734375 -15.109375 99.234375 -13.609375 99.234375 -10.453125 C 99.234375 -7.1875 87.875 -5.203125 69.40625 -5.203125 C 48.703125 -5.203125 37.140625 -7.5 36.125 -11.6875 L 6.5 -11.6875 C 8.328125 -3.328125 30.03125 1.234375 67.78125 1.234375 C 105.9375 1.234375 128.453125 -3.4375 128.453125 -11.421875 C 128.453125 -17.578125 116.6875 -20.796875 89.296875 -22.1875 L 66.15625 -23.359375 C 44.4375 -24.5 38.15625 -25.625 38.15625 -28.453125 C 38.15625 -31.40625 47.890625 -33.28125 63.71875 -33.28125 C 83 -33.28125 93.75 -31.140625 94.765625 -27.171875 Z M 123.1875 -27.171875 \"/>\n</symbol>\n<symbol overflow=\"visible\" id=\"glyph30-0 -4619766943910248322\">\n<path style=\"stroke:none;\" d=\"\"/>\n</symbol>\n<symbol overflow=\"visible\" id=\"glyph30-1 -4619766943910248322\">\n<path style=\"stroke:none;\" d=\"M 105.09375 0 L 135.9375 0 L 135.9375 -40.921875 L 105.09375 -40.921875 L 105.09375 -13.078125 L 45.65625 -40.921875 L 13.984375 -40.921875 L 13.984375 0 L 44.828125 0 L 44.828125 -28.296875 Z M 105.09375 0 \"/>\n</symbol>\n<symbol overflow=\"visible\" id=\"glyph31-0 -4619766943910248322\">\n<path style=\"stroke:none;\" d=\"\"/>\n</symbol>\n<symbol overflow=\"visible\" id=\"glyph31-1 -4619766943910248322\">\n<path style=\"stroke:none;\" d=\"M 103.3125 -43.578125 L 145.765625 -43.578125 C 152.421875 -43.578125 156.234375 -44.34375 156.234375 -45.78125 C 156.234375 -47.234375 152.734375 -47.921875 145.765625 -47.921875 L 44.359375 -47.921875 C 37.703125 -47.921875 34.21875 -47.234375 34.21875 -45.78125 C 34.21875 -44.34375 37.703125 -43.578125 44.359375 -43.578125 L 86.828125 -43.578125 L 86.828125 -4.34375 L 44.359375 -4.34375 C 37.703125 -4.34375 34.21875 -3.578125 34.21875 -2.21875 C 34.21875 -0.765625 37.703125 0 44.359375 0 L 145.765625 0 C 152.421875 0 156.234375 -0.765625 156.234375 -2.21875 C 156.234375 -3.578125 152.734375 -4.34375 145.765625 -4.34375 L 103.3125 -4.34375 Z M 103.3125 -43.578125 \"/>\n</symbol>\n<symbol overflow=\"visible\" id=\"glyph32-0 -4619766943910248322\">\n<path style=\"stroke:none;\" d=\"\"/>\n</symbol>\n<symbol overflow=\"visible\" id=\"glyph32-1 -4619766943910248322\">\n<path style=\"stroke:none;\" d=\"M 51.265625 -20.609375 L 129.390625 -20.609375 L 129.390625 -28.8125 L 51.265625 -28.8125 L 51.265625 -39.640625 L 135.65625 -39.640625 L 135.65625 -47.84375 L 17.6875 -47.84375 L 17.6875 0 L 139.6875 0 L 139.6875 -8.203125 L 51.265625 -8.203125 Z M 51.265625 -20.609375 \"/>\n</symbol>\n<symbol overflow=\"visible\" id=\"glyph33-0 -4619766943910248322\">\n<path style=\"stroke:none;\" d=\"\"/>\n</symbol>\n<symbol overflow=\"visible\" id=\"glyph33-1 -4619766943910248322\">\n<path style=\"stroke:none;\" d=\"M 56.234375 -68.59375 L 19.5625 -68.59375 L 19.5625 0 L 141.578125 0 L 141.578125 -11.765625 L 56.234375 -11.765625 Z M 56.234375 -68.59375 \"/>\n</symbol>\n<symbol overflow=\"visible\" id=\"glyph34-0 -4619766943910248322\">\n<path style=\"stroke:none;\" d=\"\"/>\n</symbol>\n<symbol overflow=\"visible\" id=\"glyph34-1 -4619766943910248322\">\n<path style=\"stroke:none;\" d=\"M 49.484375 -2.25 L 90.4375 -2.25 C 119.78125 -2.25 138.609375 -3.078125 138.609375 -4.359375 C 138.609375 -5.625 120.4375 -6.3125 87.15625 -6.3125 L 16.640625 -6.3125 L 16.640625 0 L 49.484375 0 Z M 49.484375 -3.328125 L 49.484375 -5.234375 L 80.140625 -5.234375 C 97.65625 -5.234375 105.765625 -4.921875 105.765625 -4.28125 C 105.765625 -3.640625 97.65625 -3.328125 80.140625 -3.328125 Z M 49.484375 -3.328125 \"/>\n</symbol>\n<symbol overflow=\"visible\" id=\"glyph35-0 -4619766943910248322\">\n<path style=\"stroke:none;\" d=\"\"/>\n</symbol>\n<symbol overflow=\"visible\" id=\"glyph35-1 -4619766943910248322\">\n<path style=\"stroke:none;\" d=\"M 104.984375 -2.859375 L 104.984375 0 L 136.046875 0 L 136.046875 -6.3125 L 104.78125 -6.3125 L 104.78125 -3.953125 L 45.140625 -3.953125 L 45.140625 -6.3125 L 14.078125 -6.3125 L 14.078125 0 L 45.140625 0 L 45.140625 -2.859375 Z M 104.984375 -2.859375 \"/>\n</symbol>\n<symbol overflow=\"visible\" id=\"glyph36-0 -4619766943910248322\">\n<path style=\"stroke:none;\" d=\"\"/>\n</symbol>\n<symbol overflow=\"visible\" id=\"glyph36-1 -4619766943910248322\">\n<path style=\"stroke:none;\" d=\"M 82.03125 -4.890625 L 127.25 -13.1875 L 94.359375 -13.1875 L 67.15625 -7.359375 L 37.984375 -13.1875 L 5.28125 -13.1875 L 52.671875 -4.890625 L 52.671875 0 L 82.03125 0 Z M 82.03125 -4.890625 \"/>\n</symbol>\n<symbol overflow=\"visible\" id=\"glyph37-0 -4619766943910248322\">\n<path style=\"stroke:none;\" d=\"\"/>\n</symbol>\n<symbol overflow=\"visible\" id=\"glyph37-1 -4619766943910248322\">\n<path style=\"stroke:none;\" d=\"M 46.984375 -5.234375 L 82.125 -5.234375 C 95.40625 -5.234375 101.125 -4.765625 101.125 -3.671875 L 101.125 -3.125 C 100.921875 -2.78125 100.921875 -2.453125 100.921875 -2.265625 C 100.921875 -1.015625 101.734375 -0.640625 105.40625 0 L 138.296875 0 L 138.296875 -0.484375 C 133.59375 -0.71875 131.765625 -1 131.765625 -1.578125 C 130.9375 -5.46875 130.125 -5.640625 111.125 -6.375 C 127.875 -6.953125 136.25 -8.015625 136.25 -9.625 C 136.25 -10.671875 132.171875 -11.640625 125.015625 -12.28125 C 118.28125 -12.90625 108.875 -13.1875 96.21875 -13.1875 L 16.34375 -13.1875 L 16.34375 0 L 46.984375 0 Z M 46.984375 -7.484375 L 46.984375 -10.921875 L 83.953125 -10.921875 C 92.75 -10.921875 96.21875 -10.859375 100.09375 -10.578125 C 103.78125 -10.3125 105.609375 -9.859375 105.609375 -9.25 C 105.609375 -8.609375 103.78125 -8.109375 100.09375 -7.828125 C 96.625 -7.578125 92.75 -7.484375 83.953125 -7.484375 Z M 46.984375 -7.484375 \"/>\n</symbol>\n<symbol overflow=\"visible\" id=\"glyph38-0 -4619766943910248322\">\n<path style=\"stroke:none;\" d=\"\"/>\n</symbol>\n<symbol overflow=\"visible\" id=\"glyph38-1 -4619766943910248322\">\n<path style=\"stroke:none;\" d=\"M 115.609375 -1.71875 C 124.140625 -2.703125 129.53125 -4.375 129.53125 -6 C 129.53125 -7.78125 122.921875 -9.5 111.796875 -10.640625 C 100.84375 -11.765625 86.578125 -12.3125 68.5 -12.3125 C 50.421875 -12.3125 36.15625 -11.765625 25.203125 -10.640625 C 13.90625 -9.5 7.46875 -7.78125 7.46875 -5.96875 C 7.46875 -4.15625 14.078125 -2.4375 25.203125 -1.296875 C 36.15625 -0.171875 50.421875 0.375 68.5 0.375 C 81.71875 0.375 91.28125 0.140625 101.359375 -0.453125 L 116.3125 0.890625 L 129.53125 -0.453125 Z M 83.453125 -4.625 L 70.234375 -3.28125 L 83.625 -2.0625 C 79.453125 -1.859375 73.890625 -1.75 68.328125 -1.75 C 47.46875 -1.75 33.5625 -3.421875 33.5625 -5.96875 C 33.5625 -8.53125 47.296875 -10.1875 68.5 -10.1875 C 89.71875 -10.1875 103.453125 -8.53125 103.453125 -5.953125 C 103.453125 -4.953125 101.53125 -4.0625 97.703125 -3.328125 Z M 83.453125 -4.625 \"/>\n</symbol>\n<symbol overflow=\"visible\" id=\"glyph39-0 -4619766943910248322\">\n<path style=\"stroke:none;\" d=\"\"/>\n</symbol>\n<symbol overflow=\"visible\" id=\"glyph39-1 -4619766943910248322\">\n<path style=\"stroke:none;\" d=\"M 80.4375 -16.53125 L 124.9375 -16.53125 L 124.9375 -19.9375 L 2.921875 -19.9375 L 2.921875 -16.53125 L 49.09375 -16.53125 L 49.09375 0 L 80.4375 0 Z M 80.4375 -16.53125 \"/>\n</symbol>\n<symbol overflow=\"visible\" id=\"glyph40-0 -4619766943910248322\">\n<path style=\"stroke:none;\" d=\"\"/>\n</symbol>\n<symbol overflow=\"visible\" id=\"glyph40-1 -4619766943910248322\">\n<path style=\"stroke:none;\" d=\"M 42.5 -6.671875 L 56.71875 -8.8125 L 102.0625 0 L 136.03125 0 L 74.9375 -11.359375 L 130.140625 -19.9375 L 96.5625 -19.9375 L 42.5 -11.1875 L 42.5 -19.9375 L 14.046875 -19.9375 L 14.046875 0 L 42.5 0 Z M 42.5 -6.671875 \"/>\n</symbol>\n<symbol overflow=\"visible\" id=\"glyph41-0 -4619766943910248322\">\n<path style=\"stroke:none;\" d=\"\"/>\n</symbol>\n<symbol overflow=\"visible\" id=\"glyph41-1 -4619766943910248322\">\n<path style=\"stroke:none;\" d=\"M 53.359375 -8.59375 L 129.34375 -8.59375 L 129.34375 -12.015625 L 53.359375 -12.015625 L 53.359375 -16.53125 L 139.59375 -16.53125 L 139.59375 -19.9375 L 17.625 -19.9375 L 17.625 0 L 53.359375 0 Z M 53.359375 -8.59375 \"/>\n</symbol>\n<symbol overflow=\"visible\" id=\"glyph42-0 -4619766943910248322\">\n<path style=\"stroke:none;\" d=\"\"/>\n</symbol>\n<symbol overflow=\"visible\" id=\"glyph42-1 -4619766943910248322\">\n<path style=\"stroke:none;\" d=\"M 123.1875 -17.796875 C 122.984375 -23.09375 102.484375 -26 65.140625 -26 C 29.625 -26 9.125 -23.125 9.125 -18.140625 C 9.125 -14.171875 20.703125 -12.25 50.734375 -11.265625 L 71.4375 -10.5625 C 91.734375 -9.890625 99.234375 -8.90625 99.234375 -6.84375 C 99.234375 -4.703125 87.875 -3.40625 69.40625 -3.40625 C 48.703125 -3.40625 37.140625 -4.90625 36.125 -7.65625 L 6.5 -7.65625 C 8.328125 -2.171875 30.03125 0.8125 67.78125 0.8125 C 105.9375 0.8125 128.453125 -2.25 128.453125 -7.46875 C 128.453125 -11.515625 116.6875 -13.609375 89.296875 -14.53125 L 66.15625 -15.296875 C 44.4375 -16.03125 38.15625 -16.78125 38.15625 -18.640625 C 38.15625 -20.5625 47.890625 -21.796875 63.71875 -21.796875 C 83 -21.796875 93.75 -20.390625 94.765625 -17.796875 Z M 123.1875 -17.796875 \"/>\n</symbol>\n<symbol overflow=\"visible\" id=\"glyph43-0 -4619766943910248322\">\n<path style=\"stroke:none;\" d=\"\"/>\n</symbol>\n<symbol overflow=\"visible\" id=\"glyph43-1 -4619766943910248322\">\n<path style=\"stroke:none;\" d=\"M 105.09375 0 L 135.9375 0 L 135.9375 -26.828125 L 105.09375 -26.828125 L 105.09375 -8.578125 L 45.65625 -26.828125 L 13.984375 -26.828125 L 13.984375 0 L 44.828125 0 L 44.828125 -18.546875 Z M 105.09375 0 \"/>\n</symbol>\n<symbol overflow=\"visible\" id=\"glyph44-0 -4619766943910248322\">\n<path style=\"stroke:none;\" d=\"\"/>\n</symbol>\n<symbol overflow=\"visible\" id=\"glyph44-1 -4619766943910248322\">\n<path style=\"stroke:none;\" d=\"M 37.109375 -20.90625 L 59.609375 0 L 85.375 0 L 107.53125 -20.90625 L 107.53125 0 L 133.296875 0 L 133.296875 -26.828125 L 94.484375 -26.828125 L 72.484375 -5.484375 L 49.8125 -26.828125 L 11.34375 -26.828125 L 11.34375 0 L 37.109375 0 Z M 37.109375 -20.90625 \"/>\n</symbol>\n<symbol overflow=\"visible\" id=\"glyph45-0 -4619766943910248322\">\n<path style=\"stroke:none;\" d=\"\"/>\n</symbol>\n<symbol overflow=\"visible\" id=\"glyph45-1 -4619766943910248322\">\n<path style=\"stroke:none;\" d=\"M 129.609375 -13.75 L 76.375 -13.75 L 76.375 -9.375 L 106.640625 -9.375 C 105.921875 -7.9375 104.09375 -7.046875 100.078125 -6.140625 C 93.515625 -4.59375 83.3125 -3.6875 72.921875 -3.6875 C 50.671875 -3.6875 35 -7.40625 35 -12.671875 C 35 -18.171875 48.859375 -21.515625 72.1875 -21.515625 C 81.671875 -21.515625 89.6875 -20.984375 95.703125 -19.96875 C 99.53125 -19.34375 101.546875 -18.734375 103.90625 -17.40625 L 129.609375 -17.40625 C 126.328125 -22.703125 104.09375 -26 72 -26 C 33.71875 -26 7.65625 -20.5625 7.65625 -12.59375 C 7.65625 -4.84375 33.90625 0.8125 69.8125 0.8125 C 87.6875 0.8125 99.71875 -0.421875 109.921875 -3.296875 L 113.203125 0.0625 L 129.609375 0.0625 Z M 129.609375 -13.75 \"/>\n</symbol>\n<symbol overflow=\"visible\" id=\"glyph46-0 -4619766943910248322\">\n<path style=\"stroke:none;\" d=\"\"/>\n</symbol>\n<symbol overflow=\"visible\" id=\"glyph46-1 -4619766943910248322\">\n<path style=\"stroke:none;\" d=\"M 90.328125 -5.40625 L 98.96875 0 L 126.734375 0 L 81.3125 -26.828125 L 51.375 -26.828125 L 4.6875 0 L 32.265625 0 L 41.109375 -5.40625 Z M 82.921875 -10.015625 L 48.671875 -10.015625 L 65.796875 -20.5 Z M 82.921875 -10.015625 \"/>\n</symbol>\n<symbol overflow=\"visible\" id=\"glyph47-0 -4619766943910248322\">\n<path style=\"stroke:none;\" d=\"\"/>\n</symbol>\n<symbol overflow=\"visible\" id=\"glyph47-1 -4619766943910248322\">\n<path style=\"stroke:none;\" d=\"M 77.71875 0 L 126.671875 -33.6875 L 97.109375 -33.6875 L 65.984375 -8.3125 L 34.265625 -33.6875 L 4.703125 -33.6875 L 52.859375 0 Z M 77.71875 0 \"/>\n</symbol>\n<symbol overflow=\"visible\" id=\"glyph48-0 -4619766943910248322\">\n<path style=\"stroke:none;\" d=\"\"/>\n</symbol>\n<symbol overflow=\"visible\" id=\"glyph48-1 -4619766943910248322\">\n<path style=\"stroke:none;\" d=\"M 103.3125 -30.640625 L 145.765625 -30.640625 C 152.421875 -30.640625 156.234375 -31.1875 156.234375 -32.203125 C 156.234375 -33.21875 152.734375 -33.703125 145.765625 -33.703125 L 44.359375 -33.703125 C 37.703125 -33.703125 34.21875 -33.21875 34.21875 -32.203125 C 34.21875 -31.1875 37.703125 -30.640625 44.359375 -30.640625 L 86.828125 -30.640625 L 86.828125 -3.046875 L 44.359375 -3.046875 C 37.703125 -3.046875 34.21875 -2.515625 34.21875 -1.5625 C 34.21875 -0.53125 37.703125 0 44.359375 0 L 145.765625 0 C 152.421875 0 156.234375 -0.53125 156.234375 -1.5625 C 156.234375 -2.515625 152.734375 -3.046875 145.765625 -3.046875 L 103.3125 -3.046875 Z M 103.3125 -30.640625 \"/>\n</symbol>\n<symbol overflow=\"visible\" id=\"glyph49-0 -4619766943910248322\">\n<path style=\"stroke:none;\" d=\"\"/>\n</symbol>\n<symbol overflow=\"visible\" id=\"glyph49-1 -4619766943910248322\">\n<path style=\"stroke:none;\" d=\"M 56.234375 -60.96875 L 19.5625 -60.96875 L 19.5625 0 L 141.578125 0 L 141.578125 -10.453125 L 56.234375 -10.453125 Z M 56.234375 -60.96875 \"/>\n</symbol>\n<symbol overflow=\"visible\" id=\"glyph50-0 -4619766943910248322\">\n<path style=\"stroke:none;\" d=\"\"/>\n</symbol>\n<symbol overflow=\"visible\" id=\"glyph50-1 -4619766943910248322\">\n<path style=\"stroke:none;\" d=\"M 15.546875 0 L 73.125 0 C 95.53125 0 109.671875 -3.875 119.78125 -12.6875 C 131.296875 -22.84375 137.546875 -37.484375 137.546875 -54.5 C 137.546875 -71.375 131.296875 -86 119.78125 -96.3125 C 109.671875 -105.109375 95.734375 -108.84375 73.125 -108.84375 L 15.546875 -108.84375 Z M 45.84375 -18.65625 L 45.84375 -90.1875 L 73.125 -90.1875 C 95.9375 -90.1875 107.25 -78.390625 107.25 -54.34375 C 107.25 -30.453125 95.9375 -18.65625 73.125 -18.65625 Z M 45.84375 -18.65625 \"/>\n</symbol>\n<symbol overflow=\"visible\" id=\"glyph51-0 -4619766943910248322\">\n<path style=\"stroke:none;\" d=\"\"/>\n</symbol>\n<symbol overflow=\"visible\" id=\"glyph51-1 -4619766943910248322\">\n<path style=\"stroke:none;\" d=\"M 51.265625 -52.75 L 129.390625 -52.75 L 129.390625 -73.765625 L 51.265625 -73.765625 L 51.265625 -101.484375 L 135.65625 -101.484375 L 135.65625 -122.484375 L 17.6875 -122.484375 L 17.6875 0 L 139.6875 0 L 139.6875 -21 L 51.265625 -21 Z M 51.265625 -52.75 \"/>\n</symbol>\n<symbol overflow=\"visible\" id=\"glyph52-0 -4619766943910248322\">\n<path style=\"stroke:none;\" d=\"\"/>\n</symbol>\n<symbol overflow=\"visible\" id=\"glyph52-1 -4619766943910248322\">\n<path style=\"stroke:none;\" d=\"M 96.890625 0 L 123.703125 -6.3125 L 102.609375 -6.3125 L 88.140625 -1.578125 L 72.46875 -6.3125 L 52.828125 -6.3125 L 37.828125 -1.578125 L 22.828125 -6.3125 L 1.71875 -6.3125 L 29.0625 0 L 46.984375 0 L 62.78125 -4.921875 L 78.984375 0 Z M 96.890625 0 \"/>\n</symbol>\n<symbol overflow=\"visible\" id=\"glyph53-0 -4619766943910248322\">\n<path style=\"stroke:none;\" d=\"\"/>\n</symbol>\n<symbol overflow=\"visible\" id=\"glyph53-1 -4619766943910248322\">\n<path style=\"stroke:none;\" d=\"M 129.765625 -4.015625 C 128.8125 -4.53125 126.34375 -4.875 120.4375 -5.21875 C 109.78125 -5.828125 92.65625 -6.171875 71.921875 -6.171875 C 32.71875 -6.171875 8.375 -4.953125 8.375 -2.984375 C 8.375 -1.03125 32.53125 0.1875 71.15625 0.1875 C 105.78125 0.1875 128.625 -0.6875 130.328125 -2.078125 L 102.546875 -2.078125 C 100.65625 -1.296875 89.609375 -0.859375 71.921875 -0.859375 C 49.84375 -0.859375 36.90625 -1.640625 36.90625 -2.96875 C 36.90625 -4.3125 50.421875 -5.109375 72.875 -5.109375 C 89.421875 -5.109375 98.75 -4.75 102.546875 -4.015625 Z M 129.765625 -4.015625 \"/>\n</symbol>\n<symbol overflow=\"visible\" id=\"glyph54-0 -4619766943910248322\">\n<path style=\"stroke:none;\" d=\"\"/>\n</symbol>\n<symbol overflow=\"visible\" id=\"glyph54-1 -4619766943910248322\">\n<path style=\"stroke:none;\" d=\"M 115.609375 -2.59375 C 124.140625 -4.09375 129.53125 -6.609375 129.53125 -9.0625 C 129.53125 -11.75 122.921875 -14.34375 111.796875 -16.0625 C 100.84375 -17.78125 86.578125 -18.609375 68.5 -18.609375 C 50.421875 -18.609375 36.15625 -17.78125 25.203125 -16.0625 C 13.90625 -14.34375 7.46875 -11.75 7.46875 -9.015625 C 7.46875 -6.28125 14.078125 -3.6875 25.203125 -1.953125 C 36.15625 -0.25 50.421875 0.578125 68.5 0.578125 C 81.71875 0.578125 91.28125 0.203125 101.359375 -0.671875 L 116.3125 1.359375 L 129.53125 -0.671875 Z M 83.453125 -6.984375 L 70.234375 -4.953125 L 83.625 -3.109375 C 79.453125 -2.8125 73.890625 -2.640625 68.328125 -2.640625 C 47.46875 -2.640625 33.5625 -5.171875 33.5625 -9.015625 C 33.5625 -12.875 47.296875 -15.390625 68.5 -15.390625 C 89.71875 -15.390625 103.453125 -12.875 103.453125 -8.984375 C 103.453125 -7.484375 101.53125 -6.125 97.703125 -5.015625 Z M 83.453125 -6.984375 \"/>\n</symbol>\n<symbol overflow=\"visible\" id=\"glyph55-0 -4619766943910248322\">\n<path style=\"stroke:none;\" d=\"\"/>\n</symbol>\n<symbol overflow=\"visible\" id=\"glyph55-1 -4619766943910248322\">\n<path style=\"stroke:none;\" d=\"M 49.484375 -7.109375 L 90.4375 -7.109375 C 119.78125 -7.109375 138.609375 -9.71875 138.609375 -13.765625 C 138.609375 -17.75 120.4375 -19.9375 87.15625 -19.9375 L 16.640625 -19.9375 L 16.640625 0 L 49.484375 0 Z M 49.484375 -10.53125 L 49.484375 -16.53125 L 80.140625 -16.53125 C 97.65625 -16.53125 105.765625 -15.5625 105.765625 -13.546875 C 105.765625 -11.484375 97.65625 -10.53125 80.140625 -10.53125 Z M 49.484375 -10.53125 \"/>\n</symbol>\n<symbol overflow=\"visible\" id=\"glyph56-0 -4619766943910248322\">\n<path style=\"stroke:none;\" d=\"\"/>\n</symbol>\n<symbol overflow=\"visible\" id=\"glyph56-1 -4619766943910248322\">\n<path style=\"stroke:none;\" d=\"M 80.4375 -22.21875 L 124.9375 -22.21875 L 124.9375 -26.828125 L 2.921875 -26.828125 L 2.921875 -22.21875 L 49.09375 -22.21875 L 49.09375 0 L 80.4375 0 Z M 80.4375 -22.21875 \"/>\n</symbol>\n<symbol overflow=\"visible\" id=\"glyph57-0 -4619766943910248322\">\n<path style=\"stroke:none;\" d=\"\"/>\n</symbol>\n<symbol overflow=\"visible\" id=\"glyph57-1 -4619766943910248322\">\n<path style=\"stroke:none;\" d=\"M 46.984375 -10.640625 L 82.125 -10.640625 C 95.40625 -10.640625 101.125 -9.671875 101.125 -7.46875 L 101.125 -6.359375 C 100.921875 -5.671875 100.921875 -5 100.921875 -4.59375 C 100.921875 -2.0625 101.734375 -1.28125 105.40625 0 L 138.296875 0 L 138.296875 -1 C 133.59375 -1.46875 131.765625 -2.03125 131.765625 -3.203125 C 130.9375 -11.109375 130.125 -11.484375 111.125 -12.953125 C 127.875 -14.125 136.25 -16.296875 136.25 -19.578125 C 136.25 -21.703125 132.171875 -23.65625 125.015625 -24.984375 C 118.28125 -26.234375 108.875 -26.828125 96.21875 -26.828125 L 16.34375 -26.828125 L 16.34375 0 L 46.984375 0 Z M 46.984375 -15.234375 L 46.984375 -22.21875 L 83.953125 -22.21875 C 92.75 -22.21875 96.21875 -22.078125 100.09375 -21.53125 C 103.78125 -20.96875 105.609375 -20.046875 105.609375 -18.796875 C 105.609375 -17.515625 103.78125 -16.484375 100.09375 -15.9375 C 96.625 -15.421875 92.75 -15.234375 83.953125 -15.234375 Z M 46.984375 -15.234375 \"/>\n</symbol>\n<symbol overflow=\"visible\" id=\"glyph58-0 -4619766943910248322\">\n<path style=\"stroke:none;\" d=\"\"/>\n</symbol>\n<symbol overflow=\"visible\" id=\"glyph58-1 -4619766943910248322\">\n<path style=\"stroke:none;\" d=\"M 15.546875 0 L 73.125 0 C 95.53125 0 109.671875 -0.953125 119.78125 -3.125 C 131.296875 -5.625 137.546875 -9.234375 137.546875 -13.4375 C 137.546875 -17.59375 131.296875 -21.1875 119.78125 -23.734375 C 109.671875 -25.90625 95.734375 -26.828125 73.125 -26.828125 L 15.546875 -26.828125 Z M 45.84375 -4.59375 L 45.84375 -22.21875 L 73.125 -22.21875 C 95.9375 -22.21875 107.25 -19.3125 107.25 -13.390625 C 107.25 -7.5 95.9375 -4.59375 73.125 -4.59375 Z M 45.84375 -4.59375 \"/>\n</symbol>\n<symbol overflow=\"visible\" id=\"glyph59-0 -4619766943910248322\">\n<path style=\"stroke:none;\" d=\"\"/>\n</symbol>\n<symbol overflow=\"visible\" id=\"glyph59-1 -4619766943910248322\">\n<path style=\"stroke:none;\" d=\"M 129.609375 -17.296875 L 76.375 -17.296875 L 76.375 -11.78125 L 106.640625 -11.78125 C 105.921875 -9.96875 104.09375 -8.875 100.078125 -7.71875 C 93.515625 -5.78125 83.3125 -4.640625 72.921875 -4.640625 C 50.671875 -4.640625 35 -9.3125 35 -15.921875 C 35 -22.859375 48.859375 -27.046875 72.1875 -27.046875 C 81.671875 -27.046875 89.6875 -26.390625 95.703125 -25.109375 C 99.53125 -24.3125 101.546875 -23.5625 103.90625 -21.890625 L 129.609375 -21.890625 C 126.328125 -28.546875 104.09375 -32.703125 72 -32.703125 C 33.71875 -32.703125 7.65625 -25.859375 7.65625 -15.84375 C 7.65625 -6.09375 33.90625 1.015625 69.8125 1.015625 C 87.6875 1.015625 99.71875 -0.53125 109.921875 -4.140625 L 113.203125 0.09375 L 129.609375 0.09375 Z M 129.609375 -17.296875 \"/>\n</symbol>\n<symbol overflow=\"visible\" id=\"glyph60-0 -4619766943910248322\">\n<path style=\"stroke:none;\" d=\"\"/>\n</symbol>\n<symbol overflow=\"visible\" id=\"glyph60-1 -4619766943910248322\">\n<path style=\"stroke:none;\" d=\"M 123.1875 -26.875 C 122.984375 -34.875 102.484375 -39.265625 65.140625 -39.265625 C 29.625 -39.265625 9.125 -34.921875 9.125 -27.40625 C 9.125 -21.40625 20.703125 -18.5 50.734375 -17.015625 L 71.4375 -15.953125 C 91.734375 -14.953125 99.234375 -13.46875 99.234375 -10.328125 C 99.234375 -7.109375 87.875 -5.140625 69.40625 -5.140625 C 48.703125 -5.140625 37.140625 -7.421875 36.125 -11.546875 L 6.5 -11.546875 C 8.328125 -3.28125 30.03125 1.21875 67.78125 1.21875 C 105.9375 1.21875 128.453125 -3.390625 128.453125 -11.28125 C 128.453125 -17.390625 116.6875 -20.5625 89.296875 -21.9375 L 66.15625 -23.109375 C 44.4375 -24.21875 38.15625 -25.328125 38.15625 -28.140625 C 38.15625 -31.0625 47.890625 -32.90625 63.71875 -32.90625 C 83 -32.90625 93.75 -30.796875 94.765625 -26.875 Z M 123.1875 -26.875 \"/>\n</symbol>\n<symbol overflow=\"visible\" id=\"glyph61-0 -4619766943910248322\">\n<path style=\"stroke:none;\" d=\"\"/>\n</symbol>\n<symbol overflow=\"visible\" id=\"glyph61-1 -4619766943910248322\">\n<path style=\"stroke:none;\" d=\"M 105.09375 0 L 135.9375 0 L 135.9375 -40.453125 L 105.09375 -40.453125 L 105.09375 -12.9375 L 45.65625 -40.453125 L 13.984375 -40.453125 L 13.984375 0 L 44.828125 0 L 44.828125 -27.96875 Z M 105.09375 0 \"/>\n</symbol>\n<symbol overflow=\"visible\" id=\"glyph62-0 -4619766943910248322\">\n<path style=\"stroke:none;\" d=\"\"/>\n</symbol>\n<symbol overflow=\"visible\" id=\"glyph62-1 -4619766943910248322\">\n<path style=\"stroke:none;\" d=\"M 103.3125 -43.0625 L 145.765625 -43.0625 C 152.421875 -43.0625 156.234375 -43.828125 156.234375 -45.25 C 156.234375 -46.6875 152.734375 -47.359375 145.765625 -47.359375 L 44.359375 -47.359375 C 37.703125 -47.359375 34.21875 -46.6875 34.21875 -45.25 C 34.21875 -43.828125 37.703125 -43.0625 44.359375 -43.0625 L 86.828125 -43.0625 L 86.828125 -4.296875 L 44.359375 -4.296875 C 37.703125 -4.296875 34.21875 -3.53125 34.21875 -2.1875 C 34.21875 -0.75 37.703125 0 44.359375 0 L 145.765625 0 C 152.421875 0 156.234375 -0.75 156.234375 -2.1875 C 156.234375 -3.53125 152.734375 -4.296875 145.765625 -4.296875 L 103.3125 -4.296875 Z M 103.3125 -43.0625 \"/>\n</symbol>\n<symbol overflow=\"visible\" id=\"glyph63-0 -4619766943910248322\">\n<path style=\"stroke:none;\" d=\"\"/>\n</symbol>\n<symbol overflow=\"visible\" id=\"glyph63-1 -4619766943910248322\">\n<path style=\"stroke:none;\" d=\"M 51.265625 -23.34375 L 129.390625 -23.34375 L 129.390625 -32.640625 L 51.265625 -32.640625 L 51.265625 -44.90625 L 135.65625 -44.90625 L 135.65625 -54.203125 L 17.6875 -54.203125 L 17.6875 0 L 139.6875 0 L 139.6875 -9.296875 L 51.265625 -9.296875 Z M 51.265625 -23.34375 \"/>\n</symbol>\n<symbol overflow=\"visible\" id=\"glyph64-0 -4619766943910248322\">\n<path style=\"stroke:none;\" d=\"\"/>\n</symbol>\n<symbol overflow=\"visible\" id=\"glyph64-1 -4619766943910248322\">\n<path style=\"stroke:none;\" d=\"M 42.5 -20.40625 L 56.71875 -26.921875 L 102.0625 0 L 136.03125 0 L 74.9375 -34.703125 L 130.140625 -60.96875 L 96.5625 -60.96875 L 42.5 -34.203125 L 42.5 -60.96875 L 14.046875 -60.96875 L 14.046875 0 L 42.5 0 Z M 42.5 -20.40625 \"/>\n</symbol>\n<symbol overflow=\"visible\" id=\"glyph65-0 -4619766943910248322\">\n<path style=\"stroke:none;\" d=\"\"/>\n</symbol>\n<symbol overflow=\"visible\" id=\"glyph65-1 -4619766943910248322\">\n<path style=\"stroke:none;\" d=\"M 56.234375 -67.828125 L 19.5625 -67.828125 L 19.5625 0 L 141.578125 0 L 141.578125 -11.625 L 56.234375 -11.625 Z M 56.234375 -67.828125 \"/>\n</symbol>\n<symbol overflow=\"visible\" id=\"glyph66-0 -4619766943910248322\">\n<path style=\"stroke:none;\" d=\"\"/>\n</symbol>\n<symbol overflow=\"visible\" id=\"glyph66-1 -4619766943910248322\">\n<path style=\"stroke:none;\" d=\"M 96.890625 0 L 123.703125 -6.28125 L 102.609375 -6.28125 L 88.140625 -1.5625 L 72.46875 -6.28125 L 52.828125 -6.28125 L 37.828125 -1.578125 L 22.828125 -6.28125 L 1.71875 -6.28125 L 29.0625 0 L 46.984375 0 L 62.78125 -4.90625 L 78.984375 0 Z M 96.890625 0 \"/>\n</symbol>\n<symbol overflow=\"visible\" id=\"glyph67-0 -4619766943910248322\">\n<path style=\"stroke:none;\" d=\"\"/>\n</symbol>\n<symbol overflow=\"visible\" id=\"glyph67-1 -4619766943910248322\">\n<path style=\"stroke:none;\" d=\"M 129.765625 -3.921875 C 128.8125 -4.421875 126.34375 -4.75 120.4375 -5.09375 C 109.78125 -5.6875 92.65625 -6.015625 71.921875 -6.015625 C 32.71875 -6.015625 8.375 -4.828125 8.375 -2.90625 C 8.375 -1 32.53125 0.1875 71.15625 0.1875 C 105.78125 0.1875 128.625 -0.671875 130.328125 -2.015625 L 102.546875 -2.015625 C 100.65625 -1.265625 89.609375 -0.84375 71.921875 -0.84375 C 49.84375 -0.84375 36.90625 -1.59375 36.90625 -2.890625 C 36.90625 -4.203125 50.421875 -4.984375 72.875 -4.984375 C 89.421875 -4.984375 98.75 -4.640625 102.546875 -3.921875 Z M 129.765625 -3.921875 \"/>\n</symbol>\n<symbol overflow=\"visible\" id=\"glyph68-0 -4619766943910248322\">\n<path style=\"stroke:none;\" d=\"\"/>\n</symbol>\n<symbol overflow=\"visible\" id=\"glyph68-1 -4619766943910248322\">\n<path style=\"stroke:none;\" d=\"M 49.484375 -4.640625 L 90.4375 -4.640625 C 119.78125 -4.640625 138.609375 -6.328125 138.609375 -8.96875 C 138.609375 -11.578125 120.4375 -13 87.15625 -13 L 16.640625 -13 L 16.640625 0 L 49.484375 0 Z M 49.484375 -6.859375 L 49.484375 -10.765625 L 80.140625 -10.765625 C 97.65625 -10.765625 105.765625 -10.140625 105.765625 -8.828125 C 105.765625 -7.484375 97.65625 -6.859375 80.140625 -6.859375 Z M 49.484375 -6.859375 \"/>\n</symbol>\n<symbol overflow=\"visible\" id=\"glyph69-0 -4619766943910248322\">\n<path style=\"stroke:none;\" d=\"\"/>\n</symbol>\n<symbol overflow=\"visible\" id=\"glyph69-1 -4619766943910248322\">\n<path style=\"stroke:none;\" d=\"M 37.109375 -10.125 L 59.609375 0 L 85.375 0 L 107.53125 -10.125 L 107.53125 0 L 133.296875 0 L 133.296875 -13 L 94.484375 -13 L 72.484375 -2.65625 L 49.8125 -13 L 11.34375 -13 L 11.34375 0 L 37.109375 0 Z M 37.109375 -10.125 \"/>\n</symbol>\n<symbol overflow=\"visible\" id=\"glyph70-0 -4619766943910248322\">\n<path style=\"stroke:none;\" d=\"\"/>\n</symbol>\n<symbol overflow=\"visible\" id=\"glyph70-1 -4619766943910248322\">\n<path style=\"stroke:none;\" d=\"M 104.984375 -5.90625 L 104.984375 0 L 136.046875 0 L 136.046875 -13 L 104.78125 -13 L 104.78125 -8.125 L 45.140625 -8.125 L 45.140625 -13 L 14.078125 -13 L 14.078125 0 L 45.140625 0 L 45.140625 -5.90625 Z M 104.984375 -5.90625 \"/>\n</symbol>\n<symbol overflow=\"visible\" id=\"glyph71-0 -4619766943910248322\">\n<path style=\"stroke:none;\" d=\"\"/>\n</symbol>\n<symbol overflow=\"visible\" id=\"glyph71-1 -4619766943910248322\">\n<path style=\"stroke:none;\" d=\"M 82.03125 -7.296875 L 127.25 -19.71875 L 94.359375 -19.71875 L 67.15625 -11.015625 L 37.984375 -19.71875 L 5.28125 -19.71875 L 52.671875 -7.296875 L 52.671875 0 L 82.03125 0 Z M 82.03125 -7.296875 \"/>\n</symbol>\n<symbol overflow=\"visible\" id=\"glyph72-0 -4619766943910248322\">\n<path style=\"stroke:none;\" d=\"\"/>\n</symbol>\n<symbol overflow=\"visible\" id=\"glyph72-1 -4619766943910248322\">\n<path style=\"stroke:none;\" d=\"M 115.609375 -2.5625 C 124.140625 -4.046875 129.53125 -6.53125 129.53125 -8.96875 C 129.53125 -11.625 122.921875 -14.1875 111.796875 -15.90625 C 100.84375 -17.59375 86.578125 -18.40625 68.5 -18.40625 C 50.421875 -18.40625 36.15625 -17.59375 25.203125 -15.90625 C 13.90625 -14.1875 7.46875 -11.625 7.46875 -8.921875 C 7.46875 -6.203125 14.078125 -3.65625 25.203125 -1.9375 C 36.15625 -0.25 50.421875 0.578125 68.5 0.578125 C 81.71875 0.578125 91.28125 0.203125 101.359375 -0.671875 L 116.3125 1.34375 L 129.53125 -0.671875 Z M 83.453125 -6.90625 L 70.234375 -4.890625 L 83.625 -3.078125 C 79.453125 -2.78125 73.890625 -2.609375 68.328125 -2.609375 C 47.46875 -2.609375 33.5625 -5.125 33.5625 -8.921875 C 33.5625 -12.75 47.296875 -15.234375 68.5 -15.234375 C 89.71875 -15.234375 103.453125 -12.75 103.453125 -8.890625 C 103.453125 -7.40625 101.53125 -6.0625 97.703125 -4.96875 Z M 83.453125 -6.90625 \"/>\n</symbol>\n<symbol overflow=\"visible\" id=\"glyph73-0 -4619766943910248322\">\n<path style=\"stroke:none;\" d=\"\"/>\n</symbol>\n<symbol overflow=\"visible\" id=\"glyph73-1 -4619766943910248322\">\n<path style=\"stroke:none;\" d=\"M 80.4375 -22.015625 L 124.9375 -22.015625 L 124.9375 -26.5625 L 2.921875 -26.5625 L 2.921875 -22.015625 L 49.09375 -22.015625 L 49.09375 0 L 80.4375 0 Z M 80.4375 -22.015625 \"/>\n</symbol>\n<symbol overflow=\"visible\" id=\"glyph74-0 -4619766943910248322\">\n<path style=\"stroke:none;\" d=\"\"/>\n</symbol>\n<symbol overflow=\"visible\" id=\"glyph74-1 -4619766943910248322\">\n<path style=\"stroke:none;\" d=\"M 46.984375 -10.53125 L 82.125 -10.53125 C 95.40625 -10.53125 101.125 -9.578125 101.125 -7.390625 L 101.125 -6.296875 C 100.921875 -5.609375 100.921875 -4.953125 100.921875 -4.5625 C 100.921875 -2.046875 101.734375 -1.28125 105.40625 0 L 138.296875 0 L 138.296875 -0.984375 C 133.59375 -1.453125 131.765625 -2 131.765625 -3.171875 C 130.9375 -11 130.125 -11.375 111.125 -12.828125 C 127.875 -13.984375 136.25 -16.140625 136.25 -19.390625 C 136.25 -21.5 132.171875 -23.421875 125.015625 -24.734375 C 118.28125 -25.984375 108.875 -26.5625 96.21875 -26.5625 L 16.34375 -26.5625 L 16.34375 0 L 46.984375 0 Z M 46.984375 -15.078125 L 46.984375 -22.015625 L 83.953125 -22.015625 C 92.75 -22.015625 96.21875 -21.859375 100.09375 -21.3125 C 103.78125 -20.765625 105.609375 -19.859375 105.609375 -18.625 C 105.609375 -17.34375 103.78125 -16.328125 100.09375 -15.78125 C 96.625 -15.265625 92.75 -15.078125 83.953125 -15.078125 Z M 46.984375 -15.078125 \"/>\n</symbol>\n<symbol overflow=\"visible\" id=\"glyph75-0 -4619766943910248322\">\n<path style=\"stroke:none;\" d=\"\"/>\n</symbol>\n<symbol overflow=\"visible\" id=\"glyph75-1 -4619766943910248322\">\n<path style=\"stroke:none;\" d=\"M 90.328125 -5.359375 L 98.96875 0 L 126.734375 0 L 81.3125 -26.5625 L 51.375 -26.5625 L 4.6875 0 L 32.265625 0 L 41.109375 -5.359375 Z M 82.921875 -9.90625 L 48.671875 -9.90625 L 65.796875 -20.296875 Z M 82.921875 -9.90625 \"/>\n</symbol>\n<symbol overflow=\"visible\" id=\"glyph76-0 -4619766943910248322\">\n<path style=\"stroke:none;\" d=\"\"/>\n</symbol>\n<symbol overflow=\"visible\" id=\"glyph76-1 -4619766943910248322\">\n<path style=\"stroke:none;\" d=\"M 129.609375 -17.09375 L 76.375 -17.09375 L 76.375 -11.640625 L 106.640625 -11.640625 C 105.921875 -9.859375 104.09375 -8.765625 100.078125 -7.625 C 93.515625 -5.71875 83.3125 -4.578125 72.921875 -4.578125 C 50.671875 -4.578125 35 -9.203125 35 -15.75 C 35 -22.59375 48.859375 -26.734375 72.1875 -26.734375 C 81.671875 -26.734375 89.6875 -26.078125 95.703125 -24.8125 C 99.53125 -24.03125 101.546875 -23.28125 103.90625 -21.625 L 129.609375 -21.625 C 126.328125 -28.21875 104.09375 -32.3125 72 -32.3125 C 33.71875 -32.3125 7.65625 -25.5625 7.65625 -15.65625 C 7.65625 -6.015625 33.90625 1 69.8125 1 C 87.6875 1 99.71875 -0.515625 109.921875 -4.09375 L 113.203125 0.09375 L 129.609375 0.09375 Z M 129.609375 -17.09375 \"/>\n</symbol>\n<symbol overflow=\"visible\" id=\"glyph77-0 -4619766943910248322\">\n<path style=\"stroke:none;\" d=\"\"/>\n</symbol>\n<symbol overflow=\"visible\" id=\"glyph77-1 -4619766943910248322\">\n<path style=\"stroke:none;\" d=\"M 53.359375 -14.328125 L 129.34375 -14.328125 L 129.34375 -20.03125 L 53.359375 -20.03125 L 53.359375 -27.5625 L 139.59375 -27.5625 L 139.59375 -33.265625 L 17.625 -33.265625 L 17.625 0 L 53.359375 0 Z M 53.359375 -14.328125 \"/>\n</symbol>\n<symbol overflow=\"visible\" id=\"glyph78-0 -4619766943910248322\">\n<path style=\"stroke:none;\" d=\"\"/>\n</symbol>\n<symbol overflow=\"visible\" id=\"glyph78-1 -4619766943910248322\">\n<path style=\"stroke:none;\" d=\"M 77.71875 0 L 126.671875 -40 L 97.109375 -40 L 65.984375 -9.875 L 34.265625 -40 L 4.703125 -40 L 52.859375 0 Z M 77.71875 0 \"/>\n</symbol>\n<symbol overflow=\"visible\" id=\"glyph79-0 -4619766943910248322\">\n<path style=\"stroke:none;\" d=\"\"/>\n</symbol>\n<symbol overflow=\"visible\" id=\"glyph79-1 -4619766943910248322\">\n<path style=\"stroke:none;\" d=\"M 123.1875 -26.578125 C 122.984375 -34.5 102.484375 -38.859375 65.140625 -38.859375 C 29.625 -38.859375 9.125 -34.5625 9.125 -27.109375 C 9.125 -21.1875 20.703125 -18.296875 50.734375 -16.828125 L 71.4375 -15.78125 C 91.734375 -14.78125 99.234375 -13.3125 99.234375 -10.21875 C 99.234375 -7.03125 87.875 -5.09375 69.40625 -5.09375 C 48.703125 -5.09375 37.140625 -7.34375 36.125 -11.4375 L 6.5 -11.4375 C 8.328125 -3.25 30.03125 1.203125 67.78125 1.203125 C 105.9375 1.203125 128.453125 -3.359375 128.453125 -11.171875 C 128.453125 -17.203125 116.6875 -20.34375 89.296875 -21.703125 L 66.15625 -22.859375 C 44.4375 -23.96875 38.15625 -25.0625 38.15625 -27.84375 C 38.15625 -30.734375 47.890625 -32.5625 63.71875 -32.5625 C 83 -32.5625 93.75 -30.46875 94.765625 -26.578125 Z M 123.1875 -26.578125 \"/>\n</symbol>\n<symbol overflow=\"visible\" id=\"glyph80-0 -4619766943910248322\">\n<path style=\"stroke:none;\" d=\"\"/>\n</symbol>\n<symbol overflow=\"visible\" id=\"glyph80-1 -4619766943910248322\">\n<path style=\"stroke:none;\" d=\"M 105.09375 0 L 135.9375 0 L 135.9375 -40 L 105.09375 -40 L 105.09375 -12.78125 L 45.65625 -40 L 13.984375 -40 L 13.984375 0 L 44.828125 0 L 44.828125 -27.65625 Z M 105.09375 0 \"/>\n</symbol>\n<symbol overflow=\"visible\" id=\"glyph81-0 -4619766943910248322\">\n<path style=\"stroke:none;\" d=\"\"/>\n</symbol>\n<symbol overflow=\"visible\" id=\"glyph81-1 -4619766943910248322\">\n<path style=\"stroke:none;\" d=\"M 42.5 -13.390625 L 56.71875 -17.671875 L 102.0625 0 L 136.03125 0 L 74.9375 -22.765625 L 130.140625 -40 L 96.5625 -40 L 42.5 -22.4375 L 42.5 -40 L 14.046875 -40 L 14.046875 0 L 42.5 0 Z M 42.5 -13.390625 \"/>\n</symbol>\n<symbol overflow=\"visible\" id=\"glyph82-0 -4619766943910248322\">\n<path style=\"stroke:none;\" d=\"\"/>\n</symbol>\n<symbol overflow=\"visible\" id=\"glyph82-1 -4619766943910248322\">\n<path style=\"stroke:none;\" d=\"M 103.3125 -42.578125 L 145.765625 -42.578125 C 152.421875 -42.578125 156.234375 -43.328125 156.234375 -44.734375 C 156.234375 -46.15625 152.734375 -46.8125 145.765625 -46.8125 L 44.359375 -46.8125 C 37.703125 -46.8125 34.21875 -46.15625 34.21875 -44.734375 C 34.21875 -43.328125 37.703125 -42.578125 44.359375 -42.578125 L 86.828125 -42.578125 L 86.828125 -4.234375 L 44.359375 -4.234375 C 37.703125 -4.234375 34.21875 -3.5 34.21875 -2.15625 C 34.21875 -0.75 37.703125 0 44.359375 0 L 145.765625 0 C 152.421875 0 156.234375 -0.75 156.234375 -2.15625 C 156.234375 -3.5 152.734375 -4.234375 145.765625 -4.234375 L 103.3125 -4.234375 Z M 103.3125 -42.578125 \"/>\n</symbol>\n<symbol overflow=\"visible\" id=\"glyph83-0 -4619766943910248322\">\n<path style=\"stroke:none;\" d=\"\"/>\n</symbol>\n<symbol overflow=\"visible\" id=\"glyph83-1 -4619766943910248322\">\n<path style=\"stroke:none;\" d=\"M 15.546875 0 L 73.125 0 C 95.53125 0 109.671875 -1.671875 119.78125 -5.453125 C 131.296875 -9.828125 137.546875 -16.125 137.546875 -23.453125 C 137.546875 -30.703125 131.296875 -37 119.78125 -41.4375 C 109.671875 -45.21875 95.734375 -46.828125 73.125 -46.828125 L 15.546875 -46.828125 Z M 45.84375 -8.03125 L 45.84375 -38.796875 L 73.125 -38.796875 C 95.9375 -38.796875 107.25 -33.71875 107.25 -23.375 C 107.25 -13.109375 95.9375 -8.03125 73.125 -8.03125 Z M 45.84375 -8.03125 \"/>\n</symbol>\n<symbol overflow=\"visible\" id=\"glyph84-0 -4619766943910248322\">\n<path style=\"stroke:none;\" d=\"\"/>\n</symbol>\n<symbol overflow=\"visible\" id=\"glyph84-1 -4619766943910248322\">\n<path style=\"stroke:none;\" d=\"M 51.265625 -23.0625 L 129.390625 -23.0625 L 129.390625 -32.25 L 51.265625 -32.25 L 51.265625 -44.375 L 135.65625 -44.375 L 135.65625 -53.5625 L 17.6875 -53.5625 L 17.6875 0 L 139.6875 0 L 139.6875 -9.1875 L 51.265625 -9.1875 Z M 51.265625 -23.0625 \"/>\n</symbol>\n<symbol overflow=\"visible\" id=\"glyph85-0 -4619766943910248322\">\n<path style=\"stroke:none;\" d=\"\"/>\n</symbol>\n<symbol overflow=\"visible\" id=\"glyph85-1 -4619766943910248322\">\n<path style=\"stroke:none;\" d=\"M 56.234375 -60.28125 L 19.5625 -60.28125 L 19.5625 0 L 141.578125 0 L 141.578125 -10.34375 L 56.234375 -10.34375 Z M 56.234375 -60.28125 \"/>\n</symbol>\n<symbol overflow=\"visible\" id=\"glyph86-0 -4619766943910248322\">\n<path style=\"stroke:none;\" d=\"\"/>\n</symbol>\n<symbol overflow=\"visible\" id=\"glyph86-1 -4619766943910248322\">\n<path style=\"stroke:none;\" d=\"M 49.484375 -4.703125 L 90.4375 -4.703125 C 119.78125 -4.703125 138.609375 -6.421875 138.609375 -9.09375 C 138.609375 -11.75 120.4375 -13.1875 87.15625 -13.1875 L 16.640625 -13.1875 L 16.640625 0 L 49.484375 0 Z M 49.484375 -6.96875 L 49.484375 -10.921875 L 80.140625 -10.921875 C 97.65625 -10.921875 105.765625 -10.296875 105.765625 -8.953125 C 105.765625 -7.59375 97.65625 -6.96875 80.140625 -6.96875 Z M 49.484375 -6.96875 \"/>\n</symbol>\n<symbol overflow=\"visible\" id=\"glyph87-0 -4619766943910248322\">\n<path style=\"stroke:none;\" d=\"\"/>\n</symbol>\n<symbol overflow=\"visible\" id=\"glyph87-1 -4619766943910248322\">\n<path style=\"stroke:none;\" d=\"M 53.359375 -5.6875 L 129.34375 -5.6875 L 129.34375 -7.9375 L 53.359375 -7.9375 L 53.359375 -10.921875 L 139.59375 -10.921875 L 139.59375 -13.1875 L 17.625 -13.1875 L 17.625 0 L 53.359375 0 Z M 53.359375 -5.6875 \"/>\n</symbol>\n<symbol overflow=\"visible\" id=\"glyph88-0 -4619766943910248322\">\n<path style=\"stroke:none;\" d=\"\"/>\n</symbol>\n<symbol overflow=\"visible\" id=\"glyph88-1 -4619766943910248322\">\n<path style=\"stroke:none;\" d=\"M 90.328125 -4.015625 L 98.96875 0 L 126.734375 0 L 81.3125 -19.9375 L 51.375 -19.9375 L 4.6875 0 L 32.265625 0 L 41.109375 -4.015625 Z M 82.921875 -7.4375 L 48.671875 -7.4375 L 65.796875 -15.234375 Z M 82.921875 -7.4375 \"/>\n</symbol>\n<symbol overflow=\"visible\" id=\"glyph89-0 -4619766943910248322\">\n<path style=\"stroke:none;\" d=\"\"/>\n</symbol>\n<symbol overflow=\"visible\" id=\"glyph89-1 -4619766943910248322\">\n<path style=\"stroke:none;\" d=\"M 77.71875 0 L 126.671875 -26.828125 L 97.109375 -26.828125 L 65.984375 -6.625 L 34.265625 -26.828125 L 4.703125 -26.828125 L 52.859375 0 Z M 77.71875 0 \"/>\n</symbol>\n<symbol overflow=\"visible\" id=\"glyph90-0 -4619766943910248322\">\n<path style=\"stroke:none;\" d=\"\"/>\n</symbol>\n<symbol overflow=\"visible\" id=\"glyph90-1 -4619766943910248322\">\n<path style=\"stroke:none;\" d=\"M 56.234375 -40.453125 L 19.5625 -40.453125 L 19.5625 0 L 141.578125 0 L 141.578125 -6.9375 L 56.234375 -6.9375 Z M 56.234375 -40.453125 \"/>\n</symbol>\n<symbol overflow=\"visible\" id=\"glyph91-0 -4619766943910248322\">\n<path style=\"stroke:none;\" d=\"\"/>\n</symbol>\n<symbol overflow=\"visible\" id=\"glyph91-1 -4619766943910248322\">\n<path style=\"stroke:none;\" d=\"M 103.3125 -36.8125 L 145.765625 -36.8125 C 152.421875 -36.8125 156.234375 -37.46875 156.234375 -38.6875 C 156.234375 -39.90625 152.734375 -40.484375 145.765625 -40.484375 L 44.359375 -40.484375 C 37.703125 -40.484375 34.21875 -39.90625 34.21875 -38.6875 C 34.21875 -37.46875 37.703125 -36.8125 44.359375 -36.8125 L 86.828125 -36.8125 L 86.828125 -3.671875 L 44.359375 -3.671875 C 37.703125 -3.671875 34.21875 -3.015625 34.21875 -1.875 C 34.21875 -0.640625 37.703125 0 44.359375 0 L 145.765625 0 C 152.421875 0 156.234375 -0.640625 156.234375 -1.875 C 156.234375 -3.015625 152.734375 -3.671875 145.765625 -3.671875 L 103.3125 -3.671875 Z M 103.3125 -36.8125 \"/>\n</symbol>\n<symbol overflow=\"visible\" id=\"glyph92-0 -4619766943910248322\">\n<path style=\"stroke:none;\" d=\"\"/>\n</symbol>\n<symbol overflow=\"visible\" id=\"glyph92-1 -4619766943910248322\">\n<path style=\"stroke:none;\" d=\"M 15.546875 0 L 73.125 0 C 95.53125 0 109.671875 -1.4375 119.78125 -4.71875 C 131.296875 -8.484375 137.546875 -13.9375 137.546875 -20.25 C 137.546875 -26.53125 131.296875 -31.96875 119.78125 -35.796875 C 109.671875 -39.078125 95.734375 -40.453125 73.125 -40.453125 L 15.546875 -40.453125 Z M 45.84375 -6.9375 L 45.84375 -33.515625 L 73.125 -33.515625 C 95.9375 -33.515625 107.25 -29.140625 107.25 -20.203125 C 107.25 -11.328125 95.9375 -6.9375 73.125 -6.9375 Z M 45.84375 -6.9375 \"/>\n</symbol>\n<symbol overflow=\"visible\" id=\"glyph93-0 -4619766943910248322\">\n<path style=\"stroke:none;\" d=\"\"/>\n</symbol>\n<symbol overflow=\"visible\" id=\"glyph93-1 -4619766943910248322\">\n<path style=\"stroke:none;\" d=\"M 105.09375 0 L 135.9375 0 L 135.9375 -60.96875 L 105.09375 -60.96875 L 105.09375 -19.484375 L 45.65625 -60.96875 L 13.984375 -60.96875 L 13.984375 0 L 44.828125 0 L 44.828125 -42.140625 Z M 105.09375 0 \"/>\n</symbol>\n<symbol overflow=\"visible\" id=\"glyph94-0 -4619766943910248322\">\n<path style=\"stroke:none;\" d=\"\"/>\n</symbol>\n<symbol overflow=\"visible\" id=\"glyph94-1 -4619766943910248322\">\n<path style=\"stroke:none;\" d=\"M 42.5 -22.703125 L 56.71875 -29.96875 L 102.0625 0 L 136.03125 0 L 74.9375 -38.609375 L 130.140625 -67.828125 L 96.5625 -67.828125 L 42.5 -38.0625 L 42.5 -67.828125 L 14.046875 -67.828125 L 14.046875 0 L 42.5 0 Z M 42.5 -22.703125 \"/>\n</symbol>\n<symbol overflow=\"visible\" id=\"glyph95-0 -4619766943910248322\">\n<path style=\"stroke:none;\" d=\"\"/>\n</symbol>\n<symbol overflow=\"visible\" id=\"glyph95-1 -4619766943910248322\">\n<path style=\"stroke:none;\" d=\"M 51.265625 -43.921875 L 129.390625 -43.921875 L 129.390625 -61.40625 L 51.265625 -61.40625 L 51.265625 -84.484375 L 135.65625 -84.484375 L 135.65625 -101.96875 L 17.6875 -101.96875 L 17.6875 0 L 139.6875 0 L 139.6875 -17.484375 L 51.265625 -17.484375 Z M 51.265625 -43.921875 \"/>\n</symbol>\n</g>\n</defs>\n<g id=\"surface1\">\n<path style=\"fill:none;stroke-width:2.08333;stroke-linecap:butt;stroke-linejoin:miter;stroke:rgb(0%,0%,0%);stroke-opacity:1;stroke-miterlimit:10;\" d=\"M 110.416667 58.333333 L 131.25 58.333333 L 131.25 2620.833333 \" transform=\"matrix(0.24,0,0,-0.24,0,635)\"/>\n<g style=\"fill:rgb(0%,0%,0%);fill-opacity:1;\">\n  <use xlink:href=\"#glyph0-1 -4619766943910248322\" x=\"14.880912\" y=\"623.964691\"/>\n  <use xlink:href=\"#glyph0-2 -4619766943910248322\" x=\"19.328915\" y=\"623.964691\"/>\n  <use xlink:href=\"#glyph0-1 -4619766943910248322\" x=\"21.552917\" y=\"623.964691\"/>\n</g>\n<path style=\"fill:none;stroke-width:2.08333;stroke-linecap:butt;stroke-linejoin:miter;stroke:rgb(0%,0%,0%);stroke-opacity:1;stroke-miterlimit:10;\" d=\"M 110.416667 58.333333 L 131.25 58.333333 \" transform=\"matrix(0.24,0,0,-0.24,0,635)\"/>\n<g style=\"fill:rgb(0%,0%,0%);fill-opacity:1;\">\n  <use xlink:href=\"#glyph0-1 -4619766943910248322\" x=\"14.880912\" y=\"316.464745\"/>\n  <use xlink:href=\"#glyph0-2 -4619766943910248322\" x=\"19.328915\" y=\"316.464745\"/>\n  <use xlink:href=\"#glyph0-3 -4619766943910248322\" x=\"21.552917\" y=\"316.464745\"/>\n</g>\n<path style=\"fill:none;stroke-width:2.08333;stroke-linecap:butt;stroke-linejoin:miter;stroke:rgb(0%,0%,0%);stroke-opacity:1;stroke-miterlimit:10;\" d=\"M 110.416667 1339.583333 L 131.25 1339.583333 \" transform=\"matrix(0.24,0,0,-0.24,0,635)\"/>\n<g style=\"fill:rgb(0%,0%,0%);fill-opacity:1;\">\n  <use xlink:href=\"#glyph0-4 -4619766943910248322\" x=\"14.880912\" y=\"8.964499\"/>\n  <use xlink:href=\"#glyph0-2 -4619766943910248322\" x=\"19.328915\" y=\"8.964499\"/>\n  <use xlink:href=\"#glyph0-1 -4619766943910248322\" x=\"21.552917\" y=\"8.964499\"/>\n</g>\n<path style=\"fill:none;stroke-width:2.08333;stroke-linecap:butt;stroke-linejoin:miter;stroke:rgb(0%,0%,0%);stroke-opacity:1;stroke-miterlimit:10;\" d=\"M 110.416667 2620.833333 L 131.25 2620.833333 \" transform=\"matrix(0.24,0,0,-0.24,0,635)\"/>\n<path style=\"fill:none;stroke-width:2.08333;stroke-linecap:butt;stroke-linejoin:miter;stroke:rgb(0%,0%,0%);stroke-opacity:1;stroke-miterlimit:10;\" d=\"M 131.25 58.333333 L 120.833333 58.333333 \" transform=\"matrix(0.24,0,0,-0.24,0,635)\"/>\n<path style=\"fill:none;stroke-width:2.08333;stroke-linecap:butt;stroke-linejoin:miter;stroke:rgb(0%,0%,0%);stroke-opacity:1;stroke-miterlimit:10;\" d=\"M 131.25 314.583333 L 120.833333 314.583333 \" transform=\"matrix(0.24,0,0,-0.24,0,635)\"/>\n<path style=\"fill:none;stroke-width:2.08333;stroke-linecap:butt;stroke-linejoin:miter;stroke:rgb(0%,0%,0%);stroke-opacity:1;stroke-miterlimit:10;\" d=\"M 131.25 570.833333 L 120.833333 570.833333 \" transform=\"matrix(0.24,0,0,-0.24,0,635)\"/>\n<path style=\"fill:none;stroke-width:2.08333;stroke-linecap:butt;stroke-linejoin:miter;stroke:rgb(0%,0%,0%);stroke-opacity:1;stroke-miterlimit:10;\" d=\"M 131.25 827.083333 L 120.833333 827.083333 \" transform=\"matrix(0.24,0,0,-0.24,0,635)\"/>\n<path style=\"fill:none;stroke-width:2.08333;stroke-linecap:butt;stroke-linejoin:miter;stroke:rgb(0%,0%,0%);stroke-opacity:1;stroke-miterlimit:10;\" d=\"M 131.25 1083.333333 L 120.833333 1083.333333 \" transform=\"matrix(0.24,0,0,-0.24,0,635)\"/>\n<path style=\"fill:none;stroke-width:2.08333;stroke-linecap:butt;stroke-linejoin:miter;stroke:rgb(0%,0%,0%);stroke-opacity:1;stroke-miterlimit:10;\" d=\"M 131.25 1339.583333 L 120.833333 1339.583333 \" transform=\"matrix(0.24,0,0,-0.24,0,635)\"/>\n<path style=\"fill:none;stroke-width:2.08333;stroke-linecap:butt;stroke-linejoin:miter;stroke:rgb(0%,0%,0%);stroke-opacity:1;stroke-miterlimit:10;\" d=\"M 131.25 1595.833333 L 120.833333 1595.833333 \" transform=\"matrix(0.24,0,0,-0.24,0,635)\"/>\n<path style=\"fill:none;stroke-width:2.08333;stroke-linecap:butt;stroke-linejoin:miter;stroke:rgb(0%,0%,0%);stroke-opacity:1;stroke-miterlimit:10;\" d=\"M 131.25 1852.083333 L 120.833333 1852.083333 \" transform=\"matrix(0.24,0,0,-0.24,0,635)\"/>\n<path style=\"fill:none;stroke-width:2.08333;stroke-linecap:butt;stroke-linejoin:miter;stroke:rgb(0%,0%,0%);stroke-opacity:1;stroke-miterlimit:10;\" d=\"M 131.25 2108.333333 L 120.833333 2108.333333 \" transform=\"matrix(0.24,0,0,-0.24,0,635)\"/>\n<path style=\"fill:none;stroke-width:2.08333;stroke-linecap:butt;stroke-linejoin:miter;stroke:rgb(0%,0%,0%);stroke-opacity:1;stroke-miterlimit:10;\" d=\"M 131.25 2364.583333 L 120.833333 2364.583333 \" transform=\"matrix(0.24,0,0,-0.24,0,635)\"/>\n<g style=\"fill:rgb(0%,0%,0%);fill-opacity:1;\">\n  <use xlink:href=\"#glyph1-1 -4619766943910248322\" x=\"11.851909\" y=\"336.282761\"/>\n  <use xlink:href=\"#glyph1-2 -4619766943910248322\" x=\"11.851909\" y=\"330.722757\"/>\n  <use xlink:href=\"#glyph1-3 -4619766943910248322\" x=\"11.851909\" y=\"327.392754\"/>\n  <use xlink:href=\"#glyph1-4 -4619766943910248322\" x=\"11.851909\" y=\"321.832749\"/>\n  <use xlink:href=\"#glyph1-5 -4619766943910248322\" x=\"11.851909\" y=\"316.272745\"/>\n  <use xlink:href=\"#glyph1-4 -4619766943910248322\" x=\"11.851909\" y=\"310.712741\"/>\n  <use xlink:href=\"#glyph1-6 -4619766943910248322\" x=\"11.851909\" y=\"305.152736\"/>\n  <use xlink:href=\"#glyph1-7 -4619766943910248322\" x=\"11.851909\" y=\"302.932734\"/>\n  <use xlink:href=\"#glyph1-6 -4619766943910248322\" x=\"11.851909\" y=\"300.712733\"/>\n  <use xlink:href=\"#glyph1-8 -4619766943910248322\" x=\"11.851909\" y=\"298.492731\"/>\n  <use xlink:href=\"#glyph1-9 -4619766943910248322\" x=\"11.851909\" y=\"295.712729\"/>\n</g>\n<path style=\"fill:none;stroke-width:2.08333;stroke-linecap:butt;stroke-linejoin:miter;stroke:rgb(0%,0%,0%);stroke-opacity:1;stroke-miterlimit:10;\" d=\"M 133.333333 58.333333 L 645.833333 58.333333 M 389.583333 58.333333 L 389.583333 53.125 \" transform=\"matrix(0.24,0,0,-0.24,0,635)\"/>\n<g style=\"fill:rgb(0%,50.193787%,0%);fill-opacity:1;\">\n  <use xlink:href=\"#glyph2-1 -4619766943910248322\" x=\"18.419115\" y=\"620.499688\"/>\n</g>\n<g style=\"fill:rgb(0%,0%,0%);fill-opacity:1;\">\n  <use xlink:href=\"#glyph3-1 -4619766943910248322\" x=\"24.126619\" y=\"613.395283\"/>\n</g>\n<g style=\"fill:rgb(0%,0%,0%);fill-opacity:1;\">\n  <use xlink:href=\"#glyph4-1 -4619766943910248322\" x=\"27.212822\" y=\"606.679977\"/>\n</g>\n<g style=\"fill:rgb(0%,50.193787%,0%);fill-opacity:1;\">\n  <use xlink:href=\"#glyph5-1 -4619766943910248322\" x=\"15.854113\" y=\"592.859366\"/>\n</g>\n<g style=\"fill:rgb(0%,0%,0%);fill-opacity:1;\">\n  <use xlink:href=\"#glyph6-1 -4619766943910248322\" x=\"14.867812\" y=\"579.038755\"/>\n</g>\n<g style=\"fill:rgb(0%,0%,100%);fill-opacity:1;\">\n  <use xlink:href=\"#glyph7-1 -4619766943910248322\" x=\"25.02282\" y=\"563.850243\"/>\n</g>\n<g style=\"fill:rgb(0%,50.193787%,0%);fill-opacity:1;\">\n  <use xlink:href=\"#glyph8-1 -4619766943910248322\" x=\"24.84282\" y=\"543.876827\"/>\n</g>\n<g style=\"fill:rgb(0%,50.193787%,0%);fill-opacity:1;\">\n  <use xlink:href=\"#glyph9-1 -4619766943910248322\" x=\"27.812822\" y=\"523.757911\"/>\n</g>\n<g style=\"fill:rgb(0%,0%,0%);fill-opacity:1;\">\n  <use xlink:href=\"#glyph10-1 -4619766943910248322\" x=\"27.801622\" y=\"503.026894\"/>\n</g>\n<g style=\"fill:rgb(0%,0%,100%);fill-opacity:1;\">\n  <use xlink:href=\"#glyph11-1 -4619766943910248322\" x=\"16.154113\" y=\"475.386872\"/>\n</g>\n<g style=\"fill:rgb(0%,0%,100%);fill-opacity:1;\">\n  <use xlink:href=\"#glyph12-1 -4619766943910248322\" x=\"16.941614\" y=\"447.74685\"/>\n</g>\n<g style=\"fill:rgb(0%,50.193787%,0%);fill-opacity:1;\">\n  <use xlink:href=\"#glyph13-1 -4619766943910248322\" x=\"29.575324\" y=\"420.105828\"/>\n</g>\n<g style=\"fill:rgb(0%,0%,0%);fill-opacity:1;\">\n  <use xlink:href=\"#glyph14-1 -4619766943910248322\" x=\"-1.718441\" y=\"385.5558\"/>\n</g>\n<g style=\"fill:rgb(0%,50.193787%,0%);fill-opacity:1;\">\n  <use xlink:href=\"#glyph15-1 -4619766943910248322\" x=\"26.005321\" y=\"342.654766\"/>\n</g>\n<g style=\"fill:rgb(0%,0%,100%);fill-opacity:1;\">\n  <use xlink:href=\"#glyph16-1 -4619766943910248322\" x=\"18.512815\" y=\"295.722729\"/>\n</g>\n<g style=\"fill:rgb(0%,0%,0%);fill-opacity:1;\">\n  <use xlink:href=\"#glyph17-1 -4619766943910248322\" x=\"21.164117\" y=\"247.35169\"/>\n</g>\n<g style=\"fill:rgb(0%,0%,0%);fill-opacity:1;\">\n  <use xlink:href=\"#glyph18-1 -4619766943910248322\" x=\"12.93661\" y=\"198.981651\"/>\n</g>\n<g style=\"fill:rgb(0%,0%,100%);fill-opacity:1;\">\n  <use xlink:href=\"#glyph19-1 -4619766943910248322\" x=\"18.464115\" y=\"150.610612\"/>\n</g>\n<g style=\"fill:rgb(0%,0%,100%);fill-opacity:1;\">\n  <use xlink:href=\"#glyph20-1 -4619766943910248322\" x=\"14.811612\" y=\"81.508557\"/>\n</g>\n<path style=\"fill:none;stroke-width:2.08333;stroke-linecap:butt;stroke-linejoin:miter;stroke:rgb(0%,0%,0%);stroke-opacity:1;stroke-miterlimit:10;\" d=\"M 645.833333 58.333333 L 1158.333333 58.333333 M 902.083333 58.333333 L 902.083333 53.125 \" transform=\"matrix(0.24,0,0,-0.24,0,635)\"/>\n<g style=\"fill:rgb(0%,0%,0%);fill-opacity:1;\">\n  <use xlink:href=\"#glyph21-1 -4619766943910248322\" x=\"153.775123\" y=\"620.499688\"/>\n</g>\n<g style=\"fill:rgb(0%,50.193787%,0%);fill-opacity:1;\">\n  <use xlink:href=\"#glyph2-1 -4619766943910248322\" x=\"141.419113\" y=\"613.590283\"/>\n</g>\n<g style=\"fill:rgb(0%,0%,0%);fill-opacity:1;\">\n  <use xlink:href=\"#glyph3-1 -4619766943910248322\" x=\"147.127118\" y=\"606.484977\"/>\n</g>\n<g style=\"fill:rgb(0%,0%,0%);fill-opacity:1;\">\n  <use xlink:href=\"#glyph4-1 -4619766943910248322\" x=\"150.21312\" y=\"599.769672\"/>\n</g>\n<g style=\"fill:rgb(0%,50.193787%,0%);fill-opacity:1;\">\n  <use xlink:href=\"#glyph5-1 -4619766943910248322\" x=\"138.854111\" y=\"585.949061\"/>\n</g>\n<g style=\"fill:rgb(0%,0%,100%);fill-opacity:1;\">\n  <use xlink:href=\"#glyph7-1 -4619766943910248322\" x=\"148.023118\" y=\"570.760549\"/>\n</g>\n<g style=\"fill:rgb(0%,0%,0%);fill-opacity:1;\">\n  <use xlink:href=\"#glyph22-1 -4619766943910248322\" x=\"137.86811\" y=\"551.398333\"/>\n</g>\n<g style=\"fill:rgb(0%,50.193787%,0%);fill-opacity:1;\">\n  <use xlink:href=\"#glyph23-1 -4619766943910248322\" x=\"152.575122\" y=\"530.667917\"/>\n</g>\n<g style=\"fill:rgb(0%,0%,0%);fill-opacity:1;\">\n  <use xlink:href=\"#glyph24-1 -4619766943910248322\" x=\"144.164115\" y=\"503.026894\"/>\n</g>\n<g style=\"fill:rgb(0%,50.193787%,0%);fill-opacity:1;\">\n  <use xlink:href=\"#glyph25-1 -4619766943910248322\" x=\"147.843118\" y=\"474.572872\"/>\n</g>\n<g style=\"fill:rgb(0%,0%,100%);fill-opacity:1;\">\n  <use xlink:href=\"#glyph12-1 -4619766943910248322\" x=\"139.942112\" y=\"447.74685\"/>\n</g>\n<g style=\"fill:rgb(0%,50.193787%,0%);fill-opacity:1;\">\n  <use xlink:href=\"#glyph26-1 -4619766943910248322\" x=\"150.813121\" y=\"420.105828\"/>\n</g>\n<g style=\"fill:rgb(0%,0%,0%);fill-opacity:1;\">\n  <use xlink:href=\"#glyph27-1 -4619766943910248322\" x=\"150.802121\" y=\"392.464806\"/>\n</g>\n<g style=\"fill:rgb(0%,0%,100%);fill-opacity:1;\">\n  <use xlink:href=\"#glyph28-1 -4619766943910248322\" x=\"139.154111\" y=\"357.913778\"/>\n</g>\n<g style=\"fill:rgb(0%,50.193787%,0%);fill-opacity:1;\">\n  <use xlink:href=\"#glyph29-1 -4619766943910248322\" x=\"149.005119\" y=\"322.12975\"/>\n</g>\n<g style=\"fill:rgb(0%,0%,100%);fill-opacity:1;\">\n  <use xlink:href=\"#glyph30-1 -4619766943910248322\" x=\"141.513113\" y=\"281.902718\"/>\n</g>\n<g style=\"fill:rgb(0%,0%,0%);fill-opacity:1;\">\n  <use xlink:href=\"#glyph31-1 -4619766943910248322\" x=\"121.282097\" y=\"240.441684\"/>\n</g>\n<g style=\"fill:rgb(0%,0%,100%);fill-opacity:1;\">\n  <use xlink:href=\"#glyph32-1 -4619766943910248322\" x=\"137.81211\" y=\"192.071646\"/>\n</g>\n<g style=\"fill:rgb(0%,0%,0%);fill-opacity:1;\">\n  <use xlink:href=\"#glyph33-1 -4619766943910248322\" x=\"135.937109\" y=\"143.699607\"/>\n</g>\n<g style=\"fill:rgb(0%,0%,100%);fill-opacity:1;\">\n  <use xlink:href=\"#glyph19-1 -4619766943910248322\" x=\"141.464113\" y=\"74.598552\"/>\n</g>\n<path style=\"fill:none;stroke-width:2.08333;stroke-linecap:butt;stroke-linejoin:miter;stroke:rgb(0%,0%,0%);stroke-opacity:1;stroke-miterlimit:10;\" d=\"M 1158.333333 58.333333 L 1670.833333 58.333333 M 1414.583333 58.333333 L 1414.583333 53.125 \" transform=\"matrix(0.24,0,0,-0.24,0,635)\"/>\n<g style=\"fill:rgb(0%,50.193787%,0%);fill-opacity:1;\">\n  <use xlink:href=\"#glyph34-1 -4619766943910248322\" x=\"261.854209\" y=\"620.499688\"/>\n</g>\n<g style=\"fill:rgb(0%,50.193787%,0%);fill-opacity:1;\">\n  <use xlink:href=\"#glyph35-1 -4619766943910248322\" x=\"264.419212\" y=\"613.667183\"/>\n</g>\n<g style=\"fill:rgb(0%,0%,0%);fill-opacity:1;\">\n  <use xlink:href=\"#glyph36-1 -4619766943910248322\" x=\"273.213219\" y=\"606.833777\"/>\n</g>\n<g style=\"fill:rgb(0%,0%,100%);fill-opacity:1;\">\n  <use xlink:href=\"#glyph37-1 -4619766943910248322\" x=\"262.15421\" y=\"593.166867\"/>\n</g>\n<g style=\"fill:rgb(0%,0%,100%);fill-opacity:1;\">\n  <use xlink:href=\"#glyph38-1 -4619766943910248322\" x=\"271.023217\" y=\"578.599955\"/>\n</g>\n<g style=\"fill:rgb(0%,50.193787%,0%);fill-opacity:1;\">\n  <use xlink:href=\"#glyph39-1 -4619766943910248322\" x=\"275.57522\" y=\"565.834045\"/>\n</g>\n<g style=\"fill:rgb(0%,0%,100%);fill-opacity:1;\">\n  <use xlink:href=\"#glyph40-1 -4619766943910248322\" x=\"264.464212\" y=\"545.333728\"/>\n</g>\n<g style=\"fill:rgb(0%,0%,0%);fill-opacity:1;\">\n  <use xlink:href=\"#glyph41-1 -4619766943910248322\" x=\"260.868209\" y=\"524.833912\"/>\n</g>\n<g style=\"fill:rgb(0%,50.193787%,0%);fill-opacity:1;\">\n  <use xlink:href=\"#glyph42-1 -4619766943910248322\" x=\"272.005218\" y=\"503.523895\"/>\n</g>\n<g style=\"fill:rgb(0%,0%,100%);fill-opacity:1;\">\n  <use xlink:href=\"#glyph43-1 -4619766943910248322\" x=\"264.513212\" y=\"477.000874\"/>\n</g>\n<g style=\"fill:rgb(0%,0%,0%);fill-opacity:1;\">\n  <use xlink:href=\"#glyph44-1 -4619766943910248322\" x=\"267.164214\" y=\"449.667852\"/>\n</g>\n<g style=\"fill:rgb(0%,50.193787%,0%);fill-opacity:1;\">\n  <use xlink:href=\"#glyph45-1 -4619766943910248322\" x=\"270.843217\" y=\"421.525829\"/>\n</g>\n<g style=\"fill:rgb(0%,50.193787%,0%);fill-opacity:1;\">\n  <use xlink:href=\"#glyph46-1 -4619766943910248322\" x=\"273.813219\" y=\"395.001808\"/>\n</g>\n<g style=\"fill:rgb(0%,0%,0%);fill-opacity:1;\">\n  <use xlink:href=\"#glyph47-1 -4619766943910248322\" x=\"273.802219\" y=\"367.668786\"/>\n</g>\n<g style=\"fill:rgb(0%,0%,0%);fill-opacity:1;\">\n  <use xlink:href=\"#glyph48-1 -4619766943910248322\" x=\"244.282195\" y=\"333.501759\"/>\n</g>\n<g style=\"fill:rgb(0%,0%,0%);fill-opacity:1;\">\n  <use xlink:href=\"#glyph49-1 -4619766943910248322\" x=\"258.937207\" y=\"299.335731\"/>\n</g>\n<g style=\"fill:rgb(0%,0%,100%);fill-opacity:1;\">\n  <use xlink:href=\"#glyph50-1 -4619766943910248322\" x=\"262.94221\" y=\"237.835682\"/>\n</g>\n<g style=\"fill:rgb(0%,0%,100%);fill-opacity:1;\">\n  <use xlink:href=\"#glyph51-1 -4619766943910248322\" x=\"260.812209\" y=\"128.501595\"/>\n</g>\n<path style=\"fill:none;stroke-width:2.08333;stroke-linecap:butt;stroke-linejoin:miter;stroke:rgb(0%,0%,0%);stroke-opacity:1;stroke-miterlimit:10;\" d=\"M 1670.833333 58.333333 L 2183.333333 58.333333 M 1927.083333 58.333333 L 1927.083333 53.125 \" transform=\"matrix(0.24,0,0,-0.24,0,635)\"/>\n<g style=\"fill:rgb(0%,0%,0%);fill-opacity:1;\">\n  <use xlink:href=\"#glyph52-1 -4619766943910248322\" x=\"399.77532\" y=\"620.499688\"/>\n</g>\n<g style=\"fill:rgb(0%,50.193787%,0%);fill-opacity:1;\">\n  <use xlink:href=\"#glyph35-1 -4619766943910248322\" x=\"387.41931\" y=\"613.667183\"/>\n</g>\n<g style=\"fill:rgb(0%,0%,0%);fill-opacity:1;\">\n  <use xlink:href=\"#glyph53-1 -4619766943910248322\" x=\"393.127315\" y=\"606.638777\"/>\n</g>\n<g style=\"fill:rgb(0%,0%,0%);fill-opacity:1;\">\n  <use xlink:href=\"#glyph36-1 -4619766943910248322\" x=\"396.213317\" y=\"600.000272\"/>\n</g>\n<g style=\"fill:rgb(0%,0%,100%);fill-opacity:1;\">\n  <use xlink:href=\"#glyph54-1 -4619766943910248322\" x=\"394.023315\" y=\"584.97966\"/>\n</g>\n<g style=\"fill:rgb(0%,50.193787%,0%);fill-opacity:1;\">\n  <use xlink:href=\"#glyph55-1 -4619766943910248322\" x=\"384.854308\" y=\"565.834045\"/>\n</g>\n<g style=\"fill:rgb(0%,0%,0%);fill-opacity:1;\">\n  <use xlink:href=\"#glyph41-1 -4619766943910248322\" x=\"383.868307\" y=\"545.333728\"/>\n</g>\n<g style=\"fill:rgb(0%,50.193787%,0%);fill-opacity:1;\">\n  <use xlink:href=\"#glyph56-1 -4619766943910248322\" x=\"398.575319\" y=\"524.833912\"/>\n</g>\n<g style=\"fill:rgb(0%,0%,100%);fill-opacity:1;\">\n  <use xlink:href=\"#glyph57-1 -4619766943910248322\" x=\"385.154308\" y=\"497.50189\"/>\n</g>\n<g style=\"fill:rgb(0%,0%,0%);fill-opacity:1;\">\n  <use xlink:href=\"#glyph44-1 -4619766943910248322\" x=\"390.164312\" y=\"470.167868\"/>\n</g>\n<g style=\"fill:rgb(0%,0%,100%);fill-opacity:1;\">\n  <use xlink:href=\"#glyph58-1 -4619766943910248322\" x=\"385.942309\" y=\"442.834846\"/>\n</g>\n<g style=\"fill:rgb(0%,50.193787%,0%);fill-opacity:1;\">\n  <use xlink:href=\"#glyph46-1 -4619766943910248322\" x=\"396.813317\" y=\"415.501824\"/>\n</g>\n<g style=\"fill:rgb(0%,0%,0%);fill-opacity:1;\">\n  <use xlink:href=\"#glyph47-1 -4619766943910248322\" x=\"396.802317\" y=\"388.168803\"/>\n</g>\n<g style=\"fill:rgb(0%,50.193787%,0%);fill-opacity:1;\">\n  <use xlink:href=\"#glyph59-1 -4619766943910248322\" x=\"393.843315\" y=\"352.985774\"/>\n</g>\n<g style=\"fill:rgb(0%,50.193787%,0%);fill-opacity:1;\">\n  <use xlink:href=\"#glyph60-1 -4619766943910248322\" x=\"395.005316\" y=\"318.615747\"/>\n</g>\n<g style=\"fill:rgb(0%,0%,100%);fill-opacity:1;\">\n  <use xlink:href=\"#glyph61-1 -4619766943910248322\" x=\"387.51331\" y=\"278.834715\"/>\n</g>\n<g style=\"fill:rgb(0%,0%,0%);fill-opacity:1;\">\n  <use xlink:href=\"#glyph62-1 -4619766943910248322\" x=\"367.282294\" y=\"237.834682\"/>\n</g>\n<g style=\"fill:rgb(0%,0%,100%);fill-opacity:1;\">\n  <use xlink:href=\"#glyph63-1 -4619766943910248322\" x=\"383.812307\" y=\"190.001644\"/>\n</g>\n<g style=\"fill:rgb(0%,0%,100%);fill-opacity:1;\">\n  <use xlink:href=\"#glyph64-1 -4619766943910248322\" x=\"387.46431\" y=\"135.3336\"/>\n</g>\n<g style=\"fill:rgb(0%,0%,0%);fill-opacity:1;\">\n  <use xlink:href=\"#glyph65-1 -4619766943910248322\" x=\"381.937306\" y=\"73.833551\"/>\n</g>\n<path style=\"fill:none;stroke-width:2.08333;stroke-linecap:butt;stroke-linejoin:miter;stroke:rgb(0%,0%,0%);stroke-opacity:1;stroke-miterlimit:10;\" d=\"M 2183.333333 58.333333 L 2695.833333 58.333333 M 2439.583333 58.333333 L 2439.583333 47.916667 \" transform=\"matrix(0.24,0,0,-0.24,0,635)\"/>\n<g style=\"fill:rgb(0%,0%,0%);fill-opacity:1;\">\n  <use xlink:href=\"#glyph0-3 -4619766943910248322\" x=\"583.276467\" y=\"631.500307\"/>\n</g>\n<g style=\"fill:rgb(0%,0%,0%);fill-opacity:1;\">\n  <use xlink:href=\"#glyph66-1 -4619766943910248322\" x=\"522.775418\" y=\"620.499688\"/>\n</g>\n<g style=\"fill:rgb(0%,0%,0%);fill-opacity:1;\">\n  <use xlink:href=\"#glyph67-1 -4619766943910248322\" x=\"516.127413\" y=\"613.554683\"/>\n</g>\n<g style=\"fill:rgb(0%,50.193787%,0%);fill-opacity:1;\">\n  <use xlink:href=\"#glyph68-1 -4619766943910248322\" x=\"507.854406\" y=\"606.983778\"/>\n</g>\n<g style=\"fill:rgb(0%,0%,0%);fill-opacity:1;\">\n  <use xlink:href=\"#glyph69-1 -4619766943910248322\" x=\"513.164411\" y=\"593.466867\"/>\n</g>\n<g style=\"fill:rgb(0%,50.193787%,0%);fill-opacity:1;\">\n  <use xlink:href=\"#glyph70-1 -4619766943910248322\" x=\"510.419408\" y=\"579.950856\"/>\n</g>\n<g style=\"fill:rgb(0%,0%,0%);fill-opacity:1;\">\n  <use xlink:href=\"#glyph71-1 -4619766943910248322\" x=\"519.213415\" y=\"566.434045\"/>\n</g>\n<g style=\"fill:rgb(0%,0%,100%);fill-opacity:1;\">\n  <use xlink:href=\"#glyph72-1 -4619766943910248322\" x=\"517.023414\" y=\"544.813328\"/>\n</g>\n<g style=\"fill:rgb(0%,50.193787%,0%);fill-opacity:1;\">\n  <use xlink:href=\"#glyph73-1 -4619766943910248322\" x=\"521.575417\" y=\"525.883913\"/>\n</g>\n<g style=\"fill:rgb(0%,0%,100%);fill-opacity:1;\">\n  <use xlink:href=\"#glyph74-1 -4619766943910248322\" x=\"508.154407\" y=\"498.851891\"/>\n</g>\n<g style=\"fill:rgb(0%,50.193787%,0%);fill-opacity:1;\">\n  <use xlink:href=\"#glyph75-1 -4619766943910248322\" x=\"519.813416\" y=\"471.818869\"/>\n</g>\n<g style=\"fill:rgb(0%,50.193787%,0%);fill-opacity:1;\">\n  <use xlink:href=\"#glyph76-1 -4619766943910248322\" x=\"516.843413\" y=\"443.784847\"/>\n</g>\n<g style=\"fill:rgb(0%,0%,0%);fill-opacity:1;\">\n  <use xlink:href=\"#glyph77-1 -4619766943910248322\" x=\"506.868405\" y=\"410.994821\"/>\n</g>\n<g style=\"fill:rgb(0%,0%,0%);fill-opacity:1;\">\n  <use xlink:href=\"#glyph78-1 -4619766943910248322\" x=\"519.802416\" y=\"377.202794\"/>\n</g>\n<g style=\"fill:rgb(0%,50.193787%,0%);fill-opacity:1;\">\n  <use xlink:href=\"#glyph79-1 -4619766943910248322\" x=\"518.005414\" y=\"335.44576\"/>\n</g>\n<g style=\"fill:rgb(0%,0%,100%);fill-opacity:1;\">\n  <use xlink:href=\"#glyph80-1 -4619766943910248322\" x=\"510.513408\" y=\"296.104729\"/>\n</g>\n<g style=\"fill:rgb(0%,0%,100%);fill-opacity:1;\">\n  <use xlink:href=\"#glyph81-1 -4619766943910248322\" x=\"510.464408\" y=\"255.554696\"/>\n</g>\n<g style=\"fill:rgb(0%,0%,0%);fill-opacity:1;\">\n  <use xlink:href=\"#glyph82-1 -4619766943910248322\" x=\"490.282392\" y=\"215.005664\"/>\n</g>\n<g style=\"fill:rgb(0%,0%,100%);fill-opacity:1;\">\n  <use xlink:href=\"#glyph83-1 -4619766943910248322\" x=\"508.942407\" y=\"167.697626\"/>\n</g>\n<g style=\"fill:rgb(0%,0%,100%);fill-opacity:1;\">\n  <use xlink:href=\"#glyph84-1 -4619766943910248322\" x=\"506.812405\" y=\"120.389588\"/>\n</g>\n<g style=\"fill:rgb(0%,0%,0%);fill-opacity:1;\">\n  <use xlink:href=\"#glyph85-1 -4619766943910248322\" x=\"504.937404\" y=\"66.324545\"/>\n</g>\n<path style=\"fill:none;stroke-width:2.08333;stroke-linecap:butt;stroke-linejoin:miter;stroke:rgb(0%,0%,0%);stroke-opacity:1;stroke-miterlimit:10;\" d=\"M 2695.833333 58.333333 L 3208.333333 58.333333 M 2952.083333 58.333333 L 2952.083333 53.125 \" transform=\"matrix(0.24,0,0,-0.24,0,635)\"/>\n<g style=\"fill:rgb(0%,0%,0%);fill-opacity:1;\">\n  <use xlink:href=\"#glyph52-1 -4619766943910248322\" x=\"645.775517\" y=\"620.499688\"/>\n</g>\n<g style=\"fill:rgb(0%,50.193787%,0%);fill-opacity:1;\">\n  <use xlink:href=\"#glyph35-1 -4619766943910248322\" x=\"633.419507\" y=\"613.667183\"/>\n</g>\n<g style=\"fill:rgb(0%,0%,0%);fill-opacity:1;\">\n  <use xlink:href=\"#glyph36-1 -4619766943910248322\" x=\"642.213514\" y=\"606.833777\"/>\n</g>\n<g style=\"fill:rgb(0%,50.193787%,0%);fill-opacity:1;\">\n  <use xlink:href=\"#glyph86-1 -4619766943910248322\" x=\"630.854505\" y=\"593.166867\"/>\n</g>\n<g style=\"fill:rgb(0%,0%,0%);fill-opacity:1;\">\n  <use xlink:href=\"#glyph87-1 -4619766943910248322\" x=\"629.868504\" y=\"579.499956\"/>\n</g>\n<g style=\"fill:rgb(0%,0%,100%);fill-opacity:1;\">\n  <use xlink:href=\"#glyph54-1 -4619766943910248322\" x=\"640.023512\" y=\"564.480244\"/>\n</g>\n<g style=\"fill:rgb(0%,50.193787%,0%);fill-opacity:1;\">\n  <use xlink:href=\"#glyph88-1 -4619766943910248322\" x=\"642.813514\" y=\"545.333728\"/>\n</g>\n<g style=\"fill:rgb(0%,0%,0%);fill-opacity:1;\">\n  <use xlink:href=\"#glyph89-1 -4619766943910248322\" x=\"642.802514\" y=\"524.833912\"/>\n</g>\n<g style=\"fill:rgb(0%,50.193787%,0%);fill-opacity:1;\">\n  <use xlink:href=\"#glyph56-1 -4619766943910248322\" x=\"644.575516\" y=\"497.50189\"/>\n</g>\n<g style=\"fill:rgb(0%,50.193787%,0%);fill-opacity:1;\">\n  <use xlink:href=\"#glyph42-1 -4619766943910248322\" x=\"641.005513\" y=\"469.357867\"/>\n</g>\n<g style=\"fill:rgb(0%,0%,100%);fill-opacity:1;\">\n  <use xlink:href=\"#glyph57-1 -4619766943910248322\" x=\"631.154505\" y=\"442.834846\"/>\n</g>\n<g style=\"fill:rgb(0%,0%,0%);fill-opacity:1;\">\n  <use xlink:href=\"#glyph44-1 -4619766943910248322\" x=\"636.164509\" y=\"415.501824\"/>\n</g>\n<g style=\"fill:rgb(0%,50.193787%,0%);fill-opacity:1;\">\n  <use xlink:href=\"#glyph45-1 -4619766943910248322\" x=\"639.843512\" y=\"387.358802\"/>\n</g>\n<g style=\"fill:rgb(0%,0%,0%);fill-opacity:1;\">\n  <use xlink:href=\"#glyph90-1 -4619766943910248322\" x=\"627.937502\" y=\"360.835781\"/>\n</g>\n<g style=\"fill:rgb(0%,0%,0%);fill-opacity:1;\">\n  <use xlink:href=\"#glyph91-1 -4619766943910248322\" x=\"613.282491\" y=\"319.835748\"/>\n</g>\n<g style=\"fill:rgb(0%,0%,100%);fill-opacity:1;\">\n  <use xlink:href=\"#glyph92-1 -4619766943910248322\" x=\"631.942506\" y=\"278.834715\"/>\n</g>\n<g style=\"fill:rgb(0%,0%,100%);fill-opacity:1;\">\n  <use xlink:href=\"#glyph93-1 -4619766943910248322\" x=\"633.513507\" y=\"237.835682\"/>\n</g>\n<g style=\"fill:rgb(0%,0%,100%);fill-opacity:1;\">\n  <use xlink:href=\"#glyph94-1 -4619766943910248322\" x=\"633.464507\" y=\"176.335633\"/>\n</g>\n<g style=\"fill:rgb(0%,0%,100%);fill-opacity:1;\">\n  <use xlink:href=\"#glyph95-1 -4619766943910248322\" x=\"629.812504\" y=\"108.001578\"/>\n</g>\n</g>\n</svg>"
          },
          "metadata": {},
          "execution_count": 4
        }
      ]
    },
    {
      "cell_type": "code",
      "source": [
        "def seqlogo_plot(berteome, ic_scale = False, format = 'svg', size = 'xlarge'):\n",
        "  berteome_aas = berteome.df[list(berteome.aas)]\n",
        "  berteome_seqlogoPPM = seqlogo.Ppm(berteome_aas,alphabet_type = \"AA\")\n",
        "  return seqlogo.seqlogo(berteome_seqlogoPPM ,ic_scale = ic_scale, format = format, size = size)"
      ],
      "metadata": {
        "id": "X27E43Fmn0v2"
      },
      "execution_count": 5,
      "outputs": []
    },
    {
      "cell_type": "code",
      "source": [
        "seqlogo_plot(mendel_berteome)"
      ],
      "metadata": {
        "id": "eWVBAksDoiAN",
        "outputId": "01bbb98e-3fda-4dfc-b0ec-3513f335a3f2",
        "colab": {
          "base_uri": "https://localhost:8080/",
          "height": 868
        }
      },
      "execution_count": 6,
      "outputs": [
        {
          "output_type": "execute_result",
          "data": {
            "text/plain": [
              "<IPython.core.display.SVG object>"
            ],
            "image/svg+xml": "<svg xmlns=\"http://www.w3.org/2000/svg\" xmlns:xlink=\"http://www.w3.org/1999/xlink\" width=\"776pt\" height=\"635pt\" viewBox=\"0 0 776 635\" version=\"1.1\">\n<defs>\n<g>\n<symbol overflow=\"visible\" id=\"glyph0-0 -4619766943910248322\">\n<path style=\"stroke:none;\" d=\"\"/>\n</symbol>\n<symbol overflow=\"visible\" id=\"glyph0-1 -4619766943910248322\">\n<path style=\"stroke:none;\" d=\"M 2.203125 -5.78125 C 1.671875 -5.78125 1.1875 -5.546875 0.890625 -5.15625 C 0.53125 -4.640625 0.34375 -3.875 0.34375 -2.796875 C 0.34375 -0.84375 0.984375 0.1875 2.203125 0.1875 C 3.40625 0.1875 4.0625 -0.84375 4.0625 -2.75 C 4.0625 -3.875 3.875 -4.625 3.5 -5.15625 C 3.203125 -5.546875 2.734375 -5.78125 2.203125 -5.78125 Z M 2.203125 -5.15625 C 2.953125 -5.15625 3.34375 -4.390625 3.34375 -2.8125 C 3.34375 -1.171875 2.96875 -0.40625 2.1875 -0.40625 C 1.4375 -0.40625 1.0625 -1.203125 1.0625 -2.796875 C 1.0625 -4.390625 1.4375 -5.15625 2.203125 -5.15625 Z M 2.203125 -5.15625 \"/>\n</symbol>\n<symbol overflow=\"visible\" id=\"glyph0-2 -4619766943910248322\">\n<path style=\"stroke:none;\" d=\"M 1.53125 -0.828125 L 0.703125 -0.828125 L 0.703125 0 L 1.53125 0 Z M 1.53125 -0.828125 \"/>\n</symbol>\n<symbol overflow=\"visible\" id=\"glyph0-3 -4619766943910248322\">\n<path style=\"stroke:none;\" d=\"M 3.8125 -5.671875 L 0.875 -5.671875 L 0.453125 -2.578125 L 1.109375 -2.578125 C 1.4375 -2.96875 1.703125 -3.109375 2.15625 -3.109375 C 2.90625 -3.109375 3.390625 -2.59375 3.390625 -1.75 C 3.390625 -0.9375 2.90625 -0.4375 2.140625 -0.4375 C 1.53125 -0.4375 1.15625 -0.75 0.984375 -1.390625 L 0.28125 -1.390625 C 0.375 -0.921875 0.453125 -0.703125 0.625 -0.5 C 0.9375 -0.0625 1.515625 0.1875 2.15625 0.1875 C 3.296875 0.1875 4.109375 -0.640625 4.109375 -1.84375 C 4.109375 -2.96875 3.359375 -3.734375 2.265625 -3.734375 C 1.875 -3.734375 1.546875 -3.625 1.21875 -3.390625 L 1.453125 -4.96875 L 3.8125 -4.96875 Z M 3.8125 -5.671875 \"/>\n</symbol>\n<symbol overflow=\"visible\" id=\"glyph0-4 -4619766943910248322\">\n<path style=\"stroke:none;\" d=\"M 2.078125 -4.125 L 2.078125 0 L 2.78125 0 L 2.78125 -5.78125 L 2.3125 -5.78125 C 2.0625 -4.890625 1.90625 -4.78125 0.8125 -4.625 L 0.8125 -4.125 Z M 2.078125 -4.125 \"/>\n</symbol>\n<symbol overflow=\"visible\" id=\"glyph1-0 -4619766943910248322\">\n<path style=\"stroke:none;\" d=\"\"/>\n</symbol>\n<symbol overflow=\"visible\" id=\"glyph1-1 -4619766943910248322\">\n<path style=\"stroke:none;\" d=\"M 2.1875 -0.546875 L 2.1875 -1.375 L -0.546875 -1.375 C -0.015625 -1.8125 0.234375 -2.3125 0.234375 -2.984375 C 0.234375 -4.34375 -0.859375 -5.234375 -2.53125 -5.234375 C -4.296875 -5.234375 -5.390625 -4.375 -5.390625 -2.984375 C -5.390625 -2.265625 -5.0625 -1.703125 -4.453125 -1.3125 L -5.234375 -1.3125 L -5.234375 -0.546875 Z M -4.609375 -2.84375 C -4.609375 -3.765625 -3.796875 -4.359375 -2.546875 -4.359375 C -1.359375 -4.359375 -0.546875 -3.75 -0.546875 -2.84375 C -0.546875 -1.953125 -1.34375 -1.375 -2.578125 -1.375 C -3.8125 -1.375 -4.609375 -1.953125 -4.609375 -2.84375 Z M -4.609375 -2.84375 \"/>\n</symbol>\n<symbol overflow=\"visible\" id=\"glyph1-2 -4619766943910248322\">\n<path style=\"stroke:none;\" d=\"M -5.234375 -0.6875 L 0 -0.6875 L 0 -1.53125 L -2.71875 -1.53125 C -3.984375 -1.546875 -4.546875 -2.0625 -4.515625 -3.203125 L -5.359375 -3.203125 C -5.375 -3.0625 -5.390625 -2.984375 -5.390625 -2.890625 C -5.390625 -2.34375 -5.0625 -1.9375 -4.296875 -1.453125 L -5.234375 -1.453125 Z M -5.234375 -0.6875 \"/>\n</symbol>\n<symbol overflow=\"visible\" id=\"glyph1-3 -4619766943910248322\">\n<path style=\"stroke:none;\" d=\"M -5.390625 -2.71875 C -5.390625 -1.234375 -4.34375 -0.359375 -2.578125 -0.359375 C -0.8125 -0.359375 0.234375 -1.234375 0.234375 -2.734375 C 0.234375 -4.203125 -0.8125 -5.09375 -2.546875 -5.09375 C -4.359375 -5.09375 -5.390625 -4.234375 -5.390625 -2.71875 Z M -4.625 -2.734375 C -4.625 -3.671875 -3.84375 -4.234375 -2.546875 -4.234375 C -1.3125 -4.234375 -0.546875 -3.65625 -0.546875 -2.734375 C -0.546875 -1.796875 -1.3125 -1.234375 -2.578125 -1.234375 C -3.84375 -1.234375 -4.625 -1.796875 -4.625 -2.734375 Z M -4.625 -2.734375 \"/>\n</symbol>\n<symbol overflow=\"visible\" id=\"glyph1-4 -4619766943910248322\">\n<path style=\"stroke:none;\" d=\"M -7.296875 -0.546875 L 0 -0.546875 L 0 -1.296875 L -0.671875 -1.296875 C -0.0625 -1.6875 0.234375 -2.21875 0.234375 -2.953125 C 0.234375 -4.328125 -0.90625 -5.234375 -2.640625 -5.234375 C -4.34375 -5.234375 -5.390625 -4.375 -5.390625 -2.984375 C -5.390625 -2.265625 -5.125 -1.765625 -4.53125 -1.375 L -7.296875 -1.375 Z M -4.609375 -2.828125 C -4.609375 -3.765625 -3.796875 -4.359375 -2.546875 -4.359375 C -1.359375 -4.359375 -0.546875 -3.734375 -0.546875 -2.828125 C -0.546875 -1.9375 -1.34375 -1.375 -2.578125 -1.375 C -3.8125 -1.375 -4.609375 -1.9375 -4.609375 -2.828125 Z M -4.609375 -2.828125 \"/>\n</symbol>\n<symbol overflow=\"visible\" id=\"glyph1-5 -4619766943910248322\">\n<path style=\"stroke:none;\" d=\"M -0.484375 -5.34375 C -0.46875 -5.265625 -0.46875 -5.21875 -0.46875 -5.171875 C -0.46875 -4.875 -0.625 -4.71875 -0.875 -4.71875 L -3.953125 -4.71875 C -4.890625 -4.71875 -5.390625 -4.046875 -5.390625 -2.75 C -5.390625 -1.984375 -5.171875 -1.375 -4.78125 -1.015625 C -4.515625 -0.765625 -4.203125 -0.671875 -3.6875 -0.65625 L -3.6875 -1.484375 C -4.328125 -1.5625 -4.625 -1.9375 -4.625 -2.71875 C -4.625 -3.484375 -4.34375 -3.890625 -3.84375 -3.890625 L -3.625 -3.890625 C -3.265625 -3.875 -3.125 -3.703125 -3.046875 -3.015625 C -2.890625 -1.84375 -2.84375 -1.65625 -2.71875 -1.34375 C -2.453125 -0.734375 -2 -0.421875 -1.3125 -0.421875 C -0.375 -0.421875 0.234375 -1.078125 0.234375 -2.140625 C 0.234375 -2.796875 0 -3.328125 -0.546875 -3.921875 C 0 -3.984375 0.234375 -4.234375 0.234375 -4.78125 C 0.234375 -4.953125 0.203125 -5.0625 0.140625 -5.34375 Z M -1.65625 -3.890625 C -1.375 -3.890625 -1.203125 -3.8125 -0.96875 -3.5625 C -0.65625 -3.21875 -0.5 -2.8125 -0.5 -2.3125 C -0.5 -1.671875 -0.8125 -1.296875 -1.34375 -1.296875 C -1.890625 -1.296875 -2.171875 -1.65625 -2.296875 -2.546875 C -2.421875 -3.4375 -2.453125 -3.609375 -2.59375 -3.890625 Z M -1.65625 -3.890625 \"/>\n</symbol>\n<symbol overflow=\"visible\" id=\"glyph1-6 -4619766943910248322\">\n<path style=\"stroke:none;\" d=\"M -5.234375 -1.5 L -5.234375 -0.671875 L 0 -0.671875 L 0 -1.5 Z M -7.296875 -1.5 L -7.296875 -0.65625 L -6.234375 -0.65625 L -6.234375 -1.5 Z M -7.296875 -1.5 \"/>\n</symbol>\n<symbol overflow=\"visible\" id=\"glyph1-7 -4619766943910248322\">\n<path style=\"stroke:none;\" d=\"M -7.296875 -1.515625 L -7.296875 -0.6875 L 0 -0.6875 L 0 -1.515625 Z M -7.296875 -1.515625 \"/>\n</symbol>\n<symbol overflow=\"visible\" id=\"glyph1-8 -4619766943910248322\">\n<path style=\"stroke:none;\" d=\"M -5.234375 -2.546875 L -5.234375 -1.6875 L -6.6875 -1.6875 L -6.6875 -0.84375 L -5.234375 -0.84375 L -5.234375 -0.140625 L -4.5625 -0.140625 L -4.5625 -0.84375 L -0.59375 -0.84375 C -0.0625 -0.84375 0.234375 -1.203125 0.234375 -1.859375 C 0.234375 -2.078125 0.203125 -2.265625 0.15625 -2.546875 L -0.546875 -2.546875 C -0.515625 -2.421875 -0.5 -2.3125 -0.5 -2.140625 C -0.5 -1.78125 -0.59375 -1.6875 -0.96875 -1.6875 L -4.5625 -1.6875 L -4.5625 -2.546875 Z M -5.234375 -2.546875 \"/>\n</symbol>\n<symbol overflow=\"visible\" id=\"glyph1-9 -4619766943910248322\">\n<path style=\"stroke:none;\" d=\"M -5.234375 -3.875 L -1.15625 -2.4375 L -5.234375 -1.09375 L -5.234375 -0.203125 L 0.015625 -1.96875 L 0.84375 -1.65625 C 1.21875 -1.515625 1.359375 -1.328125 1.359375 -0.984375 C 1.359375 -0.84375 1.34375 -0.71875 1.296875 -0.546875 L 2.046875 -0.546875 C 2.140625 -0.703125 2.1875 -0.875 2.1875 -1.09375 C 2.1875 -1.375 2.09375 -1.65625 1.9375 -1.875 C 1.734375 -2.140625 1.515625 -2.296875 1.09375 -2.453125 L -5.234375 -4.78125 Z M -5.234375 -3.875 \"/>\n</symbol>\n<symbol overflow=\"visible\" id=\"glyph2-0 -4619766943910248322\">\n<path style=\"stroke:none;\" d=\"\"/>\n</symbol>\n<symbol overflow=\"visible\" id=\"glyph2-1 -4619766943910248322\">\n<path style=\"stroke:none;\" d=\"M 104.984375 -2.890625 L 104.984375 0 L 136.046875 0 L 136.046875 -6.359375 L 104.78125 -6.359375 L 104.78125 -3.96875 L 45.140625 -3.96875 L 45.140625 -6.359375 L 14.078125 -6.359375 L 14.078125 0 L 45.140625 0 L 45.140625 -2.890625 Z M 104.984375 -2.890625 \"/>\n</symbol>\n<symbol overflow=\"visible\" id=\"glyph3-0 -4619766943910248322\">\n<path style=\"stroke:none;\" d=\"\"/>\n</symbol>\n<symbol overflow=\"visible\" id=\"glyph3-1 -4619766943910248322\">\n<path style=\"stroke:none;\" d=\"M 129.765625 -4.03125 C 128.8125 -4.5625 126.34375 -4.90625 120.4375 -5.25 C 109.78125 -5.859375 92.65625 -6.203125 71.921875 -6.203125 C 32.71875 -6.203125 8.375 -4.96875 8.375 -3 C 8.375 -1.03125 32.53125 0.1875 71.15625 0.1875 C 105.78125 0.1875 128.625 -0.6875 130.328125 -2.078125 L 102.546875 -2.078125 C 100.65625 -1.3125 89.609375 -0.859375 71.921875 -0.859375 C 49.84375 -0.859375 36.90625 -1.65625 36.90625 -2.984375 C 36.90625 -4.328125 50.421875 -5.140625 72.875 -5.140625 C 89.421875 -5.140625 98.75 -4.78125 102.546875 -4.03125 Z M 129.765625 -4.03125 \"/>\n</symbol>\n<symbol overflow=\"visible\" id=\"glyph4-0 -4619766943910248322\">\n<path style=\"stroke:none;\" d=\"\"/>\n</symbol>\n<symbol overflow=\"visible\" id=\"glyph4-1 -4619766943910248322\">\n<path style=\"stroke:none;\" d=\"M 82.03125 -4.921875 L 127.25 -13.28125 L 94.359375 -13.28125 L 67.15625 -7.421875 L 37.984375 -13.28125 L 5.28125 -13.28125 L 52.671875 -4.921875 L 52.671875 0 L 82.03125 0 Z M 82.03125 -4.921875 \"/>\n</symbol>\n<symbol overflow=\"visible\" id=\"glyph5-0 -4619766943910248322\">\n<path style=\"stroke:none;\" d=\"\"/>\n</symbol>\n<symbol overflow=\"visible\" id=\"glyph5-1 -4619766943910248322\">\n<path style=\"stroke:none;\" d=\"M 49.484375 -4.734375 L 90.4375 -4.734375 C 119.78125 -4.734375 138.609375 -6.46875 138.609375 -9.15625 C 138.609375 -11.828125 120.4375 -13.28125 87.15625 -13.28125 L 16.640625 -13.28125 L 16.640625 0 L 49.484375 0 Z M 49.484375 -7.015625 L 49.484375 -11 L 80.140625 -11 C 97.65625 -11 105.765625 -10.359375 105.765625 -9.015625 C 105.765625 -7.65625 97.65625 -7.015625 80.140625 -7.015625 Z M 49.484375 -7.015625 \"/>\n</symbol>\n<symbol overflow=\"visible\" id=\"glyph6-0 -4619766943910248322\">\n<path style=\"stroke:none;\" d=\"\"/>\n</symbol>\n<symbol overflow=\"visible\" id=\"glyph6-1 -4619766943910248322\">\n<path style=\"stroke:none;\" d=\"M 53.359375 -5.71875 L 129.359375 -5.71875 L 129.359375 -8 L 53.359375 -8 L 53.359375 -11 L 139.59375 -11 L 139.59375 -13.28125 L 17.625 -13.28125 L 17.625 0 L 53.359375 0 Z M 53.359375 -5.71875 \"/>\n</symbol>\n<symbol overflow=\"visible\" id=\"glyph7-0 -4619766943910248322\">\n<path style=\"stroke:none;\" d=\"\"/>\n</symbol>\n<symbol overflow=\"visible\" id=\"glyph7-1 -4619766943910248322\">\n<path style=\"stroke:none;\" d=\"M 115.609375 -2.609375 C 124.140625 -4.140625 129.53125 -6.671875 129.53125 -9.15625 C 129.53125 -11.875 122.921875 -14.484375 111.796875 -16.234375 C 100.84375 -17.96875 86.578125 -18.796875 68.5 -18.796875 C 50.421875 -18.796875 36.15625 -17.96875 25.203125 -16.234375 C 13.90625 -14.484375 7.46875 -11.875 7.46875 -9.109375 C 7.46875 -6.34375 14.078125 -3.734375 25.203125 -1.984375 C 36.15625 -0.25 50.421875 0.578125 68.5 0.578125 C 81.71875 0.578125 91.28125 0.203125 101.359375 -0.6875 L 116.3125 1.375 L 129.53125 -0.6875 Z M 83.453125 -7.046875 L 70.234375 -5 L 83.625 -3.140625 C 79.453125 -2.84375 73.890625 -2.671875 68.328125 -2.671875 C 47.46875 -2.671875 33.5625 -5.234375 33.5625 -9.109375 C 33.5625 -13.015625 47.296875 -15.5625 68.5 -15.5625 C 89.71875 -15.5625 103.453125 -13.015625 103.453125 -9.078125 C 103.453125 -7.5625 101.53125 -6.1875 97.703125 -5.078125 Z M 83.453125 -7.046875 \"/>\n</symbol>\n<symbol overflow=\"visible\" id=\"glyph8-0 -4619766943910248322\">\n<path style=\"stroke:none;\" d=\"\"/>\n</symbol>\n<symbol overflow=\"visible\" id=\"glyph8-1 -4619766943910248322\">\n<path style=\"stroke:none;\" d=\"M 129.609375 -10.40625 L 76.375 -10.40625 L 76.375 -7.078125 L 106.640625 -7.078125 C 105.921875 -6 104.09375 -5.328125 100.078125 -4.640625 C 93.515625 -3.46875 83.3125 -2.78125 72.921875 -2.78125 C 50.671875 -2.78125 35 -5.59375 35 -9.578125 C 35 -13.75 48.859375 -16.265625 72.1875 -16.265625 C 81.671875 -16.265625 89.6875 -15.859375 95.703125 -15.09375 C 99.53125 -14.625 101.546875 -14.171875 103.90625 -13.15625 L 129.609375 -13.15625 C 126.328125 -17.171875 104.09375 -19.65625 72 -19.65625 C 33.71875 -19.65625 7.65625 -15.546875 7.65625 -9.53125 C 7.65625 -3.65625 33.90625 0.609375 69.8125 0.609375 C 87.6875 0.609375 99.71875 -0.3125 109.921875 -2.5 L 113.203125 0.046875 L 129.609375 0.046875 Z M 129.609375 -10.40625 \"/>\n</symbol>\n<symbol overflow=\"visible\" id=\"glyph9-0 -4619766943910248322\">\n<path style=\"stroke:none;\" d=\"\"/>\n</symbol>\n<symbol overflow=\"visible\" id=\"glyph9-1 -4619766943910248322\">\n<path style=\"stroke:none;\" d=\"M 90.328125 -4.078125 L 98.96875 0 L 126.734375 0 L 81.3125 -20.203125 L 51.375 -20.203125 L 4.6875 0 L 32.265625 0 L 41.109375 -4.078125 Z M 82.921875 -7.53125 L 48.671875 -7.53125 L 65.796875 -15.4375 Z M 82.921875 -7.53125 \"/>\n</symbol>\n<symbol overflow=\"visible\" id=\"glyph10-0 -4619766943910248322\">\n<path style=\"stroke:none;\" d=\"\"/>\n</symbol>\n<symbol overflow=\"visible\" id=\"glyph10-1 -4619766943910248322\">\n<path style=\"stroke:none;\" d=\"M 77.71875 0 L 126.671875 -27.09375 L 97.109375 -27.09375 L 65.984375 -6.6875 L 34.265625 -27.09375 L 4.703125 -27.09375 L 52.859375 0 Z M 77.71875 0 \"/>\n</symbol>\n<symbol overflow=\"visible\" id=\"glyph11-0 -4619766943910248322\">\n<path style=\"stroke:none;\" d=\"\"/>\n</symbol>\n<symbol overflow=\"visible\" id=\"glyph11-1 -4619766943910248322\">\n<path style=\"stroke:none;\" d=\"M 46.984375 -10.75 L 82.125 -10.75 C 95.40625 -10.75 101.125 -9.78125 101.125 -7.546875 L 101.125 -6.4375 C 100.921875 -5.71875 100.921875 -5.0625 100.921875 -4.640625 C 100.921875 -2.078125 101.734375 -1.296875 105.40625 0 L 138.296875 0 L 138.296875 -1 C 133.59375 -1.484375 131.765625 -2.046875 131.765625 -3.234375 C 130.9375 -11.21875 130.125 -11.59375 111.125 -13.078125 C 127.875 -14.28125 136.25 -16.46875 136.25 -19.78125 C 136.25 -21.9375 132.171875 -23.90625 125.015625 -25.234375 C 118.28125 -26.5 108.875 -27.09375 96.21875 -27.09375 L 16.34375 -27.09375 L 16.34375 0 L 46.984375 0 Z M 46.984375 -15.390625 L 46.984375 -22.453125 L 83.953125 -22.453125 C 92.75 -22.453125 96.21875 -22.296875 100.09375 -21.75 C 103.78125 -21.1875 105.609375 -20.265625 105.609375 -19 C 105.609375 -17.6875 103.78125 -16.65625 100.09375 -16.09375 C 96.625 -15.578125 92.75 -15.390625 83.953125 -15.390625 Z M 46.984375 -15.390625 \"/>\n</symbol>\n<symbol overflow=\"visible\" id=\"glyph12-0 -4619766943910248322\">\n<path style=\"stroke:none;\" d=\"\"/>\n</symbol>\n<symbol overflow=\"visible\" id=\"glyph12-1 -4619766943910248322\">\n<path style=\"stroke:none;\" d=\"M 15.546875 0 L 73.125 0 C 95.53125 0 109.671875 -0.96875 119.78125 -3.15625 C 131.296875 -5.6875 137.546875 -9.328125 137.546875 -13.5625 C 137.546875 -17.765625 131.296875 -21.40625 119.78125 -23.96875 C 109.671875 -26.171875 95.734375 -27.09375 73.125 -27.09375 L 15.546875 -27.09375 Z M 45.84375 -4.640625 L 45.84375 -22.453125 L 73.125 -22.453125 C 95.9375 -22.453125 107.25 -19.515625 107.25 -13.53125 C 107.25 -7.578125 95.9375 -4.640625 73.125 -4.640625 Z M 45.84375 -4.640625 \"/>\n</symbol>\n<symbol overflow=\"visible\" id=\"glyph13-0 -4619766943910248322\">\n<path style=\"stroke:none;\" d=\"\"/>\n</symbol>\n<symbol overflow=\"visible\" id=\"glyph13-1 -4619766943910248322\">\n<path style=\"stroke:none;\" d=\"M 80.4375 -28.1875 L 124.9375 -28.1875 L 124.9375 -34.015625 L 2.921875 -34.015625 L 2.921875 -28.1875 L 49.09375 -28.1875 L 49.09375 0 L 80.4375 0 Z M 80.4375 -28.1875 \"/>\n</symbol>\n<symbol overflow=\"visible\" id=\"glyph14-0 -4619766943910248322\">\n<path style=\"stroke:none;\" d=\"\"/>\n</symbol>\n<symbol overflow=\"visible\" id=\"glyph14-1 -4619766943910248322\">\n<path style=\"stroke:none;\" d=\"M 103.3125 -37.265625 L 145.765625 -37.265625 C 152.421875 -37.265625 156.234375 -37.921875 156.234375 -39.15625 C 156.234375 -40.390625 152.734375 -40.96875 145.765625 -40.96875 L 44.359375 -40.96875 C 37.703125 -40.96875 34.21875 -40.390625 34.21875 -39.15625 C 34.21875 -37.921875 37.703125 -37.265625 44.359375 -37.265625 L 86.828125 -37.265625 L 86.828125 -3.71875 L 44.359375 -3.71875 C 37.703125 -3.71875 34.21875 -3.0625 34.21875 -1.890625 C 34.21875 -0.65625 37.703125 0 44.359375 0 L 145.765625 0 C 152.421875 0 156.234375 -0.65625 156.234375 -1.890625 C 156.234375 -3.0625 152.734375 -3.71875 145.765625 -3.71875 L 103.3125 -3.71875 Z M 103.3125 -37.265625 \"/>\n</symbol>\n<symbol overflow=\"visible\" id=\"glyph15-0 -4619766943910248322\">\n<path style=\"stroke:none;\" d=\"\"/>\n</symbol>\n<symbol overflow=\"visible\" id=\"glyph15-1 -4619766943910248322\">\n<path style=\"stroke:none;\" d=\"M 123.1875 -31.78125 C 122.984375 -41.234375 102.484375 -46.4375 65.140625 -46.4375 C 29.625 -46.4375 9.125 -41.296875 9.125 -32.40625 C 9.125 -25.3125 20.703125 -21.875 50.734375 -20.125 L 71.4375 -18.859375 C 91.734375 -17.671875 99.234375 -15.921875 99.234375 -12.21875 C 99.234375 -8.390625 87.875 -6.078125 69.40625 -6.078125 C 48.703125 -6.078125 37.140625 -8.78125 36.125 -13.65625 L 6.5 -13.65625 C 8.328125 -3.890625 30.03125 1.4375 67.78125 1.4375 C 105.9375 1.4375 128.453125 -4.015625 128.453125 -13.34375 C 128.453125 -20.5625 116.6875 -24.3125 89.296875 -25.953125 L 66.15625 -27.328125 C 44.4375 -28.640625 38.15625 -29.953125 38.15625 -33.28125 C 38.15625 -36.71875 47.890625 -38.921875 63.71875 -38.921875 C 83 -38.921875 93.75 -36.40625 94.765625 -31.78125 Z M 123.1875 -31.78125 \"/>\n</symbol>\n<symbol overflow=\"visible\" id=\"glyph16-0 -4619766943910248322\">\n<path style=\"stroke:none;\" d=\"\"/>\n</symbol>\n<symbol overflow=\"visible\" id=\"glyph16-1 -4619766943910248322\">\n<path style=\"stroke:none;\" d=\"M 105.09375 0 L 135.9375 0 L 135.9375 -47.84375 L 105.09375 -47.84375 L 105.09375 -15.296875 L 45.65625 -47.84375 L 13.984375 -47.84375 L 13.984375 0 L 44.828125 0 L 44.828125 -33.078125 Z M 105.09375 0 \"/>\n</symbol>\n<symbol overflow=\"visible\" id=\"glyph17-0 -4619766943910248322\">\n<path style=\"stroke:none;\" d=\"\"/>\n</symbol>\n<symbol overflow=\"visible\" id=\"glyph17-1 -4619766943910248322\">\n<path style=\"stroke:none;\" d=\"M 37.109375 -37.28125 L 59.609375 0 L 85.375 0 L 107.53125 -37.28125 L 107.53125 0 L 133.296875 0 L 133.296875 -47.84375 L 94.484375 -47.84375 L 72.484375 -9.78125 L 49.8125 -47.84375 L 11.34375 -47.84375 L 11.34375 0 L 37.109375 0 Z M 37.109375 -37.28125 \"/>\n</symbol>\n<symbol overflow=\"visible\" id=\"glyph18-0 -4619766943910248322\">\n<path style=\"stroke:none;\" d=\"\"/>\n</symbol>\n<symbol overflow=\"visible\" id=\"glyph18-1 -4619766943910248322\">\n<path style=\"stroke:none;\" d=\"M 56.234375 -47.84375 L 19.5625 -47.84375 L 19.5625 0 L 141.578125 0 L 141.578125 -8.203125 L 56.234375 -8.203125 Z M 56.234375 -47.84375 \"/>\n</symbol>\n<symbol overflow=\"visible\" id=\"glyph19-0 -4619766943910248322\">\n<path style=\"stroke:none;\" d=\"\"/>\n</symbol>\n<symbol overflow=\"visible\" id=\"glyph19-1 -4619766943910248322\">\n<path style=\"stroke:none;\" d=\"M 42.5 -22.953125 L 56.71875 -30.296875 L 102.0625 0 L 136.03125 0 L 74.9375 -39.046875 L 130.140625 -68.59375 L 96.5625 -68.59375 L 42.5 -38.484375 L 42.5 -68.59375 L 14.046875 -68.59375 L 14.046875 0 L 42.5 0 Z M 42.5 -22.953125 \"/>\n</symbol>\n<symbol overflow=\"visible\" id=\"glyph20-0 -4619766943910248322\">\n<path style=\"stroke:none;\" d=\"\"/>\n</symbol>\n<symbol overflow=\"visible\" id=\"glyph20-1 -4619766943910248322\">\n<path style=\"stroke:none;\" d=\"M 51.265625 -32.53125 L 129.390625 -32.53125 L 129.390625 -45.46875 L 51.265625 -45.46875 L 51.265625 -62.5625 L 135.65625 -62.5625 L 135.65625 -75.515625 L 17.6875 -75.515625 L 17.6875 0 L 139.6875 0 L 139.6875 -12.953125 L 51.265625 -12.953125 Z M 51.265625 -32.53125 \"/>\n</symbol>\n<symbol overflow=\"visible\" id=\"glyph21-0 -4619766943910248322\">\n<path style=\"stroke:none;\" d=\"\"/>\n</symbol>\n<symbol overflow=\"visible\" id=\"glyph21-1 -4619766943910248322\">\n<path style=\"stroke:none;\" d=\"M 96.890625 0 L 123.703125 -6.359375 L 102.609375 -6.359375 L 88.140625 -1.59375 L 72.46875 -6.359375 L 52.828125 -6.359375 L 37.828125 -1.59375 L 22.828125 -6.359375 L 1.71875 -6.359375 L 29.0625 0 L 46.984375 0 L 62.78125 -4.96875 L 78.984375 0 Z M 96.890625 0 \"/>\n</symbol>\n<symbol overflow=\"visible\" id=\"glyph22-0 -4619766943910248322\">\n<path style=\"stroke:none;\" d=\"\"/>\n</symbol>\n<symbol overflow=\"visible\" id=\"glyph22-1 -4619766943910248322\">\n<path style=\"stroke:none;\" d=\"M 53.359375 -8.703125 L 129.34375 -8.703125 L 129.34375 -12.15625 L 53.359375 -12.15625 L 53.359375 -16.734375 L 139.59375 -16.734375 L 139.59375 -20.203125 L 17.625 -20.203125 L 17.625 0 L 53.359375 0 Z M 53.359375 -8.703125 \"/>\n</symbol>\n<symbol overflow=\"visible\" id=\"glyph23-0 -4619766943910248322\">\n<path style=\"stroke:none;\" d=\"\"/>\n</symbol>\n<symbol overflow=\"visible\" id=\"glyph23-1 -4619766943910248322\">\n<path style=\"stroke:none;\" d=\"M 80.4375 -22.453125 L 124.9375 -22.453125 L 124.9375 -27.09375 L 2.921875 -27.09375 L 2.921875 -22.453125 L 49.09375 -22.453125 L 49.09375 0 L 80.4375 0 Z M 80.4375 -22.453125 \"/>\n</symbol>\n<symbol overflow=\"visible\" id=\"glyph24-0 -4619766943910248322\">\n<path style=\"stroke:none;\" d=\"\"/>\n</symbol>\n<symbol overflow=\"visible\" id=\"glyph24-1 -4619766943910248322\">\n<path style=\"stroke:none;\" d=\"M 37.109375 -21.109375 L 59.609375 0 L 85.375 0 L 107.53125 -21.109375 L 107.53125 0 L 133.296875 0 L 133.296875 -27.09375 L 94.484375 -27.09375 L 72.484375 -5.53125 L 49.8125 -27.09375 L 11.34375 -27.09375 L 11.34375 0 L 37.109375 0 Z M 37.109375 -21.109375 \"/>\n</symbol>\n<symbol overflow=\"visible\" id=\"glyph25-0 -4619766943910248322\">\n<path style=\"stroke:none;\" d=\"\"/>\n</symbol>\n<symbol overflow=\"visible\" id=\"glyph25-1 -4619766943910248322\">\n<path style=\"stroke:none;\" d=\"M 129.609375 -13.890625 L 76.375 -13.890625 L 76.375 -9.46875 L 106.640625 -9.46875 C 105.921875 -8.015625 104.09375 -7.125 100.078125 -6.203125 C 93.515625 -4.640625 83.3125 -3.71875 72.921875 -3.71875 C 50.671875 -3.71875 35 -7.484375 35 -12.796875 C 35 -18.359375 48.859375 -21.734375 72.1875 -21.734375 C 81.671875 -21.734375 89.6875 -21.203125 95.703125 -20.171875 C 99.53125 -19.53125 101.546875 -18.9375 103.90625 -17.578125 L 129.609375 -17.578125 C 126.328125 -22.9375 104.09375 -26.265625 72 -26.265625 C 33.71875 -26.265625 7.65625 -20.78125 7.65625 -12.734375 C 7.65625 -4.890625 33.90625 0.8125 69.8125 0.8125 C 87.6875 0.8125 99.71875 -0.421875 109.921875 -3.328125 L 113.203125 0.078125 L 129.609375 0.078125 Z M 129.609375 -13.890625 \"/>\n</symbol>\n<symbol overflow=\"visible\" id=\"glyph26-0 -4619766943910248322\">\n<path style=\"stroke:none;\" d=\"\"/>\n</symbol>\n<symbol overflow=\"visible\" id=\"glyph26-1 -4619766943910248322\">\n<path style=\"stroke:none;\" d=\"M 90.328125 -5.46875 L 98.96875 0 L 126.734375 0 L 81.3125 -27.09375 L 51.375 -27.09375 L 4.6875 0 L 32.265625 0 L 41.109375 -5.46875 Z M 82.921875 -10.109375 L 48.671875 -10.109375 L 65.796875 -20.703125 Z M 82.921875 -10.109375 \"/>\n</symbol>\n<symbol overflow=\"visible\" id=\"glyph27-0 -4619766943910248322\">\n<path style=\"stroke:none;\" d=\"\"/>\n</symbol>\n<symbol overflow=\"visible\" id=\"glyph27-1 -4619766943910248322\">\n<path style=\"stroke:none;\" d=\"M 77.71875 0 L 126.671875 -34.015625 L 97.109375 -34.015625 L 65.984375 -8.390625 L 34.265625 -34.015625 L 4.703125 -34.015625 L 52.859375 0 Z M 77.71875 0 \"/>\n</symbol>\n<symbol overflow=\"visible\" id=\"glyph28-0 -4619766943910248322\">\n<path style=\"stroke:none;\" d=\"\"/>\n</symbol>\n<symbol overflow=\"visible\" id=\"glyph28-1 -4619766943910248322\">\n<path style=\"stroke:none;\" d=\"M 46.984375 -13.484375 L 82.125 -13.484375 C 95.40625 -13.484375 101.125 -12.265625 101.125 -9.46875 L 101.125 -8.078125 C 100.921875 -7.1875 100.921875 -6.34375 100.921875 -5.828125 C 100.921875 -2.609375 101.734375 -1.640625 105.40625 0 L 138.296875 0 L 138.296875 -1.265625 C 133.59375 -1.859375 131.765625 -2.5625 131.765625 -4.0625 C 130.9375 -14.09375 130.125 -14.5625 111.125 -16.421875 C 127.875 -17.921875 136.25 -20.671875 136.25 -24.828125 C 136.25 -27.53125 132.171875 -30 125.015625 -31.671875 C 118.28125 -33.265625 108.875 -34.015625 96.21875 -34.015625 L 16.34375 -34.015625 L 16.34375 0 L 46.984375 0 Z M 46.984375 -19.3125 L 46.984375 -28.1875 L 83.953125 -28.1875 C 92.75 -28.1875 96.21875 -28 100.09375 -27.296875 C 103.78125 -26.59375 105.609375 -25.421875 105.609375 -23.84375 C 105.609375 -22.203125 103.78125 -20.90625 100.09375 -20.203125 C 96.625 -19.546875 92.75 -19.3125 83.953125 -19.3125 Z M 46.984375 -19.3125 \"/>\n</symbol>\n<symbol overflow=\"visible\" id=\"glyph29-0 -4619766943910248322\">\n<path style=\"stroke:none;\" d=\"\"/>\n</symbol>\n<symbol overflow=\"visible\" id=\"glyph29-1 -4619766943910248322\">\n<path style=\"stroke:none;\" d=\"M 123.1875 -27.171875 C 122.984375 -35.265625 102.484375 -39.71875 65.140625 -39.71875 C 29.625 -39.71875 9.125 -35.3125 9.125 -27.703125 C 9.125 -21.65625 20.703125 -18.703125 50.734375 -17.203125 L 71.4375 -16.125 C 91.734375 -15.109375 99.234375 -13.609375 99.234375 -10.453125 C 99.234375 -7.1875 87.875 -5.203125 69.40625 -5.203125 C 48.703125 -5.203125 37.140625 -7.5 36.125 -11.6875 L 6.5 -11.6875 C 8.328125 -3.328125 30.03125 1.234375 67.78125 1.234375 C 105.9375 1.234375 128.453125 -3.4375 128.453125 -11.421875 C 128.453125 -17.578125 116.6875 -20.796875 89.296875 -22.1875 L 66.15625 -23.359375 C 44.4375 -24.5 38.15625 -25.625 38.15625 -28.453125 C 38.15625 -31.40625 47.890625 -33.28125 63.71875 -33.28125 C 83 -33.28125 93.75 -31.140625 94.765625 -27.171875 Z M 123.1875 -27.171875 \"/>\n</symbol>\n<symbol overflow=\"visible\" id=\"glyph30-0 -4619766943910248322\">\n<path style=\"stroke:none;\" d=\"\"/>\n</symbol>\n<symbol overflow=\"visible\" id=\"glyph30-1 -4619766943910248322\">\n<path style=\"stroke:none;\" d=\"M 105.09375 0 L 135.9375 0 L 135.9375 -40.921875 L 105.09375 -40.921875 L 105.09375 -13.078125 L 45.65625 -40.921875 L 13.984375 -40.921875 L 13.984375 0 L 44.828125 0 L 44.828125 -28.296875 Z M 105.09375 0 \"/>\n</symbol>\n<symbol overflow=\"visible\" id=\"glyph31-0 -4619766943910248322\">\n<path style=\"stroke:none;\" d=\"\"/>\n</symbol>\n<symbol overflow=\"visible\" id=\"glyph31-1 -4619766943910248322\">\n<path style=\"stroke:none;\" d=\"M 103.3125 -43.578125 L 145.765625 -43.578125 C 152.421875 -43.578125 156.234375 -44.34375 156.234375 -45.78125 C 156.234375 -47.234375 152.734375 -47.921875 145.765625 -47.921875 L 44.359375 -47.921875 C 37.703125 -47.921875 34.21875 -47.234375 34.21875 -45.78125 C 34.21875 -44.34375 37.703125 -43.578125 44.359375 -43.578125 L 86.828125 -43.578125 L 86.828125 -4.34375 L 44.359375 -4.34375 C 37.703125 -4.34375 34.21875 -3.578125 34.21875 -2.21875 C 34.21875 -0.765625 37.703125 0 44.359375 0 L 145.765625 0 C 152.421875 0 156.234375 -0.765625 156.234375 -2.21875 C 156.234375 -3.578125 152.734375 -4.34375 145.765625 -4.34375 L 103.3125 -4.34375 Z M 103.3125 -43.578125 \"/>\n</symbol>\n<symbol overflow=\"visible\" id=\"glyph32-0 -4619766943910248322\">\n<path style=\"stroke:none;\" d=\"\"/>\n</symbol>\n<symbol overflow=\"visible\" id=\"glyph32-1 -4619766943910248322\">\n<path style=\"stroke:none;\" d=\"M 51.265625 -20.609375 L 129.390625 -20.609375 L 129.390625 -28.8125 L 51.265625 -28.8125 L 51.265625 -39.640625 L 135.65625 -39.640625 L 135.65625 -47.84375 L 17.6875 -47.84375 L 17.6875 0 L 139.6875 0 L 139.6875 -8.203125 L 51.265625 -8.203125 Z M 51.265625 -20.609375 \"/>\n</symbol>\n<symbol overflow=\"visible\" id=\"glyph33-0 -4619766943910248322\">\n<path style=\"stroke:none;\" d=\"\"/>\n</symbol>\n<symbol overflow=\"visible\" id=\"glyph33-1 -4619766943910248322\">\n<path style=\"stroke:none;\" d=\"M 56.234375 -68.59375 L 19.5625 -68.59375 L 19.5625 0 L 141.578125 0 L 141.578125 -11.765625 L 56.234375 -11.765625 Z M 56.234375 -68.59375 \"/>\n</symbol>\n<symbol overflow=\"visible\" id=\"glyph34-0 -4619766943910248322\">\n<path style=\"stroke:none;\" d=\"\"/>\n</symbol>\n<symbol overflow=\"visible\" id=\"glyph34-1 -4619766943910248322\">\n<path style=\"stroke:none;\" d=\"M 49.484375 -2.25 L 90.4375 -2.25 C 119.78125 -2.25 138.609375 -3.078125 138.609375 -4.359375 C 138.609375 -5.625 120.4375 -6.3125 87.15625 -6.3125 L 16.640625 -6.3125 L 16.640625 0 L 49.484375 0 Z M 49.484375 -3.328125 L 49.484375 -5.234375 L 80.140625 -5.234375 C 97.65625 -5.234375 105.765625 -4.921875 105.765625 -4.28125 C 105.765625 -3.640625 97.65625 -3.328125 80.140625 -3.328125 Z M 49.484375 -3.328125 \"/>\n</symbol>\n<symbol overflow=\"visible\" id=\"glyph35-0 -4619766943910248322\">\n<path style=\"stroke:none;\" d=\"\"/>\n</symbol>\n<symbol overflow=\"visible\" id=\"glyph35-1 -4619766943910248322\">\n<path style=\"stroke:none;\" d=\"M 104.984375 -2.859375 L 104.984375 0 L 136.046875 0 L 136.046875 -6.3125 L 104.78125 -6.3125 L 104.78125 -3.953125 L 45.140625 -3.953125 L 45.140625 -6.3125 L 14.078125 -6.3125 L 14.078125 0 L 45.140625 0 L 45.140625 -2.859375 Z M 104.984375 -2.859375 \"/>\n</symbol>\n<symbol overflow=\"visible\" id=\"glyph36-0 -4619766943910248322\">\n<path style=\"stroke:none;\" d=\"\"/>\n</symbol>\n<symbol overflow=\"visible\" id=\"glyph36-1 -4619766943910248322\">\n<path style=\"stroke:none;\" d=\"M 82.03125 -4.890625 L 127.25 -13.1875 L 94.359375 -13.1875 L 67.15625 -7.359375 L 37.984375 -13.1875 L 5.28125 -13.1875 L 52.671875 -4.890625 L 52.671875 0 L 82.03125 0 Z M 82.03125 -4.890625 \"/>\n</symbol>\n<symbol overflow=\"visible\" id=\"glyph37-0 -4619766943910248322\">\n<path style=\"stroke:none;\" d=\"\"/>\n</symbol>\n<symbol overflow=\"visible\" id=\"glyph37-1 -4619766943910248322\">\n<path style=\"stroke:none;\" d=\"M 46.984375 -5.234375 L 82.125 -5.234375 C 95.40625 -5.234375 101.125 -4.765625 101.125 -3.671875 L 101.125 -3.125 C 100.921875 -2.78125 100.921875 -2.453125 100.921875 -2.265625 C 100.921875 -1.015625 101.734375 -0.640625 105.40625 0 L 138.296875 0 L 138.296875 -0.484375 C 133.59375 -0.71875 131.765625 -1 131.765625 -1.578125 C 130.9375 -5.46875 130.125 -5.640625 111.125 -6.375 C 127.875 -6.953125 136.25 -8.015625 136.25 -9.625 C 136.25 -10.671875 132.171875 -11.640625 125.015625 -12.28125 C 118.28125 -12.90625 108.875 -13.1875 96.21875 -13.1875 L 16.34375 -13.1875 L 16.34375 0 L 46.984375 0 Z M 46.984375 -7.484375 L 46.984375 -10.921875 L 83.953125 -10.921875 C 92.75 -10.921875 96.21875 -10.859375 100.09375 -10.578125 C 103.78125 -10.3125 105.609375 -9.859375 105.609375 -9.25 C 105.609375 -8.609375 103.78125 -8.109375 100.09375 -7.828125 C 96.625 -7.578125 92.75 -7.484375 83.953125 -7.484375 Z M 46.984375 -7.484375 \"/>\n</symbol>\n<symbol overflow=\"visible\" id=\"glyph38-0 -4619766943910248322\">\n<path style=\"stroke:none;\" d=\"\"/>\n</symbol>\n<symbol overflow=\"visible\" id=\"glyph38-1 -4619766943910248322\">\n<path style=\"stroke:none;\" d=\"M 115.609375 -1.71875 C 124.140625 -2.703125 129.53125 -4.375 129.53125 -6 C 129.53125 -7.78125 122.921875 -9.5 111.796875 -10.640625 C 100.84375 -11.765625 86.578125 -12.3125 68.5 -12.3125 C 50.421875 -12.3125 36.15625 -11.765625 25.203125 -10.640625 C 13.90625 -9.5 7.46875 -7.78125 7.46875 -5.96875 C 7.46875 -4.15625 14.078125 -2.4375 25.203125 -1.296875 C 36.15625 -0.171875 50.421875 0.375 68.5 0.375 C 81.71875 0.375 91.28125 0.140625 101.359375 -0.453125 L 116.3125 0.890625 L 129.53125 -0.453125 Z M 83.453125 -4.625 L 70.234375 -3.28125 L 83.625 -2.0625 C 79.453125 -1.859375 73.890625 -1.75 68.328125 -1.75 C 47.46875 -1.75 33.5625 -3.421875 33.5625 -5.96875 C 33.5625 -8.53125 47.296875 -10.1875 68.5 -10.1875 C 89.71875 -10.1875 103.453125 -8.53125 103.453125 -5.953125 C 103.453125 -4.953125 101.53125 -4.0625 97.703125 -3.328125 Z M 83.453125 -4.625 \"/>\n</symbol>\n<symbol overflow=\"visible\" id=\"glyph39-0 -4619766943910248322\">\n<path style=\"stroke:none;\" d=\"\"/>\n</symbol>\n<symbol overflow=\"visible\" id=\"glyph39-1 -4619766943910248322\">\n<path style=\"stroke:none;\" d=\"M 80.4375 -16.53125 L 124.9375 -16.53125 L 124.9375 -19.9375 L 2.921875 -19.9375 L 2.921875 -16.53125 L 49.09375 -16.53125 L 49.09375 0 L 80.4375 0 Z M 80.4375 -16.53125 \"/>\n</symbol>\n<symbol overflow=\"visible\" id=\"glyph40-0 -4619766943910248322\">\n<path style=\"stroke:none;\" d=\"\"/>\n</symbol>\n<symbol overflow=\"visible\" id=\"glyph40-1 -4619766943910248322\">\n<path style=\"stroke:none;\" d=\"M 42.5 -6.671875 L 56.71875 -8.8125 L 102.0625 0 L 136.03125 0 L 74.9375 -11.359375 L 130.140625 -19.9375 L 96.5625 -19.9375 L 42.5 -11.1875 L 42.5 -19.9375 L 14.046875 -19.9375 L 14.046875 0 L 42.5 0 Z M 42.5 -6.671875 \"/>\n</symbol>\n<symbol overflow=\"visible\" id=\"glyph41-0 -4619766943910248322\">\n<path style=\"stroke:none;\" d=\"\"/>\n</symbol>\n<symbol overflow=\"visible\" id=\"glyph41-1 -4619766943910248322\">\n<path style=\"stroke:none;\" d=\"M 53.359375 -8.59375 L 129.34375 -8.59375 L 129.34375 -12.015625 L 53.359375 -12.015625 L 53.359375 -16.53125 L 139.59375 -16.53125 L 139.59375 -19.9375 L 17.625 -19.9375 L 17.625 0 L 53.359375 0 Z M 53.359375 -8.59375 \"/>\n</symbol>\n<symbol overflow=\"visible\" id=\"glyph42-0 -4619766943910248322\">\n<path style=\"stroke:none;\" d=\"\"/>\n</symbol>\n<symbol overflow=\"visible\" id=\"glyph42-1 -4619766943910248322\">\n<path style=\"stroke:none;\" d=\"M 123.1875 -17.796875 C 122.984375 -23.09375 102.484375 -26 65.140625 -26 C 29.625 -26 9.125 -23.125 9.125 -18.140625 C 9.125 -14.171875 20.703125 -12.25 50.734375 -11.265625 L 71.4375 -10.5625 C 91.734375 -9.890625 99.234375 -8.90625 99.234375 -6.84375 C 99.234375 -4.703125 87.875 -3.40625 69.40625 -3.40625 C 48.703125 -3.40625 37.140625 -4.90625 36.125 -7.65625 L 6.5 -7.65625 C 8.328125 -2.171875 30.03125 0.8125 67.78125 0.8125 C 105.9375 0.8125 128.453125 -2.25 128.453125 -7.46875 C 128.453125 -11.515625 116.6875 -13.609375 89.296875 -14.53125 L 66.15625 -15.296875 C 44.4375 -16.03125 38.15625 -16.78125 38.15625 -18.640625 C 38.15625 -20.5625 47.890625 -21.796875 63.71875 -21.796875 C 83 -21.796875 93.75 -20.390625 94.765625 -17.796875 Z M 123.1875 -17.796875 \"/>\n</symbol>\n<symbol overflow=\"visible\" id=\"glyph43-0 -4619766943910248322\">\n<path style=\"stroke:none;\" d=\"\"/>\n</symbol>\n<symbol overflow=\"visible\" id=\"glyph43-1 -4619766943910248322\">\n<path style=\"stroke:none;\" d=\"M 105.09375 0 L 135.9375 0 L 135.9375 -26.828125 L 105.09375 -26.828125 L 105.09375 -8.578125 L 45.65625 -26.828125 L 13.984375 -26.828125 L 13.984375 0 L 44.828125 0 L 44.828125 -18.546875 Z M 105.09375 0 \"/>\n</symbol>\n<symbol overflow=\"visible\" id=\"glyph44-0 -4619766943910248322\">\n<path style=\"stroke:none;\" d=\"\"/>\n</symbol>\n<symbol overflow=\"visible\" id=\"glyph44-1 -4619766943910248322\">\n<path style=\"stroke:none;\" d=\"M 37.109375 -20.90625 L 59.609375 0 L 85.375 0 L 107.53125 -20.90625 L 107.53125 0 L 133.296875 0 L 133.296875 -26.828125 L 94.484375 -26.828125 L 72.484375 -5.484375 L 49.8125 -26.828125 L 11.34375 -26.828125 L 11.34375 0 L 37.109375 0 Z M 37.109375 -20.90625 \"/>\n</symbol>\n<symbol overflow=\"visible\" id=\"glyph45-0 -4619766943910248322\">\n<path style=\"stroke:none;\" d=\"\"/>\n</symbol>\n<symbol overflow=\"visible\" id=\"glyph45-1 -4619766943910248322\">\n<path style=\"stroke:none;\" d=\"M 129.609375 -13.75 L 76.375 -13.75 L 76.375 -9.375 L 106.640625 -9.375 C 105.921875 -7.9375 104.09375 -7.046875 100.078125 -6.140625 C 93.515625 -4.59375 83.3125 -3.6875 72.921875 -3.6875 C 50.671875 -3.6875 35 -7.40625 35 -12.671875 C 35 -18.171875 48.859375 -21.515625 72.1875 -21.515625 C 81.671875 -21.515625 89.6875 -20.984375 95.703125 -19.96875 C 99.53125 -19.34375 101.546875 -18.734375 103.90625 -17.40625 L 129.609375 -17.40625 C 126.328125 -22.703125 104.09375 -26 72 -26 C 33.71875 -26 7.65625 -20.5625 7.65625 -12.59375 C 7.65625 -4.84375 33.90625 0.8125 69.8125 0.8125 C 87.6875 0.8125 99.71875 -0.421875 109.921875 -3.296875 L 113.203125 0.0625 L 129.609375 0.0625 Z M 129.609375 -13.75 \"/>\n</symbol>\n<symbol overflow=\"visible\" id=\"glyph46-0 -4619766943910248322\">\n<path style=\"stroke:none;\" d=\"\"/>\n</symbol>\n<symbol overflow=\"visible\" id=\"glyph46-1 -4619766943910248322\">\n<path style=\"stroke:none;\" d=\"M 90.328125 -5.40625 L 98.96875 0 L 126.734375 0 L 81.3125 -26.828125 L 51.375 -26.828125 L 4.6875 0 L 32.265625 0 L 41.109375 -5.40625 Z M 82.921875 -10.015625 L 48.671875 -10.015625 L 65.796875 -20.5 Z M 82.921875 -10.015625 \"/>\n</symbol>\n<symbol overflow=\"visible\" id=\"glyph47-0 -4619766943910248322\">\n<path style=\"stroke:none;\" d=\"\"/>\n</symbol>\n<symbol overflow=\"visible\" id=\"glyph47-1 -4619766943910248322\">\n<path style=\"stroke:none;\" d=\"M 77.71875 0 L 126.671875 -33.6875 L 97.109375 -33.6875 L 65.984375 -8.3125 L 34.265625 -33.6875 L 4.703125 -33.6875 L 52.859375 0 Z M 77.71875 0 \"/>\n</symbol>\n<symbol overflow=\"visible\" id=\"glyph48-0 -4619766943910248322\">\n<path style=\"stroke:none;\" d=\"\"/>\n</symbol>\n<symbol overflow=\"visible\" id=\"glyph48-1 -4619766943910248322\">\n<path style=\"stroke:none;\" d=\"M 103.3125 -30.640625 L 145.765625 -30.640625 C 152.421875 -30.640625 156.234375 -31.1875 156.234375 -32.203125 C 156.234375 -33.21875 152.734375 -33.703125 145.765625 -33.703125 L 44.359375 -33.703125 C 37.703125 -33.703125 34.21875 -33.21875 34.21875 -32.203125 C 34.21875 -31.1875 37.703125 -30.640625 44.359375 -30.640625 L 86.828125 -30.640625 L 86.828125 -3.046875 L 44.359375 -3.046875 C 37.703125 -3.046875 34.21875 -2.515625 34.21875 -1.5625 C 34.21875 -0.53125 37.703125 0 44.359375 0 L 145.765625 0 C 152.421875 0 156.234375 -0.53125 156.234375 -1.5625 C 156.234375 -2.515625 152.734375 -3.046875 145.765625 -3.046875 L 103.3125 -3.046875 Z M 103.3125 -30.640625 \"/>\n</symbol>\n<symbol overflow=\"visible\" id=\"glyph49-0 -4619766943910248322\">\n<path style=\"stroke:none;\" d=\"\"/>\n</symbol>\n<symbol overflow=\"visible\" id=\"glyph49-1 -4619766943910248322\">\n<path style=\"stroke:none;\" d=\"M 56.234375 -60.96875 L 19.5625 -60.96875 L 19.5625 0 L 141.578125 0 L 141.578125 -10.453125 L 56.234375 -10.453125 Z M 56.234375 -60.96875 \"/>\n</symbol>\n<symbol overflow=\"visible\" id=\"glyph50-0 -4619766943910248322\">\n<path style=\"stroke:none;\" d=\"\"/>\n</symbol>\n<symbol overflow=\"visible\" id=\"glyph50-1 -4619766943910248322\">\n<path style=\"stroke:none;\" d=\"M 15.546875 0 L 73.125 0 C 95.53125 0 109.671875 -3.875 119.78125 -12.6875 C 131.296875 -22.84375 137.546875 -37.484375 137.546875 -54.5 C 137.546875 -71.375 131.296875 -86 119.78125 -96.3125 C 109.671875 -105.109375 95.734375 -108.84375 73.125 -108.84375 L 15.546875 -108.84375 Z M 45.84375 -18.65625 L 45.84375 -90.1875 L 73.125 -90.1875 C 95.9375 -90.1875 107.25 -78.390625 107.25 -54.34375 C 107.25 -30.453125 95.9375 -18.65625 73.125 -18.65625 Z M 45.84375 -18.65625 \"/>\n</symbol>\n<symbol overflow=\"visible\" id=\"glyph51-0 -4619766943910248322\">\n<path style=\"stroke:none;\" d=\"\"/>\n</symbol>\n<symbol overflow=\"visible\" id=\"glyph51-1 -4619766943910248322\">\n<path style=\"stroke:none;\" d=\"M 51.265625 -52.75 L 129.390625 -52.75 L 129.390625 -73.765625 L 51.265625 -73.765625 L 51.265625 -101.484375 L 135.65625 -101.484375 L 135.65625 -122.484375 L 17.6875 -122.484375 L 17.6875 0 L 139.6875 0 L 139.6875 -21 L 51.265625 -21 Z M 51.265625 -52.75 \"/>\n</symbol>\n<symbol overflow=\"visible\" id=\"glyph52-0 -4619766943910248322\">\n<path style=\"stroke:none;\" d=\"\"/>\n</symbol>\n<symbol overflow=\"visible\" id=\"glyph52-1 -4619766943910248322\">\n<path style=\"stroke:none;\" d=\"M 96.890625 0 L 123.703125 -6.3125 L 102.609375 -6.3125 L 88.140625 -1.578125 L 72.46875 -6.3125 L 52.828125 -6.3125 L 37.828125 -1.578125 L 22.828125 -6.3125 L 1.71875 -6.3125 L 29.0625 0 L 46.984375 0 L 62.78125 -4.921875 L 78.984375 0 Z M 96.890625 0 \"/>\n</symbol>\n<symbol overflow=\"visible\" id=\"glyph53-0 -4619766943910248322\">\n<path style=\"stroke:none;\" d=\"\"/>\n</symbol>\n<symbol overflow=\"visible\" id=\"glyph53-1 -4619766943910248322\">\n<path style=\"stroke:none;\" d=\"M 129.765625 -4.015625 C 128.8125 -4.53125 126.34375 -4.875 120.4375 -5.21875 C 109.78125 -5.828125 92.65625 -6.171875 71.921875 -6.171875 C 32.71875 -6.171875 8.375 -4.953125 8.375 -2.984375 C 8.375 -1.03125 32.53125 0.1875 71.15625 0.1875 C 105.78125 0.1875 128.625 -0.6875 130.328125 -2.078125 L 102.546875 -2.078125 C 100.65625 -1.296875 89.609375 -0.859375 71.921875 -0.859375 C 49.84375 -0.859375 36.90625 -1.640625 36.90625 -2.96875 C 36.90625 -4.3125 50.421875 -5.109375 72.875 -5.109375 C 89.421875 -5.109375 98.75 -4.75 102.546875 -4.015625 Z M 129.765625 -4.015625 \"/>\n</symbol>\n<symbol overflow=\"visible\" id=\"glyph54-0 -4619766943910248322\">\n<path style=\"stroke:none;\" d=\"\"/>\n</symbol>\n<symbol overflow=\"visible\" id=\"glyph54-1 -4619766943910248322\">\n<path style=\"stroke:none;\" d=\"M 115.609375 -2.59375 C 124.140625 -4.09375 129.53125 -6.609375 129.53125 -9.0625 C 129.53125 -11.75 122.921875 -14.34375 111.796875 -16.0625 C 100.84375 -17.78125 86.578125 -18.609375 68.5 -18.609375 C 50.421875 -18.609375 36.15625 -17.78125 25.203125 -16.0625 C 13.90625 -14.34375 7.46875 -11.75 7.46875 -9.015625 C 7.46875 -6.28125 14.078125 -3.6875 25.203125 -1.953125 C 36.15625 -0.25 50.421875 0.578125 68.5 0.578125 C 81.71875 0.578125 91.28125 0.203125 101.359375 -0.671875 L 116.3125 1.359375 L 129.53125 -0.671875 Z M 83.453125 -6.984375 L 70.234375 -4.953125 L 83.625 -3.109375 C 79.453125 -2.8125 73.890625 -2.640625 68.328125 -2.640625 C 47.46875 -2.640625 33.5625 -5.171875 33.5625 -9.015625 C 33.5625 -12.875 47.296875 -15.390625 68.5 -15.390625 C 89.71875 -15.390625 103.453125 -12.875 103.453125 -8.984375 C 103.453125 -7.484375 101.53125 -6.125 97.703125 -5.015625 Z M 83.453125 -6.984375 \"/>\n</symbol>\n<symbol overflow=\"visible\" id=\"glyph55-0 -4619766943910248322\">\n<path style=\"stroke:none;\" d=\"\"/>\n</symbol>\n<symbol overflow=\"visible\" id=\"glyph55-1 -4619766943910248322\">\n<path style=\"stroke:none;\" d=\"M 49.484375 -7.109375 L 90.4375 -7.109375 C 119.78125 -7.109375 138.609375 -9.71875 138.609375 -13.765625 C 138.609375 -17.75 120.4375 -19.9375 87.15625 -19.9375 L 16.640625 -19.9375 L 16.640625 0 L 49.484375 0 Z M 49.484375 -10.53125 L 49.484375 -16.53125 L 80.140625 -16.53125 C 97.65625 -16.53125 105.765625 -15.5625 105.765625 -13.546875 C 105.765625 -11.484375 97.65625 -10.53125 80.140625 -10.53125 Z M 49.484375 -10.53125 \"/>\n</symbol>\n<symbol overflow=\"visible\" id=\"glyph56-0 -4619766943910248322\">\n<path style=\"stroke:none;\" d=\"\"/>\n</symbol>\n<symbol overflow=\"visible\" id=\"glyph56-1 -4619766943910248322\">\n<path style=\"stroke:none;\" d=\"M 80.4375 -22.21875 L 124.9375 -22.21875 L 124.9375 -26.828125 L 2.921875 -26.828125 L 2.921875 -22.21875 L 49.09375 -22.21875 L 49.09375 0 L 80.4375 0 Z M 80.4375 -22.21875 \"/>\n</symbol>\n<symbol overflow=\"visible\" id=\"glyph57-0 -4619766943910248322\">\n<path style=\"stroke:none;\" d=\"\"/>\n</symbol>\n<symbol overflow=\"visible\" id=\"glyph57-1 -4619766943910248322\">\n<path style=\"stroke:none;\" d=\"M 46.984375 -10.640625 L 82.125 -10.640625 C 95.40625 -10.640625 101.125 -9.671875 101.125 -7.46875 L 101.125 -6.359375 C 100.921875 -5.671875 100.921875 -5 100.921875 -4.59375 C 100.921875 -2.0625 101.734375 -1.28125 105.40625 0 L 138.296875 0 L 138.296875 -1 C 133.59375 -1.46875 131.765625 -2.03125 131.765625 -3.203125 C 130.9375 -11.109375 130.125 -11.484375 111.125 -12.953125 C 127.875 -14.125 136.25 -16.296875 136.25 -19.578125 C 136.25 -21.703125 132.171875 -23.65625 125.015625 -24.984375 C 118.28125 -26.234375 108.875 -26.828125 96.21875 -26.828125 L 16.34375 -26.828125 L 16.34375 0 L 46.984375 0 Z M 46.984375 -15.234375 L 46.984375 -22.21875 L 83.953125 -22.21875 C 92.75 -22.21875 96.21875 -22.078125 100.09375 -21.53125 C 103.78125 -20.96875 105.609375 -20.046875 105.609375 -18.796875 C 105.609375 -17.515625 103.78125 -16.484375 100.09375 -15.9375 C 96.625 -15.421875 92.75 -15.234375 83.953125 -15.234375 Z M 46.984375 -15.234375 \"/>\n</symbol>\n<symbol overflow=\"visible\" id=\"glyph58-0 -4619766943910248322\">\n<path style=\"stroke:none;\" d=\"\"/>\n</symbol>\n<symbol overflow=\"visible\" id=\"glyph58-1 -4619766943910248322\">\n<path style=\"stroke:none;\" d=\"M 15.546875 0 L 73.125 0 C 95.53125 0 109.671875 -0.953125 119.78125 -3.125 C 131.296875 -5.625 137.546875 -9.234375 137.546875 -13.4375 C 137.546875 -17.59375 131.296875 -21.1875 119.78125 -23.734375 C 109.671875 -25.90625 95.734375 -26.828125 73.125 -26.828125 L 15.546875 -26.828125 Z M 45.84375 -4.59375 L 45.84375 -22.21875 L 73.125 -22.21875 C 95.9375 -22.21875 107.25 -19.3125 107.25 -13.390625 C 107.25 -7.5 95.9375 -4.59375 73.125 -4.59375 Z M 45.84375 -4.59375 \"/>\n</symbol>\n<symbol overflow=\"visible\" id=\"glyph59-0 -4619766943910248322\">\n<path style=\"stroke:none;\" d=\"\"/>\n</symbol>\n<symbol overflow=\"visible\" id=\"glyph59-1 -4619766943910248322\">\n<path style=\"stroke:none;\" d=\"M 129.609375 -17.296875 L 76.375 -17.296875 L 76.375 -11.78125 L 106.640625 -11.78125 C 105.921875 -9.96875 104.09375 -8.875 100.078125 -7.71875 C 93.515625 -5.78125 83.3125 -4.640625 72.921875 -4.640625 C 50.671875 -4.640625 35 -9.3125 35 -15.921875 C 35 -22.859375 48.859375 -27.046875 72.1875 -27.046875 C 81.671875 -27.046875 89.6875 -26.390625 95.703125 -25.109375 C 99.53125 -24.3125 101.546875 -23.5625 103.90625 -21.890625 L 129.609375 -21.890625 C 126.328125 -28.546875 104.09375 -32.703125 72 -32.703125 C 33.71875 -32.703125 7.65625 -25.859375 7.65625 -15.84375 C 7.65625 -6.09375 33.90625 1.015625 69.8125 1.015625 C 87.6875 1.015625 99.71875 -0.53125 109.921875 -4.140625 L 113.203125 0.09375 L 129.609375 0.09375 Z M 129.609375 -17.296875 \"/>\n</symbol>\n<symbol overflow=\"visible\" id=\"glyph60-0 -4619766943910248322\">\n<path style=\"stroke:none;\" d=\"\"/>\n</symbol>\n<symbol overflow=\"visible\" id=\"glyph60-1 -4619766943910248322\">\n<path style=\"stroke:none;\" d=\"M 123.1875 -26.875 C 122.984375 -34.875 102.484375 -39.265625 65.140625 -39.265625 C 29.625 -39.265625 9.125 -34.921875 9.125 -27.40625 C 9.125 -21.40625 20.703125 -18.5 50.734375 -17.015625 L 71.4375 -15.953125 C 91.734375 -14.953125 99.234375 -13.46875 99.234375 -10.328125 C 99.234375 -7.109375 87.875 -5.140625 69.40625 -5.140625 C 48.703125 -5.140625 37.140625 -7.421875 36.125 -11.546875 L 6.5 -11.546875 C 8.328125 -3.28125 30.03125 1.21875 67.78125 1.21875 C 105.9375 1.21875 128.453125 -3.390625 128.453125 -11.28125 C 128.453125 -17.390625 116.6875 -20.5625 89.296875 -21.9375 L 66.15625 -23.109375 C 44.4375 -24.21875 38.15625 -25.328125 38.15625 -28.140625 C 38.15625 -31.0625 47.890625 -32.90625 63.71875 -32.90625 C 83 -32.90625 93.75 -30.796875 94.765625 -26.875 Z M 123.1875 -26.875 \"/>\n</symbol>\n<symbol overflow=\"visible\" id=\"glyph61-0 -4619766943910248322\">\n<path style=\"stroke:none;\" d=\"\"/>\n</symbol>\n<symbol overflow=\"visible\" id=\"glyph61-1 -4619766943910248322\">\n<path style=\"stroke:none;\" d=\"M 105.09375 0 L 135.9375 0 L 135.9375 -40.453125 L 105.09375 -40.453125 L 105.09375 -12.9375 L 45.65625 -40.453125 L 13.984375 -40.453125 L 13.984375 0 L 44.828125 0 L 44.828125 -27.96875 Z M 105.09375 0 \"/>\n</symbol>\n<symbol overflow=\"visible\" id=\"glyph62-0 -4619766943910248322\">\n<path style=\"stroke:none;\" d=\"\"/>\n</symbol>\n<symbol overflow=\"visible\" id=\"glyph62-1 -4619766943910248322\">\n<path style=\"stroke:none;\" d=\"M 103.3125 -43.0625 L 145.765625 -43.0625 C 152.421875 -43.0625 156.234375 -43.828125 156.234375 -45.25 C 156.234375 -46.6875 152.734375 -47.359375 145.765625 -47.359375 L 44.359375 -47.359375 C 37.703125 -47.359375 34.21875 -46.6875 34.21875 -45.25 C 34.21875 -43.828125 37.703125 -43.0625 44.359375 -43.0625 L 86.828125 -43.0625 L 86.828125 -4.296875 L 44.359375 -4.296875 C 37.703125 -4.296875 34.21875 -3.53125 34.21875 -2.1875 C 34.21875 -0.75 37.703125 0 44.359375 0 L 145.765625 0 C 152.421875 0 156.234375 -0.75 156.234375 -2.1875 C 156.234375 -3.53125 152.734375 -4.296875 145.765625 -4.296875 L 103.3125 -4.296875 Z M 103.3125 -43.0625 \"/>\n</symbol>\n<symbol overflow=\"visible\" id=\"glyph63-0 -4619766943910248322\">\n<path style=\"stroke:none;\" d=\"\"/>\n</symbol>\n<symbol overflow=\"visible\" id=\"glyph63-1 -4619766943910248322\">\n<path style=\"stroke:none;\" d=\"M 51.265625 -23.34375 L 129.390625 -23.34375 L 129.390625 -32.640625 L 51.265625 -32.640625 L 51.265625 -44.90625 L 135.65625 -44.90625 L 135.65625 -54.203125 L 17.6875 -54.203125 L 17.6875 0 L 139.6875 0 L 139.6875 -9.296875 L 51.265625 -9.296875 Z M 51.265625 -23.34375 \"/>\n</symbol>\n<symbol overflow=\"visible\" id=\"glyph64-0 -4619766943910248322\">\n<path style=\"stroke:none;\" d=\"\"/>\n</symbol>\n<symbol overflow=\"visible\" id=\"glyph64-1 -4619766943910248322\">\n<path style=\"stroke:none;\" d=\"M 42.5 -20.40625 L 56.71875 -26.921875 L 102.0625 0 L 136.03125 0 L 74.9375 -34.703125 L 130.140625 -60.96875 L 96.5625 -60.96875 L 42.5 -34.203125 L 42.5 -60.96875 L 14.046875 -60.96875 L 14.046875 0 L 42.5 0 Z M 42.5 -20.40625 \"/>\n</symbol>\n<symbol overflow=\"visible\" id=\"glyph65-0 -4619766943910248322\">\n<path style=\"stroke:none;\" d=\"\"/>\n</symbol>\n<symbol overflow=\"visible\" id=\"glyph65-1 -4619766943910248322\">\n<path style=\"stroke:none;\" d=\"M 56.234375 -67.828125 L 19.5625 -67.828125 L 19.5625 0 L 141.578125 0 L 141.578125 -11.625 L 56.234375 -11.625 Z M 56.234375 -67.828125 \"/>\n</symbol>\n<symbol overflow=\"visible\" id=\"glyph66-0 -4619766943910248322\">\n<path style=\"stroke:none;\" d=\"\"/>\n</symbol>\n<symbol overflow=\"visible\" id=\"glyph66-1 -4619766943910248322\">\n<path style=\"stroke:none;\" d=\"M 96.890625 0 L 123.703125 -6.28125 L 102.609375 -6.28125 L 88.140625 -1.5625 L 72.46875 -6.28125 L 52.828125 -6.28125 L 37.828125 -1.578125 L 22.828125 -6.28125 L 1.71875 -6.28125 L 29.0625 0 L 46.984375 0 L 62.78125 -4.90625 L 78.984375 0 Z M 96.890625 0 \"/>\n</symbol>\n<symbol overflow=\"visible\" id=\"glyph67-0 -4619766943910248322\">\n<path style=\"stroke:none;\" d=\"\"/>\n</symbol>\n<symbol overflow=\"visible\" id=\"glyph67-1 -4619766943910248322\">\n<path style=\"stroke:none;\" d=\"M 129.765625 -3.921875 C 128.8125 -4.421875 126.34375 -4.75 120.4375 -5.09375 C 109.78125 -5.6875 92.65625 -6.015625 71.921875 -6.015625 C 32.71875 -6.015625 8.375 -4.828125 8.375 -2.90625 C 8.375 -1 32.53125 0.1875 71.15625 0.1875 C 105.78125 0.1875 128.625 -0.671875 130.328125 -2.015625 L 102.546875 -2.015625 C 100.65625 -1.265625 89.609375 -0.84375 71.921875 -0.84375 C 49.84375 -0.84375 36.90625 -1.59375 36.90625 -2.890625 C 36.90625 -4.203125 50.421875 -4.984375 72.875 -4.984375 C 89.421875 -4.984375 98.75 -4.640625 102.546875 -3.921875 Z M 129.765625 -3.921875 \"/>\n</symbol>\n<symbol overflow=\"visible\" id=\"glyph68-0 -4619766943910248322\">\n<path style=\"stroke:none;\" d=\"\"/>\n</symbol>\n<symbol overflow=\"visible\" id=\"glyph68-1 -4619766943910248322\">\n<path style=\"stroke:none;\" d=\"M 49.484375 -4.640625 L 90.4375 -4.640625 C 119.78125 -4.640625 138.609375 -6.328125 138.609375 -8.96875 C 138.609375 -11.578125 120.4375 -13 87.15625 -13 L 16.640625 -13 L 16.640625 0 L 49.484375 0 Z M 49.484375 -6.859375 L 49.484375 -10.765625 L 80.140625 -10.765625 C 97.65625 -10.765625 105.765625 -10.140625 105.765625 -8.828125 C 105.765625 -7.484375 97.65625 -6.859375 80.140625 -6.859375 Z M 49.484375 -6.859375 \"/>\n</symbol>\n<symbol overflow=\"visible\" id=\"glyph69-0 -4619766943910248322\">\n<path style=\"stroke:none;\" d=\"\"/>\n</symbol>\n<symbol overflow=\"visible\" id=\"glyph69-1 -4619766943910248322\">\n<path style=\"stroke:none;\" d=\"M 37.109375 -10.125 L 59.609375 0 L 85.375 0 L 107.53125 -10.125 L 107.53125 0 L 133.296875 0 L 133.296875 -13 L 94.484375 -13 L 72.484375 -2.65625 L 49.8125 -13 L 11.34375 -13 L 11.34375 0 L 37.109375 0 Z M 37.109375 -10.125 \"/>\n</symbol>\n<symbol overflow=\"visible\" id=\"glyph70-0 -4619766943910248322\">\n<path style=\"stroke:none;\" d=\"\"/>\n</symbol>\n<symbol overflow=\"visible\" id=\"glyph70-1 -4619766943910248322\">\n<path style=\"stroke:none;\" d=\"M 104.984375 -5.90625 L 104.984375 0 L 136.046875 0 L 136.046875 -13 L 104.78125 -13 L 104.78125 -8.125 L 45.140625 -8.125 L 45.140625 -13 L 14.078125 -13 L 14.078125 0 L 45.140625 0 L 45.140625 -5.90625 Z M 104.984375 -5.90625 \"/>\n</symbol>\n<symbol overflow=\"visible\" id=\"glyph71-0 -4619766943910248322\">\n<path style=\"stroke:none;\" d=\"\"/>\n</symbol>\n<symbol overflow=\"visible\" id=\"glyph71-1 -4619766943910248322\">\n<path style=\"stroke:none;\" d=\"M 82.03125 -7.296875 L 127.25 -19.71875 L 94.359375 -19.71875 L 67.15625 -11.015625 L 37.984375 -19.71875 L 5.28125 -19.71875 L 52.671875 -7.296875 L 52.671875 0 L 82.03125 0 Z M 82.03125 -7.296875 \"/>\n</symbol>\n<symbol overflow=\"visible\" id=\"glyph72-0 -4619766943910248322\">\n<path style=\"stroke:none;\" d=\"\"/>\n</symbol>\n<symbol overflow=\"visible\" id=\"glyph72-1 -4619766943910248322\">\n<path style=\"stroke:none;\" d=\"M 115.609375 -2.5625 C 124.140625 -4.046875 129.53125 -6.53125 129.53125 -8.96875 C 129.53125 -11.625 122.921875 -14.1875 111.796875 -15.90625 C 100.84375 -17.59375 86.578125 -18.40625 68.5 -18.40625 C 50.421875 -18.40625 36.15625 -17.59375 25.203125 -15.90625 C 13.90625 -14.1875 7.46875 -11.625 7.46875 -8.921875 C 7.46875 -6.203125 14.078125 -3.65625 25.203125 -1.9375 C 36.15625 -0.25 50.421875 0.578125 68.5 0.578125 C 81.71875 0.578125 91.28125 0.203125 101.359375 -0.671875 L 116.3125 1.34375 L 129.53125 -0.671875 Z M 83.453125 -6.90625 L 70.234375 -4.890625 L 83.625 -3.078125 C 79.453125 -2.78125 73.890625 -2.609375 68.328125 -2.609375 C 47.46875 -2.609375 33.5625 -5.125 33.5625 -8.921875 C 33.5625 -12.75 47.296875 -15.234375 68.5 -15.234375 C 89.71875 -15.234375 103.453125 -12.75 103.453125 -8.890625 C 103.453125 -7.40625 101.53125 -6.0625 97.703125 -4.96875 Z M 83.453125 -6.90625 \"/>\n</symbol>\n<symbol overflow=\"visible\" id=\"glyph73-0 -4619766943910248322\">\n<path style=\"stroke:none;\" d=\"\"/>\n</symbol>\n<symbol overflow=\"visible\" id=\"glyph73-1 -4619766943910248322\">\n<path style=\"stroke:none;\" d=\"M 80.4375 -22.015625 L 124.9375 -22.015625 L 124.9375 -26.5625 L 2.921875 -26.5625 L 2.921875 -22.015625 L 49.09375 -22.015625 L 49.09375 0 L 80.4375 0 Z M 80.4375 -22.015625 \"/>\n</symbol>\n<symbol overflow=\"visible\" id=\"glyph74-0 -4619766943910248322\">\n<path style=\"stroke:none;\" d=\"\"/>\n</symbol>\n<symbol overflow=\"visible\" id=\"glyph74-1 -4619766943910248322\">\n<path style=\"stroke:none;\" d=\"M 46.984375 -10.53125 L 82.125 -10.53125 C 95.40625 -10.53125 101.125 -9.578125 101.125 -7.390625 L 101.125 -6.296875 C 100.921875 -5.609375 100.921875 -4.953125 100.921875 -4.5625 C 100.921875 -2.046875 101.734375 -1.28125 105.40625 0 L 138.296875 0 L 138.296875 -0.984375 C 133.59375 -1.453125 131.765625 -2 131.765625 -3.171875 C 130.9375 -11 130.125 -11.375 111.125 -12.828125 C 127.875 -13.984375 136.25 -16.140625 136.25 -19.390625 C 136.25 -21.5 132.171875 -23.421875 125.015625 -24.734375 C 118.28125 -25.984375 108.875 -26.5625 96.21875 -26.5625 L 16.34375 -26.5625 L 16.34375 0 L 46.984375 0 Z M 46.984375 -15.078125 L 46.984375 -22.015625 L 83.953125 -22.015625 C 92.75 -22.015625 96.21875 -21.859375 100.09375 -21.3125 C 103.78125 -20.765625 105.609375 -19.859375 105.609375 -18.625 C 105.609375 -17.34375 103.78125 -16.328125 100.09375 -15.78125 C 96.625 -15.265625 92.75 -15.078125 83.953125 -15.078125 Z M 46.984375 -15.078125 \"/>\n</symbol>\n<symbol overflow=\"visible\" id=\"glyph75-0 -4619766943910248322\">\n<path style=\"stroke:none;\" d=\"\"/>\n</symbol>\n<symbol overflow=\"visible\" id=\"glyph75-1 -4619766943910248322\">\n<path style=\"stroke:none;\" d=\"M 90.328125 -5.359375 L 98.96875 0 L 126.734375 0 L 81.3125 -26.5625 L 51.375 -26.5625 L 4.6875 0 L 32.265625 0 L 41.109375 -5.359375 Z M 82.921875 -9.90625 L 48.671875 -9.90625 L 65.796875 -20.296875 Z M 82.921875 -9.90625 \"/>\n</symbol>\n<symbol overflow=\"visible\" id=\"glyph76-0 -4619766943910248322\">\n<path style=\"stroke:none;\" d=\"\"/>\n</symbol>\n<symbol overflow=\"visible\" id=\"glyph76-1 -4619766943910248322\">\n<path style=\"stroke:none;\" d=\"M 129.609375 -17.09375 L 76.375 -17.09375 L 76.375 -11.640625 L 106.640625 -11.640625 C 105.921875 -9.859375 104.09375 -8.765625 100.078125 -7.625 C 93.515625 -5.71875 83.3125 -4.578125 72.921875 -4.578125 C 50.671875 -4.578125 35 -9.203125 35 -15.75 C 35 -22.59375 48.859375 -26.734375 72.1875 -26.734375 C 81.671875 -26.734375 89.6875 -26.078125 95.703125 -24.8125 C 99.53125 -24.03125 101.546875 -23.28125 103.90625 -21.625 L 129.609375 -21.625 C 126.328125 -28.21875 104.09375 -32.3125 72 -32.3125 C 33.71875 -32.3125 7.65625 -25.5625 7.65625 -15.65625 C 7.65625 -6.015625 33.90625 1 69.8125 1 C 87.6875 1 99.71875 -0.515625 109.921875 -4.09375 L 113.203125 0.09375 L 129.609375 0.09375 Z M 129.609375 -17.09375 \"/>\n</symbol>\n<symbol overflow=\"visible\" id=\"glyph77-0 -4619766943910248322\">\n<path style=\"stroke:none;\" d=\"\"/>\n</symbol>\n<symbol overflow=\"visible\" id=\"glyph77-1 -4619766943910248322\">\n<path style=\"stroke:none;\" d=\"M 53.359375 -14.328125 L 129.34375 -14.328125 L 129.34375 -20.03125 L 53.359375 -20.03125 L 53.359375 -27.5625 L 139.59375 -27.5625 L 139.59375 -33.265625 L 17.625 -33.265625 L 17.625 0 L 53.359375 0 Z M 53.359375 -14.328125 \"/>\n</symbol>\n<symbol overflow=\"visible\" id=\"glyph78-0 -4619766943910248322\">\n<path style=\"stroke:none;\" d=\"\"/>\n</symbol>\n<symbol overflow=\"visible\" id=\"glyph78-1 -4619766943910248322\">\n<path style=\"stroke:none;\" d=\"M 77.71875 0 L 126.671875 -40 L 97.109375 -40 L 65.984375 -9.875 L 34.265625 -40 L 4.703125 -40 L 52.859375 0 Z M 77.71875 0 \"/>\n</symbol>\n<symbol overflow=\"visible\" id=\"glyph79-0 -4619766943910248322\">\n<path style=\"stroke:none;\" d=\"\"/>\n</symbol>\n<symbol overflow=\"visible\" id=\"glyph79-1 -4619766943910248322\">\n<path style=\"stroke:none;\" d=\"M 123.1875 -26.578125 C 122.984375 -34.5 102.484375 -38.859375 65.140625 -38.859375 C 29.625 -38.859375 9.125 -34.5625 9.125 -27.109375 C 9.125 -21.1875 20.703125 -18.296875 50.734375 -16.828125 L 71.4375 -15.78125 C 91.734375 -14.78125 99.234375 -13.3125 99.234375 -10.21875 C 99.234375 -7.03125 87.875 -5.09375 69.40625 -5.09375 C 48.703125 -5.09375 37.140625 -7.34375 36.125 -11.4375 L 6.5 -11.4375 C 8.328125 -3.25 30.03125 1.203125 67.78125 1.203125 C 105.9375 1.203125 128.453125 -3.359375 128.453125 -11.171875 C 128.453125 -17.203125 116.6875 -20.34375 89.296875 -21.703125 L 66.15625 -22.859375 C 44.4375 -23.96875 38.15625 -25.0625 38.15625 -27.84375 C 38.15625 -30.734375 47.890625 -32.5625 63.71875 -32.5625 C 83 -32.5625 93.75 -30.46875 94.765625 -26.578125 Z M 123.1875 -26.578125 \"/>\n</symbol>\n<symbol overflow=\"visible\" id=\"glyph80-0 -4619766943910248322\">\n<path style=\"stroke:none;\" d=\"\"/>\n</symbol>\n<symbol overflow=\"visible\" id=\"glyph80-1 -4619766943910248322\">\n<path style=\"stroke:none;\" d=\"M 105.09375 0 L 135.9375 0 L 135.9375 -40 L 105.09375 -40 L 105.09375 -12.78125 L 45.65625 -40 L 13.984375 -40 L 13.984375 0 L 44.828125 0 L 44.828125 -27.65625 Z M 105.09375 0 \"/>\n</symbol>\n<symbol overflow=\"visible\" id=\"glyph81-0 -4619766943910248322\">\n<path style=\"stroke:none;\" d=\"\"/>\n</symbol>\n<symbol overflow=\"visible\" id=\"glyph81-1 -4619766943910248322\">\n<path style=\"stroke:none;\" d=\"M 42.5 -13.390625 L 56.71875 -17.671875 L 102.0625 0 L 136.03125 0 L 74.9375 -22.765625 L 130.140625 -40 L 96.5625 -40 L 42.5 -22.4375 L 42.5 -40 L 14.046875 -40 L 14.046875 0 L 42.5 0 Z M 42.5 -13.390625 \"/>\n</symbol>\n<symbol overflow=\"visible\" id=\"glyph82-0 -4619766943910248322\">\n<path style=\"stroke:none;\" d=\"\"/>\n</symbol>\n<symbol overflow=\"visible\" id=\"glyph82-1 -4619766943910248322\">\n<path style=\"stroke:none;\" d=\"M 103.3125 -42.578125 L 145.765625 -42.578125 C 152.421875 -42.578125 156.234375 -43.328125 156.234375 -44.734375 C 156.234375 -46.15625 152.734375 -46.8125 145.765625 -46.8125 L 44.359375 -46.8125 C 37.703125 -46.8125 34.21875 -46.15625 34.21875 -44.734375 C 34.21875 -43.328125 37.703125 -42.578125 44.359375 -42.578125 L 86.828125 -42.578125 L 86.828125 -4.234375 L 44.359375 -4.234375 C 37.703125 -4.234375 34.21875 -3.5 34.21875 -2.15625 C 34.21875 -0.75 37.703125 0 44.359375 0 L 145.765625 0 C 152.421875 0 156.234375 -0.75 156.234375 -2.15625 C 156.234375 -3.5 152.734375 -4.234375 145.765625 -4.234375 L 103.3125 -4.234375 Z M 103.3125 -42.578125 \"/>\n</symbol>\n<symbol overflow=\"visible\" id=\"glyph83-0 -4619766943910248322\">\n<path style=\"stroke:none;\" d=\"\"/>\n</symbol>\n<symbol overflow=\"visible\" id=\"glyph83-1 -4619766943910248322\">\n<path style=\"stroke:none;\" d=\"M 15.546875 0 L 73.125 0 C 95.53125 0 109.671875 -1.671875 119.78125 -5.453125 C 131.296875 -9.828125 137.546875 -16.125 137.546875 -23.453125 C 137.546875 -30.703125 131.296875 -37 119.78125 -41.4375 C 109.671875 -45.21875 95.734375 -46.828125 73.125 -46.828125 L 15.546875 -46.828125 Z M 45.84375 -8.03125 L 45.84375 -38.796875 L 73.125 -38.796875 C 95.9375 -38.796875 107.25 -33.71875 107.25 -23.375 C 107.25 -13.109375 95.9375 -8.03125 73.125 -8.03125 Z M 45.84375 -8.03125 \"/>\n</symbol>\n<symbol overflow=\"visible\" id=\"glyph84-0 -4619766943910248322\">\n<path style=\"stroke:none;\" d=\"\"/>\n</symbol>\n<symbol overflow=\"visible\" id=\"glyph84-1 -4619766943910248322\">\n<path style=\"stroke:none;\" d=\"M 51.265625 -23.0625 L 129.390625 -23.0625 L 129.390625 -32.25 L 51.265625 -32.25 L 51.265625 -44.375 L 135.65625 -44.375 L 135.65625 -53.5625 L 17.6875 -53.5625 L 17.6875 0 L 139.6875 0 L 139.6875 -9.1875 L 51.265625 -9.1875 Z M 51.265625 -23.0625 \"/>\n</symbol>\n<symbol overflow=\"visible\" id=\"glyph85-0 -4619766943910248322\">\n<path style=\"stroke:none;\" d=\"\"/>\n</symbol>\n<symbol overflow=\"visible\" id=\"glyph85-1 -4619766943910248322\">\n<path style=\"stroke:none;\" d=\"M 56.234375 -60.28125 L 19.5625 -60.28125 L 19.5625 0 L 141.578125 0 L 141.578125 -10.34375 L 56.234375 -10.34375 Z M 56.234375 -60.28125 \"/>\n</symbol>\n<symbol overflow=\"visible\" id=\"glyph86-0 -4619766943910248322\">\n<path style=\"stroke:none;\" d=\"\"/>\n</symbol>\n<symbol overflow=\"visible\" id=\"glyph86-1 -4619766943910248322\">\n<path style=\"stroke:none;\" d=\"M 49.484375 -4.703125 L 90.4375 -4.703125 C 119.78125 -4.703125 138.609375 -6.421875 138.609375 -9.09375 C 138.609375 -11.75 120.4375 -13.1875 87.15625 -13.1875 L 16.640625 -13.1875 L 16.640625 0 L 49.484375 0 Z M 49.484375 -6.96875 L 49.484375 -10.921875 L 80.140625 -10.921875 C 97.65625 -10.921875 105.765625 -10.296875 105.765625 -8.953125 C 105.765625 -7.59375 97.65625 -6.96875 80.140625 -6.96875 Z M 49.484375 -6.96875 \"/>\n</symbol>\n<symbol overflow=\"visible\" id=\"glyph87-0 -4619766943910248322\">\n<path style=\"stroke:none;\" d=\"\"/>\n</symbol>\n<symbol overflow=\"visible\" id=\"glyph87-1 -4619766943910248322\">\n<path style=\"stroke:none;\" d=\"M 53.359375 -5.6875 L 129.34375 -5.6875 L 129.34375 -7.9375 L 53.359375 -7.9375 L 53.359375 -10.921875 L 139.59375 -10.921875 L 139.59375 -13.1875 L 17.625 -13.1875 L 17.625 0 L 53.359375 0 Z M 53.359375 -5.6875 \"/>\n</symbol>\n<symbol overflow=\"visible\" id=\"glyph88-0 -4619766943910248322\">\n<path style=\"stroke:none;\" d=\"\"/>\n</symbol>\n<symbol overflow=\"visible\" id=\"glyph88-1 -4619766943910248322\">\n<path style=\"stroke:none;\" d=\"M 90.328125 -4.015625 L 98.96875 0 L 126.734375 0 L 81.3125 -19.9375 L 51.375 -19.9375 L 4.6875 0 L 32.265625 0 L 41.109375 -4.015625 Z M 82.921875 -7.4375 L 48.671875 -7.4375 L 65.796875 -15.234375 Z M 82.921875 -7.4375 \"/>\n</symbol>\n<symbol overflow=\"visible\" id=\"glyph89-0 -4619766943910248322\">\n<path style=\"stroke:none;\" d=\"\"/>\n</symbol>\n<symbol overflow=\"visible\" id=\"glyph89-1 -4619766943910248322\">\n<path style=\"stroke:none;\" d=\"M 77.71875 0 L 126.671875 -26.828125 L 97.109375 -26.828125 L 65.984375 -6.625 L 34.265625 -26.828125 L 4.703125 -26.828125 L 52.859375 0 Z M 77.71875 0 \"/>\n</symbol>\n<symbol overflow=\"visible\" id=\"glyph90-0 -4619766943910248322\">\n<path style=\"stroke:none;\" d=\"\"/>\n</symbol>\n<symbol overflow=\"visible\" id=\"glyph90-1 -4619766943910248322\">\n<path style=\"stroke:none;\" d=\"M 56.234375 -40.453125 L 19.5625 -40.453125 L 19.5625 0 L 141.578125 0 L 141.578125 -6.9375 L 56.234375 -6.9375 Z M 56.234375 -40.453125 \"/>\n</symbol>\n<symbol overflow=\"visible\" id=\"glyph91-0 -4619766943910248322\">\n<path style=\"stroke:none;\" d=\"\"/>\n</symbol>\n<symbol overflow=\"visible\" id=\"glyph91-1 -4619766943910248322\">\n<path style=\"stroke:none;\" d=\"M 103.3125 -36.8125 L 145.765625 -36.8125 C 152.421875 -36.8125 156.234375 -37.46875 156.234375 -38.6875 C 156.234375 -39.90625 152.734375 -40.484375 145.765625 -40.484375 L 44.359375 -40.484375 C 37.703125 -40.484375 34.21875 -39.90625 34.21875 -38.6875 C 34.21875 -37.46875 37.703125 -36.8125 44.359375 -36.8125 L 86.828125 -36.8125 L 86.828125 -3.671875 L 44.359375 -3.671875 C 37.703125 -3.671875 34.21875 -3.015625 34.21875 -1.875 C 34.21875 -0.640625 37.703125 0 44.359375 0 L 145.765625 0 C 152.421875 0 156.234375 -0.640625 156.234375 -1.875 C 156.234375 -3.015625 152.734375 -3.671875 145.765625 -3.671875 L 103.3125 -3.671875 Z M 103.3125 -36.8125 \"/>\n</symbol>\n<symbol overflow=\"visible\" id=\"glyph92-0 -4619766943910248322\">\n<path style=\"stroke:none;\" d=\"\"/>\n</symbol>\n<symbol overflow=\"visible\" id=\"glyph92-1 -4619766943910248322\">\n<path style=\"stroke:none;\" d=\"M 15.546875 0 L 73.125 0 C 95.53125 0 109.671875 -1.4375 119.78125 -4.71875 C 131.296875 -8.484375 137.546875 -13.9375 137.546875 -20.25 C 137.546875 -26.53125 131.296875 -31.96875 119.78125 -35.796875 C 109.671875 -39.078125 95.734375 -40.453125 73.125 -40.453125 L 15.546875 -40.453125 Z M 45.84375 -6.9375 L 45.84375 -33.515625 L 73.125 -33.515625 C 95.9375 -33.515625 107.25 -29.140625 107.25 -20.203125 C 107.25 -11.328125 95.9375 -6.9375 73.125 -6.9375 Z M 45.84375 -6.9375 \"/>\n</symbol>\n<symbol overflow=\"visible\" id=\"glyph93-0 -4619766943910248322\">\n<path style=\"stroke:none;\" d=\"\"/>\n</symbol>\n<symbol overflow=\"visible\" id=\"glyph93-1 -4619766943910248322\">\n<path style=\"stroke:none;\" d=\"M 105.09375 0 L 135.9375 0 L 135.9375 -60.96875 L 105.09375 -60.96875 L 105.09375 -19.484375 L 45.65625 -60.96875 L 13.984375 -60.96875 L 13.984375 0 L 44.828125 0 L 44.828125 -42.140625 Z M 105.09375 0 \"/>\n</symbol>\n<symbol overflow=\"visible\" id=\"glyph94-0 -4619766943910248322\">\n<path style=\"stroke:none;\" d=\"\"/>\n</symbol>\n<symbol overflow=\"visible\" id=\"glyph94-1 -4619766943910248322\">\n<path style=\"stroke:none;\" d=\"M 42.5 -22.703125 L 56.71875 -29.96875 L 102.0625 0 L 136.03125 0 L 74.9375 -38.609375 L 130.140625 -67.828125 L 96.5625 -67.828125 L 42.5 -38.0625 L 42.5 -67.828125 L 14.046875 -67.828125 L 14.046875 0 L 42.5 0 Z M 42.5 -22.703125 \"/>\n</symbol>\n<symbol overflow=\"visible\" id=\"glyph95-0 -4619766943910248322\">\n<path style=\"stroke:none;\" d=\"\"/>\n</symbol>\n<symbol overflow=\"visible\" id=\"glyph95-1 -4619766943910248322\">\n<path style=\"stroke:none;\" d=\"M 51.265625 -43.921875 L 129.390625 -43.921875 L 129.390625 -61.40625 L 51.265625 -61.40625 L 51.265625 -84.484375 L 135.65625 -84.484375 L 135.65625 -101.96875 L 17.6875 -101.96875 L 17.6875 0 L 139.6875 0 L 139.6875 -17.484375 L 51.265625 -17.484375 Z M 51.265625 -43.921875 \"/>\n</symbol>\n</g>\n</defs>\n<g id=\"surface1\">\n<path style=\"fill:none;stroke-width:2.08333;stroke-linecap:butt;stroke-linejoin:miter;stroke:rgb(0%,0%,0%);stroke-opacity:1;stroke-miterlimit:10;\" d=\"M 110.416667 58.333333 L 131.25 58.333333 L 131.25 2620.833333 \" transform=\"matrix(0.24,0,0,-0.24,0,635)\"/>\n<g style=\"fill:rgb(0%,0%,0%);fill-opacity:1;\">\n  <use xlink:href=\"#glyph0-1 -4619766943910248322\" x=\"14.880912\" y=\"623.964691\"/>\n  <use xlink:href=\"#glyph0-2 -4619766943910248322\" x=\"19.328915\" y=\"623.964691\"/>\n  <use xlink:href=\"#glyph0-1 -4619766943910248322\" x=\"21.552917\" y=\"623.964691\"/>\n</g>\n<path style=\"fill:none;stroke-width:2.08333;stroke-linecap:butt;stroke-linejoin:miter;stroke:rgb(0%,0%,0%);stroke-opacity:1;stroke-miterlimit:10;\" d=\"M 110.416667 58.333333 L 131.25 58.333333 \" transform=\"matrix(0.24,0,0,-0.24,0,635)\"/>\n<g style=\"fill:rgb(0%,0%,0%);fill-opacity:1;\">\n  <use xlink:href=\"#glyph0-1 -4619766943910248322\" x=\"14.880912\" y=\"316.464745\"/>\n  <use xlink:href=\"#glyph0-2 -4619766943910248322\" x=\"19.328915\" y=\"316.464745\"/>\n  <use xlink:href=\"#glyph0-3 -4619766943910248322\" x=\"21.552917\" y=\"316.464745\"/>\n</g>\n<path style=\"fill:none;stroke-width:2.08333;stroke-linecap:butt;stroke-linejoin:miter;stroke:rgb(0%,0%,0%);stroke-opacity:1;stroke-miterlimit:10;\" d=\"M 110.416667 1339.583333 L 131.25 1339.583333 \" transform=\"matrix(0.24,0,0,-0.24,0,635)\"/>\n<g style=\"fill:rgb(0%,0%,0%);fill-opacity:1;\">\n  <use xlink:href=\"#glyph0-4 -4619766943910248322\" x=\"14.880912\" y=\"8.964499\"/>\n  <use xlink:href=\"#glyph0-2 -4619766943910248322\" x=\"19.328915\" y=\"8.964499\"/>\n  <use xlink:href=\"#glyph0-1 -4619766943910248322\" x=\"21.552917\" y=\"8.964499\"/>\n</g>\n<path style=\"fill:none;stroke-width:2.08333;stroke-linecap:butt;stroke-linejoin:miter;stroke:rgb(0%,0%,0%);stroke-opacity:1;stroke-miterlimit:10;\" d=\"M 110.416667 2620.833333 L 131.25 2620.833333 \" transform=\"matrix(0.24,0,0,-0.24,0,635)\"/>\n<path style=\"fill:none;stroke-width:2.08333;stroke-linecap:butt;stroke-linejoin:miter;stroke:rgb(0%,0%,0%);stroke-opacity:1;stroke-miterlimit:10;\" d=\"M 131.25 58.333333 L 120.833333 58.333333 \" transform=\"matrix(0.24,0,0,-0.24,0,635)\"/>\n<path style=\"fill:none;stroke-width:2.08333;stroke-linecap:butt;stroke-linejoin:miter;stroke:rgb(0%,0%,0%);stroke-opacity:1;stroke-miterlimit:10;\" d=\"M 131.25 314.583333 L 120.833333 314.583333 \" transform=\"matrix(0.24,0,0,-0.24,0,635)\"/>\n<path style=\"fill:none;stroke-width:2.08333;stroke-linecap:butt;stroke-linejoin:miter;stroke:rgb(0%,0%,0%);stroke-opacity:1;stroke-miterlimit:10;\" d=\"M 131.25 570.833333 L 120.833333 570.833333 \" transform=\"matrix(0.24,0,0,-0.24,0,635)\"/>\n<path style=\"fill:none;stroke-width:2.08333;stroke-linecap:butt;stroke-linejoin:miter;stroke:rgb(0%,0%,0%);stroke-opacity:1;stroke-miterlimit:10;\" d=\"M 131.25 827.083333 L 120.833333 827.083333 \" transform=\"matrix(0.24,0,0,-0.24,0,635)\"/>\n<path style=\"fill:none;stroke-width:2.08333;stroke-linecap:butt;stroke-linejoin:miter;stroke:rgb(0%,0%,0%);stroke-opacity:1;stroke-miterlimit:10;\" d=\"M 131.25 1083.333333 L 120.833333 1083.333333 \" transform=\"matrix(0.24,0,0,-0.24,0,635)\"/>\n<path style=\"fill:none;stroke-width:2.08333;stroke-linecap:butt;stroke-linejoin:miter;stroke:rgb(0%,0%,0%);stroke-opacity:1;stroke-miterlimit:10;\" d=\"M 131.25 1339.583333 L 120.833333 1339.583333 \" transform=\"matrix(0.24,0,0,-0.24,0,635)\"/>\n<path style=\"fill:none;stroke-width:2.08333;stroke-linecap:butt;stroke-linejoin:miter;stroke:rgb(0%,0%,0%);stroke-opacity:1;stroke-miterlimit:10;\" d=\"M 131.25 1595.833333 L 120.833333 1595.833333 \" transform=\"matrix(0.24,0,0,-0.24,0,635)\"/>\n<path style=\"fill:none;stroke-width:2.08333;stroke-linecap:butt;stroke-linejoin:miter;stroke:rgb(0%,0%,0%);stroke-opacity:1;stroke-miterlimit:10;\" d=\"M 131.25 1852.083333 L 120.833333 1852.083333 \" transform=\"matrix(0.24,0,0,-0.24,0,635)\"/>\n<path style=\"fill:none;stroke-width:2.08333;stroke-linecap:butt;stroke-linejoin:miter;stroke:rgb(0%,0%,0%);stroke-opacity:1;stroke-miterlimit:10;\" d=\"M 131.25 2108.333333 L 120.833333 2108.333333 \" transform=\"matrix(0.24,0,0,-0.24,0,635)\"/>\n<path style=\"fill:none;stroke-width:2.08333;stroke-linecap:butt;stroke-linejoin:miter;stroke:rgb(0%,0%,0%);stroke-opacity:1;stroke-miterlimit:10;\" d=\"M 131.25 2364.583333 L 120.833333 2364.583333 \" transform=\"matrix(0.24,0,0,-0.24,0,635)\"/>\n<g style=\"fill:rgb(0%,0%,0%);fill-opacity:1;\">\n  <use xlink:href=\"#glyph1-1 -4619766943910248322\" x=\"11.851909\" y=\"336.282761\"/>\n  <use xlink:href=\"#glyph1-2 -4619766943910248322\" x=\"11.851909\" y=\"330.722757\"/>\n  <use xlink:href=\"#glyph1-3 -4619766943910248322\" x=\"11.851909\" y=\"327.392754\"/>\n  <use xlink:href=\"#glyph1-4 -4619766943910248322\" x=\"11.851909\" y=\"321.832749\"/>\n  <use xlink:href=\"#glyph1-5 -4619766943910248322\" x=\"11.851909\" y=\"316.272745\"/>\n  <use xlink:href=\"#glyph1-4 -4619766943910248322\" x=\"11.851909\" y=\"310.712741\"/>\n  <use xlink:href=\"#glyph1-6 -4619766943910248322\" x=\"11.851909\" y=\"305.152736\"/>\n  <use xlink:href=\"#glyph1-7 -4619766943910248322\" x=\"11.851909\" y=\"302.932734\"/>\n  <use xlink:href=\"#glyph1-6 -4619766943910248322\" x=\"11.851909\" y=\"300.712733\"/>\n  <use xlink:href=\"#glyph1-8 -4619766943910248322\" x=\"11.851909\" y=\"298.492731\"/>\n  <use xlink:href=\"#glyph1-9 -4619766943910248322\" x=\"11.851909\" y=\"295.712729\"/>\n</g>\n<path style=\"fill:none;stroke-width:2.08333;stroke-linecap:butt;stroke-linejoin:miter;stroke:rgb(0%,0%,0%);stroke-opacity:1;stroke-miterlimit:10;\" d=\"M 133.333333 58.333333 L 645.833333 58.333333 M 389.583333 58.333333 L 389.583333 53.125 \" transform=\"matrix(0.24,0,0,-0.24,0,635)\"/>\n<g style=\"fill:rgb(0%,50.193787%,0%);fill-opacity:1;\">\n  <use xlink:href=\"#glyph2-1 -4619766943910248322\" x=\"18.419115\" y=\"620.499688\"/>\n</g>\n<g style=\"fill:rgb(0%,0%,0%);fill-opacity:1;\">\n  <use xlink:href=\"#glyph3-1 -4619766943910248322\" x=\"24.126619\" y=\"613.395283\"/>\n</g>\n<g style=\"fill:rgb(0%,0%,0%);fill-opacity:1;\">\n  <use xlink:href=\"#glyph4-1 -4619766943910248322\" x=\"27.212822\" y=\"606.679977\"/>\n</g>\n<g style=\"fill:rgb(0%,50.193787%,0%);fill-opacity:1;\">\n  <use xlink:href=\"#glyph5-1 -4619766943910248322\" x=\"15.854113\" y=\"592.859366\"/>\n</g>\n<g style=\"fill:rgb(0%,0%,0%);fill-opacity:1;\">\n  <use xlink:href=\"#glyph6-1 -4619766943910248322\" x=\"14.867812\" y=\"579.038755\"/>\n</g>\n<g style=\"fill:rgb(0%,0%,100%);fill-opacity:1;\">\n  <use xlink:href=\"#glyph7-1 -4619766943910248322\" x=\"25.02282\" y=\"563.850243\"/>\n</g>\n<g style=\"fill:rgb(0%,50.193787%,0%);fill-opacity:1;\">\n  <use xlink:href=\"#glyph8-1 -4619766943910248322\" x=\"24.84282\" y=\"543.876827\"/>\n</g>\n<g style=\"fill:rgb(0%,50.193787%,0%);fill-opacity:1;\">\n  <use xlink:href=\"#glyph9-1 -4619766943910248322\" x=\"27.812822\" y=\"523.757911\"/>\n</g>\n<g style=\"fill:rgb(0%,0%,0%);fill-opacity:1;\">\n  <use xlink:href=\"#glyph10-1 -4619766943910248322\" x=\"27.801622\" y=\"503.026894\"/>\n</g>\n<g style=\"fill:rgb(0%,0%,100%);fill-opacity:1;\">\n  <use xlink:href=\"#glyph11-1 -4619766943910248322\" x=\"16.154113\" y=\"475.386872\"/>\n</g>\n<g style=\"fill:rgb(0%,0%,100%);fill-opacity:1;\">\n  <use xlink:href=\"#glyph12-1 -4619766943910248322\" x=\"16.941614\" y=\"447.74685\"/>\n</g>\n<g style=\"fill:rgb(0%,50.193787%,0%);fill-opacity:1;\">\n  <use xlink:href=\"#glyph13-1 -4619766943910248322\" x=\"29.575324\" y=\"420.105828\"/>\n</g>\n<g style=\"fill:rgb(0%,0%,0%);fill-opacity:1;\">\n  <use xlink:href=\"#glyph14-1 -4619766943910248322\" x=\"-1.718441\" y=\"385.5558\"/>\n</g>\n<g style=\"fill:rgb(0%,50.193787%,0%);fill-opacity:1;\">\n  <use xlink:href=\"#glyph15-1 -4619766943910248322\" x=\"26.005321\" y=\"342.654766\"/>\n</g>\n<g style=\"fill:rgb(0%,0%,100%);fill-opacity:1;\">\n  <use xlink:href=\"#glyph16-1 -4619766943910248322\" x=\"18.512815\" y=\"295.722729\"/>\n</g>\n<g style=\"fill:rgb(0%,0%,0%);fill-opacity:1;\">\n  <use xlink:href=\"#glyph17-1 -4619766943910248322\" x=\"21.164117\" y=\"247.35169\"/>\n</g>\n<g style=\"fill:rgb(0%,0%,0%);fill-opacity:1;\">\n  <use xlink:href=\"#glyph18-1 -4619766943910248322\" x=\"12.93661\" y=\"198.981651\"/>\n</g>\n<g style=\"fill:rgb(0%,0%,100%);fill-opacity:1;\">\n  <use xlink:href=\"#glyph19-1 -4619766943910248322\" x=\"18.464115\" y=\"150.610612\"/>\n</g>\n<g style=\"fill:rgb(0%,0%,100%);fill-opacity:1;\">\n  <use xlink:href=\"#glyph20-1 -4619766943910248322\" x=\"14.811612\" y=\"81.508557\"/>\n</g>\n<path style=\"fill:none;stroke-width:2.08333;stroke-linecap:butt;stroke-linejoin:miter;stroke:rgb(0%,0%,0%);stroke-opacity:1;stroke-miterlimit:10;\" d=\"M 645.833333 58.333333 L 1158.333333 58.333333 M 902.083333 58.333333 L 902.083333 53.125 \" transform=\"matrix(0.24,0,0,-0.24,0,635)\"/>\n<g style=\"fill:rgb(0%,0%,0%);fill-opacity:1;\">\n  <use xlink:href=\"#glyph21-1 -4619766943910248322\" x=\"153.775123\" y=\"620.499688\"/>\n</g>\n<g style=\"fill:rgb(0%,50.193787%,0%);fill-opacity:1;\">\n  <use xlink:href=\"#glyph2-1 -4619766943910248322\" x=\"141.419113\" y=\"613.590283\"/>\n</g>\n<g style=\"fill:rgb(0%,0%,0%);fill-opacity:1;\">\n  <use xlink:href=\"#glyph3-1 -4619766943910248322\" x=\"147.127118\" y=\"606.484977\"/>\n</g>\n<g style=\"fill:rgb(0%,0%,0%);fill-opacity:1;\">\n  <use xlink:href=\"#glyph4-1 -4619766943910248322\" x=\"150.21312\" y=\"599.769672\"/>\n</g>\n<g style=\"fill:rgb(0%,50.193787%,0%);fill-opacity:1;\">\n  <use xlink:href=\"#glyph5-1 -4619766943910248322\" x=\"138.854111\" y=\"585.949061\"/>\n</g>\n<g style=\"fill:rgb(0%,0%,100%);fill-opacity:1;\">\n  <use xlink:href=\"#glyph7-1 -4619766943910248322\" x=\"148.023118\" y=\"570.760549\"/>\n</g>\n<g style=\"fill:rgb(0%,0%,0%);fill-opacity:1;\">\n  <use xlink:href=\"#glyph22-1 -4619766943910248322\" x=\"137.86811\" y=\"551.398333\"/>\n</g>\n<g style=\"fill:rgb(0%,50.193787%,0%);fill-opacity:1;\">\n  <use xlink:href=\"#glyph23-1 -4619766943910248322\" x=\"152.575122\" y=\"530.667917\"/>\n</g>\n<g style=\"fill:rgb(0%,0%,0%);fill-opacity:1;\">\n  <use xlink:href=\"#glyph24-1 -4619766943910248322\" x=\"144.164115\" y=\"503.026894\"/>\n</g>\n<g style=\"fill:rgb(0%,50.193787%,0%);fill-opacity:1;\">\n  <use xlink:href=\"#glyph25-1 -4619766943910248322\" x=\"147.843118\" y=\"474.572872\"/>\n</g>\n<g style=\"fill:rgb(0%,0%,100%);fill-opacity:1;\">\n  <use xlink:href=\"#glyph12-1 -4619766943910248322\" x=\"139.942112\" y=\"447.74685\"/>\n</g>\n<g style=\"fill:rgb(0%,50.193787%,0%);fill-opacity:1;\">\n  <use xlink:href=\"#glyph26-1 -4619766943910248322\" x=\"150.813121\" y=\"420.105828\"/>\n</g>\n<g style=\"fill:rgb(0%,0%,0%);fill-opacity:1;\">\n  <use xlink:href=\"#glyph27-1 -4619766943910248322\" x=\"150.802121\" y=\"392.464806\"/>\n</g>\n<g style=\"fill:rgb(0%,0%,100%);fill-opacity:1;\">\n  <use xlink:href=\"#glyph28-1 -4619766943910248322\" x=\"139.154111\" y=\"357.913778\"/>\n</g>\n<g style=\"fill:rgb(0%,50.193787%,0%);fill-opacity:1;\">\n  <use xlink:href=\"#glyph29-1 -4619766943910248322\" x=\"149.005119\" y=\"322.12975\"/>\n</g>\n<g style=\"fill:rgb(0%,0%,100%);fill-opacity:1;\">\n  <use xlink:href=\"#glyph30-1 -4619766943910248322\" x=\"141.513113\" y=\"281.902718\"/>\n</g>\n<g style=\"fill:rgb(0%,0%,0%);fill-opacity:1;\">\n  <use xlink:href=\"#glyph31-1 -4619766943910248322\" x=\"121.282097\" y=\"240.441684\"/>\n</g>\n<g style=\"fill:rgb(0%,0%,100%);fill-opacity:1;\">\n  <use xlink:href=\"#glyph32-1 -4619766943910248322\" x=\"137.81211\" y=\"192.071646\"/>\n</g>\n<g style=\"fill:rgb(0%,0%,0%);fill-opacity:1;\">\n  <use xlink:href=\"#glyph33-1 -4619766943910248322\" x=\"135.937109\" y=\"143.699607\"/>\n</g>\n<g style=\"fill:rgb(0%,0%,100%);fill-opacity:1;\">\n  <use xlink:href=\"#glyph19-1 -4619766943910248322\" x=\"141.464113\" y=\"74.598552\"/>\n</g>\n<path style=\"fill:none;stroke-width:2.08333;stroke-linecap:butt;stroke-linejoin:miter;stroke:rgb(0%,0%,0%);stroke-opacity:1;stroke-miterlimit:10;\" d=\"M 1158.333333 58.333333 L 1670.833333 58.333333 M 1414.583333 58.333333 L 1414.583333 53.125 \" transform=\"matrix(0.24,0,0,-0.24,0,635)\"/>\n<g style=\"fill:rgb(0%,50.193787%,0%);fill-opacity:1;\">\n  <use xlink:href=\"#glyph34-1 -4619766943910248322\" x=\"261.854209\" y=\"620.499688\"/>\n</g>\n<g style=\"fill:rgb(0%,50.193787%,0%);fill-opacity:1;\">\n  <use xlink:href=\"#glyph35-1 -4619766943910248322\" x=\"264.419212\" y=\"613.667183\"/>\n</g>\n<g style=\"fill:rgb(0%,0%,0%);fill-opacity:1;\">\n  <use xlink:href=\"#glyph36-1 -4619766943910248322\" x=\"273.213219\" y=\"606.833777\"/>\n</g>\n<g style=\"fill:rgb(0%,0%,100%);fill-opacity:1;\">\n  <use xlink:href=\"#glyph37-1 -4619766943910248322\" x=\"262.15421\" y=\"593.166867\"/>\n</g>\n<g style=\"fill:rgb(0%,0%,100%);fill-opacity:1;\">\n  <use xlink:href=\"#glyph38-1 -4619766943910248322\" x=\"271.023217\" y=\"578.599955\"/>\n</g>\n<g style=\"fill:rgb(0%,50.193787%,0%);fill-opacity:1;\">\n  <use xlink:href=\"#glyph39-1 -4619766943910248322\" x=\"275.57522\" y=\"565.834045\"/>\n</g>\n<g style=\"fill:rgb(0%,0%,100%);fill-opacity:1;\">\n  <use xlink:href=\"#glyph40-1 -4619766943910248322\" x=\"264.464212\" y=\"545.333728\"/>\n</g>\n<g style=\"fill:rgb(0%,0%,0%);fill-opacity:1;\">\n  <use xlink:href=\"#glyph41-1 -4619766943910248322\" x=\"260.868209\" y=\"524.833912\"/>\n</g>\n<g style=\"fill:rgb(0%,50.193787%,0%);fill-opacity:1;\">\n  <use xlink:href=\"#glyph42-1 -4619766943910248322\" x=\"272.005218\" y=\"503.523895\"/>\n</g>\n<g style=\"fill:rgb(0%,0%,100%);fill-opacity:1;\">\n  <use xlink:href=\"#glyph43-1 -4619766943910248322\" x=\"264.513212\" y=\"477.000874\"/>\n</g>\n<g style=\"fill:rgb(0%,0%,0%);fill-opacity:1;\">\n  <use xlink:href=\"#glyph44-1 -4619766943910248322\" x=\"267.164214\" y=\"449.667852\"/>\n</g>\n<g style=\"fill:rgb(0%,50.193787%,0%);fill-opacity:1;\">\n  <use xlink:href=\"#glyph45-1 -4619766943910248322\" x=\"270.843217\" y=\"421.525829\"/>\n</g>\n<g style=\"fill:rgb(0%,50.193787%,0%);fill-opacity:1;\">\n  <use xlink:href=\"#glyph46-1 -4619766943910248322\" x=\"273.813219\" y=\"395.001808\"/>\n</g>\n<g style=\"fill:rgb(0%,0%,0%);fill-opacity:1;\">\n  <use xlink:href=\"#glyph47-1 -4619766943910248322\" x=\"273.802219\" y=\"367.668786\"/>\n</g>\n<g style=\"fill:rgb(0%,0%,0%);fill-opacity:1;\">\n  <use xlink:href=\"#glyph48-1 -4619766943910248322\" x=\"244.282195\" y=\"333.501759\"/>\n</g>\n<g style=\"fill:rgb(0%,0%,0%);fill-opacity:1;\">\n  <use xlink:href=\"#glyph49-1 -4619766943910248322\" x=\"258.937207\" y=\"299.335731\"/>\n</g>\n<g style=\"fill:rgb(0%,0%,100%);fill-opacity:1;\">\n  <use xlink:href=\"#glyph50-1 -4619766943910248322\" x=\"262.94221\" y=\"237.835682\"/>\n</g>\n<g style=\"fill:rgb(0%,0%,100%);fill-opacity:1;\">\n  <use xlink:href=\"#glyph51-1 -4619766943910248322\" x=\"260.812209\" y=\"128.501595\"/>\n</g>\n<path style=\"fill:none;stroke-width:2.08333;stroke-linecap:butt;stroke-linejoin:miter;stroke:rgb(0%,0%,0%);stroke-opacity:1;stroke-miterlimit:10;\" d=\"M 1670.833333 58.333333 L 2183.333333 58.333333 M 1927.083333 58.333333 L 1927.083333 53.125 \" transform=\"matrix(0.24,0,0,-0.24,0,635)\"/>\n<g style=\"fill:rgb(0%,0%,0%);fill-opacity:1;\">\n  <use xlink:href=\"#glyph52-1 -4619766943910248322\" x=\"399.77532\" y=\"620.499688\"/>\n</g>\n<g style=\"fill:rgb(0%,50.193787%,0%);fill-opacity:1;\">\n  <use xlink:href=\"#glyph35-1 -4619766943910248322\" x=\"387.41931\" y=\"613.667183\"/>\n</g>\n<g style=\"fill:rgb(0%,0%,0%);fill-opacity:1;\">\n  <use xlink:href=\"#glyph53-1 -4619766943910248322\" x=\"393.127315\" y=\"606.638777\"/>\n</g>\n<g style=\"fill:rgb(0%,0%,0%);fill-opacity:1;\">\n  <use xlink:href=\"#glyph36-1 -4619766943910248322\" x=\"396.213317\" y=\"600.000272\"/>\n</g>\n<g style=\"fill:rgb(0%,0%,100%);fill-opacity:1;\">\n  <use xlink:href=\"#glyph54-1 -4619766943910248322\" x=\"394.023315\" y=\"584.97966\"/>\n</g>\n<g style=\"fill:rgb(0%,50.193787%,0%);fill-opacity:1;\">\n  <use xlink:href=\"#glyph55-1 -4619766943910248322\" x=\"384.854308\" y=\"565.834045\"/>\n</g>\n<g style=\"fill:rgb(0%,0%,0%);fill-opacity:1;\">\n  <use xlink:href=\"#glyph41-1 -4619766943910248322\" x=\"383.868307\" y=\"545.333728\"/>\n</g>\n<g style=\"fill:rgb(0%,50.193787%,0%);fill-opacity:1;\">\n  <use xlink:href=\"#glyph56-1 -4619766943910248322\" x=\"398.575319\" y=\"524.833912\"/>\n</g>\n<g style=\"fill:rgb(0%,0%,100%);fill-opacity:1;\">\n  <use xlink:href=\"#glyph57-1 -4619766943910248322\" x=\"385.154308\" y=\"497.50189\"/>\n</g>\n<g style=\"fill:rgb(0%,0%,0%);fill-opacity:1;\">\n  <use xlink:href=\"#glyph44-1 -4619766943910248322\" x=\"390.164312\" y=\"470.167868\"/>\n</g>\n<g style=\"fill:rgb(0%,0%,100%);fill-opacity:1;\">\n  <use xlink:href=\"#glyph58-1 -4619766943910248322\" x=\"385.942309\" y=\"442.834846\"/>\n</g>\n<g style=\"fill:rgb(0%,50.193787%,0%);fill-opacity:1;\">\n  <use xlink:href=\"#glyph46-1 -4619766943910248322\" x=\"396.813317\" y=\"415.501824\"/>\n</g>\n<g style=\"fill:rgb(0%,0%,0%);fill-opacity:1;\">\n  <use xlink:href=\"#glyph47-1 -4619766943910248322\" x=\"396.802317\" y=\"388.168803\"/>\n</g>\n<g style=\"fill:rgb(0%,50.193787%,0%);fill-opacity:1;\">\n  <use xlink:href=\"#glyph59-1 -4619766943910248322\" x=\"393.843315\" y=\"352.985774\"/>\n</g>\n<g style=\"fill:rgb(0%,50.193787%,0%);fill-opacity:1;\">\n  <use xlink:href=\"#glyph60-1 -4619766943910248322\" x=\"395.005316\" y=\"318.615747\"/>\n</g>\n<g style=\"fill:rgb(0%,0%,100%);fill-opacity:1;\">\n  <use xlink:href=\"#glyph61-1 -4619766943910248322\" x=\"387.51331\" y=\"278.834715\"/>\n</g>\n<g style=\"fill:rgb(0%,0%,0%);fill-opacity:1;\">\n  <use xlink:href=\"#glyph62-1 -4619766943910248322\" x=\"367.282294\" y=\"237.834682\"/>\n</g>\n<g style=\"fill:rgb(0%,0%,100%);fill-opacity:1;\">\n  <use xlink:href=\"#glyph63-1 -4619766943910248322\" x=\"383.812307\" y=\"190.001644\"/>\n</g>\n<g style=\"fill:rgb(0%,0%,100%);fill-opacity:1;\">\n  <use xlink:href=\"#glyph64-1 -4619766943910248322\" x=\"387.46431\" y=\"135.3336\"/>\n</g>\n<g style=\"fill:rgb(0%,0%,0%);fill-opacity:1;\">\n  <use xlink:href=\"#glyph65-1 -4619766943910248322\" x=\"381.937306\" y=\"73.833551\"/>\n</g>\n<path style=\"fill:none;stroke-width:2.08333;stroke-linecap:butt;stroke-linejoin:miter;stroke:rgb(0%,0%,0%);stroke-opacity:1;stroke-miterlimit:10;\" d=\"M 2183.333333 58.333333 L 2695.833333 58.333333 M 2439.583333 58.333333 L 2439.583333 47.916667 \" transform=\"matrix(0.24,0,0,-0.24,0,635)\"/>\n<g style=\"fill:rgb(0%,0%,0%);fill-opacity:1;\">\n  <use xlink:href=\"#glyph0-3 -4619766943910248322\" x=\"583.276467\" y=\"631.500307\"/>\n</g>\n<g style=\"fill:rgb(0%,0%,0%);fill-opacity:1;\">\n  <use xlink:href=\"#glyph66-1 -4619766943910248322\" x=\"522.775418\" y=\"620.499688\"/>\n</g>\n<g style=\"fill:rgb(0%,0%,0%);fill-opacity:1;\">\n  <use xlink:href=\"#glyph67-1 -4619766943910248322\" x=\"516.127413\" y=\"613.554683\"/>\n</g>\n<g style=\"fill:rgb(0%,50.193787%,0%);fill-opacity:1;\">\n  <use xlink:href=\"#glyph68-1 -4619766943910248322\" x=\"507.854406\" y=\"606.983778\"/>\n</g>\n<g style=\"fill:rgb(0%,0%,0%);fill-opacity:1;\">\n  <use xlink:href=\"#glyph69-1 -4619766943910248322\" x=\"513.164411\" y=\"593.466867\"/>\n</g>\n<g style=\"fill:rgb(0%,50.193787%,0%);fill-opacity:1;\">\n  <use xlink:href=\"#glyph70-1 -4619766943910248322\" x=\"510.419408\" y=\"579.950856\"/>\n</g>\n<g style=\"fill:rgb(0%,0%,0%);fill-opacity:1;\">\n  <use xlink:href=\"#glyph71-1 -4619766943910248322\" x=\"519.213415\" y=\"566.434045\"/>\n</g>\n<g style=\"fill:rgb(0%,0%,100%);fill-opacity:1;\">\n  <use xlink:href=\"#glyph72-1 -4619766943910248322\" x=\"517.023414\" y=\"544.813328\"/>\n</g>\n<g style=\"fill:rgb(0%,50.193787%,0%);fill-opacity:1;\">\n  <use xlink:href=\"#glyph73-1 -4619766943910248322\" x=\"521.575417\" y=\"525.883913\"/>\n</g>\n<g style=\"fill:rgb(0%,0%,100%);fill-opacity:1;\">\n  <use xlink:href=\"#glyph74-1 -4619766943910248322\" x=\"508.154407\" y=\"498.851891\"/>\n</g>\n<g style=\"fill:rgb(0%,50.193787%,0%);fill-opacity:1;\">\n  <use xlink:href=\"#glyph75-1 -4619766943910248322\" x=\"519.813416\" y=\"471.818869\"/>\n</g>\n<g style=\"fill:rgb(0%,50.193787%,0%);fill-opacity:1;\">\n  <use xlink:href=\"#glyph76-1 -4619766943910248322\" x=\"516.843413\" y=\"443.784847\"/>\n</g>\n<g style=\"fill:rgb(0%,0%,0%);fill-opacity:1;\">\n  <use xlink:href=\"#glyph77-1 -4619766943910248322\" x=\"506.868405\" y=\"410.994821\"/>\n</g>\n<g style=\"fill:rgb(0%,0%,0%);fill-opacity:1;\">\n  <use xlink:href=\"#glyph78-1 -4619766943910248322\" x=\"519.802416\" y=\"377.202794\"/>\n</g>\n<g style=\"fill:rgb(0%,50.193787%,0%);fill-opacity:1;\">\n  <use xlink:href=\"#glyph79-1 -4619766943910248322\" x=\"518.005414\" y=\"335.44576\"/>\n</g>\n<g style=\"fill:rgb(0%,0%,100%);fill-opacity:1;\">\n  <use xlink:href=\"#glyph80-1 -4619766943910248322\" x=\"510.513408\" y=\"296.104729\"/>\n</g>\n<g style=\"fill:rgb(0%,0%,100%);fill-opacity:1;\">\n  <use xlink:href=\"#glyph81-1 -4619766943910248322\" x=\"510.464408\" y=\"255.554696\"/>\n</g>\n<g style=\"fill:rgb(0%,0%,0%);fill-opacity:1;\">\n  <use xlink:href=\"#glyph82-1 -4619766943910248322\" x=\"490.282392\" y=\"215.005664\"/>\n</g>\n<g style=\"fill:rgb(0%,0%,100%);fill-opacity:1;\">\n  <use xlink:href=\"#glyph83-1 -4619766943910248322\" x=\"508.942407\" y=\"167.697626\"/>\n</g>\n<g style=\"fill:rgb(0%,0%,100%);fill-opacity:1;\">\n  <use xlink:href=\"#glyph84-1 -4619766943910248322\" x=\"506.812405\" y=\"120.389588\"/>\n</g>\n<g style=\"fill:rgb(0%,0%,0%);fill-opacity:1;\">\n  <use xlink:href=\"#glyph85-1 -4619766943910248322\" x=\"504.937404\" y=\"66.324545\"/>\n</g>\n<path style=\"fill:none;stroke-width:2.08333;stroke-linecap:butt;stroke-linejoin:miter;stroke:rgb(0%,0%,0%);stroke-opacity:1;stroke-miterlimit:10;\" d=\"M 2695.833333 58.333333 L 3208.333333 58.333333 M 2952.083333 58.333333 L 2952.083333 53.125 \" transform=\"matrix(0.24,0,0,-0.24,0,635)\"/>\n<g style=\"fill:rgb(0%,0%,0%);fill-opacity:1;\">\n  <use xlink:href=\"#glyph52-1 -4619766943910248322\" x=\"645.775517\" y=\"620.499688\"/>\n</g>\n<g style=\"fill:rgb(0%,50.193787%,0%);fill-opacity:1;\">\n  <use xlink:href=\"#glyph35-1 -4619766943910248322\" x=\"633.419507\" y=\"613.667183\"/>\n</g>\n<g style=\"fill:rgb(0%,0%,0%);fill-opacity:1;\">\n  <use xlink:href=\"#glyph36-1 -4619766943910248322\" x=\"642.213514\" y=\"606.833777\"/>\n</g>\n<g style=\"fill:rgb(0%,50.193787%,0%);fill-opacity:1;\">\n  <use xlink:href=\"#glyph86-1 -4619766943910248322\" x=\"630.854505\" y=\"593.166867\"/>\n</g>\n<g style=\"fill:rgb(0%,0%,0%);fill-opacity:1;\">\n  <use xlink:href=\"#glyph87-1 -4619766943910248322\" x=\"629.868504\" y=\"579.499956\"/>\n</g>\n<g style=\"fill:rgb(0%,0%,100%);fill-opacity:1;\">\n  <use xlink:href=\"#glyph54-1 -4619766943910248322\" x=\"640.023512\" y=\"564.480244\"/>\n</g>\n<g style=\"fill:rgb(0%,50.193787%,0%);fill-opacity:1;\">\n  <use xlink:href=\"#glyph88-1 -4619766943910248322\" x=\"642.813514\" y=\"545.333728\"/>\n</g>\n<g style=\"fill:rgb(0%,0%,0%);fill-opacity:1;\">\n  <use xlink:href=\"#glyph89-1 -4619766943910248322\" x=\"642.802514\" y=\"524.833912\"/>\n</g>\n<g style=\"fill:rgb(0%,50.193787%,0%);fill-opacity:1;\">\n  <use xlink:href=\"#glyph56-1 -4619766943910248322\" x=\"644.575516\" y=\"497.50189\"/>\n</g>\n<g style=\"fill:rgb(0%,50.193787%,0%);fill-opacity:1;\">\n  <use xlink:href=\"#glyph42-1 -4619766943910248322\" x=\"641.005513\" y=\"469.357867\"/>\n</g>\n<g style=\"fill:rgb(0%,0%,100%);fill-opacity:1;\">\n  <use xlink:href=\"#glyph57-1 -4619766943910248322\" x=\"631.154505\" y=\"442.834846\"/>\n</g>\n<g style=\"fill:rgb(0%,0%,0%);fill-opacity:1;\">\n  <use xlink:href=\"#glyph44-1 -4619766943910248322\" x=\"636.164509\" y=\"415.501824\"/>\n</g>\n<g style=\"fill:rgb(0%,50.193787%,0%);fill-opacity:1;\">\n  <use xlink:href=\"#glyph45-1 -4619766943910248322\" x=\"639.843512\" y=\"387.358802\"/>\n</g>\n<g style=\"fill:rgb(0%,0%,0%);fill-opacity:1;\">\n  <use xlink:href=\"#glyph90-1 -4619766943910248322\" x=\"627.937502\" y=\"360.835781\"/>\n</g>\n<g style=\"fill:rgb(0%,0%,0%);fill-opacity:1;\">\n  <use xlink:href=\"#glyph91-1 -4619766943910248322\" x=\"613.282491\" y=\"319.835748\"/>\n</g>\n<g style=\"fill:rgb(0%,0%,100%);fill-opacity:1;\">\n  <use xlink:href=\"#glyph92-1 -4619766943910248322\" x=\"631.942506\" y=\"278.834715\"/>\n</g>\n<g style=\"fill:rgb(0%,0%,100%);fill-opacity:1;\">\n  <use xlink:href=\"#glyph93-1 -4619766943910248322\" x=\"633.513507\" y=\"237.835682\"/>\n</g>\n<g style=\"fill:rgb(0%,0%,100%);fill-opacity:1;\">\n  <use xlink:href=\"#glyph94-1 -4619766943910248322\" x=\"633.464507\" y=\"176.335633\"/>\n</g>\n<g style=\"fill:rgb(0%,0%,100%);fill-opacity:1;\">\n  <use xlink:href=\"#glyph95-1 -4619766943910248322\" x=\"629.812504\" y=\"108.001578\"/>\n</g>\n</g>\n</svg>"
          },
          "metadata": {},
          "execution_count": 6
        }
      ]
    },
    {
      "cell_type": "markdown",
      "metadata": {
        "id": "tVf-jVL5mFIb"
      },
      "source": [
        "# wtScore line plot"
      ]
    },
    {
      "cell_type": "code",
      "source": [
        "import matplotlib.pyplot as plt"
      ],
      "metadata": {
        "id": "XSBucZOdpx8t"
      },
      "execution_count": 7,
      "outputs": []
    },
    {
      "cell_type": "code",
      "source": [
        "mendel_berteome.df"
      ],
      "metadata": {
        "id": "gnCeLDTto1Wh",
        "outputId": "d442676b-ebc5-485a-b512-703e2da34f89",
        "colab": {
          "base_uri": "https://localhost:8080/",
          "height": 331
        }
      },
      "execution_count": 8,
      "outputs": [
        {
          "output_type": "execute_result",
          "data": {
            "text/plain": [
              "  wt  wtIndex   wtScore  n_effective topAA  topAAscore         A         C  \\\n",
              "0  M        1  0.076602    16.680519     E    0.118906  0.036697  0.011504   \n",
              "1  E        2  0.074830    17.599154     L    0.106501  0.045721  0.015662   \n",
              "2  N        3  0.041990    14.518531     E    0.184364  0.043564  0.009685   \n",
              "3  D        4  0.049748    17.561047     L    0.109088  0.042083  0.013244   \n",
              "4  E        5  0.086915    17.921406     L    0.090807  0.046641  0.018770   \n",
              "5  L        6  0.060736    16.068075     E    0.152547  0.038191  0.009217   \n",
              "\n",
              "          D         E  ...         M         N         P         Q         R  \\\n",
              "0  0.048245  0.118906  ...  0.076602  0.072661  0.024722  0.038672  0.043105   \n",
              "1  0.041921  0.074830  ...  0.043581  0.062667  0.025277  0.036911  0.055543   \n",
              "2  0.162590  0.184364  ...  0.041484  0.041990  0.019992  0.025515  0.029433   \n",
              "3  0.049748  0.086194  ...  0.040080  0.060822  0.032024  0.039689  0.046228   \n",
              "4  0.079822  0.086915  ...  0.028962  0.062234  0.023879  0.030534  0.040489   \n",
              "5  0.065189  0.152547  ...  0.040042  0.096484  0.020712  0.035022  0.046888   \n",
              "\n",
              "          S         T         V         W         Y  \n",
              "0  0.070280  0.056544  0.049927  0.007781  0.021699  \n",
              "1  0.064425  0.049955  0.056789  0.012691  0.029893  \n",
              "2  0.048106  0.030303  0.054742  0.007430  0.024924  \n",
              "3  0.062323  0.044901  0.058937  0.010875  0.026596  \n",
              "4  0.065195  0.044938  0.068038  0.012156  0.038034  \n",
              "5  0.049071  0.046247  0.048276  0.010486  0.022727  \n",
              "\n",
              "[6 rows x 26 columns]"
            ],
            "text/html": [
              "\n",
              "  <div id=\"df-3f973d41-1cf9-4b64-a839-d7e1b8198a16\">\n",
              "    <div class=\"colab-df-container\">\n",
              "      <div>\n",
              "<style scoped>\n",
              "    .dataframe tbody tr th:only-of-type {\n",
              "        vertical-align: middle;\n",
              "    }\n",
              "\n",
              "    .dataframe tbody tr th {\n",
              "        vertical-align: top;\n",
              "    }\n",
              "\n",
              "    .dataframe thead th {\n",
              "        text-align: right;\n",
              "    }\n",
              "</style>\n",
              "<table border=\"1\" class=\"dataframe\">\n",
              "  <thead>\n",
              "    <tr style=\"text-align: right;\">\n",
              "      <th></th>\n",
              "      <th>wt</th>\n",
              "      <th>wtIndex</th>\n",
              "      <th>wtScore</th>\n",
              "      <th>n_effective</th>\n",
              "      <th>topAA</th>\n",
              "      <th>topAAscore</th>\n",
              "      <th>A</th>\n",
              "      <th>C</th>\n",
              "      <th>D</th>\n",
              "      <th>E</th>\n",
              "      <th>...</th>\n",
              "      <th>M</th>\n",
              "      <th>N</th>\n",
              "      <th>P</th>\n",
              "      <th>Q</th>\n",
              "      <th>R</th>\n",
              "      <th>S</th>\n",
              "      <th>T</th>\n",
              "      <th>V</th>\n",
              "      <th>W</th>\n",
              "      <th>Y</th>\n",
              "    </tr>\n",
              "  </thead>\n",
              "  <tbody>\n",
              "    <tr>\n",
              "      <th>0</th>\n",
              "      <td>M</td>\n",
              "      <td>1</td>\n",
              "      <td>0.076602</td>\n",
              "      <td>16.680519</td>\n",
              "      <td>E</td>\n",
              "      <td>0.118906</td>\n",
              "      <td>0.036697</td>\n",
              "      <td>0.011504</td>\n",
              "      <td>0.048245</td>\n",
              "      <td>0.118906</td>\n",
              "      <td>...</td>\n",
              "      <td>0.076602</td>\n",
              "      <td>0.072661</td>\n",
              "      <td>0.024722</td>\n",
              "      <td>0.038672</td>\n",
              "      <td>0.043105</td>\n",
              "      <td>0.070280</td>\n",
              "      <td>0.056544</td>\n",
              "      <td>0.049927</td>\n",
              "      <td>0.007781</td>\n",
              "      <td>0.021699</td>\n",
              "    </tr>\n",
              "    <tr>\n",
              "      <th>1</th>\n",
              "      <td>E</td>\n",
              "      <td>2</td>\n",
              "      <td>0.074830</td>\n",
              "      <td>17.599154</td>\n",
              "      <td>L</td>\n",
              "      <td>0.106501</td>\n",
              "      <td>0.045721</td>\n",
              "      <td>0.015662</td>\n",
              "      <td>0.041921</td>\n",
              "      <td>0.074830</td>\n",
              "      <td>...</td>\n",
              "      <td>0.043581</td>\n",
              "      <td>0.062667</td>\n",
              "      <td>0.025277</td>\n",
              "      <td>0.036911</td>\n",
              "      <td>0.055543</td>\n",
              "      <td>0.064425</td>\n",
              "      <td>0.049955</td>\n",
              "      <td>0.056789</td>\n",
              "      <td>0.012691</td>\n",
              "      <td>0.029893</td>\n",
              "    </tr>\n",
              "    <tr>\n",
              "      <th>2</th>\n",
              "      <td>N</td>\n",
              "      <td>3</td>\n",
              "      <td>0.041990</td>\n",
              "      <td>14.518531</td>\n",
              "      <td>E</td>\n",
              "      <td>0.184364</td>\n",
              "      <td>0.043564</td>\n",
              "      <td>0.009685</td>\n",
              "      <td>0.162590</td>\n",
              "      <td>0.184364</td>\n",
              "      <td>...</td>\n",
              "      <td>0.041484</td>\n",
              "      <td>0.041990</td>\n",
              "      <td>0.019992</td>\n",
              "      <td>0.025515</td>\n",
              "      <td>0.029433</td>\n",
              "      <td>0.048106</td>\n",
              "      <td>0.030303</td>\n",
              "      <td>0.054742</td>\n",
              "      <td>0.007430</td>\n",
              "      <td>0.024924</td>\n",
              "    </tr>\n",
              "    <tr>\n",
              "      <th>3</th>\n",
              "      <td>D</td>\n",
              "      <td>4</td>\n",
              "      <td>0.049748</td>\n",
              "      <td>17.561047</td>\n",
              "      <td>L</td>\n",
              "      <td>0.109088</td>\n",
              "      <td>0.042083</td>\n",
              "      <td>0.013244</td>\n",
              "      <td>0.049748</td>\n",
              "      <td>0.086194</td>\n",
              "      <td>...</td>\n",
              "      <td>0.040080</td>\n",
              "      <td>0.060822</td>\n",
              "      <td>0.032024</td>\n",
              "      <td>0.039689</td>\n",
              "      <td>0.046228</td>\n",
              "      <td>0.062323</td>\n",
              "      <td>0.044901</td>\n",
              "      <td>0.058937</td>\n",
              "      <td>0.010875</td>\n",
              "      <td>0.026596</td>\n",
              "    </tr>\n",
              "    <tr>\n",
              "      <th>4</th>\n",
              "      <td>E</td>\n",
              "      <td>5</td>\n",
              "      <td>0.086915</td>\n",
              "      <td>17.921406</td>\n",
              "      <td>L</td>\n",
              "      <td>0.090807</td>\n",
              "      <td>0.046641</td>\n",
              "      <td>0.018770</td>\n",
              "      <td>0.079822</td>\n",
              "      <td>0.086915</td>\n",
              "      <td>...</td>\n",
              "      <td>0.028962</td>\n",
              "      <td>0.062234</td>\n",
              "      <td>0.023879</td>\n",
              "      <td>0.030534</td>\n",
              "      <td>0.040489</td>\n",
              "      <td>0.065195</td>\n",
              "      <td>0.044938</td>\n",
              "      <td>0.068038</td>\n",
              "      <td>0.012156</td>\n",
              "      <td>0.038034</td>\n",
              "    </tr>\n",
              "    <tr>\n",
              "      <th>5</th>\n",
              "      <td>L</td>\n",
              "      <td>6</td>\n",
              "      <td>0.060736</td>\n",
              "      <td>16.068075</td>\n",
              "      <td>E</td>\n",
              "      <td>0.152547</td>\n",
              "      <td>0.038191</td>\n",
              "      <td>0.009217</td>\n",
              "      <td>0.065189</td>\n",
              "      <td>0.152547</td>\n",
              "      <td>...</td>\n",
              "      <td>0.040042</td>\n",
              "      <td>0.096484</td>\n",
              "      <td>0.020712</td>\n",
              "      <td>0.035022</td>\n",
              "      <td>0.046888</td>\n",
              "      <td>0.049071</td>\n",
              "      <td>0.046247</td>\n",
              "      <td>0.048276</td>\n",
              "      <td>0.010486</td>\n",
              "      <td>0.022727</td>\n",
              "    </tr>\n",
              "  </tbody>\n",
              "</table>\n",
              "<p>6 rows × 26 columns</p>\n",
              "</div>\n",
              "      <button class=\"colab-df-convert\" onclick=\"convertToInteractive('df-3f973d41-1cf9-4b64-a839-d7e1b8198a16')\"\n",
              "              title=\"Convert this dataframe to an interactive table.\"\n",
              "              style=\"display:none;\">\n",
              "        \n",
              "  <svg xmlns=\"http://www.w3.org/2000/svg\" height=\"24px\"viewBox=\"0 0 24 24\"\n",
              "       width=\"24px\">\n",
              "    <path d=\"M0 0h24v24H0V0z\" fill=\"none\"/>\n",
              "    <path d=\"M18.56 5.44l.94 2.06.94-2.06 2.06-.94-2.06-.94-.94-2.06-.94 2.06-2.06.94zm-11 1L8.5 8.5l.94-2.06 2.06-.94-2.06-.94L8.5 2.5l-.94 2.06-2.06.94zm10 10l.94 2.06.94-2.06 2.06-.94-2.06-.94-.94-2.06-.94 2.06-2.06.94z\"/><path d=\"M17.41 7.96l-1.37-1.37c-.4-.4-.92-.59-1.43-.59-.52 0-1.04.2-1.43.59L10.3 9.45l-7.72 7.72c-.78.78-.78 2.05 0 2.83L4 21.41c.39.39.9.59 1.41.59.51 0 1.02-.2 1.41-.59l7.78-7.78 2.81-2.81c.8-.78.8-2.07 0-2.86zM5.41 20L4 18.59l7.72-7.72 1.47 1.35L5.41 20z\"/>\n",
              "  </svg>\n",
              "      </button>\n",
              "      \n",
              "  <style>\n",
              "    .colab-df-container {\n",
              "      display:flex;\n",
              "      flex-wrap:wrap;\n",
              "      gap: 12px;\n",
              "    }\n",
              "\n",
              "    .colab-df-convert {\n",
              "      background-color: #E8F0FE;\n",
              "      border: none;\n",
              "      border-radius: 50%;\n",
              "      cursor: pointer;\n",
              "      display: none;\n",
              "      fill: #1967D2;\n",
              "      height: 32px;\n",
              "      padding: 0 0 0 0;\n",
              "      width: 32px;\n",
              "    }\n",
              "\n",
              "    .colab-df-convert:hover {\n",
              "      background-color: #E2EBFA;\n",
              "      box-shadow: 0px 1px 2px rgba(60, 64, 67, 0.3), 0px 1px 3px 1px rgba(60, 64, 67, 0.15);\n",
              "      fill: #174EA6;\n",
              "    }\n",
              "\n",
              "    [theme=dark] .colab-df-convert {\n",
              "      background-color: #3B4455;\n",
              "      fill: #D2E3FC;\n",
              "    }\n",
              "\n",
              "    [theme=dark] .colab-df-convert:hover {\n",
              "      background-color: #434B5C;\n",
              "      box-shadow: 0px 1px 3px 1px rgba(0, 0, 0, 0.15);\n",
              "      filter: drop-shadow(0px 1px 2px rgba(0, 0, 0, 0.3));\n",
              "      fill: #FFFFFF;\n",
              "    }\n",
              "  </style>\n",
              "\n",
              "      <script>\n",
              "        const buttonEl =\n",
              "          document.querySelector('#df-3f973d41-1cf9-4b64-a839-d7e1b8198a16 button.colab-df-convert');\n",
              "        buttonEl.style.display =\n",
              "          google.colab.kernel.accessAllowed ? 'block' : 'none';\n",
              "\n",
              "        async function convertToInteractive(key) {\n",
              "          const element = document.querySelector('#df-3f973d41-1cf9-4b64-a839-d7e1b8198a16');\n",
              "          const dataTable =\n",
              "            await google.colab.kernel.invokeFunction('convertToInteractive',\n",
              "                                                     [key], {});\n",
              "          if (!dataTable) return;\n",
              "\n",
              "          const docLinkHtml = 'Like what you see? Visit the ' +\n",
              "            '<a target=\"_blank\" href=https://colab.research.google.com/notebooks/data_table.ipynb>data table notebook</a>'\n",
              "            + ' to learn more about interactive tables.';\n",
              "          element.innerHTML = '';\n",
              "          dataTable['output_type'] = 'display_data';\n",
              "          await google.colab.output.renderOutput(dataTable, element);\n",
              "          const docLink = document.createElement('div');\n",
              "          docLink.innerHTML = docLinkHtml;\n",
              "          element.appendChild(docLink);\n",
              "        }\n",
              "      </script>\n",
              "    </div>\n",
              "  </div>\n",
              "  "
            ]
          },
          "metadata": {},
          "execution_count": 8
        }
      ]
    },
    {
      "cell_type": "code",
      "source": [
        "plt.plot(mendel_berteome.df[\"wtIndex\"],mendel_berteome.df[\"wtScore\"])\n",
        "plt.xticks(mendel_berteome.df[\"wtIndex\"], mendel_berteome.df[\"wt\"], size='small')\n",
        "\n",
        "plt.show()"
      ],
      "metadata": {
        "id": "vjr4C8VAo2sg",
        "outputId": "65dc5397-feb1-46ac-952f-1cf3b2486cdf",
        "colab": {
          "base_uri": "https://localhost:8080/",
          "height": 264
        }
      },
      "execution_count": 9,
      "outputs": [
        {
          "output_type": "display_data",
          "data": {
            "text/plain": [
              "<Figure size 432x288 with 1 Axes>"
            ],
            "image/png": "[encoded data removed]"
          },
          "metadata": {
            "needs_background": "light"
          }
        }
      ]
    },
    {
      "cell_type": "code",
      "source": [
        "def wtScore_plot(berteome):\n",
        "  fig, ax = plt.subplots()\n",
        "\n",
        "  ax.plot(berteome.df.index,berteome.df[\"wtScore\"])\n",
        "  ax.set_xticks(berteome.df.index)\n",
        "  ax.set_xticklabels(berteome.df[\"wt\"])\n",
        "  \n",
        "  return fig, ax"
      ],
      "metadata": {
        "id": "8dZFA7Ctp7Wy"
      },
      "execution_count": 10,
      "outputs": []
    },
    {
      "cell_type": "code",
      "source": [
        "wtScore_plot(mendel_berteome)\n"
      ],
      "metadata": {
        "id": "Mb8d_Dr8q8W-",
        "outputId": "71d232c2-a604-43d0-c098-a2c9a3fa695f",
        "colab": {
          "base_uri": "https://localhost:8080/",
          "height": 302
        }
      },
      "execution_count": 11,
      "outputs": [
        {
          "output_type": "execute_result",
          "data": {
            "text/plain": [
              "(<Figure size 432x288 with 1 Axes>,\n",
              " <matplotlib.axes._subplots.AxesSubplot at 0x7f7d820c31f0>)"
            ]
          },
          "metadata": {},
          "execution_count": 11
        },
        {
          "output_type": "display_data",
          "data": {
            "text/plain": [
              "<Figure size 432x288 with 1 Axes>"
            ],
            "image/png": "[encoded data removed]"
          },
          "metadata": {
            "needs_background": "light"
          }
        }
      ]
    },
    {
      "cell_type": "code",
      "source": [
        "mendel_berteome.df.index"
      ],
      "metadata": {
        "id": "FhXAIrunrG9i",
        "outputId": "ee55d71b-ab31-4812-ff16-a8d5cc704c13",
        "colab": {
          "base_uri": "https://localhost:8080/"
        }
      },
      "execution_count": 12,
      "outputs": [
        {
          "output_type": "execute_result",
          "data": {
            "text/plain": [
              "Int64Index([0, 1, 2, 3, 4, 5], dtype='int64')"
            ]
          },
          "metadata": {},
          "execution_count": 12
        }
      ]
    },
    {
      "cell_type": "code",
      "source": [
        "fig, ax = plt.subplots()\n",
        "ax.plot([1,2,3,4],[1,2,1,2])\n",
        "# ax.set_xticklabels([\"A\",\"B\",\"C\",\"D\"])\n",
        "ax.set_xticks([1,2,3,4])\n",
        "ax.set_xticklabels([\"A\",\"B\",\"C\",\"D\"])"
      ],
      "metadata": {
        "id": "Uw4pydVvtg2O",
        "outputId": "aae09311-f8ad-4854-8e58-8fbdcb988bd5",
        "colab": {
          "base_uri": "https://localhost:8080/",
          "height": 283
        }
      },
      "execution_count": 13,
      "outputs": [
        {
          "output_type": "execute_result",
          "data": {
            "text/plain": [
              "[Text(0, 0, 'A'), Text(0, 0, 'B'), Text(0, 0, 'C'), Text(0, 0, 'D')]"
            ]
          },
          "metadata": {},
          "execution_count": 13
        },
        {
          "output_type": "display_data",
          "data": {
            "text/plain": [
              "<Figure size 432x288 with 1 Axes>"
            ],
            "image/png": "[encoded data removed]"
          },
          "metadata": {
            "needs_background": "light"
          }
        }
      ]
    },
    {
      "cell_type": "markdown",
      "source": [
        "# Bar graph of n_effective"
      ],
      "metadata": {
        "id": "ihqoIhVdvfhu"
      }
    },
    {
      "cell_type": "code",
      "source": [
        "def n_effective_plot(berteome):\n",
        "  fig, ax = plt.subplots()\n",
        "\n",
        "  ax.bar(berteome.df.index,berteome.df[\"n_effective\"])\n",
        "  ax.set_xticks(berteome.df.index)\n",
        "  ax.set_xticklabels(berteome.df[\"wt\"])\n",
        "  \n",
        "  return fig, ax"
      ],
      "metadata": {
        "id": "dyH4oTPGuJJC"
      },
      "execution_count": 18,
      "outputs": []
    },
    {
      "cell_type": "code",
      "source": [
        "n_effective_plot(mendel_berteome)"
      ],
      "metadata": {
        "id": "mAem7c3AvySR",
        "outputId": "fe7e758d-6837-45f3-b62e-bf0e280558ee",
        "colab": {
          "base_uri": "https://localhost:8080/",
          "height": 302
        }
      },
      "execution_count": 19,
      "outputs": [
        {
          "output_type": "execute_result",
          "data": {
            "text/plain": [
              "(<Figure size 432x288 with 1 Axes>,\n",
              " <matplotlib.axes._subplots.AxesSubplot at 0x7f7d81c3fa90>)"
            ]
          },
          "metadata": {},
          "execution_count": 19
        },
        {
          "output_type": "display_data",
          "data": {
            "text/plain": [
              "<Figure size 432x288 with 1 Axes>"
            ],
            "image/png": "[encoded data removed]"
          },
          "metadata": {
            "needs_background": "light"
          }
        }
      ]
    },
    {
      "cell_type": "markdown",
      "source": [
        "# Correlation heatmap"
      ],
      "metadata": {
        "id": "IIPr6Db8yAYn"
      }
    },
    {
      "cell_type": "code",
      "source": [
        "import seaborn as sb"
      ],
      "metadata": {
        "id": "KHS_ipmCy72E"
      },
      "execution_count": 21,
      "outputs": []
    },
    {
      "cell_type": "code",
      "source": [
        "mendel_berteome.aa_correlation()"
      ],
      "metadata": {
        "id": "q0y92GL8v5Q5",
        "outputId": "ff5c3685-6595-4bf3-c3d5-8815141414a1",
        "colab": {
          "base_uri": "https://localhost:8080/",
          "height": 741
        }
      },
      "execution_count": 20,
      "outputs": [
        {
          "output_type": "execute_result",
          "data": {
            "text/plain": [
              "          A         C         D         E         F         G         H  \\\n",
              "A  1.000000  0.728715  0.235810 -0.389880  0.879478  0.295939  0.745629   \n",
              "C  0.728715  1.000000 -0.335086 -0.816555  0.854112  0.231240  0.948531   \n",
              "D  0.235810 -0.335086  1.000000  0.765980  0.084237 -0.105943 -0.311785   \n",
              "E -0.389880 -0.816555  0.765980  1.000000 -0.555584 -0.275365 -0.756599   \n",
              "F  0.879478  0.854112  0.084237 -0.555584  1.000000  0.456554  0.850721   \n",
              "G  0.295939  0.231240 -0.105943 -0.275365  0.456554  1.000000  0.469717   \n",
              "H  0.745629  0.948531 -0.311785 -0.756599  0.850721  0.469717  1.000000   \n",
              "I  0.281994  0.774243 -0.822663 -0.960437  0.485917  0.397913  0.780563   \n",
              "K -0.521591 -0.042334 -0.909457 -0.445062 -0.477467 -0.077729 -0.042422   \n",
              "L  0.733512  0.466360  0.087421 -0.449607  0.699526  0.311335  0.403466   \n",
              "M -0.720194 -0.382031 -0.275042  0.096590 -0.622552 -0.730916 -0.613977   \n",
              "N -0.611639 -0.235096 -0.581996 -0.027763 -0.579098  0.058536 -0.096189   \n",
              "P  0.079973  0.369489 -0.599214 -0.732526  0.359107  0.495873  0.331730   \n",
              "Q -0.433475  0.063834 -0.924922 -0.612387 -0.254099  0.101611  0.020781   \n",
              "R -0.010752  0.313217 -0.890910 -0.710517 -0.072739  0.103227  0.334186   \n",
              "S  0.051076  0.638680 -0.671449 -0.797275  0.316781 -0.197846  0.428619   \n",
              "T -0.411044  0.247711 -0.903984 -0.600745 -0.244826 -0.268709  0.133945   \n",
              "V  0.833235  0.876376  0.053589 -0.555534  0.988906  0.464575  0.884543   \n",
              "W  0.585926  0.736407 -0.545103 -0.767346  0.546931  0.501189  0.852824   \n",
              "Y  0.854028  0.923179 -0.021774 -0.570185  0.916871  0.351613  0.949147   \n",
              "\n",
              "          I         K         L         M         N         P         Q  \\\n",
              "A  0.281994 -0.521591  0.733512 -0.720194 -0.611639  0.079973 -0.433475   \n",
              "C  0.774243 -0.042334  0.466360 -0.382031 -0.235096  0.369489  0.063834   \n",
              "D -0.822663 -0.909457  0.087421 -0.275042 -0.581996 -0.599214 -0.924922   \n",
              "E -0.960437 -0.445062 -0.449607  0.096590 -0.027763 -0.732526 -0.612387   \n",
              "F  0.485917 -0.477467  0.699526 -0.622552 -0.579098  0.359107 -0.254099   \n",
              "G  0.397913 -0.077729  0.311335 -0.730916  0.058536  0.495873  0.101611   \n",
              "H  0.780563 -0.042422  0.403466 -0.613977 -0.096189  0.331730  0.020781   \n",
              "I  1.000000  0.529266  0.250584 -0.168636  0.251695  0.680964  0.638904   \n",
              "K  0.529266  1.000000 -0.363205  0.430718  0.773594  0.335643  0.889435   \n",
              "L  0.250584 -0.363205  1.000000 -0.360750 -0.779562  0.554163 -0.037801   \n",
              "M -0.168636  0.430718 -0.360750  1.000000  0.161152  0.038821  0.444465   \n",
              "N  0.251695  0.773594 -0.779562  0.161152  1.000000 -0.116807  0.493941   \n",
              "P  0.680964  0.335643  0.554163  0.038821 -0.116807  1.000000  0.711244   \n",
              "Q  0.638904  0.889435 -0.037801  0.444465  0.493941  0.711244  1.000000   \n",
              "R  0.732240  0.850884  0.062683  0.054119  0.512855  0.444691  0.778685   \n",
              "S  0.718683  0.411444  0.196178  0.430616 -0.030990  0.584905  0.589468   \n",
              "T  0.641502  0.872260 -0.320043  0.575785  0.583399  0.362911  0.823070   \n",
              "V  0.519188 -0.447166  0.588138 -0.620563 -0.486083  0.320277 -0.252472   \n",
              "W  0.816000  0.317516  0.326964 -0.596729  0.203204  0.353894  0.281362   \n",
              "Y  0.560873 -0.325412  0.436263 -0.652699 -0.307123  0.130555 -0.272660   \n",
              "\n",
              "          R         S         T         V         W         Y  \n",
              "A -0.010752  0.051076 -0.411044  0.833235  0.585926  0.854028  \n",
              "C  0.313217  0.638680  0.247711  0.876376  0.736407  0.923179  \n",
              "D -0.890910 -0.671449 -0.903984  0.053589 -0.545103 -0.021774  \n",
              "E -0.710517 -0.797275 -0.600745 -0.555534 -0.767346 -0.570185  \n",
              "F -0.072739  0.316781 -0.244826  0.988906  0.546931  0.916871  \n",
              "G  0.103227 -0.197846 -0.268709  0.464575  0.501189  0.351613  \n",
              "H  0.334186  0.428619  0.133945  0.884543  0.852824  0.949147  \n",
              "I  0.732240  0.718683  0.641502  0.519188  0.816000  0.560873  \n",
              "K  0.850884  0.411444  0.872260 -0.447166  0.317516 -0.325412  \n",
              "L  0.062683  0.196178 -0.320043  0.588138  0.326964  0.436263  \n",
              "M  0.054119  0.430616  0.575785 -0.620563 -0.596729 -0.652699  \n",
              "N  0.512855 -0.030990  0.583399 -0.486083  0.203204 -0.307123  \n",
              "P  0.444691  0.584905  0.362911  0.320277  0.353894  0.130555  \n",
              "Q  0.778685  0.589468  0.823070 -0.252472  0.281362 -0.272660  \n",
              "R  1.000000  0.432145  0.713224 -0.081317  0.706977  0.066199  \n",
              "S  0.432145  1.000000  0.762126  0.338214  0.276284  0.313994  \n",
              "T  0.713224  0.762126  1.000000 -0.191172  0.265531 -0.089424  \n",
              "V -0.081317  0.338214 -0.191172  1.000000  0.557270  0.944823  \n",
              "W  0.706977  0.276284  0.265531  0.557270  1.000000  0.694812  \n",
              "Y  0.066199  0.313994 -0.089424  0.944823  0.694812  1.000000  "
            ],
            "text/html": [
              "\n",
              "  <div id=\"df-caa77925-99c6-4e4c-8850-21d287f0be37\">\n",
              "    <div class=\"colab-df-container\">\n",
              "      <div>\n",
              "<style scoped>\n",
              "    .dataframe tbody tr th:only-of-type {\n",
              "        vertical-align: middle;\n",
              "    }\n",
              "\n",
              "    .dataframe tbody tr th {\n",
              "        vertical-align: top;\n",
              "    }\n",
              "\n",
              "    .dataframe thead th {\n",
              "        text-align: right;\n",
              "    }\n",
              "</style>\n",
              "<table border=\"1\" class=\"dataframe\">\n",
              "  <thead>\n",
              "    <tr style=\"text-align: right;\">\n",
              "      <th></th>\n",
              "      <th>A</th>\n",
              "      <th>C</th>\n",
              "      <th>D</th>\n",
              "      <th>E</th>\n",
              "      <th>F</th>\n",
              "      <th>G</th>\n",
              "      <th>H</th>\n",
              "      <th>I</th>\n",
              "      <th>K</th>\n",
              "      <th>L</th>\n",
              "      <th>M</th>\n",
              "      <th>N</th>\n",
              "      <th>P</th>\n",
              "      <th>Q</th>\n",
              "      <th>R</th>\n",
              "      <th>S</th>\n",
              "      <th>T</th>\n",
              "      <th>V</th>\n",
              "      <th>W</th>\n",
              "      <th>Y</th>\n",
              "    </tr>\n",
              "  </thead>\n",
              "  <tbody>\n",
              "    <tr>\n",
              "      <th>A</th>\n",
              "      <td>1.000000</td>\n",
              "      <td>0.728715</td>\n",
              "      <td>0.235810</td>\n",
              "      <td>-0.389880</td>\n",
              "      <td>0.879478</td>\n",
              "      <td>0.295939</td>\n",
              "      <td>0.745629</td>\n",
              "      <td>0.281994</td>\n",
              "      <td>-0.521591</td>\n",
              "      <td>0.733512</td>\n",
              "      <td>-0.720194</td>\n",
              "      <td>-0.611639</td>\n",
              "      <td>0.079973</td>\n",
              "      <td>-0.433475</td>\n",
              "      <td>-0.010752</td>\n",
              "      <td>0.051076</td>\n",
              "      <td>-0.411044</td>\n",
              "      <td>0.833235</td>\n",
              "      <td>0.585926</td>\n",
              "      <td>0.854028</td>\n",
              "    </tr>\n",
              "    <tr>\n",
              "      <th>C</th>\n",
              "      <td>0.728715</td>\n",
              "      <td>1.000000</td>\n",
              "      <td>-0.335086</td>\n",
              "      <td>-0.816555</td>\n",
              "      <td>0.854112</td>\n",
              "      <td>0.231240</td>\n",
              "      <td>0.948531</td>\n",
              "      <td>0.774243</td>\n",
              "      <td>-0.042334</td>\n",
              "      <td>0.466360</td>\n",
              "      <td>-0.382031</td>\n",
              "      <td>-0.235096</td>\n",
              "      <td>0.369489</td>\n",
              "      <td>0.063834</td>\n",
              "      <td>0.313217</td>\n",
              "      <td>0.638680</td>\n",
              "      <td>0.247711</td>\n",
              "      <td>0.876376</td>\n",
              "      <td>0.736407</td>\n",
              "      <td>0.923179</td>\n",
              "    </tr>\n",
              "    <tr>\n",
              "      <th>D</th>\n",
              "      <td>0.235810</td>\n",
              "      <td>-0.335086</td>\n",
              "      <td>1.000000</td>\n",
              "      <td>0.765980</td>\n",
              "      <td>0.084237</td>\n",
              "      <td>-0.105943</td>\n",
              "      <td>-0.311785</td>\n",
              "      <td>-0.822663</td>\n",
              "      <td>-0.909457</td>\n",
              "      <td>0.087421</td>\n",
              "      <td>-0.275042</td>\n",
              "      <td>-0.581996</td>\n",
              "      <td>-0.599214</td>\n",
              "      <td>-0.924922</td>\n",
              "      <td>-0.890910</td>\n",
              "      <td>-0.671449</td>\n",
              "      <td>-0.903984</td>\n",
              "      <td>0.053589</td>\n",
              "      <td>-0.545103</td>\n",
              "      <td>-0.021774</td>\n",
              "    </tr>\n",
              "    <tr>\n",
              "      <th>E</th>\n",
              "      <td>-0.389880</td>\n",
              "      <td>-0.816555</td>\n",
              "      <td>0.765980</td>\n",
              "      <td>1.000000</td>\n",
              "      <td>-0.555584</td>\n",
              "      <td>-0.275365</td>\n",
              "      <td>-0.756599</td>\n",
              "      <td>-0.960437</td>\n",
              "      <td>-0.445062</td>\n",
              "      <td>-0.449607</td>\n",
              "      <td>0.096590</td>\n",
              "      <td>-0.027763</td>\n",
              "      <td>-0.732526</td>\n",
              "      <td>-0.612387</td>\n",
              "      <td>-0.710517</td>\n",
              "      <td>-0.797275</td>\n",
              "      <td>-0.600745</td>\n",
              "      <td>-0.555534</td>\n",
              "      <td>-0.767346</td>\n",
              "      <td>-0.570185</td>\n",
              "    </tr>\n",
              "    <tr>\n",
              "      <th>F</th>\n",
              "      <td>0.879478</td>\n",
              "      <td>0.854112</td>\n",
              "      <td>0.084237</td>\n",
              "      <td>-0.555584</td>\n",
              "      <td>1.000000</td>\n",
              "      <td>0.456554</td>\n",
              "      <td>0.850721</td>\n",
              "      <td>0.485917</td>\n",
              "      <td>-0.477467</td>\n",
              "      <td>0.699526</td>\n",
              "      <td>-0.622552</td>\n",
              "      <td>-0.579098</td>\n",
              "      <td>0.359107</td>\n",
              "      <td>-0.254099</td>\n",
              "      <td>-0.072739</td>\n",
              "      <td>0.316781</td>\n",
              "      <td>-0.244826</td>\n",
              "      <td>0.988906</td>\n",
              "      <td>0.546931</td>\n",
              "      <td>0.916871</td>\n",
              "    </tr>\n",
              "    <tr>\n",
              "      <th>G</th>\n",
              "      <td>0.295939</td>\n",
              "      <td>0.231240</td>\n",
              "      <td>-0.105943</td>\n",
              "      <td>-0.275365</td>\n",
              "      <td>0.456554</td>\n",
              "      <td>1.000000</td>\n",
              "      <td>0.469717</td>\n",
              "      <td>0.397913</td>\n",
              "      <td>-0.077729</td>\n",
              "      <td>0.311335</td>\n",
              "      <td>-0.730916</td>\n",
              "      <td>0.058536</td>\n",
              "      <td>0.495873</td>\n",
              "      <td>0.101611</td>\n",
              "      <td>0.103227</td>\n",
              "      <td>-0.197846</td>\n",
              "      <td>-0.268709</td>\n",
              "      <td>0.464575</td>\n",
              "      <td>0.501189</td>\n",
              "      <td>0.351613</td>\n",
              "    </tr>\n",
              "    <tr>\n",
              "      <th>H</th>\n",
              "      <td>0.745629</td>\n",
              "      <td>0.948531</td>\n",
              "      <td>-0.311785</td>\n",
              "      <td>-0.756599</td>\n",
              "      <td>0.850721</td>\n",
              "      <td>0.469717</td>\n",
              "      <td>1.000000</td>\n",
              "      <td>0.780563</td>\n",
              "      <td>-0.042422</td>\n",
              "      <td>0.403466</td>\n",
              "      <td>-0.613977</td>\n",
              "      <td>-0.096189</td>\n",
              "      <td>0.331730</td>\n",
              "      <td>0.020781</td>\n",
              "      <td>0.334186</td>\n",
              "      <td>0.428619</td>\n",
              "      <td>0.133945</td>\n",
              "      <td>0.884543</td>\n",
              "      <td>0.852824</td>\n",
              "      <td>0.949147</td>\n",
              "    </tr>\n",
              "    <tr>\n",
              "      <th>I</th>\n",
              "      <td>0.281994</td>\n",
              "      <td>0.774243</td>\n",
              "      <td>-0.822663</td>\n",
              "      <td>-0.960437</td>\n",
              "      <td>0.485917</td>\n",
              "      <td>0.397913</td>\n",
              "      <td>0.780563</td>\n",
              "      <td>1.000000</td>\n",
              "      <td>0.529266</td>\n",
              "      <td>0.250584</td>\n",
              "      <td>-0.168636</td>\n",
              "      <td>0.251695</td>\n",
              "      <td>0.680964</td>\n",
              "      <td>0.638904</td>\n",
              "      <td>0.732240</td>\n",
              "      <td>0.718683</td>\n",
              "      <td>0.641502</td>\n",
              "      <td>0.519188</td>\n",
              "      <td>0.816000</td>\n",
              "      <td>0.560873</td>\n",
              "    </tr>\n",
              "    <tr>\n",
              "      <th>K</th>\n",
              "      <td>-0.521591</td>\n",
              "      <td>-0.042334</td>\n",
              "      <td>-0.909457</td>\n",
              "      <td>-0.445062</td>\n",
              "      <td>-0.477467</td>\n",
              "      <td>-0.077729</td>\n",
              "      <td>-0.042422</td>\n",
              "      <td>0.529266</td>\n",
              "      <td>1.000000</td>\n",
              "      <td>-0.363205</td>\n",
              "      <td>0.430718</td>\n",
              "      <td>0.773594</td>\n",
              "      <td>0.335643</td>\n",
              "      <td>0.889435</td>\n",
              "      <td>0.850884</td>\n",
              "      <td>0.411444</td>\n",
              "      <td>0.872260</td>\n",
              "      <td>-0.447166</td>\n",
              "      <td>0.317516</td>\n",
              "      <td>-0.325412</td>\n",
              "    </tr>\n",
              "    <tr>\n",
              "      <th>L</th>\n",
              "      <td>0.733512</td>\n",
              "      <td>0.466360</td>\n",
              "      <td>0.087421</td>\n",
              "      <td>-0.449607</td>\n",
              "      <td>0.699526</td>\n",
              "      <td>0.311335</td>\n",
              "      <td>0.403466</td>\n",
              "      <td>0.250584</td>\n",
              "      <td>-0.363205</td>\n",
              "      <td>1.000000</td>\n",
              "      <td>-0.360750</td>\n",
              "      <td>-0.779562</td>\n",
              "      <td>0.554163</td>\n",
              "      <td>-0.037801</td>\n",
              "      <td>0.062683</td>\n",
              "      <td>0.196178</td>\n",
              "      <td>-0.320043</td>\n",
              "      <td>0.588138</td>\n",
              "      <td>0.326964</td>\n",
              "      <td>0.436263</td>\n",
              "    </tr>\n",
              "    <tr>\n",
              "      <th>M</th>\n",
              "      <td>-0.720194</td>\n",
              "      <td>-0.382031</td>\n",
              "      <td>-0.275042</td>\n",
              "      <td>0.096590</td>\n",
              "      <td>-0.622552</td>\n",
              "      <td>-0.730916</td>\n",
              "      <td>-0.613977</td>\n",
              "      <td>-0.168636</td>\n",
              "      <td>0.430718</td>\n",
              "      <td>-0.360750</td>\n",
              "      <td>1.000000</td>\n",
              "      <td>0.161152</td>\n",
              "      <td>0.038821</td>\n",
              "      <td>0.444465</td>\n",
              "      <td>0.054119</td>\n",
              "      <td>0.430616</td>\n",
              "      <td>0.575785</td>\n",
              "      <td>-0.620563</td>\n",
              "      <td>-0.596729</td>\n",
              "      <td>-0.652699</td>\n",
              "    </tr>\n",
              "    <tr>\n",
              "      <th>N</th>\n",
              "      <td>-0.611639</td>\n",
              "      <td>-0.235096</td>\n",
              "      <td>-0.581996</td>\n",
              "      <td>-0.027763</td>\n",
              "      <td>-0.579098</td>\n",
              "      <td>0.058536</td>\n",
              "      <td>-0.096189</td>\n",
              "      <td>0.251695</td>\n",
              "      <td>0.773594</td>\n",
              "      <td>-0.779562</td>\n",
              "      <td>0.161152</td>\n",
              "      <td>1.000000</td>\n",
              "      <td>-0.116807</td>\n",
              "      <td>0.493941</td>\n",
              "      <td>0.512855</td>\n",
              "      <td>-0.030990</td>\n",
              "      <td>0.583399</td>\n",
              "      <td>-0.486083</td>\n",
              "      <td>0.203204</td>\n",
              "      <td>-0.307123</td>\n",
              "    </tr>\n",
              "    <tr>\n",
              "      <th>P</th>\n",
              "      <td>0.079973</td>\n",
              "      <td>0.369489</td>\n",
              "      <td>-0.599214</td>\n",
              "      <td>-0.732526</td>\n",
              "      <td>0.359107</td>\n",
              "      <td>0.495873</td>\n",
              "      <td>0.331730</td>\n",
              "      <td>0.680964</td>\n",
              "      <td>0.335643</td>\n",
              "      <td>0.554163</td>\n",
              "      <td>0.038821</td>\n",
              "      <td>-0.116807</td>\n",
              "      <td>1.000000</td>\n",
              "      <td>0.711244</td>\n",
              "      <td>0.444691</td>\n",
              "      <td>0.584905</td>\n",
              "      <td>0.362911</td>\n",
              "      <td>0.320277</td>\n",
              "      <td>0.353894</td>\n",
              "      <td>0.130555</td>\n",
              "    </tr>\n",
              "    <tr>\n",
              "      <th>Q</th>\n",
              "      <td>-0.433475</td>\n",
              "      <td>0.063834</td>\n",
              "      <td>-0.924922</td>\n",
              "      <td>-0.612387</td>\n",
              "      <td>-0.254099</td>\n",
              "      <td>0.101611</td>\n",
              "      <td>0.020781</td>\n",
              "      <td>0.638904</td>\n",
              "      <td>0.889435</td>\n",
              "      <td>-0.037801</td>\n",
              "      <td>0.444465</td>\n",
              "      <td>0.493941</td>\n",
              "      <td>0.711244</td>\n",
              "      <td>1.000000</td>\n",
              "      <td>0.778685</td>\n",
              "      <td>0.589468</td>\n",
              "      <td>0.823070</td>\n",
              "      <td>-0.252472</td>\n",
              "      <td>0.281362</td>\n",
              "      <td>-0.272660</td>\n",
              "    </tr>\n",
              "    <tr>\n",
              "      <th>R</th>\n",
              "      <td>-0.010752</td>\n",
              "      <td>0.313217</td>\n",
              "      <td>-0.890910</td>\n",
              "      <td>-0.710517</td>\n",
              "      <td>-0.072739</td>\n",
              "      <td>0.103227</td>\n",
              "      <td>0.334186</td>\n",
              "      <td>0.732240</td>\n",
              "      <td>0.850884</td>\n",
              "      <td>0.062683</td>\n",
              "      <td>0.054119</td>\n",
              "      <td>0.512855</td>\n",
              "      <td>0.444691</td>\n",
              "      <td>0.778685</td>\n",
              "      <td>1.000000</td>\n",
              "      <td>0.432145</td>\n",
              "      <td>0.713224</td>\n",
              "      <td>-0.081317</td>\n",
              "      <td>0.706977</td>\n",
              "      <td>0.066199</td>\n",
              "    </tr>\n",
              "    <tr>\n",
              "      <th>S</th>\n",
              "      <td>0.051076</td>\n",
              "      <td>0.638680</td>\n",
              "      <td>-0.671449</td>\n",
              "      <td>-0.797275</td>\n",
              "      <td>0.316781</td>\n",
              "      <td>-0.197846</td>\n",
              "      <td>0.428619</td>\n",
              "      <td>0.718683</td>\n",
              "      <td>0.411444</td>\n",
              "      <td>0.196178</td>\n",
              "      <td>0.430616</td>\n",
              "      <td>-0.030990</td>\n",
              "      <td>0.584905</td>\n",
              "      <td>0.589468</td>\n",
              "      <td>0.432145</td>\n",
              "      <td>1.000000</td>\n",
              "      <td>0.762126</td>\n",
              "      <td>0.338214</td>\n",
              "      <td>0.276284</td>\n",
              "      <td>0.313994</td>\n",
              "    </tr>\n",
              "    <tr>\n",
              "      <th>T</th>\n",
              "      <td>-0.411044</td>\n",
              "      <td>0.247711</td>\n",
              "      <td>-0.903984</td>\n",
              "      <td>-0.600745</td>\n",
              "      <td>-0.244826</td>\n",
              "      <td>-0.268709</td>\n",
              "      <td>0.133945</td>\n",
              "      <td>0.641502</td>\n",
              "      <td>0.872260</td>\n",
              "      <td>-0.320043</td>\n",
              "      <td>0.575785</td>\n",
              "      <td>0.583399</td>\n",
              "      <td>0.362911</td>\n",
              "      <td>0.823070</td>\n",
              "      <td>0.713224</td>\n",
              "      <td>0.762126</td>\n",
              "      <td>1.000000</td>\n",
              "      <td>-0.191172</td>\n",
              "      <td>0.265531</td>\n",
              "      <td>-0.089424</td>\n",
              "    </tr>\n",
              "    <tr>\n",
              "      <th>V</th>\n",
              "      <td>0.833235</td>\n",
              "      <td>0.876376</td>\n",
              "      <td>0.053589</td>\n",
              "      <td>-0.555534</td>\n",
              "      <td>0.988906</td>\n",
              "      <td>0.464575</td>\n",
              "      <td>0.884543</td>\n",
              "      <td>0.519188</td>\n",
              "      <td>-0.447166</td>\n",
              "      <td>0.588138</td>\n",
              "      <td>-0.620563</td>\n",
              "      <td>-0.486083</td>\n",
              "      <td>0.320277</td>\n",
              "      <td>-0.252472</td>\n",
              "      <td>-0.081317</td>\n",
              "      <td>0.338214</td>\n",
              "      <td>-0.191172</td>\n",
              "      <td>1.000000</td>\n",
              "      <td>0.557270</td>\n",
              "      <td>0.944823</td>\n",
              "    </tr>\n",
              "    <tr>\n",
              "      <th>W</th>\n",
              "      <td>0.585926</td>\n",
              "      <td>0.736407</td>\n",
              "      <td>-0.545103</td>\n",
              "      <td>-0.767346</td>\n",
              "      <td>0.546931</td>\n",
              "      <td>0.501189</td>\n",
              "      <td>0.852824</td>\n",
              "      <td>0.816000</td>\n",
              "      <td>0.317516</td>\n",
              "      <td>0.326964</td>\n",
              "      <td>-0.596729</td>\n",
              "      <td>0.203204</td>\n",
              "      <td>0.353894</td>\n",
              "      <td>0.281362</td>\n",
              "      <td>0.706977</td>\n",
              "      <td>0.276284</td>\n",
              "      <td>0.265531</td>\n",
              "      <td>0.557270</td>\n",
              "      <td>1.000000</td>\n",
              "      <td>0.694812</td>\n",
              "    </tr>\n",
              "    <tr>\n",
              "      <th>Y</th>\n",
              "      <td>0.854028</td>\n",
              "      <td>0.923179</td>\n",
              "      <td>-0.021774</td>\n",
              "      <td>-0.570185</td>\n",
              "      <td>0.916871</td>\n",
              "      <td>0.351613</td>\n",
              "      <td>0.949147</td>\n",
              "      <td>0.560873</td>\n",
              "      <td>-0.325412</td>\n",
              "      <td>0.436263</td>\n",
              "      <td>-0.652699</td>\n",
              "      <td>-0.307123</td>\n",
              "      <td>0.130555</td>\n",
              "      <td>-0.272660</td>\n",
              "      <td>0.066199</td>\n",
              "      <td>0.313994</td>\n",
              "      <td>-0.089424</td>\n",
              "      <td>0.944823</td>\n",
              "      <td>0.694812</td>\n",
              "      <td>1.000000</td>\n",
              "    </tr>\n",
              "  </tbody>\n",
              "</table>\n",
              "</div>\n",
              "      <button class=\"colab-df-convert\" onclick=\"convertToInteractive('df-caa77925-99c6-4e4c-8850-21d287f0be37')\"\n",
              "              title=\"Convert this dataframe to an interactive table.\"\n",
              "              style=\"display:none;\">\n",
              "        \n",
              "  <svg xmlns=\"http://www.w3.org/2000/svg\" height=\"24px\"viewBox=\"0 0 24 24\"\n",
              "       width=\"24px\">\n",
              "    <path d=\"M0 0h24v24H0V0z\" fill=\"none\"/>\n",
              "    <path d=\"M18.56 5.44l.94 2.06.94-2.06 2.06-.94-2.06-.94-.94-2.06-.94 2.06-2.06.94zm-11 1L8.5 8.5l.94-2.06 2.06-.94-2.06-.94L8.5 2.5l-.94 2.06-2.06.94zm10 10l.94 2.06.94-2.06 2.06-.94-2.06-.94-.94-2.06-.94 2.06-2.06.94z\"/><path d=\"M17.41 7.96l-1.37-1.37c-.4-.4-.92-.59-1.43-.59-.52 0-1.04.2-1.43.59L10.3 9.45l-7.72 7.72c-.78.78-.78 2.05 0 2.83L4 21.41c.39.39.9.59 1.41.59.51 0 1.02-.2 1.41-.59l7.78-7.78 2.81-2.81c.8-.78.8-2.07 0-2.86zM5.41 20L4 18.59l7.72-7.72 1.47 1.35L5.41 20z\"/>\n",
              "  </svg>\n",
              "      </button>\n",
              "      \n",
              "  <style>\n",
              "    .colab-df-container {\n",
              "      display:flex;\n",
              "      flex-wrap:wrap;\n",
              "      gap: 12px;\n",
              "    }\n",
              "\n",
              "    .colab-df-convert {\n",
              "      background-color: #E8F0FE;\n",
              "      border: none;\n",
              "      border-radius: 50%;\n",
              "      cursor: pointer;\n",
              "      display: none;\n",
              "      fill: #1967D2;\n",
              "      height: 32px;\n",
              "      padding: 0 0 0 0;\n",
              "      width: 32px;\n",
              "    }\n",
              "\n",
              "    .colab-df-convert:hover {\n",
              "      background-color: #E2EBFA;\n",
              "      box-shadow: 0px 1px 2px rgba(60, 64, 67, 0.3), 0px 1px 3px 1px rgba(60, 64, 67, 0.15);\n",
              "      fill: #174EA6;\n",
              "    }\n",
              "\n",
              "    [theme=dark] .colab-df-convert {\n",
              "      background-color: #3B4455;\n",
              "      fill: #D2E3FC;\n",
              "    }\n",
              "\n",
              "    [theme=dark] .colab-df-convert:hover {\n",
              "      background-color: #434B5C;\n",
              "      box-shadow: 0px 1px 3px 1px rgba(0, 0, 0, 0.15);\n",
              "      filter: drop-shadow(0px 1px 2px rgba(0, 0, 0, 0.3));\n",
              "      fill: #FFFFFF;\n",
              "    }\n",
              "  </style>\n",
              "\n",
              "      <script>\n",
              "        const buttonEl =\n",
              "          document.querySelector('#df-caa77925-99c6-4e4c-8850-21d287f0be37 button.colab-df-convert');\n",
              "        buttonEl.style.display =\n",
              "          google.colab.kernel.accessAllowed ? 'block' : 'none';\n",
              "\n",
              "        async function convertToInteractive(key) {\n",
              "          const element = document.querySelector('#df-caa77925-99c6-4e4c-8850-21d287f0be37');\n",
              "          const dataTable =\n",
              "            await google.colab.kernel.invokeFunction('convertToInteractive',\n",
              "                                                     [key], {});\n",
              "          if (!dataTable) return;\n",
              "\n",
              "          const docLinkHtml = 'Like what you see? Visit the ' +\n",
              "            '<a target=\"_blank\" href=https://colab.research.google.com/notebooks/data_table.ipynb>data table notebook</a>'\n",
              "            + ' to learn more about interactive tables.';\n",
              "          element.innerHTML = '';\n",
              "          dataTable['output_type'] = 'display_data';\n",
              "          await google.colab.output.renderOutput(dataTable, element);\n",
              "          const docLink = document.createElement('div');\n",
              "          docLink.innerHTML = docLinkHtml;\n",
              "          element.appendChild(docLink);\n",
              "        }\n",
              "      </script>\n",
              "    </div>\n",
              "  </div>\n",
              "  "
            ]
          },
          "metadata": {},
          "execution_count": 20
        }
      ]
    },
    {
      "cell_type": "code",
      "source": [
        "dataplot = sb.heatmap(mendel_berteome.aa_correlation(), cmap=\"YlGnBu\")"
      ],
      "metadata": {
        "id": "KRKsxQXKyIl7",
        "outputId": "63cb23e7-6560-4ffb-b48a-669f63458e1e",
        "colab": {
          "base_uri": "https://localhost:8080/",
          "height": 269
        }
      },
      "execution_count": 23,
      "outputs": [
        {
          "output_type": "display_data",
          "data": {
            "text/plain": [
              "<Figure size 432x288 with 2 Axes>"
            ],
            "image/png": "[encoded data removed]"
          },
          "metadata": {
            "needs_background": "light"
          }
        }
      ]
    },
    {
      "cell_type": "code",
      "source": [
        "dataplot = sb.clustermap(mendel_berteome.aa_correlation(), cmap=\"YlGnBu\")"
      ],
      "metadata": {
        "id": "8zJC6qfBzEGO",
        "outputId": "183026a1-56a5-44cc-ed12-54eb02f28d62",
        "colab": {
          "base_uri": "https://localhost:8080/",
          "height": 730
        }
      },
      "execution_count": 24,
      "outputs": [
        {
          "output_type": "display_data",
          "data": {
            "text/plain": [
              "<Figure size 720x720 with 4 Axes>"
            ],
            "image/png": "[encoded data removed]"
          },
          "metadata": {
            "needs_background": "light"
          }
        }
      ]
    },
    {
      "cell_type": "markdown",
      "source": [
        "Yeah, I like that quite a lot! That's probably sufficient for now, but ideally there would be some labeling (either in a custom way or at least by basic biochemical properties)"
      ],
      "metadata": {
        "id": "nr-U2S9vzmDY"
      }
    },
    {
      "cell_type": "code",
      "source": [
        "def aa_correlation_plot(berteome):\n",
        "  return sb.clustermap(berteome.aa_correlation(), cmap=\"YlGnBu\")"
      ],
      "metadata": {
        "id": "2BroY4UozfF_"
      },
      "execution_count": 25,
      "outputs": []
    },
    {
      "cell_type": "code",
      "source": [
        "aa_correlation_plot(mendel_berteome)"
      ],
      "metadata": {
        "id": "aMATVDBi0Sw7",
        "outputId": "16a9cdee-93af-4187-c265-28e1305dfe0e",
        "colab": {
          "base_uri": "https://localhost:8080/",
          "height": 748
        }
      },
      "execution_count": 26,
      "outputs": [
        {
          "output_type": "execute_result",
          "data": {
            "text/plain": [
              "<seaborn.matrix.ClusterGrid at 0x7f7d7cb26f10>"
            ]
          },
          "metadata": {},
          "execution_count": 26
        },
        {
          "output_type": "display_data",
          "data": {
            "text/plain": [
              "<Figure size 720x720 with 4 Axes>"
            ],
            "image/png": "[encoded data removed]"
          },
          "metadata": {
            "needs_background": "light"
          }
        }
      ]
    },
    {
      "cell_type": "code",
      "source": [],
      "metadata": {
        "id": "u_PwC8tE0ViH"
      },
      "execution_count": null,
      "outputs": []
    }
  ],
  "metadata": {
    "kernelspec": {
      "display_name": "Python 3",
      "language": "python",
      "name": "python3"
    },
    "language_info": {
      "name": "python",
      "version": "3.10.6 (main, Aug 10 2022, 11:40:04) [GCC 11.3.0]"
    },
    "orig_nbformat": 4,
    "vscode": {
      "interpreter": {
        "hash": "e7370f93d1d0cde622a1f8e1c04877d8463912d04d973331ad4851f04de6915a"
      }
    },
    "colab": {
      "provenance": []
    }
  },
  "nbformat": 4,
  "nbformat_minor": 0
}