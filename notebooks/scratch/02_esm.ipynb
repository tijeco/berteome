{
  "cells": [
    {
      "cell_type": "code",
      "execution_count": null,
      "metadata": {
        "id": "BEe_5Uw8ROT-"
      },
      "outputs": [],
      "source": [
        "# default_exp esm1b"
      ]
    },
    {
      "cell_type": "markdown",
      "source": [
        "# Colab library installation\n",
        "\n",
        "So it's honestly a bit annoying to go through the whole song and dance of installing the necessary dependencies on collab, when in reality all the dependencies are defined in a conda environment file.. Nevertheless, for now, I'm just trying to explore the hugging face implementation of ESM, so supposedly, I'd only need to install hugging face???"
      ],
      "metadata": {
        "id": "8L-LmTWlR9gh"
      }
    },
    {
      "cell_type": "code",
      "source": [
        "pip install transformers"
      ],
      "metadata": {
        "id": "tBSfQ2oOSuc2",
        "outputId": "2adc4ccd-31e8-48a0-e855-e6fb1006bcb6",
        "colab": {
          "base_uri": "https://localhost:8080/"
        }
      },
      "execution_count": 4,
      "outputs": [
        {
          "output_type": "stream",
          "name": "stdout",
          "text": [
            "Looking in indexes: https://pypi.org/simple, https://us-python.pkg.dev/colab-wheels/public/simple/\n",
            "Collecting transformers\n",
            "  Downloading transformers-4.25.1-py3-none-any.whl (5.8 MB)\n",
            "\u001b[K     |████████████████████████████████| 5.8 MB 33.8 MB/s \n",
            "\u001b[?25hRequirement already satisfied: pyyaml>=5.1 in /usr/local/lib/python3.8/dist-packages (from transformers) (6.0)\n",
            "Requirement already satisfied: filelock in /usr/local/lib/python3.8/dist-packages (from transformers) (3.8.2)\n",
            "Requirement already satisfied: tqdm>=4.27 in /usr/local/lib/python3.8/dist-packages (from transformers) (4.64.1)\n",
            "Requirement already satisfied: requests in /usr/local/lib/python3.8/dist-packages (from transformers) (2.23.0)\n",
            "Collecting tokenizers!=0.11.3,<0.14,>=0.11.1\n",
            "  Downloading tokenizers-0.13.2-cp38-cp38-manylinux_2_17_x86_64.manylinux2014_x86_64.whl (7.6 MB)\n",
            "\u001b[K     |████████████████████████████████| 7.6 MB 75.9 MB/s \n",
            "\u001b[?25hRequirement already satisfied: packaging>=20.0 in /usr/local/lib/python3.8/dist-packages (from transformers) (21.3)\n",
            "Collecting huggingface-hub<1.0,>=0.10.0\n",
            "  Downloading huggingface_hub-0.11.1-py3-none-any.whl (182 kB)\n",
            "\u001b[K     |████████████████████████████████| 182 kB 15.3 MB/s \n",
            "\u001b[?25hRequirement already satisfied: regex!=2019.12.17 in /usr/local/lib/python3.8/dist-packages (from transformers) (2022.6.2)\n",
            "Requirement already satisfied: numpy>=1.17 in /usr/local/lib/python3.8/dist-packages (from transformers) (1.21.6)\n",
            "Requirement already satisfied: typing-extensions>=3.7.4.3 in /usr/local/lib/python3.8/dist-packages (from huggingface-hub<1.0,>=0.10.0->transformers) (4.4.0)\n",
            "Requirement already satisfied: pyparsing!=3.0.5,>=2.0.2 in /usr/local/lib/python3.8/dist-packages (from packaging>=20.0->transformers) (3.0.9)\n",
            "Requirement already satisfied: chardet<4,>=3.0.2 in /usr/local/lib/python3.8/dist-packages (from requests->transformers) (3.0.4)\n",
            "Requirement already satisfied: urllib3!=1.25.0,!=1.25.1,<1.26,>=1.21.1 in /usr/local/lib/python3.8/dist-packages (from requests->transformers) (1.24.3)\n",
            "Requirement already satisfied: certifi>=2017.4.17 in /usr/local/lib/python3.8/dist-packages (from requests->transformers) (2022.12.7)\n",
            "Requirement already satisfied: idna<3,>=2.5 in /usr/local/lib/python3.8/dist-packages (from requests->transformers) (2.10)\n",
            "Installing collected packages: tokenizers, huggingface-hub, transformers\n",
            "Successfully installed huggingface-hub-0.11.1 tokenizers-0.13.2 transformers-4.25.1\n"
          ]
        }
      ]
    },
    {
      "cell_type": "code",
      "execution_count": 2,
      "metadata": {
        "id": "lWb62L9hROUC",
        "outputId": "63762c0a-f571-4d4e-c7ca-a34b92b532cb",
        "colab": {
          "base_uri": "https://localhost:8080/",
          "height": 337
        }
      },
      "outputs": [
        {
          "output_type": "error",
          "ename": "ModuleNotFoundError",
          "evalue": "ignored",
          "traceback": [
            "\u001b[0;31m---------------------------------------------------------------------------\u001b[0m",
            "\u001b[0;31mModuleNotFoundError\u001b[0m                       Traceback (most recent call last)",
            "\u001b[0;32m<ipython-input-2-983cbbe9abda>\u001b[0m in \u001b[0;36m<module>\u001b[0;34m\u001b[0m\n\u001b[1;32m      1\u001b[0m \u001b[0;31m#hide\u001b[0m\u001b[0;34m\u001b[0m\u001b[0;34m\u001b[0m\u001b[0;34m\u001b[0m\u001b[0m\n\u001b[0;32m----> 2\u001b[0;31m \u001b[0;32mfrom\u001b[0m \u001b[0mnbdev\u001b[0m\u001b[0;34m.\u001b[0m\u001b[0mshowdoc\u001b[0m \u001b[0;32mimport\u001b[0m \u001b[0;34m*\u001b[0m\u001b[0;34m\u001b[0m\u001b[0;34m\u001b[0m\u001b[0m\n\u001b[0m",
            "\u001b[0;31mModuleNotFoundError\u001b[0m: No module named 'nbdev'",
            "",
            "\u001b[0;31m---------------------------------------------------------------------------\u001b[0;32m\nNOTE: If your import is failing due to a missing package, you can\nmanually install dependencies using either !pip or !apt.\n\nTo view examples of installing some common dependencies, click the\n\"Open Examples\" button below.\n\u001b[0;31m---------------------------------------------------------------------------\u001b[0m\n"
          ],
          "errorDetails": {
            "actions": [
              {
                "action": "open_url",
                "actionText": "Open Examples",
                "url": "/notebooks/snippets/importing_libraries.ipynb"
              }
            ]
          }
        }
      ],
      "source": [
        "#hide\n",
        "from nbdev.showdoc import *"
      ]
    },
    {
      "cell_type": "markdown",
      "source": [
        "# Load libraries"
      ],
      "metadata": {
        "id": "Z4ALHI0_T8FE"
      }
    },
    {
      "cell_type": "code",
      "source": [
        "from transformers import EsmTokenizer, EsmForMaskedLM\n",
        "import torch"
      ],
      "metadata": {
        "id": "GkDCoTfwT7rh"
      },
      "execution_count": 5,
      "outputs": []
    },
    {
      "cell_type": "code",
      "source": [
        "import pandas as pd"
      ],
      "metadata": {
        "id": "NdgvBfsIvmc_"
      },
      "execution_count": 140,
      "outputs": []
    },
    {
      "cell_type": "markdown",
      "source": [
        "## Loading different models\n",
        "\n",
        "Now that ESM _potentially_ has a bunch of different models, it is probably best to have some sort of functional way of loading the different models, instead of globally loading the models like a crazy person.."
      ],
      "metadata": {
        "id": "EC1vjCuEgcjv"
      }
    },
    {
      "cell_type": "code",
      "source": [
        "def load_model(model_path, tokenizerLM, maskedLM):\n",
        "  tokenizer = tokenizerLM.from_pretrained(model_path)\n",
        "  model = maskedLM.from_pretrained(model_path)\n",
        "  return tokenizer, model"
      ],
      "metadata": {
        "id": "oi9EzT3WhJiP"
      },
      "execution_count": 64,
      "outputs": []
    },
    {
      "cell_type": "code",
      "source": [
        "esm1b_tokenizer, esm1b_model = load_model(\"facebook/esm1b_t33_650M_UR50S\",EsmTokenizer,EsmForMaskedLM)"
      ],
      "metadata": {
        "id": "wZV71t7TiP0y",
        "outputId": "b2de772d-332b-4b36-f5e2-688f521ceb90",
        "colab": {
          "base_uri": "https://localhost:8080/",
          "height": 252,
          "referenced_widgets": [
            "2524c9d189e34d5cbeadb721614646d5",
            "c84ca620a93f421589f0a78a93672840",
            "774cc5d279654d10aecb4a9d84e58fc4",
            "c70b42e9b2aa49ff8c7b9f715fa6edd1",
            "567f26d94ddb453ebd39226304a1b1d0",
            "bb190440d3254867b238b77de0f297e5",
            "454e306e90bb4cac80525f86940f53e5",
            "b6114c0cdc7b481a8d33e905faeadc04",
            "c1c1bd880ff342b284a387439669e7cd",
            "fca8e9074ebb43a6bc7a38ec19f6a468",
            "a9fe2bcf37624398bdae4caf4d6d7a05",
            "5a4ab25d7712496ca78bef2930ac31d4",
            "b820477c99834ae6af2622cd19b39091",
            "d79ef6c749f6472780f1af7b0cf05034",
            "51e729e147434489b2bb85a438c93c4a",
            "56559f6c1585496bace09c398f234d30",
            "7f927b0d114943e1a5d0a53ecee3903e",
            "16f262f7639c4b779af6adde6bf6830d",
            "05b8a78b76be410895f789316300a1f2",
            "fcd2ac1e6042400e953221e13c9ce422",
            "5659e4bcbe4d46b4b3789e5178ae51dd",
            "8592c7b535354b54bacca49b6300e3fa",
            "bbcf0f11727a4c09acac2230c7abe8b4",
            "be2fb90df62b465a824e3cd9015426ec",
            "a605e5e539454055bef07342086e4ac3",
            "6885bb5b04ad4304a743a12420c666db",
            "9b9fcc0818df4d68a3a79a8e407bc8dc",
            "eb4d85e9aecb4c3ca4ca8f2212cddad8",
            "df0e1d3076564684836c6cbb1127ead2",
            "60dc2621b5de4ef9a625c9cce9fecc2b",
            "4c914238d1174614ad728cffa31d58c1",
            "8e693dd5a70348c69ccd26f087bc781f",
            "3bd87cdea4ec4ed382969f9654b0b96c",
            "e3f056f4212a4ecb9b673dca5d6cf267",
            "1d2f95774ff44bd89c586476223c1f70",
            "284410ebeec84525bc53e9c472648945",
            "d09dd590511d4721b0c8f4fbf964b34d",
            "4f82c0e6867d44b2a4ebe9d25c9b8aef",
            "c864ce6aee28438f8f0c272561956fbe",
            "88b15c3ecd8747bc8dc33dea709fc83e",
            "5f102b8afa134b0bb79390e0a18d6b65",
            "f8642e8638274e3db192b8a998cbcd0d",
            "52f0731fd1be40edac9ee2ff15682c13",
            "a866615aacb649d6a4b16918ea421aa3",
            "c107c3991aab4e95bba6fe49c3538bf3",
            "caebf9b9f95f4d93b9d4b96acd1a17e0",
            "2433a81fc4af44f98cf7eb5591c09c6d",
            "3526752c62c548b28222ad90d4ce6024",
            "54e21e8827e84fc397a3c1e3815cc545",
            "5c6c96c299b4403c988f59146acba7c8",
            "d30cab4c94fd4322a17a6dfa2d3e5c2a",
            "6fd82810a59d4bd99d7db297510d9ae5",
            "1c59b11dcf8546ec907bf4eaeb6380de",
            "94491a09ebe54eb7b1dcb7c86d24208f",
            "26242661dbfd4e79952b33fe0f23e280"
          ]
        }
      },
      "execution_count": 68,
      "outputs": [
        {
          "output_type": "display_data",
          "data": {
            "text/plain": [
              "Downloading:   0%|          | 0.00/93.0 [00:00<?, ?B/s]"
            ],
            "application/vnd.jupyter.widget-view+json": {
              "version_major": 2,
              "version_minor": 0,
              "model_id": "2524c9d189e34d5cbeadb721614646d5"
            }
          },
          "metadata": {}
        },
        {
          "output_type": "display_data",
          "data": {
            "text/plain": [
              "Downloading:   0%|          | 0.00/125 [00:00<?, ?B/s]"
            ],
            "application/vnd.jupyter.widget-view+json": {
              "version_major": 2,
              "version_minor": 0,
              "model_id": "5a4ab25d7712496ca78bef2930ac31d4"
            }
          },
          "metadata": {}
        },
        {
          "output_type": "display_data",
          "data": {
            "text/plain": [
              "Downloading:   0%|          | 0.00/95.0 [00:00<?, ?B/s]"
            ],
            "application/vnd.jupyter.widget-view+json": {
              "version_major": 2,
              "version_minor": 0,
              "model_id": "bbcf0f11727a4c09acac2230c7abe8b4"
            }
          },
          "metadata": {}
        },
        {
          "output_type": "display_data",
          "data": {
            "text/plain": [
              "Downloading:   0%|          | 0.00/782 [00:00<?, ?B/s]"
            ],
            "application/vnd.jupyter.widget-view+json": {
              "version_major": 2,
              "version_minor": 0,
              "model_id": "e3f056f4212a4ecb9b673dca5d6cf267"
            }
          },
          "metadata": {}
        },
        {
          "output_type": "display_data",
          "data": {
            "text/plain": [
              "Downloading:   0%|          | 0.00/2.61G [00:00<?, ?B/s]"
            ],
            "application/vnd.jupyter.widget-view+json": {
              "version_major": 2,
              "version_minor": 0,
              "model_id": "c107c3991aab4e95bba6fe49c3538bf3"
            }
          },
          "metadata": {}
        },
        {
          "output_type": "stream",
          "name": "stderr",
          "text": [
            "Some weights of the model checkpoint at facebook/esm1b_t33_650M_UR50S were not used when initializing EsmForMaskedLM: ['esm.contact_head.regression.bias', 'esm.contact_head.regression.weight']\n",
            "- This IS expected if you are initializing EsmForMaskedLM from the checkpoint of a model trained on another task or with another architecture (e.g. initializing a BertForSequenceClassification model from a BertForPreTraining model).\n",
            "- This IS NOT expected if you are initializing EsmForMaskedLM from the checkpoint of a model that you expect to be exactly identical (initializing a BertForSequenceClassification model from a BertForSequenceClassification model).\n"
          ]
        }
      ]
    },
    {
      "cell_type": "code",
      "source": [
        "esm2_tokenizer, esm2_model = load_model(\"facebook/esm2_t6_8M_UR50D\",EsmTokenizer,EsmForMaskedLM)"
      ],
      "metadata": {
        "id": "8hzrYJE-isvZ",
        "outputId": "b3f28527-bd2f-4a3c-afd4-b1c05e074652",
        "colab": {
          "base_uri": "https://localhost:8080/"
        }
      },
      "execution_count": 82,
      "outputs": [
        {
          "output_type": "stream",
          "name": "stderr",
          "text": [
            "Some weights of the model checkpoint at facebook/esm2_t6_8M_UR50D were not used when initializing EsmForMaskedLM: ['esm.contact_head.regression.bias', 'esm.contact_head.regression.weight']\n",
            "- This IS expected if you are initializing EsmForMaskedLM from the checkpoint of a model trained on another task or with another architecture (e.g. initializing a BertForSequenceClassification model from a BertForPreTraining model).\n",
            "- This IS NOT expected if you are initializing EsmForMaskedLM from the checkpoint of a model that you expect to be exactly identical (initializing a BertForSequenceClassification model from a BertForSequenceClassification model).\n"
          ]
        }
      ]
    },
    {
      "cell_type": "code",
      "source": [
        "inputs = tokenizer(\"MEN<mask>EL\", return_tensors=\"pt\")\n",
        "inputs"
      ],
      "metadata": {
        "id": "RbI_iSjcUrGR",
        "outputId": "98b79f2f-99bc-4a4d-8abd-19c9f9bfa77b",
        "colab": {
          "base_uri": "https://localhost:8080/"
        }
      },
      "execution_count": 21,
      "outputs": [
        {
          "output_type": "execute_result",
          "data": {
            "text/plain": [
              "{'input_ids': tensor([[ 0, 20,  9, 17, 32,  9,  4,  2]]), 'attention_mask': tensor([[1, 1, 1, 1, 1, 1, 1, 1]])}"
            ]
          },
          "metadata": {},
          "execution_count": 21
        }
      ]
    },
    {
      "cell_type": "code",
      "source": [
        "def run_model(model, inputs):\n",
        "  with torch.no_grad():\n",
        "    logits = model(**inputs).logits\n",
        "  return logits"
      ],
      "metadata": {
        "id": "u1hH0RpojqZA"
      },
      "execution_count": 77,
      "outputs": []
    },
    {
      "cell_type": "code",
      "source": [
        "esm2_logits = run_model(esm2_model, inputs)"
      ],
      "metadata": {
        "id": "syG1a0WPj74k"
      },
      "execution_count": 78,
      "outputs": []
    },
    {
      "cell_type": "code",
      "source": [
        "def logits2prob(logits):\n",
        "  return torch.softmax(logits,dim=2)"
      ],
      "metadata": {
        "id": "aAd63f6-kLYc"
      },
      "execution_count": 71,
      "outputs": []
    },
    {
      "cell_type": "code",
      "source": [
        "esm2_prob = logits2prob(esm2_logits)\n",
        "esm2_prob"
      ],
      "metadata": {
        "id": "lLVseH6nkxtA",
        "outputId": "76d9b47c-de93-47ff-ee4c-3909621867ad",
        "colab": {
          "base_uri": "https://localhost:8080/"
        }
      },
      "execution_count": 79,
      "outputs": [
        {
          "output_type": "execute_result",
          "data": {
            "text/plain": [
              "tensor([[[9.9995e-01, 9.8169e-11, 3.3333e-09, 1.0032e-10, 2.7753e-06,\n",
              "          2.1860e-06, 2.8457e-06, 1.7699e-06, 2.4734e-06, 3.8847e-06,\n",
              "          1.8188e-06, 1.4733e-06, 8.3154e-07, 1.3514e-06, 5.0538e-07,\n",
              "          2.6128e-06, 1.6407e-06, 5.7511e-07, 1.0479e-06, 7.2024e-07,\n",
              "          6.8558e-06, 4.7543e-07, 2.9435e-07, 4.1178e-06, 5.8838e-06,\n",
              "          2.6893e-11, 1.9237e-11, 1.2725e-11, 5.7512e-13, 3.3849e-13,\n",
              "          4.0601e-13, 3.2575e-13, 9.8609e-11],\n",
              "         [4.9910e-07, 8.4403e-10, 6.0393e-07, 8.3639e-10, 1.6646e-03,\n",
              "          4.8789e-04, 7.7675e-04, 1.0370e-03, 8.0296e-04, 9.2551e-04,\n",
              "          5.9806e-04, 6.1500e-04, 1.0765e-03, 8.0351e-04, 5.8132e-04,\n",
              "          1.0121e-03, 5.3399e-04, 7.9683e-04, 5.6664e-04, 3.9000e-04,\n",
              "          9.8611e-01, 3.3409e-04, 1.6016e-04, 3.7677e-04, 3.5096e-04,\n",
              "          1.6065e-08, 1.0686e-08, 6.3483e-09, 2.7585e-10, 1.8574e-10,\n",
              "          1.9849e-10, 1.6479e-10, 8.4401e-10],\n",
              "         [4.9243e-06, 6.5413e-09, 1.0006e-05, 6.5484e-09, 5.8789e-02,\n",
              "          2.4789e-02, 3.0859e-02, 2.9920e-02, 3.5178e-02, 5.2692e-01,\n",
              "          3.0339e-02, 2.5131e-02, 3.2159e-02, 1.9655e-02, 2.2280e-02,\n",
              "          4.3990e-02, 1.9759e-02, 1.8823e-02, 2.2427e-02, 1.5182e-02,\n",
              "          1.1083e-02, 1.1125e-02, 9.1828e-03, 1.0489e-02, 1.9009e-03,\n",
              "          5.8242e-07, 3.4794e-07, 1.9245e-07, 6.8229e-09, 4.3588e-09,\n",
              "          4.4376e-09, 4.0254e-09, 6.5304e-09],\n",
              "         [8.9322e-06, 8.0477e-09, 8.7642e-06, 8.0858e-09, 5.6525e-02,\n",
              "          2.6737e-02, 2.9074e-02, 3.2718e-02, 3.3101e-02, 3.5120e-02,\n",
              "          2.8790e-02, 2.7781e-02, 3.4069e-02, 2.1468e-02, 1.7619e-02,\n",
              "          3.6298e-02, 1.7284e-02, 5.2128e-01, 2.1668e-02, 1.4525e-02,\n",
              "          1.2123e-02, 1.2424e-02, 8.1788e-03, 1.1590e-02, 1.6080e-03,\n",
              "          4.7605e-07, 3.0778e-07, 1.6781e-07, 6.3363e-09, 4.7628e-09,\n",
              "          5.2303e-09, 4.3178e-09, 8.0921e-09],\n",
              "         [5.0264e-06, 1.7594e-08, 1.0880e-05, 1.7641e-08, 1.1925e-01,\n",
              "          4.4841e-02, 5.6938e-02, 5.8976e-02, 7.3227e-02, 6.5638e-02,\n",
              "          5.5119e-02, 5.2736e-02, 6.1490e-02, 3.6740e-02, 4.5610e-02,\n",
              "          7.3357e-02, 4.1564e-02, 3.9546e-02, 4.5344e-02, 3.1444e-02,\n",
              "          2.7194e-02, 2.5240e-02, 1.9084e-02, 2.3335e-02, 3.3153e-03,\n",
              "          6.6677e-07, 3.8615e-07, 2.0987e-07, 6.5783e-09, 4.5984e-09,\n",
              "          4.5202e-09, 4.5397e-09, 1.7641e-08],\n",
              "         [3.6900e-06, 7.2364e-09, 8.3517e-06, 7.2850e-09, 6.5394e-02,\n",
              "          2.1335e-02, 2.4455e-02, 2.9278e-02, 4.0729e-02, 5.1345e-01,\n",
              "          2.7321e-02, 2.6473e-02, 3.8069e-02, 1.8497e-02, 2.0389e-02,\n",
              "          3.4766e-02, 1.9412e-02, 2.3149e-02, 3.0239e-02, 1.8349e-02,\n",
              "          1.0427e-02, 1.4970e-02, 8.6168e-03, 1.3204e-02, 1.4686e-03,\n",
              "          5.0263e-07, 3.1992e-07, 1.8497e-07, 6.7870e-09, 4.3011e-09,\n",
              "          4.3900e-09, 3.9997e-09, 7.2713e-09],\n",
              "         [3.3964e-06, 3.2262e-09, 3.0701e-06, 3.2318e-09, 7.3355e-01,\n",
              "          1.3726e-02, 1.7962e-02, 1.8244e-02, 1.8786e-02, 2.2902e-02,\n",
              "          1.7715e-02, 1.5757e-02, 1.7663e-02, 1.2255e-02, 9.0400e-03,\n",
              "          2.7002e-02, 1.1111e-02, 1.6671e-02, 1.2166e-02, 9.0368e-03,\n",
              "          8.0341e-03, 6.7907e-03, 4.2713e-03, 6.4769e-03, 8.3414e-04,\n",
              "          3.4642e-07, 2.1782e-07, 1.3757e-07, 4.8865e-09, 3.2339e-09,\n",
              "          3.3549e-09, 3.3594e-09, 3.2242e-09],\n",
              "         [1.6120e-07, 4.9179e-10, 9.9714e-01, 4.9890e-10, 3.2540e-04,\n",
              "          4.5446e-05, 1.1164e-04, 1.2716e-04, 1.1008e-04, 1.1941e-04,\n",
              "          1.2703e-04, 9.9920e-05, 1.9036e-04, 8.1846e-05, 6.7967e-05,\n",
              "          1.8963e-04, 1.0256e-04, 8.8871e-05, 3.4929e-04, 6.4433e-05,\n",
              "          4.4868e-04, 4.7247e-05, 1.1639e-04, 4.7943e-05, 9.2073e-07,\n",
              "          1.0810e-09, 7.7930e-10, 4.7923e-10, 1.8211e-11, 1.2360e-11,\n",
              "          1.2133e-11, 1.2474e-11, 4.8042e-10]]])"
            ]
          },
          "metadata": {},
          "execution_count": 79
        }
      ]
    },
    {
      "cell_type": "code",
      "source": [],
      "metadata": {
        "id": "FJqsZ_cck6ES"
      },
      "execution_count": null,
      "outputs": []
    },
    {
      "cell_type": "code",
      "source": [
        "with torch.no_grad():\n",
        "    logits = model(**inputs).logits\n",
        "logits"
      ],
      "metadata": {
        "id": "QGDWPn6QU9jR",
        "outputId": "f04bce6b-ba81-493e-b346-4dfbcaa14fcd",
        "colab": {
          "base_uri": "https://localhost:8080/"
        }
      },
      "execution_count": 58,
      "outputs": [
        {
          "output_type": "execute_result",
          "data": {
            "text/plain": [
              "tensor([[[ 1.2999e+01, -1.0045e+01, -6.5200e+00, -1.0023e+01,  2.0458e-01,\n",
              "          -3.4107e-02,  2.2962e-01, -2.4525e-01,  8.9383e-02,  5.4085e-01,\n",
              "          -2.1800e-01, -4.2872e-01, -1.0007e+00, -5.1505e-01, -1.4986e+00,\n",
              "           1.4422e-01, -3.2108e-01, -1.3694e+00, -7.6945e-01, -1.1444e+00,\n",
              "           1.1089e+00, -1.5597e+00, -2.0392e+00,  5.9913e-01,  9.5600e-01,\n",
              "          -1.1340e+01, -1.1675e+01, -1.2088e+01, -1.5185e+01, -1.5715e+01,\n",
              "          -1.5533e+01, -1.5753e+01, -1.0041e+01],\n",
              "         [-7.8156e+00, -1.4198e+01, -7.6250e+00, -1.4207e+01,  2.9671e-01,\n",
              "          -9.3057e-01, -4.6553e-01, -1.7652e-01, -4.3235e-01, -2.9031e-01,\n",
              "          -7.2696e-01, -6.9904e-01, -1.3919e-01, -4.3167e-01, -7.5535e-01,\n",
              "          -2.0083e-01, -8.4027e-01, -4.4001e-01, -7.8093e-01, -1.1545e+00,\n",
              "           6.6809e+00, -1.3093e+00, -2.0445e+00, -1.1890e+00, -1.2600e+00,\n",
              "          -1.1252e+01, -1.1659e+01, -1.2180e+01, -1.5316e+01, -1.5712e+01,\n",
              "          -1.5645e+01, -1.5831e+01, -1.4198e+01],\n",
              "         [-8.8608e+00, -1.5485e+01, -8.1518e+00, -1.5483e+01,  5.2676e-01,\n",
              "          -3.3679e-01, -1.1776e-01, -1.4868e-01,  1.3209e-02,  2.7199e+00,\n",
              "          -1.3476e-01, -3.2311e-01, -7.6506e-02, -5.6884e-01, -4.4349e-01,\n",
              "           2.3677e-01, -5.6360e-01, -6.1214e-01, -4.3696e-01, -8.2711e-01,\n",
              "          -1.1418e+00, -1.1380e+00, -1.3299e+00, -1.1969e+00, -2.9049e+00,\n",
              "          -1.0996e+01, -1.1511e+01, -1.2103e+01, -1.5442e+01, -1.5891e+01,\n",
              "          -1.5873e+01, -1.5970e+01, -1.5486e+01],\n",
              "         [-8.1285e+00, -1.5141e+01, -8.1475e+00, -1.5136e+01,  6.2429e-01,\n",
              "          -1.2432e-01, -4.0535e-02,  7.7549e-02,  8.9183e-02,  1.4840e-01,\n",
              "          -5.0348e-02, -8.6037e-02,  1.1800e-01, -3.4381e-01, -5.4141e-01,\n",
              "           1.8138e-01, -5.6058e-01,  2.8459e+00, -3.3454e-01, -7.3449e-01,\n",
              "          -9.1524e-01, -8.9073e-01, -1.3088e+00, -9.6025e-01, -2.9354e+00,\n",
              "          -1.1060e+01, -1.1497e+01, -1.2103e+01, -1.5380e+01, -1.5665e+01,\n",
              "          -1.5571e+01, -1.5763e+01, -1.5135e+01],\n",
              "         [-8.8493e+00, -1.4504e+01, -8.0771e+00, -1.4502e+01,  1.2249e+00,\n",
              "           2.4685e-01,  4.8568e-01,  5.2086e-01,  7.3728e-01,  6.2788e-01,\n",
              "           4.5322e-01,  4.0902e-01,  5.6259e-01,  4.7605e-02,  2.6385e-01,\n",
              "           7.3907e-01,  1.7095e-01,  1.2119e-01,  2.5799e-01, -1.0808e-01,\n",
              "          -2.5328e-01, -3.2783e-01, -6.0745e-01, -4.0631e-01, -2.3577e+00,\n",
              "          -1.0869e+01, -1.1416e+01, -1.2025e+01, -1.5488e+01, -1.5846e+01,\n",
              "          -1.5863e+01, -1.5859e+01, -1.4502e+01],\n",
              "         [-9.1692e+00, -1.5403e+01, -8.3524e+00, -1.5397e+01,  6.1332e-01,\n",
              "          -5.0675e-01, -3.7030e-01, -1.9029e-01,  1.3983e-01,  2.6740e+00,\n",
              "          -2.5945e-01, -2.9099e-01,  7.2301e-02, -6.4950e-01, -5.5212e-01,\n",
              "          -1.8476e-02, -6.0122e-01, -4.2516e-01, -1.5797e-01, -6.5756e-01,\n",
              "          -1.2227e+00, -8.6105e-01, -1.4134e+00, -9.8661e-01, -3.1828e+00,\n",
              "          -1.1163e+01, -1.1615e+01, -1.2162e+01, -1.5468e+01, -1.5924e+01,\n",
              "          -1.5903e+01, -1.5996e+01, -1.5399e+01],\n",
              "         [-8.7241e+00, -1.5683e+01, -8.8251e+00, -1.5682e+01,  3.5588e+00,\n",
              "          -4.1984e-01, -1.5081e-01, -1.3528e-01, -1.0599e-01,  9.2119e-02,\n",
              "          -1.6471e-01, -2.8180e-01, -1.6762e-01, -5.3320e-01, -8.3744e-01,\n",
              "           2.5682e-01, -6.3116e-01, -2.2546e-01, -5.4049e-01, -8.3779e-01,\n",
              "          -9.5541e-01, -1.1235e+00, -1.5872e+00, -1.1709e+00, -3.2204e+00,\n",
              "          -1.1007e+01, -1.1471e+01, -1.1930e+01, -1.5268e+01, -1.5681e+01,\n",
              "          -1.5644e+01, -1.5643e+01, -1.5684e+01],\n",
              "         [-7.0071e+00, -1.2799e+01,  8.6307e+00, -1.2785e+01,  6.0306e-01,\n",
              "          -1.3655e+00, -4.6674e-01, -3.3658e-01, -4.8078e-01, -3.9947e-01,\n",
              "          -3.3758e-01, -5.7762e-01,  6.6941e-02, -7.7716e-01, -9.6297e-01,\n",
              "           6.3076e-02, -5.5153e-01, -6.9480e-01,  6.7390e-01, -1.0164e+00,\n",
              "           9.2432e-01, -1.3266e+00, -4.2506e-01, -1.3120e+00, -5.2646e+00,\n",
              "          -1.2012e+01, -1.2339e+01, -1.2825e+01, -1.6095e+01, -1.6483e+01,\n",
              "          -1.6502e+01, -1.6474e+01, -1.2823e+01]]])"
            ]
          },
          "metadata": {},
          "execution_count": 58
        }
      ]
    },
    {
      "cell_type": "code",
      "source": [
        "logits.shape"
      ],
      "metadata": {
        "id": "EFVNGadoWErQ",
        "outputId": "1a957223-bf33-4f12-db26-2d5d229f38d2",
        "colab": {
          "base_uri": "https://localhost:8080/"
        }
      },
      "execution_count": 26,
      "outputs": [
        {
          "output_type": "execute_result",
          "data": {
            "text/plain": [
              "torch.Size([1, 8, 33])"
            ]
          },
          "metadata": {},
          "execution_count": 26
        }
      ]
    },
    {
      "cell_type": "code",
      "source": [
        "mask_token_index = (inputs.input_ids == tokenizer.mask_token_id)[0].nonzero(as_tuple=True)[0]\n",
        "mask_token_index"
      ],
      "metadata": {
        "id": "3I3-fUmGU-5j",
        "outputId": "270cd6ab-d77b-4b8e-96f1-362cc4ecf7a8",
        "colab": {
          "base_uri": "https://localhost:8080/"
        }
      },
      "execution_count": 23,
      "outputs": [
        {
          "output_type": "execute_result",
          "data": {
            "text/plain": [
              "tensor([4])"
            ]
          },
          "metadata": {},
          "execution_count": 23
        }
      ]
    },
    {
      "cell_type": "code",
      "source": [
        "predicted_token_id = logits[0, mask_token_index].argmax(axis=-1)\n",
        "tokenizer.decode(predicted_token_id)"
      ],
      "metadata": {
        "id": "vIQ1uvtsV3uf",
        "outputId": "7a49e3db-23ee-4bdf-9d01-b864e52b86b5",
        "colab": {
          "base_uri": "https://localhost:8080/",
          "height": 36
        }
      },
      "execution_count": 24,
      "outputs": [
        {
          "output_type": "execute_result",
          "data": {
            "text/plain": [
              "'L'"
            ],
            "application/vnd.google.colaboratory.intrinsic+json": {
              "type": "string"
            }
          },
          "metadata": {},
          "execution_count": 24
        }
      ]
    },
    {
      "cell_type": "markdown",
      "source": [
        "Awesome, this is starting to definitely look similar in vibe to what I remember from the protBERT hugging face implementation. Luckily.. I already have some nice functions to work with that so I should be able to generalize between the two approaches. Honestly, it's a bit of a question of whether protBERT is relevant to the updated ESM models, and also if ESM1B can be loaded from huggingface."
      ],
      "metadata": {
        "id": "li3ztWPyWZ0A"
      }
    },
    {
      "cell_type": "markdown",
      "source": [
        "## Test out protBERT berteome functions\n",
        "\n",
        "I have a few functions that does some pretty helpful things with the hugging face implementation that I want to test out here. I'm just going to copy and paste here as I see fit, so that I can start to tweak them as needed.\n",
        "\n",
        "Dame, so I may need to regroup since some of the inference functions are a bit different?? Definitely need to try to make this a bit more generalizable?? I think part of it could be hugging face versions or maybe just a BERT huggingface thing that isn't present in the ESM approach. Honestly, the inference doesn't look to different from before??"
      ],
      "metadata": {
        "id": "otd1KD6VXOEF"
      }
    },
    {
      "cell_type": "markdown",
      "source": [
        "# Updated ESM approach"
      ],
      "metadata": {
        "id": "8_nlBpHZbCOY"
      }
    },
    {
      "cell_type": "code",
      "source": [
        "class modelPredDF():\n",
        "    def __init__(self, predDict, seq, aas):\n",
        "        self.predDf = pd.DataFrame.from_dict(predDict, orient = \"index\", columns = list(aas))\n",
        "        self.predDf = self.predDf.div(self.predDf.sum(axis=1),axis=0)\n",
        "        self.predDf.insert(0, \"wt\",list(seq))\n",
        "        self.predDf.insert(1, \"wtIndex\",list(range(1,len(seq)+1)))\n",
        "        wtScore = self.wtScoreCol()\n",
        "        self.predDf.insert(2, \"wtScore\",wtScore)\n",
        "\n",
        "    def wtScoreCol(self):\n",
        "        wtScore = []\n",
        "        for row in self.predDf.to_dict(orient=\"records\"):\n",
        "\t        wt = row[\"wt\"]\n",
        "\t        wtScore.append(row[wt])\n",
        "        return wtScore"
      ],
      "metadata": {
        "id": "HY_BjzhKvqxl"
      },
      "execution_count": 141,
      "outputs": []
    },
    {
      "cell_type": "code",
      "source": [
        "naturalAAs = \"ACDEFGHIKLMNPQRSTVWY\""
      ],
      "metadata": {
        "id": "RxXatj50XzrD"
      },
      "execution_count": 39,
      "outputs": []
    },
    {
      "cell_type": "code",
      "source": [
        "tokenizer(naturalAAs)[\"input_ids\"][1:-1]"
      ],
      "metadata": {
        "id": "1Ov5vFS9a-4r",
        "outputId": "7249fff9-35cf-4798-9011-55ed070b2b5b",
        "colab": {
          "base_uri": "https://localhost:8080/"
        }
      },
      "execution_count": 53,
      "outputs": [
        {
          "output_type": "execute_result",
          "data": {
            "text/plain": [
              "[5, 23, 13, 9, 18, 6, 21, 12, 15, 4, 20, 17, 14, 16, 10, 8, 11, 7, 22, 19]"
            ]
          },
          "metadata": {},
          "execution_count": 53
        }
      ]
    },
    {
      "cell_type": "code",
      "source": [
        "def naturalAAIndex(aas, tokenizer):\n",
        "    return tokenizeSeq(aas, tokenizer, return_tensors=None)[\"input_ids\"][1:-1]"
      ],
      "metadata": {
        "id": "93q_JMn6d3F1"
      },
      "execution_count": 128,
      "outputs": []
    },
    {
      "cell_type": "code",
      "source": [
        "def getNatProbs(natAAList,probList):\n",
        "    natProbList = []\n",
        "    for natAAIndex in natAAList:\n",
        "      natProbList.append(probList[natAAIndex])\n",
        "    return natProbList"
      ],
      "metadata": {
        "id": "FbjFEwSHuZ42"
      },
      "execution_count": 137,
      "outputs": []
    },
    {
      "cell_type": "code",
      "source": [
        "naturalAAIndex(naturalAAs,esm2_tokenizer)"
      ],
      "metadata": {
        "id": "RDS0ts_7eNvs",
        "outputId": "72afba39-4b21-470b-aa96-c30905103b64",
        "colab": {
          "base_uri": "https://localhost:8080/"
        }
      },
      "execution_count": 129,
      "outputs": [
        {
          "output_type": "execute_result",
          "data": {
            "text/plain": [
              "[5, 23, 13, 9, 18, 6, 21, 12, 15, 4, 20, 17, 14, 16, 10, 8, 11, 7, 22, 19]"
            ]
          },
          "metadata": {},
          "execution_count": 129
        }
      ]
    },
    {
      "cell_type": "code",
      "source": [
        "naturalAAIndex(naturalAAs,esm2_tokenizer)[\"input_ids\"]"
      ],
      "metadata": {
        "id": "XuBS57U8qgDY",
        "outputId": "80261e38-72f4-477b-9f65-44efd2900816",
        "colab": {
          "base_uri": "https://localhost:8080/"
        }
      },
      "execution_count": 120,
      "outputs": [
        {
          "output_type": "execute_result",
          "data": {
            "text/plain": [
              "[tensor([ 0,  5, 23, 13,  9, 18,  6, 21, 12, 15,  4, 20, 17, 14, 16, 10,  8, 11,\n",
              "          7, 22, 19,  2])]"
            ]
          },
          "metadata": {},
          "execution_count": 120
        }
      ]
    },
    {
      "cell_type": "code",
      "source": [
        "def maskifySeq(seq, i):\n",
        "    seqList = list(seq)\n",
        "    if i != None:\n",
        "      seqList[i] = \"<mask>\" # it would be nice if this could somewhow be derived from the model library..\n",
        "    return ''.join(seqList)"
      ],
      "metadata": {
        "id": "1vZZjVpolWc-"
      },
      "execution_count": 108,
      "outputs": []
    },
    {
      "cell_type": "code",
      "source": [
        "maskifySeq(\"MENDEL\",3)"
      ],
      "metadata": {
        "id": "lDkm6DoLniWq",
        "outputId": "ec091ea7-ca18-404b-de13-88adba29a4f2",
        "colab": {
          "base_uri": "https://localhost:8080/",
          "height": 36
        }
      },
      "execution_count": 105,
      "outputs": [
        {
          "output_type": "execute_result",
          "data": {
            "text/plain": [
              "'MEN<mask>EL'"
            ],
            "application/vnd.google.colaboratory.intrinsic+json": {
              "type": "string"
            }
          },
          "metadata": {},
          "execution_count": 105
        }
      ]
    },
    {
      "cell_type": "code",
      "source": [
        "def tokenizeSeq(seq, tokenizer, mask_index = None, return_tensors = \"pt\"):\n",
        "  maskified_seq = maskifySeq(seq, mask_index)\n",
        "  return tokenizer(maskified_seq, return_tensors=return_tensors)"
      ],
      "metadata": {
        "id": "4WSCIkOXm13Z"
      },
      "execution_count": 124,
      "outputs": []
    },
    {
      "cell_type": "code",
      "source": [
        "tokenizeSeq(\"MENDEL\",esm2_tokenizer)"
      ],
      "metadata": {
        "id": "itU6DY7pozex",
        "outputId": "48083d69-c51f-47a4-9b96-1b00ae378571",
        "colab": {
          "base_uri": "https://localhost:8080/"
        }
      },
      "execution_count": 125,
      "outputs": [
        {
          "output_type": "execute_result",
          "data": {
            "text/plain": [
              "{'input_ids': tensor([[ 0, 20,  9, 17, 13,  9,  4,  2]]), 'attention_mask': tensor([[1, 1, 1, 1, 1, 1, 1, 1]])}"
            ]
          },
          "metadata": {},
          "execution_count": 125
        }
      ]
    },
    {
      "cell_type": "code",
      "source": [
        "mendel_mask3 = tokenizeSeq(\"MENDEL\",esm2_tokenizer, mask_index = 3)"
      ],
      "metadata": {
        "id": "S3b7R1Cto8l5"
      },
      "execution_count": 126,
      "outputs": []
    },
    {
      "cell_type": "code",
      "source": [
        "run_model(esm2_model, mendel_mask3)"
      ],
      "metadata": {
        "id": "Nje1jIvCl9VF",
        "outputId": "a1c21eab-cd78-499d-cb33-b6e56409676d",
        "colab": {
          "base_uri": "https://localhost:8080/"
        }
      },
      "execution_count": 127,
      "outputs": [
        {
          "output_type": "execute_result",
          "data": {
            "text/plain": [
              "tensor([[[ 1.2999e+01, -1.0045e+01, -6.5200e+00, -1.0023e+01,  2.0458e-01,\n",
              "          -3.4107e-02,  2.2962e-01, -2.4525e-01,  8.9383e-02,  5.4085e-01,\n",
              "          -2.1800e-01, -4.2872e-01, -1.0007e+00, -5.1505e-01, -1.4986e+00,\n",
              "           1.4422e-01, -3.2108e-01, -1.3694e+00, -7.6945e-01, -1.1444e+00,\n",
              "           1.1089e+00, -1.5597e+00, -2.0392e+00,  5.9913e-01,  9.5600e-01,\n",
              "          -1.1340e+01, -1.1675e+01, -1.2088e+01, -1.5185e+01, -1.5715e+01,\n",
              "          -1.5533e+01, -1.5753e+01, -1.0041e+01],\n",
              "         [-7.8156e+00, -1.4198e+01, -7.6250e+00, -1.4207e+01,  2.9671e-01,\n",
              "          -9.3057e-01, -4.6553e-01, -1.7652e-01, -4.3235e-01, -2.9031e-01,\n",
              "          -7.2696e-01, -6.9904e-01, -1.3919e-01, -4.3167e-01, -7.5535e-01,\n",
              "          -2.0083e-01, -8.4027e-01, -4.4001e-01, -7.8093e-01, -1.1545e+00,\n",
              "           6.6809e+00, -1.3093e+00, -2.0445e+00, -1.1890e+00, -1.2600e+00,\n",
              "          -1.1252e+01, -1.1659e+01, -1.2180e+01, -1.5316e+01, -1.5712e+01,\n",
              "          -1.5645e+01, -1.5831e+01, -1.4198e+01],\n",
              "         [-8.8608e+00, -1.5485e+01, -8.1518e+00, -1.5483e+01,  5.2676e-01,\n",
              "          -3.3679e-01, -1.1776e-01, -1.4868e-01,  1.3209e-02,  2.7199e+00,\n",
              "          -1.3476e-01, -3.2311e-01, -7.6506e-02, -5.6884e-01, -4.4349e-01,\n",
              "           2.3677e-01, -5.6360e-01, -6.1214e-01, -4.3696e-01, -8.2711e-01,\n",
              "          -1.1418e+00, -1.1380e+00, -1.3299e+00, -1.1969e+00, -2.9049e+00,\n",
              "          -1.0996e+01, -1.1511e+01, -1.2103e+01, -1.5442e+01, -1.5891e+01,\n",
              "          -1.5873e+01, -1.5970e+01, -1.5486e+01],\n",
              "         [-8.1285e+00, -1.5141e+01, -8.1475e+00, -1.5136e+01,  6.2429e-01,\n",
              "          -1.2432e-01, -4.0535e-02,  7.7549e-02,  8.9183e-02,  1.4840e-01,\n",
              "          -5.0348e-02, -8.6037e-02,  1.1800e-01, -3.4381e-01, -5.4141e-01,\n",
              "           1.8138e-01, -5.6058e-01,  2.8459e+00, -3.3454e-01, -7.3449e-01,\n",
              "          -9.1524e-01, -8.9073e-01, -1.3088e+00, -9.6025e-01, -2.9354e+00,\n",
              "          -1.1060e+01, -1.1497e+01, -1.2103e+01, -1.5380e+01, -1.5665e+01,\n",
              "          -1.5571e+01, -1.5763e+01, -1.5135e+01],\n",
              "         [-8.8493e+00, -1.4504e+01, -8.0771e+00, -1.4502e+01,  1.2249e+00,\n",
              "           2.4685e-01,  4.8568e-01,  5.2086e-01,  7.3728e-01,  6.2788e-01,\n",
              "           4.5322e-01,  4.0902e-01,  5.6259e-01,  4.7605e-02,  2.6385e-01,\n",
              "           7.3907e-01,  1.7095e-01,  1.2119e-01,  2.5799e-01, -1.0808e-01,\n",
              "          -2.5328e-01, -3.2783e-01, -6.0745e-01, -4.0631e-01, -2.3577e+00,\n",
              "          -1.0869e+01, -1.1416e+01, -1.2025e+01, -1.5488e+01, -1.5846e+01,\n",
              "          -1.5863e+01, -1.5859e+01, -1.4502e+01],\n",
              "         [-9.1692e+00, -1.5403e+01, -8.3524e+00, -1.5397e+01,  6.1332e-01,\n",
              "          -5.0675e-01, -3.7030e-01, -1.9029e-01,  1.3983e-01,  2.6740e+00,\n",
              "          -2.5945e-01, -2.9099e-01,  7.2301e-02, -6.4950e-01, -5.5212e-01,\n",
              "          -1.8476e-02, -6.0122e-01, -4.2516e-01, -1.5797e-01, -6.5756e-01,\n",
              "          -1.2227e+00, -8.6105e-01, -1.4134e+00, -9.8661e-01, -3.1828e+00,\n",
              "          -1.1163e+01, -1.1615e+01, -1.2162e+01, -1.5468e+01, -1.5924e+01,\n",
              "          -1.5903e+01, -1.5996e+01, -1.5399e+01],\n",
              "         [-8.7241e+00, -1.5683e+01, -8.8251e+00, -1.5682e+01,  3.5588e+00,\n",
              "          -4.1984e-01, -1.5081e-01, -1.3528e-01, -1.0599e-01,  9.2119e-02,\n",
              "          -1.6471e-01, -2.8180e-01, -1.6762e-01, -5.3320e-01, -8.3744e-01,\n",
              "           2.5682e-01, -6.3116e-01, -2.2546e-01, -5.4049e-01, -8.3779e-01,\n",
              "          -9.5541e-01, -1.1235e+00, -1.5872e+00, -1.1709e+00, -3.2204e+00,\n",
              "          -1.1007e+01, -1.1471e+01, -1.1930e+01, -1.5268e+01, -1.5681e+01,\n",
              "          -1.5644e+01, -1.5643e+01, -1.5684e+01],\n",
              "         [-7.0071e+00, -1.2799e+01,  8.6307e+00, -1.2785e+01,  6.0306e-01,\n",
              "          -1.3655e+00, -4.6674e-01, -3.3658e-01, -4.8078e-01, -3.9947e-01,\n",
              "          -3.3758e-01, -5.7762e-01,  6.6941e-02, -7.7716e-01, -9.6297e-01,\n",
              "           6.3076e-02, -5.5153e-01, -6.9480e-01,  6.7390e-01, -1.0164e+00,\n",
              "           9.2432e-01, -1.3266e+00, -4.2506e-01, -1.3120e+00, -5.2646e+00,\n",
              "          -1.2012e+01, -1.2339e+01, -1.2825e+01, -1.6095e+01, -1.6483e+01,\n",
              "          -1.6502e+01, -1.6474e+01, -1.2823e+01]]])"
            ]
          },
          "metadata": {},
          "execution_count": 127
        }
      ]
    },
    {
      "cell_type": "code",
      "source": [
        "seq = \"MENDEL\"\n",
        "naturalAAIndices = naturalAAIndex(\"ACDEFGHIKLMNPQRSTVWY\",esm2_tokenizer)\n",
        "esmPredDict = {}\n",
        "for wtIndex in range(len(seq)):\n",
        "  maskedSeq = tokenizeSeq(seq, esm2_tokenizer, mask_index = wtIndex)\n",
        "  #print(maskedSeq)\n",
        "  seq_logits = run_model(esm2_model, maskedSeq)\n",
        "  seq_probs = logits2prob(seq_logits)\n",
        "  esmPredDict[wtIndex] = [i.item() for i in getNatProbs(naturalAAIndices, seq_probs[0, wtIndex +1])]\n",
        "modelPredDF(esmPredDict, seq, \"ACDEFGHIKLMNPQRSTVWY\").predDf"
      ],
      "metadata": {
        "id": "RnPLcbZ2rrlX",
        "outputId": "cb55b1ed-5551-438a-d6de-b1a95781238b",
        "colab": {
          "base_uri": "https://localhost:8080/",
          "height": 331
        }
      },
      "execution_count": 143,
      "outputs": [
        {
          "output_type": "execute_result",
          "data": {
            "text/plain": [
              "  wt  wtIndex   wtScore         A         C         D         E         F  \\\n",
              "0  M        1  0.552697  0.021572  0.007771  0.037974  0.037202  0.016749   \n",
              "1  E        2  0.062526  0.053799  0.021036  0.043922  0.062526  0.046101   \n",
              "2  N        3  0.033663  0.061583  0.019181  0.059015  0.090463  0.040464   \n",
              "3  D        4  0.036863  0.044991  0.023413  0.036863  0.065857  0.045495   \n",
              "4  E        5  0.049126  0.044737  0.028491  0.045022  0.049126  0.059680   \n",
              "5  L        6  0.084846  0.047930  0.016511  0.053397  0.092545  0.040752   \n",
              "\n",
              "          G         H  ...         M         N         P         Q         R  \\\n",
              "0  0.031286  0.008931  ...  0.552697  0.025167  0.016633  0.015696  0.021180   \n",
              "1  0.053995  0.025246  ...  0.022747  0.046137  0.038938  0.035488  0.060355   \n",
              "2  0.070657  0.020765  ...  0.024444  0.033663  0.040042  0.030041  0.059641   \n",
              "3  0.057128  0.025325  ...  0.027285  0.039678  0.045763  0.041703  0.055303   \n",
              "4  0.052702  0.032531  ...  0.020457  0.045267  0.040136  0.036020  0.052129   \n",
              "5  0.061778  0.021220  ...  0.024157  0.055584  0.029879  0.034910  0.062608   \n",
              "\n",
              "          S         T         V         W         Y  \n",
              "0  0.027951  0.019174  0.032738  0.005038  0.015784  \n",
              "1  0.072753  0.057780  0.065278  0.016475  0.031191  \n",
              "2  0.060723  0.045562  0.077274  0.017029  0.025385  \n",
              "3  0.073471  0.052912  0.059173  0.019147  0.031549  \n",
              "4  0.079066  0.051003  0.063749  0.016661  0.038395  \n",
              "5  0.059308  0.050503  0.062796  0.016001  0.030007  \n",
              "\n",
              "[6 rows x 23 columns]"
            ],
            "text/html": [
              "\n",
              "  <div id=\"df-508f52e7-83e9-4e50-aca5-6da1fd440ae9\">\n",
              "    <div class=\"colab-df-container\">\n",
              "      <div>\n",
              "<style scoped>\n",
              "    .dataframe tbody tr th:only-of-type {\n",
              "        vertical-align: middle;\n",
              "    }\n",
              "\n",
              "    .dataframe tbody tr th {\n",
              "        vertical-align: top;\n",
              "    }\n",
              "\n",
              "    .dataframe thead th {\n",
              "        text-align: right;\n",
              "    }\n",
              "</style>\n",
              "<table border=\"1\" class=\"dataframe\">\n",
              "  <thead>\n",
              "    <tr style=\"text-align: right;\">\n",
              "      <th></th>\n",
              "      <th>wt</th>\n",
              "      <th>wtIndex</th>\n",
              "      <th>wtScore</th>\n",
              "      <th>A</th>\n",
              "      <th>C</th>\n",
              "      <th>D</th>\n",
              "      <th>E</th>\n",
              "      <th>F</th>\n",
              "      <th>G</th>\n",
              "      <th>H</th>\n",
              "      <th>...</th>\n",
              "      <th>M</th>\n",
              "      <th>N</th>\n",
              "      <th>P</th>\n",
              "      <th>Q</th>\n",
              "      <th>R</th>\n",
              "      <th>S</th>\n",
              "      <th>T</th>\n",
              "      <th>V</th>\n",
              "      <th>W</th>\n",
              "      <th>Y</th>\n",
              "    </tr>\n",
              "  </thead>\n",
              "  <tbody>\n",
              "    <tr>\n",
              "      <th>0</th>\n",
              "      <td>M</td>\n",
              "      <td>1</td>\n",
              "      <td>0.552697</td>\n",
              "      <td>0.021572</td>\n",
              "      <td>0.007771</td>\n",
              "      <td>0.037974</td>\n",
              "      <td>0.037202</td>\n",
              "      <td>0.016749</td>\n",
              "      <td>0.031286</td>\n",
              "      <td>0.008931</td>\n",
              "      <td>...</td>\n",
              "      <td>0.552697</td>\n",
              "      <td>0.025167</td>\n",
              "      <td>0.016633</td>\n",
              "      <td>0.015696</td>\n",
              "      <td>0.021180</td>\n",
              "      <td>0.027951</td>\n",
              "      <td>0.019174</td>\n",
              "      <td>0.032738</td>\n",
              "      <td>0.005038</td>\n",
              "      <td>0.015784</td>\n",
              "    </tr>\n",
              "    <tr>\n",
              "      <th>1</th>\n",
              "      <td>E</td>\n",
              "      <td>2</td>\n",
              "      <td>0.062526</td>\n",
              "      <td>0.053799</td>\n",
              "      <td>0.021036</td>\n",
              "      <td>0.043922</td>\n",
              "      <td>0.062526</td>\n",
              "      <td>0.046101</td>\n",
              "      <td>0.053995</td>\n",
              "      <td>0.025246</td>\n",
              "      <td>...</td>\n",
              "      <td>0.022747</td>\n",
              "      <td>0.046137</td>\n",
              "      <td>0.038938</td>\n",
              "      <td>0.035488</td>\n",
              "      <td>0.060355</td>\n",
              "      <td>0.072753</td>\n",
              "      <td>0.057780</td>\n",
              "      <td>0.065278</td>\n",
              "      <td>0.016475</td>\n",
              "      <td>0.031191</td>\n",
              "    </tr>\n",
              "    <tr>\n",
              "      <th>2</th>\n",
              "      <td>N</td>\n",
              "      <td>3</td>\n",
              "      <td>0.033663</td>\n",
              "      <td>0.061583</td>\n",
              "      <td>0.019181</td>\n",
              "      <td>0.059015</td>\n",
              "      <td>0.090463</td>\n",
              "      <td>0.040464</td>\n",
              "      <td>0.070657</td>\n",
              "      <td>0.020765</td>\n",
              "      <td>...</td>\n",
              "      <td>0.024444</td>\n",
              "      <td>0.033663</td>\n",
              "      <td>0.040042</td>\n",
              "      <td>0.030041</td>\n",
              "      <td>0.059641</td>\n",
              "      <td>0.060723</td>\n",
              "      <td>0.045562</td>\n",
              "      <td>0.077274</td>\n",
              "      <td>0.017029</td>\n",
              "      <td>0.025385</td>\n",
              "    </tr>\n",
              "    <tr>\n",
              "      <th>3</th>\n",
              "      <td>D</td>\n",
              "      <td>4</td>\n",
              "      <td>0.036863</td>\n",
              "      <td>0.044991</td>\n",
              "      <td>0.023413</td>\n",
              "      <td>0.036863</td>\n",
              "      <td>0.065857</td>\n",
              "      <td>0.045495</td>\n",
              "      <td>0.057128</td>\n",
              "      <td>0.025325</td>\n",
              "      <td>...</td>\n",
              "      <td>0.027285</td>\n",
              "      <td>0.039678</td>\n",
              "      <td>0.045763</td>\n",
              "      <td>0.041703</td>\n",
              "      <td>0.055303</td>\n",
              "      <td>0.073471</td>\n",
              "      <td>0.052912</td>\n",
              "      <td>0.059173</td>\n",
              "      <td>0.019147</td>\n",
              "      <td>0.031549</td>\n",
              "    </tr>\n",
              "    <tr>\n",
              "      <th>4</th>\n",
              "      <td>E</td>\n",
              "      <td>5</td>\n",
              "      <td>0.049126</td>\n",
              "      <td>0.044737</td>\n",
              "      <td>0.028491</td>\n",
              "      <td>0.045022</td>\n",
              "      <td>0.049126</td>\n",
              "      <td>0.059680</td>\n",
              "      <td>0.052702</td>\n",
              "      <td>0.032531</td>\n",
              "      <td>...</td>\n",
              "      <td>0.020457</td>\n",
              "      <td>0.045267</td>\n",
              "      <td>0.040136</td>\n",
              "      <td>0.036020</td>\n",
              "      <td>0.052129</td>\n",
              "      <td>0.079066</td>\n",
              "      <td>0.051003</td>\n",
              "      <td>0.063749</td>\n",
              "      <td>0.016661</td>\n",
              "      <td>0.038395</td>\n",
              "    </tr>\n",
              "    <tr>\n",
              "      <th>5</th>\n",
              "      <td>L</td>\n",
              "      <td>6</td>\n",
              "      <td>0.084846</td>\n",
              "      <td>0.047930</td>\n",
              "      <td>0.016511</td>\n",
              "      <td>0.053397</td>\n",
              "      <td>0.092545</td>\n",
              "      <td>0.040752</td>\n",
              "      <td>0.061778</td>\n",
              "      <td>0.021220</td>\n",
              "      <td>...</td>\n",
              "      <td>0.024157</td>\n",
              "      <td>0.055584</td>\n",
              "      <td>0.029879</td>\n",
              "      <td>0.034910</td>\n",
              "      <td>0.062608</td>\n",
              "      <td>0.059308</td>\n",
              "      <td>0.050503</td>\n",
              "      <td>0.062796</td>\n",
              "      <td>0.016001</td>\n",
              "      <td>0.030007</td>\n",
              "    </tr>\n",
              "  </tbody>\n",
              "</table>\n",
              "<p>6 rows × 23 columns</p>\n",
              "</div>\n",
              "      <button class=\"colab-df-convert\" onclick=\"convertToInteractive('df-508f52e7-83e9-4e50-aca5-6da1fd440ae9')\"\n",
              "              title=\"Convert this dataframe to an interactive table.\"\n",
              "              style=\"display:none;\">\n",
              "        \n",
              "  <svg xmlns=\"http://www.w3.org/2000/svg\" height=\"24px\"viewBox=\"0 0 24 24\"\n",
              "       width=\"24px\">\n",
              "    <path d=\"M0 0h24v24H0V0z\" fill=\"none\"/>\n",
              "    <path d=\"M18.56 5.44l.94 2.06.94-2.06 2.06-.94-2.06-.94-.94-2.06-.94 2.06-2.06.94zm-11 1L8.5 8.5l.94-2.06 2.06-.94-2.06-.94L8.5 2.5l-.94 2.06-2.06.94zm10 10l.94 2.06.94-2.06 2.06-.94-2.06-.94-.94-2.06-.94 2.06-2.06.94z\"/><path d=\"M17.41 7.96l-1.37-1.37c-.4-.4-.92-.59-1.43-.59-.52 0-1.04.2-1.43.59L10.3 9.45l-7.72 7.72c-.78.78-.78 2.05 0 2.83L4 21.41c.39.39.9.59 1.41.59.51 0 1.02-.2 1.41-.59l7.78-7.78 2.81-2.81c.8-.78.8-2.07 0-2.86zM5.41 20L4 18.59l7.72-7.72 1.47 1.35L5.41 20z\"/>\n",
              "  </svg>\n",
              "      </button>\n",
              "      \n",
              "  <style>\n",
              "    .colab-df-container {\n",
              "      display:flex;\n",
              "      flex-wrap:wrap;\n",
              "      gap: 12px;\n",
              "    }\n",
              "\n",
              "    .colab-df-convert {\n",
              "      background-color: #E8F0FE;\n",
              "      border: none;\n",
              "      border-radius: 50%;\n",
              "      cursor: pointer;\n",
              "      display: none;\n",
              "      fill: #1967D2;\n",
              "      height: 32px;\n",
              "      padding: 0 0 0 0;\n",
              "      width: 32px;\n",
              "    }\n",
              "\n",
              "    .colab-df-convert:hover {\n",
              "      background-color: #E2EBFA;\n",
              "      box-shadow: 0px 1px 2px rgba(60, 64, 67, 0.3), 0px 1px 3px 1px rgba(60, 64, 67, 0.15);\n",
              "      fill: #174EA6;\n",
              "    }\n",
              "\n",
              "    [theme=dark] .colab-df-convert {\n",
              "      background-color: #3B4455;\n",
              "      fill: #D2E3FC;\n",
              "    }\n",
              "\n",
              "    [theme=dark] .colab-df-convert:hover {\n",
              "      background-color: #434B5C;\n",
              "      box-shadow: 0px 1px 3px 1px rgba(0, 0, 0, 0.15);\n",
              "      filter: drop-shadow(0px 1px 2px rgba(0, 0, 0, 0.3));\n",
              "      fill: #FFFFFF;\n",
              "    }\n",
              "  </style>\n",
              "\n",
              "      <script>\n",
              "        const buttonEl =\n",
              "          document.querySelector('#df-508f52e7-83e9-4e50-aca5-6da1fd440ae9 button.colab-df-convert');\n",
              "        buttonEl.style.display =\n",
              "          google.colab.kernel.accessAllowed ? 'block' : 'none';\n",
              "\n",
              "        async function convertToInteractive(key) {\n",
              "          const element = document.querySelector('#df-508f52e7-83e9-4e50-aca5-6da1fd440ae9');\n",
              "          const dataTable =\n",
              "            await google.colab.kernel.invokeFunction('convertToInteractive',\n",
              "                                                     [key], {});\n",
              "          if (!dataTable) return;\n",
              "\n",
              "          const docLinkHtml = 'Like what you see? Visit the ' +\n",
              "            '<a target=\"_blank\" href=https://colab.research.google.com/notebooks/data_table.ipynb>data table notebook</a>'\n",
              "            + ' to learn more about interactive tables.';\n",
              "          element.innerHTML = '';\n",
              "          dataTable['output_type'] = 'display_data';\n",
              "          await google.colab.output.renderOutput(dataTable, element);\n",
              "          const docLink = document.createElement('div');\n",
              "          docLink.innerHTML = docLinkHtml;\n",
              "          element.appendChild(docLink);\n",
              "        }\n",
              "      </script>\n",
              "    </div>\n",
              "  </div>\n",
              "  "
            ]
          },
          "metadata": {},
          "execution_count": 143
        }
      ]
    },
    {
      "cell_type": "code",
      "source": [
        "def esmPredictionDF(seq, tokenizer, model, aas = \"ACDEFGHIKLMNPQRSTVWY\"):\n",
        "  naturalAAIndices = naturalAAIndex(aas,tokenizer)\n",
        "  esmPredDict = {}\n",
        "  for wtIndex in range(len(seq)):\n",
        "    maskedSeq = tokenizeSeq(seq, tokenizer, mask_index = wtIndex)\n",
        "    seq_logits = run_model(model, maskedSeq)\n",
        "    seq_probs = logits2prob(seq_logits)\n",
        "    esmPredDict[wtIndex] = [i.item() for i in getNatProbs(naturalAAIndices, seq_probs[0, wtIndex +1])]\n",
        "  esmPredDF = modelPredDF(esmPredDict, seq, aas).predDf\n",
        "  return esmPredDF"
      ],
      "metadata": {
        "id": "O6SnyvqnwIu4"
      },
      "execution_count": 146,
      "outputs": []
    },
    {
      "cell_type": "code",
      "source": [
        "esmPredictionDF(\"MENDEL\", esm2_tokenizer, esm2_model)"
      ],
      "metadata": {
        "id": "pVJMDX-ExHxC",
        "outputId": "335db56c-332c-43ed-fcda-96fe7cb4bafc",
        "colab": {
          "base_uri": "https://localhost:8080/",
          "height": 331
        }
      },
      "execution_count": 147,
      "outputs": [
        {
          "output_type": "execute_result",
          "data": {
            "text/plain": [
              "  wt  wtIndex   wtScore         A         C         D         E         F  \\\n",
              "0  M        1  0.552697  0.021572  0.007771  0.037974  0.037202  0.016749   \n",
              "1  E        2  0.062526  0.053799  0.021036  0.043922  0.062526  0.046101   \n",
              "2  N        3  0.033663  0.061583  0.019181  0.059015  0.090463  0.040464   \n",
              "3  D        4  0.036863  0.044991  0.023413  0.036863  0.065857  0.045495   \n",
              "4  E        5  0.049126  0.044737  0.028491  0.045022  0.049126  0.059680   \n",
              "5  L        6  0.084846  0.047930  0.016511  0.053397  0.092545  0.040752   \n",
              "\n",
              "          G         H  ...         M         N         P         Q         R  \\\n",
              "0  0.031286  0.008931  ...  0.552697  0.025167  0.016633  0.015696  0.021180   \n",
              "1  0.053995  0.025246  ...  0.022747  0.046137  0.038938  0.035488  0.060355   \n",
              "2  0.070657  0.020765  ...  0.024444  0.033663  0.040042  0.030041  0.059641   \n",
              "3  0.057128  0.025325  ...  0.027285  0.039678  0.045763  0.041703  0.055303   \n",
              "4  0.052702  0.032531  ...  0.020457  0.045267  0.040136  0.036020  0.052129   \n",
              "5  0.061778  0.021220  ...  0.024157  0.055584  0.029879  0.034910  0.062608   \n",
              "\n",
              "          S         T         V         W         Y  \n",
              "0  0.027951  0.019174  0.032738  0.005038  0.015784  \n",
              "1  0.072753  0.057780  0.065278  0.016475  0.031191  \n",
              "2  0.060723  0.045562  0.077274  0.017029  0.025385  \n",
              "3  0.073471  0.052912  0.059173  0.019147  0.031549  \n",
              "4  0.079066  0.051003  0.063749  0.016661  0.038395  \n",
              "5  0.059308  0.050503  0.062796  0.016001  0.030007  \n",
              "\n",
              "[6 rows x 23 columns]"
            ],
            "text/html": [
              "\n",
              "  <div id=\"df-edbdaca4-942a-40ae-b73f-57dc5f742380\">\n",
              "    <div class=\"colab-df-container\">\n",
              "      <div>\n",
              "<style scoped>\n",
              "    .dataframe tbody tr th:only-of-type {\n",
              "        vertical-align: middle;\n",
              "    }\n",
              "\n",
              "    .dataframe tbody tr th {\n",
              "        vertical-align: top;\n",
              "    }\n",
              "\n",
              "    .dataframe thead th {\n",
              "        text-align: right;\n",
              "    }\n",
              "</style>\n",
              "<table border=\"1\" class=\"dataframe\">\n",
              "  <thead>\n",
              "    <tr style=\"text-align: right;\">\n",
              "      <th></th>\n",
              "      <th>wt</th>\n",
              "      <th>wtIndex</th>\n",
              "      <th>wtScore</th>\n",
              "      <th>A</th>\n",
              "      <th>C</th>\n",
              "      <th>D</th>\n",
              "      <th>E</th>\n",
              "      <th>F</th>\n",
              "      <th>G</th>\n",
              "      <th>H</th>\n",
              "      <th>...</th>\n",
              "      <th>M</th>\n",
              "      <th>N</th>\n",
              "      <th>P</th>\n",
              "      <th>Q</th>\n",
              "      <th>R</th>\n",
              "      <th>S</th>\n",
              "      <th>T</th>\n",
              "      <th>V</th>\n",
              "      <th>W</th>\n",
              "      <th>Y</th>\n",
              "    </tr>\n",
              "  </thead>\n",
              "  <tbody>\n",
              "    <tr>\n",
              "      <th>0</th>\n",
              "      <td>M</td>\n",
              "      <td>1</td>\n",
              "      <td>0.552697</td>\n",
              "      <td>0.021572</td>\n",
              "      <td>0.007771</td>\n",
              "      <td>0.037974</td>\n",
              "      <td>0.037202</td>\n",
              "      <td>0.016749</td>\n",
              "      <td>0.031286</td>\n",
              "      <td>0.008931</td>\n",
              "      <td>...</td>\n",
              "      <td>0.552697</td>\n",
              "      <td>0.025167</td>\n",
              "      <td>0.016633</td>\n",
              "      <td>0.015696</td>\n",
              "      <td>0.021180</td>\n",
              "      <td>0.027951</td>\n",
              "      <td>0.019174</td>\n",
              "      <td>0.032738</td>\n",
              "      <td>0.005038</td>\n",
              "      <td>0.015784</td>\n",
              "    </tr>\n",
              "    <tr>\n",
              "      <th>1</th>\n",
              "      <td>E</td>\n",
              "      <td>2</td>\n",
              "      <td>0.062526</td>\n",
              "      <td>0.053799</td>\n",
              "      <td>0.021036</td>\n",
              "      <td>0.043922</td>\n",
              "      <td>0.062526</td>\n",
              "      <td>0.046101</td>\n",
              "      <td>0.053995</td>\n",
              "      <td>0.025246</td>\n",
              "      <td>...</td>\n",
              "      <td>0.022747</td>\n",
              "      <td>0.046137</td>\n",
              "      <td>0.038938</td>\n",
              "      <td>0.035488</td>\n",
              "      <td>0.060355</td>\n",
              "      <td>0.072753</td>\n",
              "      <td>0.057780</td>\n",
              "      <td>0.065278</td>\n",
              "      <td>0.016475</td>\n",
              "      <td>0.031191</td>\n",
              "    </tr>\n",
              "    <tr>\n",
              "      <th>2</th>\n",
              "      <td>N</td>\n",
              "      <td>3</td>\n",
              "      <td>0.033663</td>\n",
              "      <td>0.061583</td>\n",
              "      <td>0.019181</td>\n",
              "      <td>0.059015</td>\n",
              "      <td>0.090463</td>\n",
              "      <td>0.040464</td>\n",
              "      <td>0.070657</td>\n",
              "      <td>0.020765</td>\n",
              "      <td>...</td>\n",
              "      <td>0.024444</td>\n",
              "      <td>0.033663</td>\n",
              "      <td>0.040042</td>\n",
              "      <td>0.030041</td>\n",
              "      <td>0.059641</td>\n",
              "      <td>0.060723</td>\n",
              "      <td>0.045562</td>\n",
              "      <td>0.077274</td>\n",
              "      <td>0.017029</td>\n",
              "      <td>0.025385</td>\n",
              "    </tr>\n",
              "    <tr>\n",
              "      <th>3</th>\n",
              "      <td>D</td>\n",
              "      <td>4</td>\n",
              "      <td>0.036863</td>\n",
              "      <td>0.044991</td>\n",
              "      <td>0.023413</td>\n",
              "      <td>0.036863</td>\n",
              "      <td>0.065857</td>\n",
              "      <td>0.045495</td>\n",
              "      <td>0.057128</td>\n",
              "      <td>0.025325</td>\n",
              "      <td>...</td>\n",
              "      <td>0.027285</td>\n",
              "      <td>0.039678</td>\n",
              "      <td>0.045763</td>\n",
              "      <td>0.041703</td>\n",
              "      <td>0.055303</td>\n",
              "      <td>0.073471</td>\n",
              "      <td>0.052912</td>\n",
              "      <td>0.059173</td>\n",
              "      <td>0.019147</td>\n",
              "      <td>0.031549</td>\n",
              "    </tr>\n",
              "    <tr>\n",
              "      <th>4</th>\n",
              "      <td>E</td>\n",
              "      <td>5</td>\n",
              "      <td>0.049126</td>\n",
              "      <td>0.044737</td>\n",
              "      <td>0.028491</td>\n",
              "      <td>0.045022</td>\n",
              "      <td>0.049126</td>\n",
              "      <td>0.059680</td>\n",
              "      <td>0.052702</td>\n",
              "      <td>0.032531</td>\n",
              "      <td>...</td>\n",
              "      <td>0.020457</td>\n",
              "      <td>0.045267</td>\n",
              "      <td>0.040136</td>\n",
              "      <td>0.036020</td>\n",
              "      <td>0.052129</td>\n",
              "      <td>0.079066</td>\n",
              "      <td>0.051003</td>\n",
              "      <td>0.063749</td>\n",
              "      <td>0.016661</td>\n",
              "      <td>0.038395</td>\n",
              "    </tr>\n",
              "    <tr>\n",
              "      <th>5</th>\n",
              "      <td>L</td>\n",
              "      <td>6</td>\n",
              "      <td>0.084846</td>\n",
              "      <td>0.047930</td>\n",
              "      <td>0.016511</td>\n",
              "      <td>0.053397</td>\n",
              "      <td>0.092545</td>\n",
              "      <td>0.040752</td>\n",
              "      <td>0.061778</td>\n",
              "      <td>0.021220</td>\n",
              "      <td>...</td>\n",
              "      <td>0.024157</td>\n",
              "      <td>0.055584</td>\n",
              "      <td>0.029879</td>\n",
              "      <td>0.034910</td>\n",
              "      <td>0.062608</td>\n",
              "      <td>0.059308</td>\n",
              "      <td>0.050503</td>\n",
              "      <td>0.062796</td>\n",
              "      <td>0.016001</td>\n",
              "      <td>0.030007</td>\n",
              "    </tr>\n",
              "  </tbody>\n",
              "</table>\n",
              "<p>6 rows × 23 columns</p>\n",
              "</div>\n",
              "      <button class=\"colab-df-convert\" onclick=\"convertToInteractive('df-edbdaca4-942a-40ae-b73f-57dc5f742380')\"\n",
              "              title=\"Convert this dataframe to an interactive table.\"\n",
              "              style=\"display:none;\">\n",
              "        \n",
              "  <svg xmlns=\"http://www.w3.org/2000/svg\" height=\"24px\"viewBox=\"0 0 24 24\"\n",
              "       width=\"24px\">\n",
              "    <path d=\"M0 0h24v24H0V0z\" fill=\"none\"/>\n",
              "    <path d=\"M18.56 5.44l.94 2.06.94-2.06 2.06-.94-2.06-.94-.94-2.06-.94 2.06-2.06.94zm-11 1L8.5 8.5l.94-2.06 2.06-.94-2.06-.94L8.5 2.5l-.94 2.06-2.06.94zm10 10l.94 2.06.94-2.06 2.06-.94-2.06-.94-.94-2.06-.94 2.06-2.06.94z\"/><path d=\"M17.41 7.96l-1.37-1.37c-.4-.4-.92-.59-1.43-.59-.52 0-1.04.2-1.43.59L10.3 9.45l-7.72 7.72c-.78.78-.78 2.05 0 2.83L4 21.41c.39.39.9.59 1.41.59.51 0 1.02-.2 1.41-.59l7.78-7.78 2.81-2.81c.8-.78.8-2.07 0-2.86zM5.41 20L4 18.59l7.72-7.72 1.47 1.35L5.41 20z\"/>\n",
              "  </svg>\n",
              "      </button>\n",
              "      \n",
              "  <style>\n",
              "    .colab-df-container {\n",
              "      display:flex;\n",
              "      flex-wrap:wrap;\n",
              "      gap: 12px;\n",
              "    }\n",
              "\n",
              "    .colab-df-convert {\n",
              "      background-color: #E8F0FE;\n",
              "      border: none;\n",
              "      border-radius: 50%;\n",
              "      cursor: pointer;\n",
              "      display: none;\n",
              "      fill: #1967D2;\n",
              "      height: 32px;\n",
              "      padding: 0 0 0 0;\n",
              "      width: 32px;\n",
              "    }\n",
              "\n",
              "    .colab-df-convert:hover {\n",
              "      background-color: #E2EBFA;\n",
              "      box-shadow: 0px 1px 2px rgba(60, 64, 67, 0.3), 0px 1px 3px 1px rgba(60, 64, 67, 0.15);\n",
              "      fill: #174EA6;\n",
              "    }\n",
              "\n",
              "    [theme=dark] .colab-df-convert {\n",
              "      background-color: #3B4455;\n",
              "      fill: #D2E3FC;\n",
              "    }\n",
              "\n",
              "    [theme=dark] .colab-df-convert:hover {\n",
              "      background-color: #434B5C;\n",
              "      box-shadow: 0px 1px 3px 1px rgba(0, 0, 0, 0.15);\n",
              "      filter: drop-shadow(0px 1px 2px rgba(0, 0, 0, 0.3));\n",
              "      fill: #FFFFFF;\n",
              "    }\n",
              "  </style>\n",
              "\n",
              "      <script>\n",
              "        const buttonEl =\n",
              "          document.querySelector('#df-edbdaca4-942a-40ae-b73f-57dc5f742380 button.colab-df-convert');\n",
              "        buttonEl.style.display =\n",
              "          google.colab.kernel.accessAllowed ? 'block' : 'none';\n",
              "\n",
              "        async function convertToInteractive(key) {\n",
              "          const element = document.querySelector('#df-edbdaca4-942a-40ae-b73f-57dc5f742380');\n",
              "          const dataTable =\n",
              "            await google.colab.kernel.invokeFunction('convertToInteractive',\n",
              "                                                     [key], {});\n",
              "          if (!dataTable) return;\n",
              "\n",
              "          const docLinkHtml = 'Like what you see? Visit the ' +\n",
              "            '<a target=\"_blank\" href=https://colab.research.google.com/notebooks/data_table.ipynb>data table notebook</a>'\n",
              "            + ' to learn more about interactive tables.';\n",
              "          element.innerHTML = '';\n",
              "          dataTable['output_type'] = 'display_data';\n",
              "          await google.colab.output.renderOutput(dataTable, element);\n",
              "          const docLink = document.createElement('div');\n",
              "          docLink.innerHTML = docLinkHtml;\n",
              "          element.appendChild(docLink);\n",
              "        }\n",
              "      </script>\n",
              "    </div>\n",
              "  </div>\n",
              "  "
            ]
          },
          "metadata": {},
          "execution_count": 147
        }
      ]
    },
    {
      "cell_type": "markdown",
      "source": [
        "# Previous ESM approach"
      ],
      "metadata": {
        "id": "r8mveemeSpk7"
      }
    },
    {
      "cell_type": "code",
      "execution_count": 3,
      "metadata": {
        "id": "l7YQRTTeROUD",
        "outputId": "e31c0a84-2e4d-4c91-c4f3-b78f7bfc3cb5",
        "colab": {
          "base_uri": "https://localhost:8080/",
          "height": 374
        }
      },
      "outputs": [
        {
          "output_type": "error",
          "ename": "ModuleNotFoundError",
          "evalue": "ignored",
          "traceback": [
            "\u001b[0;31m---------------------------------------------------------------------------\u001b[0m",
            "\u001b[0;31mModuleNotFoundError\u001b[0m                       Traceback (most recent call last)",
            "\u001b[0;32m<ipython-input-3-8d79b68805a0>\u001b[0m in \u001b[0;36m<module>\u001b[0;34m\u001b[0m\n\u001b[1;32m      1\u001b[0m \u001b[0;31m# export\u001b[0m\u001b[0;34m\u001b[0m\u001b[0;34m\u001b[0m\u001b[0;34m\u001b[0m\u001b[0m\n\u001b[1;32m      2\u001b[0m \u001b[0;32mimport\u001b[0m \u001b[0mtorch\u001b[0m\u001b[0;34m\u001b[0m\u001b[0;34m\u001b[0m\u001b[0m\n\u001b[0;32m----> 3\u001b[0;31m \u001b[0;32mimport\u001b[0m \u001b[0mesm\u001b[0m\u001b[0;34m\u001b[0m\u001b[0;34m\u001b[0m\u001b[0m\n\u001b[0m\u001b[1;32m      4\u001b[0m \u001b[0;32mimport\u001b[0m \u001b[0mpandas\u001b[0m \u001b[0;32mas\u001b[0m \u001b[0mpd\u001b[0m\u001b[0;34m\u001b[0m\u001b[0;34m\u001b[0m\u001b[0m\n",
            "\u001b[0;31mModuleNotFoundError\u001b[0m: No module named 'esm'",
            "",
            "\u001b[0;31m---------------------------------------------------------------------------\u001b[0;32m\nNOTE: If your import is failing due to a missing package, you can\nmanually install dependencies using either !pip or !apt.\n\nTo view examples of installing some common dependencies, click the\n\"Open Examples\" button below.\n\u001b[0;31m---------------------------------------------------------------------------\u001b[0m\n"
          ],
          "errorDetails": {
            "actions": [
              {
                "action": "open_url",
                "actionText": "Open Examples",
                "url": "/notebooks/snippets/importing_libraries.ipynb"
              }
            ]
          }
        }
      ],
      "source": [
        "# export\n",
        "import torch\n",
        "import esm\n",
        "import pandas as pd"
      ]
    },
    {
      "cell_type": "code",
      "execution_count": null,
      "metadata": {
        "id": "i-xaatnEROUE"
      },
      "outputs": [],
      "source": [
        "# export\n",
        "from berteome import berteomeDF"
      ]
    },
    {
      "cell_type": "code",
      "execution_count": null,
      "metadata": {
        "id": "itFRL-2aROUE"
      },
      "outputs": [],
      "source": [
        "# export\n",
        "model, alphabet = esm.pretrained.esm1b_t33_650M_UR50S()"
      ]
    },
    {
      "cell_type": "code",
      "execution_count": null,
      "metadata": {
        "id": "tCPuZeLjROUF"
      },
      "outputs": [],
      "source": [
        "# export\n",
        "batch_converter = alphabet.get_batch_converter()"
      ]
    },
    {
      "cell_type": "code",
      "execution_count": null,
      "metadata": {
        "id": "nO9ysnPuROUG"
      },
      "outputs": [],
      "source": [
        "# export\n",
        "def naturalAAIndex(aas):\n",
        "    \n",
        "    model_alphabet=alphabet.all_toks\n",
        "    naturalAAIndices = []\n",
        "    for aa in aas:\n",
        "      naturalAAIndices.append(model_alphabet.index(aa))\n",
        "    return naturalAAIndices"
      ]
    },
    {
      "cell_type": "code",
      "execution_count": null,
      "metadata": {
        "id": "nzD4XQA7ROUH"
      },
      "outputs": [],
      "source": [
        "assert naturalAAIndex(\"ACDEFGHIKLMNPQRSTVWY\") == [5, 23, 13, 9, 18, 6, 21, 12, 15, 4, 20, 17, 14, 16, 10, 8, 11, 7, 22, 19]"
      ]
    },
    {
      "cell_type": "code",
      "execution_count": null,
      "metadata": {
        "id": "pn0wvK0aROUI"
      },
      "outputs": [],
      "source": [
        "# export\n",
        "def maskifySeq(seq, i):\n",
        "    seqList = list(seq)\n",
        "    seqList[i] = \"<mask>\"\n",
        "    return seqList"
      ]
    },
    {
      "cell_type": "code",
      "execution_count": null,
      "metadata": {
        "id": "GEZnmpmaROUI"
      },
      "outputs": [],
      "source": [
        "# export\n",
        "def getNatProbs(natAAList,probList):\n",
        "    natProbList = []\n",
        "    for natAAIndex in natAAList:\n",
        "      natProbList.append(probList[natAAIndex])\n",
        "    return natProbList"
      ]
    },
    {
      "cell_type": "code",
      "execution_count": null,
      "metadata": {
        "id": "_zJpH8qqROUJ"
      },
      "outputs": [],
      "source": [
        "# export\n",
        "def esmPredictionDF(seq, aas=\"ACDEFGHIKLMNPQRSTVWY\"): # this should probably be a class where model/alphabet are declared??\n",
        "    naturalAAIndices=naturalAAIndex(aas)\n",
        "    esmPredDict = {}\n",
        "    for wtIndex in range(len(seq)):\n",
        "      maskSeq = maskifySeq(seq, wtIndex) # import from other module, ie seqtools.maskifySeq(), or not, maybe both classes should just be in the same module...\n",
        "      data = [(\"protein1\", maskSeq)]\n",
        "      batch_labels, batch_strs, batch_tokens = batch_converter(data)\n",
        "      with torch.no_grad():\n",
        "        results = model(batch_tokens)\n",
        "        logits = results['logits']\n",
        "        prob = torch.softmax(logits,dim=2)\n",
        "      esmPredDict[wtIndex] = [i.item() for i in getNatProbs(naturalAAIndices, prob[0, wtIndex +1])]\n",
        "    esmPredDF = berteomeDF.modelPredDF(esmPredDict,seq, aas).predDf\n",
        "    \n",
        "    return esmPredDF"
      ]
    },
    {
      "cell_type": "code",
      "execution_count": null,
      "metadata": {
        "id": "Uav01UB5ROUK",
        "outputId": "a2e7980d-6f1e-4533-dbcb-d67277309397"
      },
      "outputs": [
        {
          "data": {
            "text/html": [
              "<div>\n",
              "<style scoped>\n",
              "    .dataframe tbody tr th:only-of-type {\n",
              "        vertical-align: middle;\n",
              "    }\n",
              "\n",
              "    .dataframe tbody tr th {\n",
              "        vertical-align: top;\n",
              "    }\n",
              "\n",
              "    .dataframe thead th {\n",
              "        text-align: right;\n",
              "    }\n",
              "</style>\n",
              "<table border=\"1\" class=\"dataframe\">\n",
              "  <thead>\n",
              "    <tr style=\"text-align: right;\">\n",
              "      <th></th>\n",
              "      <th>wt</th>\n",
              "      <th>wtIndex</th>\n",
              "      <th>A</th>\n",
              "      <th>C</th>\n",
              "      <th>D</th>\n",
              "      <th>E</th>\n",
              "      <th>F</th>\n",
              "      <th>G</th>\n",
              "      <th>H</th>\n",
              "      <th>I</th>\n",
              "      <th>...</th>\n",
              "      <th>M</th>\n",
              "      <th>N</th>\n",
              "      <th>P</th>\n",
              "      <th>Q</th>\n",
              "      <th>R</th>\n",
              "      <th>S</th>\n",
              "      <th>T</th>\n",
              "      <th>V</th>\n",
              "      <th>W</th>\n",
              "      <th>Y</th>\n",
              "    </tr>\n",
              "  </thead>\n",
              "  <tbody>\n",
              "    <tr>\n",
              "      <th>0</th>\n",
              "      <td>M</td>\n",
              "      <td>1</td>\n",
              "      <td>0.033952</td>\n",
              "      <td>0.007039</td>\n",
              "      <td>0.054737</td>\n",
              "      <td>0.063365</td>\n",
              "      <td>0.018590</td>\n",
              "      <td>0.029267</td>\n",
              "      <td>0.010216</td>\n",
              "      <td>0.028865</td>\n",
              "      <td>...</td>\n",
              "      <td>0.456082</td>\n",
              "      <td>0.029166</td>\n",
              "      <td>0.023344</td>\n",
              "      <td>0.019043</td>\n",
              "      <td>0.023603</td>\n",
              "      <td>0.030170</td>\n",
              "      <td>0.023352</td>\n",
              "      <td>0.033982</td>\n",
              "      <td>0.004791</td>\n",
              "      <td>0.013076</td>\n",
              "    </tr>\n",
              "    <tr>\n",
              "      <th>1</th>\n",
              "      <td>E</td>\n",
              "      <td>2</td>\n",
              "      <td>0.058999</td>\n",
              "      <td>0.021031</td>\n",
              "      <td>0.054622</td>\n",
              "      <td>0.072057</td>\n",
              "      <td>0.037186</td>\n",
              "      <td>0.053090</td>\n",
              "      <td>0.025848</td>\n",
              "      <td>0.065879</td>\n",
              "      <td>...</td>\n",
              "      <td>0.024329</td>\n",
              "      <td>0.059710</td>\n",
              "      <td>0.035728</td>\n",
              "      <td>0.040369</td>\n",
              "      <td>0.052300</td>\n",
              "      <td>0.073618</td>\n",
              "      <td>0.057319</td>\n",
              "      <td>0.062975</td>\n",
              "      <td>0.014029</td>\n",
              "      <td>0.030339</td>\n",
              "    </tr>\n",
              "    <tr>\n",
              "      <th>2</th>\n",
              "      <td>N</td>\n",
              "      <td>3</td>\n",
              "      <td>0.055626</td>\n",
              "      <td>0.014060</td>\n",
              "      <td>0.077887</td>\n",
              "      <td>0.122153</td>\n",
              "      <td>0.034727</td>\n",
              "      <td>0.058822</td>\n",
              "      <td>0.019171</td>\n",
              "      <td>0.061401</td>\n",
              "      <td>...</td>\n",
              "      <td>0.031318</td>\n",
              "      <td>0.044172</td>\n",
              "      <td>0.029668</td>\n",
              "      <td>0.034335</td>\n",
              "      <td>0.052372</td>\n",
              "      <td>0.057394</td>\n",
              "      <td>0.047432</td>\n",
              "      <td>0.069432</td>\n",
              "      <td>0.013282</td>\n",
              "      <td>0.025859</td>\n",
              "    </tr>\n",
              "    <tr>\n",
              "      <th>3</th>\n",
              "      <td>D</td>\n",
              "      <td>4</td>\n",
              "      <td>0.044610</td>\n",
              "      <td>0.017627</td>\n",
              "      <td>0.036298</td>\n",
              "      <td>0.071025</td>\n",
              "      <td>0.031629</td>\n",
              "      <td>0.049782</td>\n",
              "      <td>0.023518</td>\n",
              "      <td>0.061833</td>\n",
              "      <td>...</td>\n",
              "      <td>0.058515</td>\n",
              "      <td>0.043762</td>\n",
              "      <td>0.037227</td>\n",
              "      <td>0.054164</td>\n",
              "      <td>0.055120</td>\n",
              "      <td>0.060091</td>\n",
              "      <td>0.052912</td>\n",
              "      <td>0.070125</td>\n",
              "      <td>0.017567</td>\n",
              "      <td>0.027211</td>\n",
              "    </tr>\n",
              "    <tr>\n",
              "      <th>4</th>\n",
              "      <td>E</td>\n",
              "      <td>5</td>\n",
              "      <td>0.045966</td>\n",
              "      <td>0.027927</td>\n",
              "      <td>0.047431</td>\n",
              "      <td>0.057574</td>\n",
              "      <td>0.052450</td>\n",
              "      <td>0.054545</td>\n",
              "      <td>0.030670</td>\n",
              "      <td>0.071293</td>\n",
              "      <td>...</td>\n",
              "      <td>0.025417</td>\n",
              "      <td>0.051106</td>\n",
              "      <td>0.033450</td>\n",
              "      <td>0.038940</td>\n",
              "      <td>0.055194</td>\n",
              "      <td>0.076423</td>\n",
              "      <td>0.050060</td>\n",
              "      <td>0.063550</td>\n",
              "      <td>0.017663</td>\n",
              "      <td>0.038091</td>\n",
              "    </tr>\n",
              "    <tr>\n",
              "      <th>5</th>\n",
              "      <td>L</td>\n",
              "      <td>6</td>\n",
              "      <td>0.048226</td>\n",
              "      <td>0.016231</td>\n",
              "      <td>0.060284</td>\n",
              "      <td>0.100391</td>\n",
              "      <td>0.031534</td>\n",
              "      <td>0.052584</td>\n",
              "      <td>0.023015</td>\n",
              "      <td>0.065281</td>\n",
              "      <td>...</td>\n",
              "      <td>0.029354</td>\n",
              "      <td>0.063840</td>\n",
              "      <td>0.025546</td>\n",
              "      <td>0.039313</td>\n",
              "      <td>0.062937</td>\n",
              "      <td>0.064147</td>\n",
              "      <td>0.053790</td>\n",
              "      <td>0.060177</td>\n",
              "      <td>0.013714</td>\n",
              "      <td>0.028147</td>\n",
              "    </tr>\n",
              "  </tbody>\n",
              "</table>\n",
              "<p>6 rows × 22 columns</p>\n",
              "</div>"
            ],
            "text/plain": [
              "  wt  wtIndex         A         C         D         E         F         G  \\\n",
              "0  M        1  0.033952  0.007039  0.054737  0.063365  0.018590  0.029267   \n",
              "1  E        2  0.058999  0.021031  0.054622  0.072057  0.037186  0.053090   \n",
              "2  N        3  0.055626  0.014060  0.077887  0.122153  0.034727  0.058822   \n",
              "3  D        4  0.044610  0.017627  0.036298  0.071025  0.031629  0.049782   \n",
              "4  E        5  0.045966  0.027927  0.047431  0.057574  0.052450  0.054545   \n",
              "5  L        6  0.048226  0.016231  0.060284  0.100391  0.031534  0.052584   \n",
              "\n",
              "          H         I  ...         M         N         P         Q         R  \\\n",
              "0  0.010216  0.028865  ...  0.456082  0.029166  0.023344  0.019043  0.023603   \n",
              "1  0.025848  0.065879  ...  0.024329  0.059710  0.035728  0.040369  0.052300   \n",
              "2  0.019171  0.061401  ...  0.031318  0.044172  0.029668  0.034335  0.052372   \n",
              "3  0.023518  0.061833  ...  0.058515  0.043762  0.037227  0.054164  0.055120   \n",
              "4  0.030670  0.071293  ...  0.025417  0.051106  0.033450  0.038940  0.055194   \n",
              "5  0.023015  0.065281  ...  0.029354  0.063840  0.025546  0.039313  0.062937   \n",
              "\n",
              "          S         T         V         W         Y  \n",
              "0  0.030170  0.023352  0.033982  0.004791  0.013076  \n",
              "1  0.073618  0.057319  0.062975  0.014029  0.030339  \n",
              "2  0.057394  0.047432  0.069432  0.013282  0.025859  \n",
              "3  0.060091  0.052912  0.070125  0.017567  0.027211  \n",
              "4  0.076423  0.050060  0.063550  0.017663  0.038091  \n",
              "5  0.064147  0.053790  0.060177  0.013714  0.028147  \n",
              "\n",
              "[6 rows x 22 columns]"
            ]
          },
          "execution_count": null,
          "metadata": {},
          "output_type": "execute_result"
        }
      ],
      "source": [
        "esmPredictionDF(\"MENDEL\")"
      ]
    }
  ],
  "metadata": {
    "kernelspec": {
      "display_name": "Python 3.7.10 64-bit ('berteome': conda)",
      "name": "berteome"
    },
    "colab": {
      "provenance": []
    },
    "gpuClass": "standard",
    "widgets": {
      "application/vnd.jupyter.widget-state+json": {
        "2524c9d189e34d5cbeadb721614646d5": {
          "model_module": "@jupyter-widgets/controls",
          "model_name": "HBoxModel",
          "model_module_version": "1.5.0",
          "state": {
            "_dom_classes": [],
            "_model_module": "@jupyter-widgets/controls",
            "_model_module_version": "1.5.0",
            "_model_name": "HBoxModel",
            "_view_count": null,
            "_view_module": "@jupyter-widgets/controls",
            "_view_module_version": "1.5.0",
            "_view_name": "HBoxView",
            "box_style": "",
            "children": [
              "IPY_MODEL_c84ca620a93f421589f0a78a93672840",
              "IPY_MODEL_774cc5d279654d10aecb4a9d84e58fc4",
              "IPY_MODEL_c70b42e9b2aa49ff8c7b9f715fa6edd1"
            ],
            "layout": "IPY_MODEL_567f26d94ddb453ebd39226304a1b1d0"
          }
        },
        "c84ca620a93f421589f0a78a93672840": {
          "model_module": "@jupyter-widgets/controls",
          "model_name": "HTMLModel",
          "model_module_version": "1.5.0",
          "state": {
            "_dom_classes": [],
            "_model_module": "@jupyter-widgets/controls",
            "_model_module_version": "1.5.0",
            "_model_name": "HTMLModel",
            "_view_count": null,
            "_view_module": "@jupyter-widgets/controls",
            "_view_module_version": "1.5.0",
            "_view_name": "HTMLView",
            "description": "",
            "description_tooltip": null,
            "layout": "IPY_MODEL_bb190440d3254867b238b77de0f297e5",
            "placeholder": "​",
            "style": "IPY_MODEL_454e306e90bb4cac80525f86940f53e5",
            "value": "Downloading: 100%"
          }
        },
        "774cc5d279654d10aecb4a9d84e58fc4": {
          "model_module": "@jupyter-widgets/controls",
          "model_name": "FloatProgressModel",
          "model_module_version": "1.5.0",
          "state": {
            "_dom_classes": [],
            "_model_module": "@jupyter-widgets/controls",
            "_model_module_version": "1.5.0",
            "_model_name": "FloatProgressModel",
            "_view_count": null,
            "_view_module": "@jupyter-widgets/controls",
            "_view_module_version": "1.5.0",
            "_view_name": "ProgressView",
            "bar_style": "success",
            "description": "",
            "description_tooltip": null,
            "layout": "IPY_MODEL_b6114c0cdc7b481a8d33e905faeadc04",
            "max": 93,
            "min": 0,
            "orientation": "horizontal",
            "style": "IPY_MODEL_c1c1bd880ff342b284a387439669e7cd",
            "value": 93
          }
        },
        "c70b42e9b2aa49ff8c7b9f715fa6edd1": {
          "model_module": "@jupyter-widgets/controls",
          "model_name": "HTMLModel",
          "model_module_version": "1.5.0",
          "state": {
            "_dom_classes": [],
            "_model_module": "@jupyter-widgets/controls",
            "_model_module_version": "1.5.0",
            "_model_name": "HTMLModel",
            "_view_count": null,
            "_view_module": "@jupyter-widgets/controls",
            "_view_module_version": "1.5.0",
            "_view_name": "HTMLView",
            "description": "",
            "description_tooltip": null,
            "layout": "IPY_MODEL_fca8e9074ebb43a6bc7a38ec19f6a468",
            "placeholder": "​",
            "style": "IPY_MODEL_a9fe2bcf37624398bdae4caf4d6d7a05",
            "value": " 93.0/93.0 [00:00&lt;00:00, 4.77kB/s]"
          }
        },
        "567f26d94ddb453ebd39226304a1b1d0": {
          "model_module": "@jupyter-widgets/base",
          "model_name": "LayoutModel",
          "model_module_version": "1.2.0",
          "state": {
            "_model_module": "@jupyter-widgets/base",
            "_model_module_version": "1.2.0",
            "_model_name": "LayoutModel",
            "_view_count": null,
            "_view_module": "@jupyter-widgets/base",
            "_view_module_version": "1.2.0",
            "_view_name": "LayoutView",
            "align_content": null,
            "align_items": null,
            "align_self": null,
            "border": null,
            "bottom": null,
            "display": null,
            "flex": null,
            "flex_flow": null,
            "grid_area": null,
            "grid_auto_columns": null,
            "grid_auto_flow": null,
            "grid_auto_rows": null,
            "grid_column": null,
            "grid_gap": null,
            "grid_row": null,
            "grid_template_areas": null,
            "grid_template_columns": null,
            "grid_template_rows": null,
            "height": null,
            "justify_content": null,
            "justify_items": null,
            "left": null,
            "margin": null,
            "max_height": null,
            "max_width": null,
            "min_height": null,
            "min_width": null,
            "object_fit": null,
            "object_position": null,
            "order": null,
            "overflow": null,
            "overflow_x": null,
            "overflow_y": null,
            "padding": null,
            "right": null,
            "top": null,
            "visibility": null,
            "width": null
          }
        },
        "bb190440d3254867b238b77de0f297e5": {
          "model_module": "@jupyter-widgets/base",
          "model_name": "LayoutModel",
          "model_module_version": "1.2.0",
          "state": {
            "_model_module": "@jupyter-widgets/base",
            "_model_module_version": "1.2.0",
            "_model_name": "LayoutModel",
            "_view_count": null,
            "_view_module": "@jupyter-widgets/base",
            "_view_module_version": "1.2.0",
            "_view_name": "LayoutView",
            "align_content": null,
            "align_items": null,
            "align_self": null,
            "border": null,
            "bottom": null,
            "display": null,
            "flex": null,
            "flex_flow": null,
            "grid_area": null,
            "grid_auto_columns": null,
            "grid_auto_flow": null,
            "grid_auto_rows": null,
            "grid_column": null,
            "grid_gap": null,
            "grid_row": null,
            "grid_template_areas": null,
            "grid_template_columns": null,
            "grid_template_rows": null,
            "height": null,
            "justify_content": null,
            "justify_items": null,
            "left": null,
            "margin": null,
            "max_height": null,
            "max_width": null,
            "min_height": null,
            "min_width": null,
            "object_fit": null,
            "object_position": null,
            "order": null,
            "overflow": null,
            "overflow_x": null,
            "overflow_y": null,
            "padding": null,
            "right": null,
            "top": null,
            "visibility": null,
            "width": null
          }
        },
        "454e306e90bb4cac80525f86940f53e5": {
          "model_module": "@jupyter-widgets/controls",
          "model_name": "DescriptionStyleModel",
          "model_module_version": "1.5.0",
          "state": {
            "_model_module": "@jupyter-widgets/controls",
            "_model_module_version": "1.5.0",
            "_model_name": "DescriptionStyleModel",
            "_view_count": null,
            "_view_module": "@jupyter-widgets/base",
            "_view_module_version": "1.2.0",
            "_view_name": "StyleView",
            "description_width": ""
          }
        },
        "b6114c0cdc7b481a8d33e905faeadc04": {
          "model_module": "@jupyter-widgets/base",
          "model_name": "LayoutModel",
          "model_module_version": "1.2.0",
          "state": {
            "_model_module": "@jupyter-widgets/base",
            "_model_module_version": "1.2.0",
            "_model_name": "LayoutModel",
            "_view_count": null,
            "_view_module": "@jupyter-widgets/base",
            "_view_module_version": "1.2.0",
            "_view_name": "LayoutView",
            "align_content": null,
            "align_items": null,
            "align_self": null,
            "border": null,
            "bottom": null,
            "display": null,
            "flex": null,
            "flex_flow": null,
            "grid_area": null,
            "grid_auto_columns": null,
            "grid_auto_flow": null,
            "grid_auto_rows": null,
            "grid_column": null,
            "grid_gap": null,
            "grid_row": null,
            "grid_template_areas": null,
            "grid_template_columns": null,
            "grid_template_rows": null,
            "height": null,
            "justify_content": null,
            "justify_items": null,
            "left": null,
            "margin": null,
            "max_height": null,
            "max_width": null,
            "min_height": null,
            "min_width": null,
            "object_fit": null,
            "object_position": null,
            "order": null,
            "overflow": null,
            "overflow_x": null,
            "overflow_y": null,
            "padding": null,
            "right": null,
            "top": null,
            "visibility": null,
            "width": null
          }
        },
        "c1c1bd880ff342b284a387439669e7cd": {
          "model_module": "@jupyter-widgets/controls",
          "model_name": "ProgressStyleModel",
          "model_module_version": "1.5.0",
          "state": {
            "_model_module": "@jupyter-widgets/controls",
            "_model_module_version": "1.5.0",
            "_model_name": "ProgressStyleModel",
            "_view_count": null,
            "_view_module": "@jupyter-widgets/base",
            "_view_module_version": "1.2.0",
            "_view_name": "StyleView",
            "bar_color": null,
            "description_width": ""
          }
        },
        "fca8e9074ebb43a6bc7a38ec19f6a468": {
          "model_module": "@jupyter-widgets/base",
          "model_name": "LayoutModel",
          "model_module_version": "1.2.0",
          "state": {
            "_model_module": "@jupyter-widgets/base",
            "_model_module_version": "1.2.0",
            "_model_name": "LayoutModel",
            "_view_count": null,
            "_view_module": "@jupyter-widgets/base",
            "_view_module_version": "1.2.0",
            "_view_name": "LayoutView",
            "align_content": null,
            "align_items": null,
            "align_self": null,
            "border": null,
            "bottom": null,
            "display": null,
            "flex": null,
            "flex_flow": null,
            "grid_area": null,
            "grid_auto_columns": null,
            "grid_auto_flow": null,
            "grid_auto_rows": null,
            "grid_column": null,
            "grid_gap": null,
            "grid_row": null,
            "grid_template_areas": null,
            "grid_template_columns": null,
            "grid_template_rows": null,
            "height": null,
            "justify_content": null,
            "justify_items": null,
            "left": null,
            "margin": null,
            "max_height": null,
            "max_width": null,
            "min_height": null,
            "min_width": null,
            "object_fit": null,
            "object_position": null,
            "order": null,
            "overflow": null,
            "overflow_x": null,
            "overflow_y": null,
            "padding": null,
            "right": null,
            "top": null,
            "visibility": null,
            "width": null
          }
        },
        "a9fe2bcf37624398bdae4caf4d6d7a05": {
          "model_module": "@jupyter-widgets/controls",
          "model_name": "DescriptionStyleModel",
          "model_module_version": "1.5.0",
          "state": {
            "_model_module": "@jupyter-widgets/controls",
            "_model_module_version": "1.5.0",
            "_model_name": "DescriptionStyleModel",
            "_view_count": null,
            "_view_module": "@jupyter-widgets/base",
            "_view_module_version": "1.2.0",
            "_view_name": "StyleView",
            "description_width": ""
          }
        },
        "5a4ab25d7712496ca78bef2930ac31d4": {
          "model_module": "@jupyter-widgets/controls",
          "model_name": "HBoxModel",
          "model_module_version": "1.5.0",
          "state": {
            "_dom_classes": [],
            "_model_module": "@jupyter-widgets/controls",
            "_model_module_version": "1.5.0",
            "_model_name": "HBoxModel",
            "_view_count": null,
            "_view_module": "@jupyter-widgets/controls",
            "_view_module_version": "1.5.0",
            "_view_name": "HBoxView",
            "box_style": "",
            "children": [
              "IPY_MODEL_b820477c99834ae6af2622cd19b39091",
              "IPY_MODEL_d79ef6c749f6472780f1af7b0cf05034",
              "IPY_MODEL_51e729e147434489b2bb85a438c93c4a"
            ],
            "layout": "IPY_MODEL_56559f6c1585496bace09c398f234d30"
          }
        },
        "b820477c99834ae6af2622cd19b39091": {
          "model_module": "@jupyter-widgets/controls",
          "model_name": "HTMLModel",
          "model_module_version": "1.5.0",
          "state": {
            "_dom_classes": [],
            "_model_module": "@jupyter-widgets/controls",
            "_model_module_version": "1.5.0",
            "_model_name": "HTMLModel",
            "_view_count": null,
            "_view_module": "@jupyter-widgets/controls",
            "_view_module_version": "1.5.0",
            "_view_name": "HTMLView",
            "description": "",
            "description_tooltip": null,
            "layout": "IPY_MODEL_7f927b0d114943e1a5d0a53ecee3903e",
            "placeholder": "​",
            "style": "IPY_MODEL_16f262f7639c4b779af6adde6bf6830d",
            "value": "Downloading: 100%"
          }
        },
        "d79ef6c749f6472780f1af7b0cf05034": {
          "model_module": "@jupyter-widgets/controls",
          "model_name": "FloatProgressModel",
          "model_module_version": "1.5.0",
          "state": {
            "_dom_classes": [],
            "_model_module": "@jupyter-widgets/controls",
            "_model_module_version": "1.5.0",
            "_model_name": "FloatProgressModel",
            "_view_count": null,
            "_view_module": "@jupyter-widgets/controls",
            "_view_module_version": "1.5.0",
            "_view_name": "ProgressView",
            "bar_style": "success",
            "description": "",
            "description_tooltip": null,
            "layout": "IPY_MODEL_05b8a78b76be410895f789316300a1f2",
            "max": 125,
            "min": 0,
            "orientation": "horizontal",
            "style": "IPY_MODEL_fcd2ac1e6042400e953221e13c9ce422",
            "value": 125
          }
        },
        "51e729e147434489b2bb85a438c93c4a": {
          "model_module": "@jupyter-widgets/controls",
          "model_name": "HTMLModel",
          "model_module_version": "1.5.0",
          "state": {
            "_dom_classes": [],
            "_model_module": "@jupyter-widgets/controls",
            "_model_module_version": "1.5.0",
            "_model_name": "HTMLModel",
            "_view_count": null,
            "_view_module": "@jupyter-widgets/controls",
            "_view_module_version": "1.5.0",
            "_view_name": "HTMLView",
            "description": "",
            "description_tooltip": null,
            "layout": "IPY_MODEL_5659e4bcbe4d46b4b3789e5178ae51dd",
            "placeholder": "​",
            "style": "IPY_MODEL_8592c7b535354b54bacca49b6300e3fa",
            "value": " 125/125 [00:00&lt;00:00, 6.52kB/s]"
          }
        },
        "56559f6c1585496bace09c398f234d30": {
          "model_module": "@jupyter-widgets/base",
          "model_name": "LayoutModel",
          "model_module_version": "1.2.0",
          "state": {
            "_model_module": "@jupyter-widgets/base",
            "_model_module_version": "1.2.0",
            "_model_name": "LayoutModel",
            "_view_count": null,
            "_view_module": "@jupyter-widgets/base",
            "_view_module_version": "1.2.0",
            "_view_name": "LayoutView",
            "align_content": null,
            "align_items": null,
            "align_self": null,
            "border": null,
            "bottom": null,
            "display": null,
            "flex": null,
            "flex_flow": null,
            "grid_area": null,
            "grid_auto_columns": null,
            "grid_auto_flow": null,
            "grid_auto_rows": null,
            "grid_column": null,
            "grid_gap": null,
            "grid_row": null,
            "grid_template_areas": null,
            "grid_template_columns": null,
            "grid_template_rows": null,
            "height": null,
            "justify_content": null,
            "justify_items": null,
            "left": null,
            "margin": null,
            "max_height": null,
            "max_width": null,
            "min_height": null,
            "min_width": null,
            "object_fit": null,
            "object_position": null,
            "order": null,
            "overflow": null,
            "overflow_x": null,
            "overflow_y": null,
            "padding": null,
            "right": null,
            "top": null,
            "visibility": null,
            "width": null
          }
        },
        "7f927b0d114943e1a5d0a53ecee3903e": {
          "model_module": "@jupyter-widgets/base",
          "model_name": "LayoutModel",
          "model_module_version": "1.2.0",
          "state": {
            "_model_module": "@jupyter-widgets/base",
            "_model_module_version": "1.2.0",
            "_model_name": "LayoutModel",
            "_view_count": null,
            "_view_module": "@jupyter-widgets/base",
            "_view_module_version": "1.2.0",
            "_view_name": "LayoutView",
            "align_content": null,
            "align_items": null,
            "align_self": null,
            "border": null,
            "bottom": null,
            "display": null,
            "flex": null,
            "flex_flow": null,
            "grid_area": null,
            "grid_auto_columns": null,
            "grid_auto_flow": null,
            "grid_auto_rows": null,
            "grid_column": null,
            "grid_gap": null,
            "grid_row": null,
            "grid_template_areas": null,
            "grid_template_columns": null,
            "grid_template_rows": null,
            "height": null,
            "justify_content": null,
            "justify_items": null,
            "left": null,
            "margin": null,
            "max_height": null,
            "max_width": null,
            "min_height": null,
            "min_width": null,
            "object_fit": null,
            "object_position": null,
            "order": null,
            "overflow": null,
            "overflow_x": null,
            "overflow_y": null,
            "padding": null,
            "right": null,
            "top": null,
            "visibility": null,
            "width": null
          }
        },
        "16f262f7639c4b779af6adde6bf6830d": {
          "model_module": "@jupyter-widgets/controls",
          "model_name": "DescriptionStyleModel",
          "model_module_version": "1.5.0",
          "state": {
            "_model_module": "@jupyter-widgets/controls",
            "_model_module_version": "1.5.0",
            "_model_name": "DescriptionStyleModel",
            "_view_count": null,
            "_view_module": "@jupyter-widgets/base",
            "_view_module_version": "1.2.0",
            "_view_name": "StyleView",
            "description_width": ""
          }
        },
        "05b8a78b76be410895f789316300a1f2": {
          "model_module": "@jupyter-widgets/base",
          "model_name": "LayoutModel",
          "model_module_version": "1.2.0",
          "state": {
            "_model_module": "@jupyter-widgets/base",
            "_model_module_version": "1.2.0",
            "_model_name": "LayoutModel",
            "_view_count": null,
            "_view_module": "@jupyter-widgets/base",
            "_view_module_version": "1.2.0",
            "_view_name": "LayoutView",
            "align_content": null,
            "align_items": null,
            "align_self": null,
            "border": null,
            "bottom": null,
            "display": null,
            "flex": null,
            "flex_flow": null,
            "grid_area": null,
            "grid_auto_columns": null,
            "grid_auto_flow": null,
            "grid_auto_rows": null,
            "grid_column": null,
            "grid_gap": null,
            "grid_row": null,
            "grid_template_areas": null,
            "grid_template_columns": null,
            "grid_template_rows": null,
            "height": null,
            "justify_content": null,
            "justify_items": null,
            "left": null,
            "margin": null,
            "max_height": null,
            "max_width": null,
            "min_height": null,
            "min_width": null,
            "object_fit": null,
            "object_position": null,
            "order": null,
            "overflow": null,
            "overflow_x": null,
            "overflow_y": null,
            "padding": null,
            "right": null,
            "top": null,
            "visibility": null,
            "width": null
          }
        },
        "fcd2ac1e6042400e953221e13c9ce422": {
          "model_module": "@jupyter-widgets/controls",
          "model_name": "ProgressStyleModel",
          "model_module_version": "1.5.0",
          "state": {
            "_model_module": "@jupyter-widgets/controls",
            "_model_module_version": "1.5.0",
            "_model_name": "ProgressStyleModel",
            "_view_count": null,
            "_view_module": "@jupyter-widgets/base",
            "_view_module_version": "1.2.0",
            "_view_name": "StyleView",
            "bar_color": null,
            "description_width": ""
          }
        },
        "5659e4bcbe4d46b4b3789e5178ae51dd": {
          "model_module": "@jupyter-widgets/base",
          "model_name": "LayoutModel",
          "model_module_version": "1.2.0",
          "state": {
            "_model_module": "@jupyter-widgets/base",
            "_model_module_version": "1.2.0",
            "_model_name": "LayoutModel",
            "_view_count": null,
            "_view_module": "@jupyter-widgets/base",
            "_view_module_version": "1.2.0",
            "_view_name": "LayoutView",
            "align_content": null,
            "align_items": null,
            "align_self": null,
            "border": null,
            "bottom": null,
            "display": null,
            "flex": null,
            "flex_flow": null,
            "grid_area": null,
            "grid_auto_columns": null,
            "grid_auto_flow": null,
            "grid_auto_rows": null,
            "grid_column": null,
            "grid_gap": null,
            "grid_row": null,
            "grid_template_areas": null,
            "grid_template_columns": null,
            "grid_template_rows": null,
            "height": null,
            "justify_content": null,
            "justify_items": null,
            "left": null,
            "margin": null,
            "max_height": null,
            "max_width": null,
            "min_height": null,
            "min_width": null,
            "object_fit": null,
            "object_position": null,
            "order": null,
            "overflow": null,
            "overflow_x": null,
            "overflow_y": null,
            "padding": null,
            "right": null,
            "top": null,
            "visibility": null,
            "width": null
          }
        },
        "8592c7b535354b54bacca49b6300e3fa": {
          "model_module": "@jupyter-widgets/controls",
          "model_name": "DescriptionStyleModel",
          "model_module_version": "1.5.0",
          "state": {
            "_model_module": "@jupyter-widgets/controls",
            "_model_module_version": "1.5.0",
            "_model_name": "DescriptionStyleModel",
            "_view_count": null,
            "_view_module": "@jupyter-widgets/base",
            "_view_module_version": "1.2.0",
            "_view_name": "StyleView",
            "description_width": ""
          }
        },
        "bbcf0f11727a4c09acac2230c7abe8b4": {
          "model_module": "@jupyter-widgets/controls",
          "model_name": "HBoxModel",
          "model_module_version": "1.5.0",
          "state": {
            "_dom_classes": [],
            "_model_module": "@jupyter-widgets/controls",
            "_model_module_version": "1.5.0",
            "_model_name": "HBoxModel",
            "_view_count": null,
            "_view_module": "@jupyter-widgets/controls",
            "_view_module_version": "1.5.0",
            "_view_name": "HBoxView",
            "box_style": "",
            "children": [
              "IPY_MODEL_be2fb90df62b465a824e3cd9015426ec",
              "IPY_MODEL_a605e5e539454055bef07342086e4ac3",
              "IPY_MODEL_6885bb5b04ad4304a743a12420c666db"
            ],
            "layout": "IPY_MODEL_9b9fcc0818df4d68a3a79a8e407bc8dc"
          }
        },
        "be2fb90df62b465a824e3cd9015426ec": {
          "model_module": "@jupyter-widgets/controls",
          "model_name": "HTMLModel",
          "model_module_version": "1.5.0",
          "state": {
            "_dom_classes": [],
            "_model_module": "@jupyter-widgets/controls",
            "_model_module_version": "1.5.0",
            "_model_name": "HTMLModel",
            "_view_count": null,
            "_view_module": "@jupyter-widgets/controls",
            "_view_module_version": "1.5.0",
            "_view_name": "HTMLView",
            "description": "",
            "description_tooltip": null,
            "layout": "IPY_MODEL_eb4d85e9aecb4c3ca4ca8f2212cddad8",
            "placeholder": "​",
            "style": "IPY_MODEL_df0e1d3076564684836c6cbb1127ead2",
            "value": "Downloading: 100%"
          }
        },
        "a605e5e539454055bef07342086e4ac3": {
          "model_module": "@jupyter-widgets/controls",
          "model_name": "FloatProgressModel",
          "model_module_version": "1.5.0",
          "state": {
            "_dom_classes": [],
            "_model_module": "@jupyter-widgets/controls",
            "_model_module_version": "1.5.0",
            "_model_name": "FloatProgressModel",
            "_view_count": null,
            "_view_module": "@jupyter-widgets/controls",
            "_view_module_version": "1.5.0",
            "_view_name": "ProgressView",
            "bar_style": "success",
            "description": "",
            "description_tooltip": null,
            "layout": "IPY_MODEL_60dc2621b5de4ef9a625c9cce9fecc2b",
            "max": 95,
            "min": 0,
            "orientation": "horizontal",
            "style": "IPY_MODEL_4c914238d1174614ad728cffa31d58c1",
            "value": 95
          }
        },
        "6885bb5b04ad4304a743a12420c666db": {
          "model_module": "@jupyter-widgets/controls",
          "model_name": "HTMLModel",
          "model_module_version": "1.5.0",
          "state": {
            "_dom_classes": [],
            "_model_module": "@jupyter-widgets/controls",
            "_model_module_version": "1.5.0",
            "_model_name": "HTMLModel",
            "_view_count": null,
            "_view_module": "@jupyter-widgets/controls",
            "_view_module_version": "1.5.0",
            "_view_name": "HTMLView",
            "description": "",
            "description_tooltip": null,
            "layout": "IPY_MODEL_8e693dd5a70348c69ccd26f087bc781f",
            "placeholder": "​",
            "style": "IPY_MODEL_3bd87cdea4ec4ed382969f9654b0b96c",
            "value": " 95.0/95.0 [00:00&lt;00:00, 4.18kB/s]"
          }
        },
        "9b9fcc0818df4d68a3a79a8e407bc8dc": {
          "model_module": "@jupyter-widgets/base",
          "model_name": "LayoutModel",
          "model_module_version": "1.2.0",
          "state": {
            "_model_module": "@jupyter-widgets/base",
            "_model_module_version": "1.2.0",
            "_model_name": "LayoutModel",
            "_view_count": null,
            "_view_module": "@jupyter-widgets/base",
            "_view_module_version": "1.2.0",
            "_view_name": "LayoutView",
            "align_content": null,
            "align_items": null,
            "align_self": null,
            "border": null,
            "bottom": null,
            "display": null,
            "flex": null,
            "flex_flow": null,
            "grid_area": null,
            "grid_auto_columns": null,
            "grid_auto_flow": null,
            "grid_auto_rows": null,
            "grid_column": null,
            "grid_gap": null,
            "grid_row": null,
            "grid_template_areas": null,
            "grid_template_columns": null,
            "grid_template_rows": null,
            "height": null,
            "justify_content": null,
            "justify_items": null,
            "left": null,
            "margin": null,
            "max_height": null,
            "max_width": null,
            "min_height": null,
            "min_width": null,
            "object_fit": null,
            "object_position": null,
            "order": null,
            "overflow": null,
            "overflow_x": null,
            "overflow_y": null,
            "padding": null,
            "right": null,
            "top": null,
            "visibility": null,
            "width": null
          }
        },
        "eb4d85e9aecb4c3ca4ca8f2212cddad8": {
          "model_module": "@jupyter-widgets/base",
          "model_name": "LayoutModel",
          "model_module_version": "1.2.0",
          "state": {
            "_model_module": "@jupyter-widgets/base",
            "_model_module_version": "1.2.0",
            "_model_name": "LayoutModel",
            "_view_count": null,
            "_view_module": "@jupyter-widgets/base",
            "_view_module_version": "1.2.0",
            "_view_name": "LayoutView",
            "align_content": null,
            "align_items": null,
            "align_self": null,
            "border": null,
            "bottom": null,
            "display": null,
            "flex": null,
            "flex_flow": null,
            "grid_area": null,
            "grid_auto_columns": null,
            "grid_auto_flow": null,
            "grid_auto_rows": null,
            "grid_column": null,
            "grid_gap": null,
            "grid_row": null,
            "grid_template_areas": null,
            "grid_template_columns": null,
            "grid_template_rows": null,
            "height": null,
            "justify_content": null,
            "justify_items": null,
            "left": null,
            "margin": null,
            "max_height": null,
            "max_width": null,
            "min_height": null,
            "min_width": null,
            "object_fit": null,
            "object_position": null,
            "order": null,
            "overflow": null,
            "overflow_x": null,
            "overflow_y": null,
            "padding": null,
            "right": null,
            "top": null,
            "visibility": null,
            "width": null
          }
        },
        "df0e1d3076564684836c6cbb1127ead2": {
          "model_module": "@jupyter-widgets/controls",
          "model_name": "DescriptionStyleModel",
          "model_module_version": "1.5.0",
          "state": {
            "_model_module": "@jupyter-widgets/controls",
            "_model_module_version": "1.5.0",
            "_model_name": "DescriptionStyleModel",
            "_view_count": null,
            "_view_module": "@jupyter-widgets/base",
            "_view_module_version": "1.2.0",
            "_view_name": "StyleView",
            "description_width": ""
          }
        },
        "60dc2621b5de4ef9a625c9cce9fecc2b": {
          "model_module": "@jupyter-widgets/base",
          "model_name": "LayoutModel",
          "model_module_version": "1.2.0",
          "state": {
            "_model_module": "@jupyter-widgets/base",
            "_model_module_version": "1.2.0",
            "_model_name": "LayoutModel",
            "_view_count": null,
            "_view_module": "@jupyter-widgets/base",
            "_view_module_version": "1.2.0",
            "_view_name": "LayoutView",
            "align_content": null,
            "align_items": null,
            "align_self": null,
            "border": null,
            "bottom": null,
            "display": null,
            "flex": null,
            "flex_flow": null,
            "grid_area": null,
            "grid_auto_columns": null,
            "grid_auto_flow": null,
            "grid_auto_rows": null,
            "grid_column": null,
            "grid_gap": null,
            "grid_row": null,
            "grid_template_areas": null,
            "grid_template_columns": null,
            "grid_template_rows": null,
            "height": null,
            "justify_content": null,
            "justify_items": null,
            "left": null,
            "margin": null,
            "max_height": null,
            "max_width": null,
            "min_height": null,
            "min_width": null,
            "object_fit": null,
            "object_position": null,
            "order": null,
            "overflow": null,
            "overflow_x": null,
            "overflow_y": null,
            "padding": null,
            "right": null,
            "top": null,
            "visibility": null,
            "width": null
          }
        },
        "4c914238d1174614ad728cffa31d58c1": {
          "model_module": "@jupyter-widgets/controls",
          "model_name": "ProgressStyleModel",
          "model_module_version": "1.5.0",
          "state": {
            "_model_module": "@jupyter-widgets/controls",
            "_model_module_version": "1.5.0",
            "_model_name": "ProgressStyleModel",
            "_view_count": null,
            "_view_module": "@jupyter-widgets/base",
            "_view_module_version": "1.2.0",
            "_view_name": "StyleView",
            "bar_color": null,
            "description_width": ""
          }
        },
        "8e693dd5a70348c69ccd26f087bc781f": {
          "model_module": "@jupyter-widgets/base",
          "model_name": "LayoutModel",
          "model_module_version": "1.2.0",
          "state": {
            "_model_module": "@jupyter-widgets/base",
            "_model_module_version": "1.2.0",
            "_model_name": "LayoutModel",
            "_view_count": null,
            "_view_module": "@jupyter-widgets/base",
            "_view_module_version": "1.2.0",
            "_view_name": "LayoutView",
            "align_content": null,
            "align_items": null,
            "align_self": null,
            "border": null,
            "bottom": null,
            "display": null,
            "flex": null,
            "flex_flow": null,
            "grid_area": null,
            "grid_auto_columns": null,
            "grid_auto_flow": null,
            "grid_auto_rows": null,
            "grid_column": null,
            "grid_gap": null,
            "grid_row": null,
            "grid_template_areas": null,
            "grid_template_columns": null,
            "grid_template_rows": null,
            "height": null,
            "justify_content": null,
            "justify_items": null,
            "left": null,
            "margin": null,
            "max_height": null,
            "max_width": null,
            "min_height": null,
            "min_width": null,
            "object_fit": null,
            "object_position": null,
            "order": null,
            "overflow": null,
            "overflow_x": null,
            "overflow_y": null,
            "padding": null,
            "right": null,
            "top": null,
            "visibility": null,
            "width": null
          }
        },
        "3bd87cdea4ec4ed382969f9654b0b96c": {
          "model_module": "@jupyter-widgets/controls",
          "model_name": "DescriptionStyleModel",
          "model_module_version": "1.5.0",
          "state": {
            "_model_module": "@jupyter-widgets/controls",
            "_model_module_version": "1.5.0",
            "_model_name": "DescriptionStyleModel",
            "_view_count": null,
            "_view_module": "@jupyter-widgets/base",
            "_view_module_version": "1.2.0",
            "_view_name": "StyleView",
            "description_width": ""
          }
        },
        "e3f056f4212a4ecb9b673dca5d6cf267": {
          "model_module": "@jupyter-widgets/controls",
          "model_name": "HBoxModel",
          "model_module_version": "1.5.0",
          "state": {
            "_dom_classes": [],
            "_model_module": "@jupyter-widgets/controls",
            "_model_module_version": "1.5.0",
            "_model_name": "HBoxModel",
            "_view_count": null,
            "_view_module": "@jupyter-widgets/controls",
            "_view_module_version": "1.5.0",
            "_view_name": "HBoxView",
            "box_style": "",
            "children": [
              "IPY_MODEL_1d2f95774ff44bd89c586476223c1f70",
              "IPY_MODEL_284410ebeec84525bc53e9c472648945",
              "IPY_MODEL_d09dd590511d4721b0c8f4fbf964b34d"
            ],
            "layout": "IPY_MODEL_4f82c0e6867d44b2a4ebe9d25c9b8aef"
          }
        },
        "1d2f95774ff44bd89c586476223c1f70": {
          "model_module": "@jupyter-widgets/controls",
          "model_name": "HTMLModel",
          "model_module_version": "1.5.0",
          "state": {
            "_dom_classes": [],
            "_model_module": "@jupyter-widgets/controls",
            "_model_module_version": "1.5.0",
            "_model_name": "HTMLModel",
            "_view_count": null,
            "_view_module": "@jupyter-widgets/controls",
            "_view_module_version": "1.5.0",
            "_view_name": "HTMLView",
            "description": "",
            "description_tooltip": null,
            "layout": "IPY_MODEL_c864ce6aee28438f8f0c272561956fbe",
            "placeholder": "​",
            "style": "IPY_MODEL_88b15c3ecd8747bc8dc33dea709fc83e",
            "value": "Downloading: 100%"
          }
        },
        "284410ebeec84525bc53e9c472648945": {
          "model_module": "@jupyter-widgets/controls",
          "model_name": "FloatProgressModel",
          "model_module_version": "1.5.0",
          "state": {
            "_dom_classes": [],
            "_model_module": "@jupyter-widgets/controls",
            "_model_module_version": "1.5.0",
            "_model_name": "FloatProgressModel",
            "_view_count": null,
            "_view_module": "@jupyter-widgets/controls",
            "_view_module_version": "1.5.0",
            "_view_name": "ProgressView",
            "bar_style": "success",
            "description": "",
            "description_tooltip": null,
            "layout": "IPY_MODEL_5f102b8afa134b0bb79390e0a18d6b65",
            "max": 782,
            "min": 0,
            "orientation": "horizontal",
            "style": "IPY_MODEL_f8642e8638274e3db192b8a998cbcd0d",
            "value": 782
          }
        },
        "d09dd590511d4721b0c8f4fbf964b34d": {
          "model_module": "@jupyter-widgets/controls",
          "model_name": "HTMLModel",
          "model_module_version": "1.5.0",
          "state": {
            "_dom_classes": [],
            "_model_module": "@jupyter-widgets/controls",
            "_model_module_version": "1.5.0",
            "_model_name": "HTMLModel",
            "_view_count": null,
            "_view_module": "@jupyter-widgets/controls",
            "_view_module_version": "1.5.0",
            "_view_name": "HTMLView",
            "description": "",
            "description_tooltip": null,
            "layout": "IPY_MODEL_52f0731fd1be40edac9ee2ff15682c13",
            "placeholder": "​",
            "style": "IPY_MODEL_a866615aacb649d6a4b16918ea421aa3",
            "value": " 782/782 [00:00&lt;00:00, 44.2kB/s]"
          }
        },
        "4f82c0e6867d44b2a4ebe9d25c9b8aef": {
          "model_module": "@jupyter-widgets/base",
          "model_name": "LayoutModel",
          "model_module_version": "1.2.0",
          "state": {
            "_model_module": "@jupyter-widgets/base",
            "_model_module_version": "1.2.0",
            "_model_name": "LayoutModel",
            "_view_count": null,
            "_view_module": "@jupyter-widgets/base",
            "_view_module_version": "1.2.0",
            "_view_name": "LayoutView",
            "align_content": null,
            "align_items": null,
            "align_self": null,
            "border": null,
            "bottom": null,
            "display": null,
            "flex": null,
            "flex_flow": null,
            "grid_area": null,
            "grid_auto_columns": null,
            "grid_auto_flow": null,
            "grid_auto_rows": null,
            "grid_column": null,
            "grid_gap": null,
            "grid_row": null,
            "grid_template_areas": null,
            "grid_template_columns": null,
            "grid_template_rows": null,
            "height": null,
            "justify_content": null,
            "justify_items": null,
            "left": null,
            "margin": null,
            "max_height": null,
            "max_width": null,
            "min_height": null,
            "min_width": null,
            "object_fit": null,
            "object_position": null,
            "order": null,
            "overflow": null,
            "overflow_x": null,
            "overflow_y": null,
            "padding": null,
            "right": null,
            "top": null,
            "visibility": null,
            "width": null
          }
        },
        "c864ce6aee28438f8f0c272561956fbe": {
          "model_module": "@jupyter-widgets/base",
          "model_name": "LayoutModel",
          "model_module_version": "1.2.0",
          "state": {
            "_model_module": "@jupyter-widgets/base",
            "_model_module_version": "1.2.0",
            "_model_name": "LayoutModel",
            "_view_count": null,
            "_view_module": "@jupyter-widgets/base",
            "_view_module_version": "1.2.0",
            "_view_name": "LayoutView",
            "align_content": null,
            "align_items": null,
            "align_self": null,
            "border": null,
            "bottom": null,
            "display": null,
            "flex": null,
            "flex_flow": null,
            "grid_area": null,
            "grid_auto_columns": null,
            "grid_auto_flow": null,
            "grid_auto_rows": null,
            "grid_column": null,
            "grid_gap": null,
            "grid_row": null,
            "grid_template_areas": null,
            "grid_template_columns": null,
            "grid_template_rows": null,
            "height": null,
            "justify_content": null,
            "justify_items": null,
            "left": null,
            "margin": null,
            "max_height": null,
            "max_width": null,
            "min_height": null,
            "min_width": null,
            "object_fit": null,
            "object_position": null,
            "order": null,
            "overflow": null,
            "overflow_x": null,
            "overflow_y": null,
            "padding": null,
            "right": null,
            "top": null,
            "visibility": null,
            "width": null
          }
        },
        "88b15c3ecd8747bc8dc33dea709fc83e": {
          "model_module": "@jupyter-widgets/controls",
          "model_name": "DescriptionStyleModel",
          "model_module_version": "1.5.0",
          "state": {
            "_model_module": "@jupyter-widgets/controls",
            "_model_module_version": "1.5.0",
            "_model_name": "DescriptionStyleModel",
            "_view_count": null,
            "_view_module": "@jupyter-widgets/base",
            "_view_module_version": "1.2.0",
            "_view_name": "StyleView",
            "description_width": ""
          }
        },
        "5f102b8afa134b0bb79390e0a18d6b65": {
          "model_module": "@jupyter-widgets/base",
          "model_name": "LayoutModel",
          "model_module_version": "1.2.0",
          "state": {
            "_model_module": "@jupyter-widgets/base",
            "_model_module_version": "1.2.0",
            "_model_name": "LayoutModel",
            "_view_count": null,
            "_view_module": "@jupyter-widgets/base",
            "_view_module_version": "1.2.0",
            "_view_name": "LayoutView",
            "align_content": null,
            "align_items": null,
            "align_self": null,
            "border": null,
            "bottom": null,
            "display": null,
            "flex": null,
            "flex_flow": null,
            "grid_area": null,
            "grid_auto_columns": null,
            "grid_auto_flow": null,
            "grid_auto_rows": null,
            "grid_column": null,
            "grid_gap": null,
            "grid_row": null,
            "grid_template_areas": null,
            "grid_template_columns": null,
            "grid_template_rows": null,
            "height": null,
            "justify_content": null,
            "justify_items": null,
            "left": null,
            "margin": null,
            "max_height": null,
            "max_width": null,
            "min_height": null,
            "min_width": null,
            "object_fit": null,
            "object_position": null,
            "order": null,
            "overflow": null,
            "overflow_x": null,
            "overflow_y": null,
            "padding": null,
            "right": null,
            "top": null,
            "visibility": null,
            "width": null
          }
        },
        "f8642e8638274e3db192b8a998cbcd0d": {
          "model_module": "@jupyter-widgets/controls",
          "model_name": "ProgressStyleModel",
          "model_module_version": "1.5.0",
          "state": {
            "_model_module": "@jupyter-widgets/controls",
            "_model_module_version": "1.5.0",
            "_model_name": "ProgressStyleModel",
            "_view_count": null,
            "_view_module": "@jupyter-widgets/base",
            "_view_module_version": "1.2.0",
            "_view_name": "StyleView",
            "bar_color": null,
            "description_width": ""
          }
        },
        "52f0731fd1be40edac9ee2ff15682c13": {
          "model_module": "@jupyter-widgets/base",
          "model_name": "LayoutModel",
          "model_module_version": "1.2.0",
          "state": {
            "_model_module": "@jupyter-widgets/base",
            "_model_module_version": "1.2.0",
            "_model_name": "LayoutModel",
            "_view_count": null,
            "_view_module": "@jupyter-widgets/base",
            "_view_module_version": "1.2.0",
            "_view_name": "LayoutView",
            "align_content": null,
            "align_items": null,
            "align_self": null,
            "border": null,
            "bottom": null,
            "display": null,
            "flex": null,
            "flex_flow": null,
            "grid_area": null,
            "grid_auto_columns": null,
            "grid_auto_flow": null,
            "grid_auto_rows": null,
            "grid_column": null,
            "grid_gap": null,
            "grid_row": null,
            "grid_template_areas": null,
            "grid_template_columns": null,
            "grid_template_rows": null,
            "height": null,
            "justify_content": null,
            "justify_items": null,
            "left": null,
            "margin": null,
            "max_height": null,
            "max_width": null,
            "min_height": null,
            "min_width": null,
            "object_fit": null,
            "object_position": null,
            "order": null,
            "overflow": null,
            "overflow_x": null,
            "overflow_y": null,
            "padding": null,
            "right": null,
            "top": null,
            "visibility": null,
            "width": null
          }
        },
        "a866615aacb649d6a4b16918ea421aa3": {
          "model_module": "@jupyter-widgets/controls",
          "model_name": "DescriptionStyleModel",
          "model_module_version": "1.5.0",
          "state": {
            "_model_module": "@jupyter-widgets/controls",
            "_model_module_version": "1.5.0",
            "_model_name": "DescriptionStyleModel",
            "_view_count": null,
            "_view_module": "@jupyter-widgets/base",
            "_view_module_version": "1.2.0",
            "_view_name": "StyleView",
            "description_width": ""
          }
        },
        "c107c3991aab4e95bba6fe49c3538bf3": {
          "model_module": "@jupyter-widgets/controls",
          "model_name": "HBoxModel",
          "model_module_version": "1.5.0",
          "state": {
            "_dom_classes": [],
            "_model_module": "@jupyter-widgets/controls",
            "_model_module_version": "1.5.0",
            "_model_name": "HBoxModel",
            "_view_count": null,
            "_view_module": "@jupyter-widgets/controls",
            "_view_module_version": "1.5.0",
            "_view_name": "HBoxView",
            "box_style": "",
            "children": [
              "IPY_MODEL_caebf9b9f95f4d93b9d4b96acd1a17e0",
              "IPY_MODEL_2433a81fc4af44f98cf7eb5591c09c6d",
              "IPY_MODEL_3526752c62c548b28222ad90d4ce6024"
            ],
            "layout": "IPY_MODEL_54e21e8827e84fc397a3c1e3815cc545"
          }
        },
        "caebf9b9f95f4d93b9d4b96acd1a17e0": {
          "model_module": "@jupyter-widgets/controls",
          "model_name": "HTMLModel",
          "model_module_version": "1.5.0",
          "state": {
            "_dom_classes": [],
            "_model_module": "@jupyter-widgets/controls",
            "_model_module_version": "1.5.0",
            "_model_name": "HTMLModel",
            "_view_count": null,
            "_view_module": "@jupyter-widgets/controls",
            "_view_module_version": "1.5.0",
            "_view_name": "HTMLView",
            "description": "",
            "description_tooltip": null,
            "layout": "IPY_MODEL_5c6c96c299b4403c988f59146acba7c8",
            "placeholder": "​",
            "style": "IPY_MODEL_d30cab4c94fd4322a17a6dfa2d3e5c2a",
            "value": "Downloading: 100%"
          }
        },
        "2433a81fc4af44f98cf7eb5591c09c6d": {
          "model_module": "@jupyter-widgets/controls",
          "model_name": "FloatProgressModel",
          "model_module_version": "1.5.0",
          "state": {
            "_dom_classes": [],
            "_model_module": "@jupyter-widgets/controls",
            "_model_module_version": "1.5.0",
            "_model_name": "FloatProgressModel",
            "_view_count": null,
            "_view_module": "@jupyter-widgets/controls",
            "_view_module_version": "1.5.0",
            "_view_name": "ProgressView",
            "bar_style": "success",
            "description": "",
            "description_tooltip": null,
            "layout": "IPY_MODEL_6fd82810a59d4bd99d7db297510d9ae5",
            "max": 2609617413,
            "min": 0,
            "orientation": "horizontal",
            "style": "IPY_MODEL_1c59b11dcf8546ec907bf4eaeb6380de",
            "value": 2609617413
          }
        },
        "3526752c62c548b28222ad90d4ce6024": {
          "model_module": "@jupyter-widgets/controls",
          "model_name": "HTMLModel",
          "model_module_version": "1.5.0",
          "state": {
            "_dom_classes": [],
            "_model_module": "@jupyter-widgets/controls",
            "_model_module_version": "1.5.0",
            "_model_name": "HTMLModel",
            "_view_count": null,
            "_view_module": "@jupyter-widgets/controls",
            "_view_module_version": "1.5.0",
            "_view_name": "HTMLView",
            "description": "",
            "description_tooltip": null,
            "layout": "IPY_MODEL_94491a09ebe54eb7b1dcb7c86d24208f",
            "placeholder": "​",
            "style": "IPY_MODEL_26242661dbfd4e79952b33fe0f23e280",
            "value": " 2.61G/2.61G [00:46&lt;00:00, 69.1MB/s]"
          }
        },
        "54e21e8827e84fc397a3c1e3815cc545": {
          "model_module": "@jupyter-widgets/base",
          "model_name": "LayoutModel",
          "model_module_version": "1.2.0",
          "state": {
            "_model_module": "@jupyter-widgets/base",
            "_model_module_version": "1.2.0",
            "_model_name": "LayoutModel",
            "_view_count": null,
            "_view_module": "@jupyter-widgets/base",
            "_view_module_version": "1.2.0",
            "_view_name": "LayoutView",
            "align_content": null,
            "align_items": null,
            "align_self": null,
            "border": null,
            "bottom": null,
            "display": null,
            "flex": null,
            "flex_flow": null,
            "grid_area": null,
            "grid_auto_columns": null,
            "grid_auto_flow": null,
            "grid_auto_rows": null,
            "grid_column": null,
            "grid_gap": null,
            "grid_row": null,
            "grid_template_areas": null,
            "grid_template_columns": null,
            "grid_template_rows": null,
            "height": null,
            "justify_content": null,
            "justify_items": null,
            "left": null,
            "margin": null,
            "max_height": null,
            "max_width": null,
            "min_height": null,
            "min_width": null,
            "object_fit": null,
            "object_position": null,
            "order": null,
            "overflow": null,
            "overflow_x": null,
            "overflow_y": null,
            "padding": null,
            "right": null,
            "top": null,
            "visibility": null,
            "width": null
          }
        },
        "5c6c96c299b4403c988f59146acba7c8": {
          "model_module": "@jupyter-widgets/base",
          "model_name": "LayoutModel",
          "model_module_version": "1.2.0",
          "state": {
            "_model_module": "@jupyter-widgets/base",
            "_model_module_version": "1.2.0",
            "_model_name": "LayoutModel",
            "_view_count": null,
            "_view_module": "@jupyter-widgets/base",
            "_view_module_version": "1.2.0",
            "_view_name": "LayoutView",
            "align_content": null,
            "align_items": null,
            "align_self": null,
            "border": null,
            "bottom": null,
            "display": null,
            "flex": null,
            "flex_flow": null,
            "grid_area": null,
            "grid_auto_columns": null,
            "grid_auto_flow": null,
            "grid_auto_rows": null,
            "grid_column": null,
            "grid_gap": null,
            "grid_row": null,
            "grid_template_areas": null,
            "grid_template_columns": null,
            "grid_template_rows": null,
            "height": null,
            "justify_content": null,
            "justify_items": null,
            "left": null,
            "margin": null,
            "max_height": null,
            "max_width": null,
            "min_height": null,
            "min_width": null,
            "object_fit": null,
            "object_position": null,
            "order": null,
            "overflow": null,
            "overflow_x": null,
            "overflow_y": null,
            "padding": null,
            "right": null,
            "top": null,
            "visibility": null,
            "width": null
          }
        },
        "d30cab4c94fd4322a17a6dfa2d3e5c2a": {
          "model_module": "@jupyter-widgets/controls",
          "model_name": "DescriptionStyleModel",
          "model_module_version": "1.5.0",
          "state": {
            "_model_module": "@jupyter-widgets/controls",
            "_model_module_version": "1.5.0",
            "_model_name": "DescriptionStyleModel",
            "_view_count": null,
            "_view_module": "@jupyter-widgets/base",
            "_view_module_version": "1.2.0",
            "_view_name": "StyleView",
            "description_width": ""
          }
        },
        "6fd82810a59d4bd99d7db297510d9ae5": {
          "model_module": "@jupyter-widgets/base",
          "model_name": "LayoutModel",
          "model_module_version": "1.2.0",
          "state": {
            "_model_module": "@jupyter-widgets/base",
            "_model_module_version": "1.2.0",
            "_model_name": "LayoutModel",
            "_view_count": null,
            "_view_module": "@jupyter-widgets/base",
            "_view_module_version": "1.2.0",
            "_view_name": "LayoutView",
            "align_content": null,
            "align_items": null,
            "align_self": null,
            "border": null,
            "bottom": null,
            "display": null,
            "flex": null,
            "flex_flow": null,
            "grid_area": null,
            "grid_auto_columns": null,
            "grid_auto_flow": null,
            "grid_auto_rows": null,
            "grid_column": null,
            "grid_gap": null,
            "grid_row": null,
            "grid_template_areas": null,
            "grid_template_columns": null,
            "grid_template_rows": null,
            "height": null,
            "justify_content": null,
            "justify_items": null,
            "left": null,
            "margin": null,
            "max_height": null,
            "max_width": null,
            "min_height": null,
            "min_width": null,
            "object_fit": null,
            "object_position": null,
            "order": null,
            "overflow": null,
            "overflow_x": null,
            "overflow_y": null,
            "padding": null,
            "right": null,
            "top": null,
            "visibility": null,
            "width": null
          }
        },
        "1c59b11dcf8546ec907bf4eaeb6380de": {
          "model_module": "@jupyter-widgets/controls",
          "model_name": "ProgressStyleModel",
          "model_module_version": "1.5.0",
          "state": {
            "_model_module": "@jupyter-widgets/controls",
            "_model_module_version": "1.5.0",
            "_model_name": "ProgressStyleModel",
            "_view_count": null,
            "_view_module": "@jupyter-widgets/base",
            "_view_module_version": "1.2.0",
            "_view_name": "StyleView",
            "bar_color": null,
            "description_width": ""
          }
        },
        "94491a09ebe54eb7b1dcb7c86d24208f": {
          "model_module": "@jupyter-widgets/base",
          "model_name": "LayoutModel",
          "model_module_version": "1.2.0",
          "state": {
            "_model_module": "@jupyter-widgets/base",
            "_model_module_version": "1.2.0",
            "_model_name": "LayoutModel",
            "_view_count": null,
            "_view_module": "@jupyter-widgets/base",
            "_view_module_version": "1.2.0",
            "_view_name": "LayoutView",
            "align_content": null,
            "align_items": null,
            "align_self": null,
            "border": null,
            "bottom": null,
            "display": null,
            "flex": null,
            "flex_flow": null,
            "grid_area": null,
            "grid_auto_columns": null,
            "grid_auto_flow": null,
            "grid_auto_rows": null,
            "grid_column": null,
            "grid_gap": null,
            "grid_row": null,
            "grid_template_areas": null,
            "grid_template_columns": null,
            "grid_template_rows": null,
            "height": null,
            "justify_content": null,
            "justify_items": null,
            "left": null,
            "margin": null,
            "max_height": null,
            "max_width": null,
            "min_height": null,
            "min_width": null,
            "object_fit": null,
            "object_position": null,
            "order": null,
            "overflow": null,
            "overflow_x": null,
            "overflow_y": null,
            "padding": null,
            "right": null,
            "top": null,
            "visibility": null,
            "width": null
          }
        },
        "26242661dbfd4e79952b33fe0f23e280": {
          "model_module": "@jupyter-widgets/controls",
          "model_name": "DescriptionStyleModel",
          "model_module_version": "1.5.0",
          "state": {
            "_model_module": "@jupyter-widgets/controls",
            "_model_module_version": "1.5.0",
            "_model_name": "DescriptionStyleModel",
            "_view_count": null,
            "_view_module": "@jupyter-widgets/base",
            "_view_module_version": "1.2.0",
            "_view_name": "StyleView",
            "description_width": ""
          }
        }
      }
    }
  },
  "nbformat": 4,
  "nbformat_minor": 0
}